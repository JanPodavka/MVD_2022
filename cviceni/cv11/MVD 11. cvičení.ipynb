{
 "cells": [
  {
   "cell_type": "markdown",
   "metadata": {},
   "source": [
    "# MVD 11. cvičení\n"
   ]
  },
  {
   "cell_type": "markdown",
   "metadata": {},
   "source": [
    "## 1. část - Collaborative Filtering (item-item)\n",
    "\n",
    "Vytvořte si matici podle příkladu v přednášce na item-item přístup na snímku 24. Využijte centered cosine similarity pro výpočet podobností stejně jako v přednášce a vyberte dva nejbližší sousedy. Ověřte, že je výsledek v přednášce správný a implementujte funkci tak, aby bylo možné jednoduše spočítat i libovolné další vyhodnocení. "
   ]
  },
  {
   "cell_type": "code",
   "execution_count": 1,
   "metadata": {},
   "outputs": [],
   "source": [
    "import numpy as np\n",
    "from sklearn.metrics.pairwise import cosine_similarity\n",
    "m = np.array([[1,0,3,0,0,5,0,0,5,0,4,0],\n",
    "              [0,0,5,4,0,0,4,0,0,2,1,3],\n",
    "              [2,4,0,1,2,0,3,0,4,3,5,0],\n",
    "              [0,2,4,0,5,0,0,4,0,0,2,0],\n",
    "              [0,0,4,3,4,2,0,0,0,0,2,5],\n",
    "              [1,0,3,0,3,0,0,2,0,0,4,0]])"
   ]
  },
  {
   "cell_type": "markdown",
   "source": [],
   "metadata": {
    "collapsed": false
   }
  },
  {
   "cell_type": "code",
   "execution_count": 2,
   "outputs": [],
   "source": [
    "def coll_filter(M:np.array,item:tuple,k:int)-> float:\n",
    "    normed = M - (np.sum(M,axis = 1) / np.count_nonzero(M, axis=1))[:,None]\n",
    "    norm_M = np.where(M==0,0,normed) # where was zero, is zero in norm matrix\n",
    "    sim = cosine_similarity([norm_M[item[0],:]],norm_M).squeeze()\n",
    "    idx = np.flip(np.argsort(sim))[1:k+1] # find k nearest numbers (idx) | 1-k\n",
    "    denum,num = 1e-8, 0\n",
    "    for i in idx:\n",
    "        denum += sim[i]\n",
    "        num += (sim[i] * M[i,item[1]])\n",
    "\n",
    "    return num/denum"
   ],
   "metadata": {
    "collapsed": false
   }
  },
  {
   "cell_type": "code",
   "execution_count": 3,
   "outputs": [
    {
     "name": "stdout",
     "output_type": "stream",
     "text": [
      "2.586406841098622\n"
     ]
    }
   ],
   "source": [
    "out = coll_filter(M=m,item = (0,4),k = 2)\n",
    "print(out)"
   ],
   "metadata": {
    "collapsed": false
   }
  },
  {
   "cell_type": "markdown",
   "metadata": {},
   "source": [
    "## Bonus - Content-based Filtering\n",
    "\n",
    "Stáhněte si Kaggle dataset [Spotify Recommendation system](https://www.kaggle.com/bricevergnou/spotify-recommendation). Z datasetu budete potřebovat:\n",
    "\n",
    "- data.csv = příznaky k jednotlivým skladbám + příznak liked pro klasifikaci\n",
    "\n",
    "Úkolem je:\n",
    "\n",
    "1. Načíst data z csv.\n",
    "2. Vytvořit train (90 %) a test (10 %) split pomocí knihovny [sklearn](https://scikit-learn.org/stable/modules/generated/sklearn.model_selection.train_test_split.html).\n",
    "3. Vytvořit model logistické regrese (vlastní implementace / využití knihovny sklearn nebo jiné).\n",
    "4. Vyhodnotit data na testovací sadě (např. metoda score u LogisticRegression).\n",
    "\n",
    "**Skóre pro uznání úlohy musí být vyšší než 89 %.**\n",
    "\n",
    "Dobrovolné: vytvořit graf predikovaných vs aktuálních hodnot\n",
    "\n",
    "Získání bodu navíc: Využijte i další algoritmy pro binární klasifikaci."
   ]
  },
  {
   "cell_type": "code",
   "execution_count": 366,
   "metadata": {},
   "outputs": [],
   "source": [
    "from sklearn.model_selection import train_test_split\n",
    "from sklearn.linear_model import LogisticRegression\n",
    "import pandas as pd\n",
    "import matplotlib.pyplot as plt\n",
    "import torch"
   ]
  },
  {
   "cell_type": "code",
   "execution_count": 367,
   "outputs": [],
   "source": [
    "df = pd.read_csv('data.csv')\n",
    "y = df[\"liked\"]\n",
    "x = df.loc[:, df.columns != 'liked']\n",
    "train_x, test_x, train_y,test_y = train_test_split(x,y, test_size=0.1)"
   ],
   "metadata": {
    "collapsed": false
   }
  },
  {
   "cell_type": "code",
   "execution_count": 368,
   "outputs": [
    {
     "name": "stdout",
     "output_type": "stream",
     "text": [
      "0.85\n"
     ]
    }
   ],
   "source": [
    "## Logistic Regression\n",
    "model = LogisticRegression(solver='liblinear',C=10.0, random_state=0)\n",
    "model.fit(train_x, train_y)\n",
    "pred = model.predict(test_x)\n",
    "p_pred = model.predict_proba(x)\n",
    "actual = np.array(test_y.tolist())\n",
    "score = model.score(test_x, test_y)\n",
    "print(score)\n",
    "#print(p_pred)"
   ],
   "metadata": {
    "collapsed": false
   }
  },
  {
   "cell_type": "code",
   "execution_count": 369,
   "outputs": [
    {
     "name": "stdout",
     "output_type": "stream",
     "text": [
      "torch.Size([20, 13]) torch.Size([20, 1]) torch.Size([175, 13]) torch.Size([175, 1])\n"
     ]
    }
   ],
   "source": [
    "import sklearn\n",
    "\n",
    "# transform from dataframe to tensor\n",
    "x_train=train_x.to_numpy().astype(np.float32)\n",
    "x_test=test_x.to_numpy().astype(np.float32)\n",
    "\n",
    "## scaler\n",
    "scaler=sklearn.preprocessing.StandardScaler()\n",
    "x_train=torch.from_numpy(scaler.fit_transform(x_train))\n",
    "x_test=torch.from_numpy(scaler.fit_transform(x_test))\n",
    "## transform to torch\n",
    "y_train=torch.from_numpy(train_y.to_numpy().astype(np.float32))\n",
    "y_test=torch.from_numpy(test_y.to_numpy().astype(np.float32))\n",
    "# transform from shape [20] to [20,1]\n",
    "y_train=y_train.view(y_train.shape[0],1)\n",
    "y_test=y_test.view(y_test.shape[0],1)\n",
    "\n",
    "\n",
    "\n",
    "print(x_test.shape,y_test.shape,x_train.shape,y_train.shape)"
   ],
   "metadata": {
    "collapsed": false
   }
  },
  {
   "cell_type": "code",
   "execution_count": 370,
   "outputs": [],
   "source": [
    "from torch import nn"
   ],
   "metadata": {
    "collapsed": false
   }
  },
  {
   "cell_type": "code",
   "execution_count": 374,
   "outputs": [],
   "source": [
    "class LogReg(nn.Module):\n",
    "  def __init__(self,input_shape):\n",
    "    super(LogReg,self).__init__()\n",
    "    #self.fc1 = nn.Linear(input_shape,20)\n",
    "    self.fc2 = nn.Linear(input_shape,1)\n",
    "  def forward(self, x):\n",
    "    #y_pred = self.fc1(x)\n",
    "    y_pred = torch.sigmoid(self.fc2(x))\n",
    "    return y_pred\n",
    "\n"
   ],
   "metadata": {
    "collapsed": false
   }
  },
  {
   "cell_type": "code",
   "execution_count": 375,
   "outputs": [],
   "source": [
    "class MLP(nn.Module):\n",
    "    def __init__(self,input_shape):\n",
    "        super(MLP, self).__init__()\n",
    "        self.layer_1 = nn.Linear(input_shape, 64)\n",
    "        self.layer_2 = nn.Linear(64, 64)\n",
    "        self.layer_out = nn.Linear(64, 1)\n",
    "\n",
    "        self.relu = nn.ReLU()\n",
    "        self.dropout = nn.Dropout(p=0.1)\n",
    "        self.batchnorm1 = nn.BatchNorm1d(64)\n",
    "        self.batchnorm2 = nn.BatchNorm1d(64)\n",
    "\n",
    "    def forward(self, inputs):\n",
    "        x = self.relu(self.layer_1(inputs))\n",
    "        x = self.batchnorm1(x)\n",
    "        x = self.relu(self.layer_2(x))\n",
    "        x = self.batchnorm2(x)\n",
    "        x = self.dropout(x)\n",
    "        x = torch.sigmoid(self.layer_out(x))\n",
    "\n",
    "        return x\n"
   ],
   "metadata": {
    "collapsed": false
   }
  },
  {
   "cell_type": "code",
   "execution_count": 380,
   "outputs": [],
   "source": [
    "#hyper parameters\n",
    "learning_rate = 1e-3\n",
    "epochs = 100\n",
    "iter_print = 5\n",
    "criterion=torch.nn.BCELoss()\n",
    "\n",
    "#model = LogReg(input_shape=x.shape[1]) # LR\n",
    "model = MLP(input_shape=x.shape[1]) #MLP\n",
    "\n",
    "optimizer=torch.optim.Adam(model.parameters(),lr=0.01)\n",
    "\n",
    "\n"
   ],
   "metadata": {
    "collapsed": false
   }
  },
  {
   "cell_type": "code",
   "execution_count": 381,
   "outputs": [
    {
     "name": "stdout",
     "output_type": "stream",
     "text": [
      "epoch: 5 ,loss= 0.4316810667514801 train acc= tensor(0.9429) test acc= tensor(0.8500)\n",
      "epoch: 10 ,loss= 0.2639569342136383 train acc= tensor(0.9829) test acc= tensor(0.9000)\n",
      "epoch: 15 ,loss= 0.2010534256696701 train acc= tensor(1.) test acc= tensor(0.9500)\n",
      "epoch: 20 ,loss= 0.21328425407409668 train acc= tensor(1.) test acc= tensor(0.9500)\n",
      "epoch: 25 ,loss= 0.2661387026309967 train acc= tensor(1.) test acc= tensor(0.9500)\n",
      "epoch: 30 ,loss= 0.33150514960289 train acc= tensor(1.) test acc= tensor(0.9500)\n",
      "epoch: 35 ,loss= 0.35603219270706177 train acc= tensor(1.) test acc= tensor(0.9500)\n",
      "epoch: 40 ,loss= 0.39357268810272217 train acc= tensor(1.) test acc= tensor(0.9500)\n",
      "epoch: 45 ,loss= 0.4283713698387146 train acc= tensor(1.) test acc= tensor(0.9500)\n",
      "epoch: 50 ,loss= 0.44349122047424316 train acc= tensor(1.) test acc= tensor(0.9500)\n",
      "epoch: 55 ,loss= 0.44517412781715393 train acc= tensor(1.) test acc= tensor(0.9500)\n",
      "epoch: 60 ,loss= 0.4501970410346985 train acc= tensor(1.) test acc= tensor(0.9500)\n",
      "epoch: 65 ,loss= 0.45645633339881897 train acc= tensor(1.) test acc= tensor(0.9500)\n",
      "epoch: 70 ,loss= 0.46274691820144653 train acc= tensor(1.) test acc= tensor(0.9500)\n",
      "epoch: 75 ,loss= 0.46544232964515686 train acc= tensor(1.) test acc= tensor(0.9500)\n",
      "epoch: 80 ,loss= 0.46648970246315 train acc= tensor(1.) test acc= tensor(0.9500)\n",
      "epoch: 85 ,loss= 0.4684712886810303 train acc= tensor(1.) test acc= tensor(0.9500)\n",
      "epoch: 90 ,loss= 0.4699620306491852 train acc= tensor(1.) test acc= tensor(0.9500)\n",
      "epoch: 95 ,loss= 0.47043928503990173 train acc= tensor(1.) test acc= tensor(0.9500)\n",
      "epoch: 100 ,loss= 0.47108596563339233 train acc= tensor(1.) test acc= tensor(0.9500)\n"
     ]
    }
   ],
   "source": [
    "train_loss = []\n",
    "test_loss = []\n",
    "train_acc = []\n",
    "test_acc = []\n",
    "for epoch in range(epochs):\n",
    "    y_prediction=model(x_train)\n",
    "    loss=criterion(y_prediction,y_train)\n",
    "    loss.backward()\n",
    "    optimizer.step()\n",
    "    optimizer.zero_grad()\n",
    "\n",
    "    ## evaluate\n",
    "    if (epoch+1)%iter_print == 0:\n",
    "        train_loss.append(loss.detach().numpy())\n",
    "        y_pred_class=y_prediction.round()\n",
    "        accuracy_train=(y_pred_class.eq(y_train).sum())/float(y_train.shape[0])\n",
    "        train_acc.append(accuracy_train.item())\n",
    "\n",
    "        with torch.no_grad():\n",
    "            model.eval()\n",
    "            y_pred=model(x_test)\n",
    "            loss=criterion(y_pred,y_test)\n",
    "            test_loss.append(loss.detach().numpy())\n",
    "            y_pred_class=y_pred.round()\n",
    "            accuracy_test=(y_pred_class.eq(y_test).sum())/float(y_test.shape[0])\n",
    "            test_acc.append(accuracy_test.item())\n",
    "        print('epoch:', epoch+1,',loss=',loss.item(),'train acc=',accuracy_train,'test acc=',accuracy_test)\n",
    "        model.train()\n"
   ],
   "metadata": {
    "collapsed": false
   }
  },
  {
   "cell_type": "code",
   "execution_count": 382,
   "outputs": [
    {
     "data": {
      "text/plain": "<Figure size 432x288 with 1 Axes>",
      "image/png": "[encoded data removed]"
     },
     "metadata": {
      "needs_background": "light"
     },
     "output_type": "display_data"
    }
   ],
   "source": [
    "plt.plot(train_loss,label = \"train_loss\")\n",
    "plt.plot(test_loss,label = \"test_loss\")\n",
    "plt.plot(train_acc,label = \"train_acc\")\n",
    "plt.plot(test_acc,label = \"test_acc\")\n",
    "plt.title('Loss graph')\n",
    "plt.xlabel('Epochs')\n",
    "plt.ylabel('value')\n",
    "plt.legend()\n",
    "plt.show()"
   ],
   "metadata": {
    "collapsed": false
   }
  },
  {
   "cell_type": "code",
   "execution_count": null,
   "outputs": [],
   "source": [],
   "metadata": {
    "collapsed": false
   }
  }
 ],
 "metadata": {
  "kernelspec": {
   "display_name": "Python 3",
   "language": "python",
   "name": "python3"
  },
  "language_info": {
   "codemirror_mode": {
    "name": "ipython",
    "version": 3
   },
   "file_extension": ".py",
   "mimetype": "text/x-python",
   "name": "python",
   "nbconvert_exporter": "python",
   "pygments_lexer": "ipython3",
   "version": "3.7.6"
  }
 },
 "nbformat": 4,
 "nbformat_minor": 4
}
