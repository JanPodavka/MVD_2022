{
 "cells": [
  {
   "cell_type": "markdown",
   "metadata": {
    "pycharm": {
     "name": "#%% md\n"
    }
   },
   "source": [
    "# MVD 3. cvičení\n",
    "\n",
    "## 1. část - Stažení a načtení předtrénovaných GloVe slovních reprezentací\n",
    "\n",
    "\n",
    "### Stažení dat\n",
    "\n",
    "Pro toto cvičení můžete používat předtrénované Word2Vec nebo GloVe vektory. Následující text se vztahuje ke GloVe vektorům, které byly vybrány z důvodu menší velikosti. \n",
    "\n",
    "Základní verzi vektorů lze stáhnout [zde (GloVe link)](https://huggingface.co/stanfordnlp/glove/resolve/main/glove.6B.zip).\n",
    "\n",
    "Wikipedia 2014 + Gigaword 5 (6B tokens, 400K vocab, uncased, 300d vectors, 822 MB download)\n",
    "\n",
    "Po rozbalení staženého archivu budete mít několik verzí o různé dimenzi vektorů - 50d, 100d, 200d, 300d. Je doporučeno začít pracovat s nejmenšími vektory a na větších spouštět až závěrečné řešení.\n",
    "\n",
    "### Načtení dat\n",
    "\n",
    "Data jsou uložena v textovém souboru, kde je na každém řádku slovo a jeho příslušný vektor.\n",
    "\n",
    "Načtení je vhodné provést do dvou proměnných -> words, vectors. Words bude list o délce *n* a vectors bude matice o velikosti *(n, d)*. \n",
    "\n",
    "Zároveň vytvořte slovník word2idx, pomocí kterého lze získat index libovolného slova (pomocí *word2idx['queen']*)."
   ]
  },
  {
   "cell_type": "code",
   "execution_count": 6,
   "metadata": {
    "pycharm": {
     "name": "#%%\n"
    }
   },
   "outputs": [
    {
     "name": "stdout",
     "output_type": "stream",
     "text": [
      "[ 4.1800e-01  2.4968e-01 -4.1242e-01  1.2170e-01  3.4527e-01 -4.4457e-02\n",
      " -4.9688e-01 -1.7862e-01 -6.6023e-04 -6.5660e-01  2.7843e-01 -1.4767e-01\n",
      " -5.5677e-01  1.4658e-01 -9.5095e-03  1.1658e-02  1.0204e-01 -1.2792e-01\n",
      " -8.4430e-01 -1.2181e-01 -1.6801e-02 -3.3279e-01 -1.5520e-01 -2.3131e-01\n",
      " -1.9181e-01 -1.8823e+00 -7.6746e-01  9.9051e-02 -4.2125e-01 -1.9526e-01\n",
      "  4.0071e+00 -1.8594e-01 -5.2287e-01 -3.1681e-01  5.9213e-04  7.4449e-03\n",
      "  1.7778e-01 -1.5897e-01  1.2041e-02 -5.4223e-02 -2.9871e-01 -1.5749e-01\n",
      " -3.4758e-01 -4.5637e-02 -4.4251e-01  1.8785e-01  2.7849e-03 -1.8411e-01\n",
      " -1.1514e-01 -7.8581e-01]\n",
      "the\n",
      "0\n"
     ]
    }
   ],
   "source": [
    "import matplotlib.pyplot as plt\n",
    "import numpy as np\n",
    "\n",
    "with open('glove.6B/glove.6B.50D.txt', encoding='utf8') as f:\n",
    "    data = []\n",
    "    for line in f:\n",
    "        data.append(line)\n",
    "word = []\n",
    "word2idx = {}\n",
    "vec = np.zeros((len(data),len(data[0].split(' '))-1))\n",
    "for i,item in enumerate(data):\n",
    "    splited = item.replace('\\n','').split(' ')\n",
    "    word.append(splited[0])\n",
    "    vec[i,:] = np.asarray(splited[1:])\n",
    "    word2idx[splited[0]] = i\n",
    "print(vec[0])\n",
    "print(word[0])\n",
    "print(word2idx['the'])"
   ]
  },
  {
   "cell_type": "markdown",
   "source": [
    "## 2. část - Kosinová podobnost\n",
    "\n",
    "Vytvořte funkci cossim, která bude vracet kosinovu podobnost dvou vstupních vektorů.\n",
    "\n",
    "<br>\n",
    "<center>\n",
    "$\n",
    "similarity(a,b) = cos(\\theta) = \\frac{a \\cdot b}{\\lVert a \\lVert \\lVert b \\lVert}\n",
    "$\n",
    "</center>"
   ],
   "metadata": {
    "collapsed": false,
    "pycharm": {
     "name": "#%% md\n"
    }
   }
  },
  {
   "cell_type": "code",
   "execution_count": 7,
   "metadata": {
    "pycharm": {
     "name": "#%%\n"
    }
   },
   "outputs": [],
   "source": [
    "def cossim(a,b):\n",
    "    return (a @ b) / ((np.linalg.norm(a)*np.linalg.norm(b)) + 0.0000001)"
   ]
  },
  {
   "cell_type": "markdown",
   "metadata": {
    "pycharm": {
     "name": "#%% md\n"
    }
   },
   "source": [
    "## 3. část - Slovní analogie\n",
    "\n",
    "Nejznámější slovní analogií je z Word2Vec $f(\"king\") - f(\"man\") = f(\"queen\") - f(\"woman\")$\n",
    "\n",
    "1. Vytvořte skript pro hledání analogií $f(\"king\") - f(\"man\") = f(\"??\") - f(\"woman\")$ a vyzkoušejte i nějaké další.\n",
    "2. Vypište 5 nejpodobnějších slov"
   ]
  },
  {
   "cell_type": "code",
   "execution_count": 43,
   "metadata": {
    "pycharm": {
     "name": "#%%\n"
    }
   },
   "outputs": [],
   "source": []
  },
  {
   "cell_type": "code",
   "execution_count": 56,
   "outputs": [],
   "source": [
    "#f(\"king\") - f(\"man\") = f(\"queen\") - f(\"woman\")\n",
    "#f(word1) - word2) = f(???) - f(word3)\n",
    "\n",
    "def find_word(word1, word2, word3):\n",
    "    index1 = word2idx[word1]\n",
    "    index2 = word2idx[word2]\n",
    "    index3 = word2idx[word3]\n",
    "\n",
    "    #\n",
    "    vect1 = vec[index2] - vec[index3]\n",
    "    maxsim = 0\n",
    "    maxname = ''\n",
    "    out = []\n",
    "    for name in word:\n",
    "        index4 = word2idx[name]\n",
    "        vect2 = vec[index1] - vec[index4]\n",
    "        sim = cossim(vect1,vect2)\n",
    "        if sim > maxsim:\n",
    "            maxsim = sim\n",
    "            out.append(name)\n",
    "\n",
    "    return out"
   ],
   "metadata": {
    "collapsed": false,
    "pycharm": {
     "name": "#%%\n"
    }
   }
  },
  {
   "cell_type": "code",
   "execution_count": 49,
   "outputs": [],
   "source": [
    "#edit verze\n",
    "def find_word2(word1, word2, word3):\n",
    "    index1 = word2idx[word1]\n",
    "    index2 = word2idx[word2]\n",
    "    index3 = word2idx[word3]\n",
    "    vect1 = vec[index2] - vec[index3]\n",
    "    out = []\n",
    "    for name in word:\n",
    "        index4 = word2idx[name]\n",
    "        vect2 = vec[index1] - vec[index4]\n",
    "        sim = cossim(vect1,vect2)\n",
    "        out.append(sim)\n",
    "\n",
    "    return out"
   ],
   "metadata": {
    "collapsed": false,
    "pycharm": {
     "name": "#%%\n"
    }
   }
  },
  {
   "cell_type": "code",
   "execution_count": 57,
   "outputs": [
    {
     "name": "stdout",
     "output_type": "stream",
     "text": [
      "####1####\n",
      "['her', 'wife', 'mother', 'daughter', 'princess']\n",
      "####2#### \n",
      "\n",
      "['wrote', 'written', 'language', 'words', 'sanskrit']\n"
     ]
    }
   ],
   "source": [
    "print('####1####')\n",
    "# f(\"king\") - f(\"man\") = f(\"??\") - f(\"woman\")\n",
    "out_words = find_word('king','man','woman')[-5:]\n",
    "print(out_words)\n",
    "#2\n",
    "print('####2#### \\n')\n",
    "out_words2 = find_word('math','numbers','words')[-5:]\n",
    "print(out_words2)"
   ],
   "metadata": {
    "collapsed": false,
    "pycharm": {
     "name": "#%%\n"
    }
   }
  },
  {
   "cell_type": "markdown",
   "metadata": {
    "pycharm": {
     "name": "#%% md\n"
    }
   },
   "source": [
    "### Bonus - Vytvořte vizualizaci slovních analogií\n",
    "\n",
    "Pro získání bonusového bodu je potřeba vytvořit vizualizaci slovních analogií (redukce dimenze + vizualizace)."
   ]
  },
  {
   "cell_type": "code",
   "execution_count": 31,
   "metadata": {
    "pycharm": {
     "name": "#%%\n"
    }
   },
   "outputs": [],
   "source": [
    "def find_sim(close_word):\n",
    "    sim = []\n",
    "    index1 = word2idx[close_word]\n",
    "    vect1 = vec[index1]\n",
    "    for i, name in enumerate(word):\n",
    "        index2 = word2idx[name]\n",
    "        vect2 = vec[index2]\n",
    "        sim.append(cossim(vect1,vect2))\n",
    "\n",
    "    return sim"
   ]
  },
  {
   "cell_type": "code",
   "execution_count": 43,
   "outputs": [
    {
     "name": "stdout",
     "output_type": "stream",
     "text": [
      "puppy\n",
      "horse\n",
      "dogs\n",
      "cat\n",
      "dog\n",
      "husband\n",
      "grandmother\n",
      "wife\n",
      "daughter\n",
      "mother\n",
      "her\n",
      "mother\n",
      "man\n",
      "girl\n",
      "woman\n",
      "rat\n",
      "monkey\n",
      "rabbit\n",
      "dog\n",
      "cat\n",
      "turbine\n",
      "compressor\n",
      "transformer\n",
      "generators\n",
      "generator\n"
     ]
    },
    {
     "data": {
      "text/plain": "<Figure size 432x288 with 1 Axes>",
      "image/png": "[encoded data removed]"
     },
     "metadata": {
      "needs_background": "light"
     },
     "output_type": "display_data"
    }
   ],
   "source": [
    "from sklearn.decomposition import PCA\n",
    "import matplotlib.pyplot as plt\n",
    "import copy\n",
    "\n",
    "colors = ['black','blue','green','white','red']\n",
    "search_word = ['dog','mother', 'woman','cat','generator']\n",
    "pca = PCA(n_components=2)\n",
    "data = []\n",
    "new_vec = copy.deepcopy(vec)\n",
    "pca.fit(new_vec)\n",
    "\n",
    "for sw in search_word:\n",
    "    dats = find_sim(sw)\n",
    "    res = sorted(range(len(dats)), key = lambda sub: dats[sub])[-5:]\n",
    "    for i in range(5):\n",
    "        print(word[res[i]])\n",
    "        transformed = pca.transform(new_vec[res[i]].reshape(1, -1))\n",
    "        data.append(transformed)\n",
    "        plt.scatter(transformed[0][0],transformed[0][1], color = colors[i] )\n",
    "        plt.annotate(word[res[i]], (transformed[0][0], transformed[0][1]))\n",
    "\n"
   ],
   "metadata": {
    "collapsed": false,
    "pycharm": {
     "name": "#%%\n"
    }
   }
  },
  {
   "cell_type": "code",
   "execution_count": 46,
   "outputs": [],
   "source": [],
   "metadata": {
    "collapsed": false,
    "pycharm": {
     "name": "#%%\n"
    }
   }
  }
 ],
 "metadata": {
  "kernelspec": {
   "display_name": "Python 3",
   "language": "python",
   "name": "python3"
  },
  "language_info": {
   "codemirror_mode": {
    "name": "ipython",
    "version": 3
   },
   "file_extension": ".py",
   "mimetype": "text/x-python",
   "name": "python",
   "nbconvert_exporter": "python",
   "pygments_lexer": "ipython3",
   "version": "3.7.6"
  }
 },
 "nbformat": 4,
 "nbformat_minor": 4
}