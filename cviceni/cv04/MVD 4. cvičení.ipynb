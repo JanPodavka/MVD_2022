{
 "cells": [
  {
   "cell_type": "markdown",
   "metadata": {
    "pycharm": {
     "name": "#%% md\n"
    }
   },
   "source": [
    "# MVD 4. cvičení\n",
    "\n",
    "## 1. část - Načtení dat\n",
    "\n",
    "Po rozbalení archive.zip uvidíte articles csv soubor. Tento soubor pochází z [Kaggle datasetů](https://www.kaggle.com/hsankesara/medium-articles) a obsahuje malé množství Medium článků k tématům ML, AI a data science. K úloze dnešního cvičení bude stačit využítí dat s názvy a obsahy článků (title a text).\n",
    "\n",
    "\n",
    "### Příprava dat\n",
    "\n",
    "Pro přípravu dat se použivá různá sekvence kroků. Je doporučeno na následující kroky vytvořit samostatnou funkci, aby bylo možné zpracovat i vyhledávaný výraz při testování. Dnešní cvičení by mělo obsahovat následující kroky:\n",
    "\n",
    "1. Převést všechen text na lower case\n",
    "2. Odstranění interpunkce a všech speciálních znaků (apostrof, ...)\n",
    "3. Aplikace lemmatizátoru\n",
    "\n",
    "Pozn.: Jedná se pouze o jednoduchý preprocessing, v praxi je často potřeba použití více kroků. Tato aplikace by měla například problém s čísly (desetinná čísla, čísla vyhledávaná slovně). \n",
    "\n",
    "Pro lemmatizaci použijte knihovnu spaCy."
   ]
  },
  {
   "cell_type": "code",
   "execution_count": 162,
   "metadata": {
    "pycharm": {
     "name": "#%%\n"
    }
   },
   "outputs": [],
   "source": [
    "# Instalace spaCy z Jupyter Notebooku\n",
    "import sys\n",
    "#!{sys.executable} -m pip install spacy\n",
    "\n",
    "# Stažení modelu pro angličtinu\n",
    "#!{sys.executable} -m spacy download en"
   ]
  },
  {
   "cell_type": "code",
   "execution_count": 163,
   "metadata": {
    "pycharm": {
     "name": "#%%\n"
    }
   },
   "outputs": [
    {
     "name": "stderr",
     "output_type": "stream",
     "text": [
      "C:\\Users\\podav\\anaconda3\\envs\\data_science\\lib\\site-packages\\spacy\\language.py:1895: UserWarning: [W123] Argument disable with value ['parser', 'ner'] is used instead of ['senter'] as specified in the config. Be aware that this might affect other components in your pipeline.\n",
      "  warnings.warn(\n"
     ]
    }
   ],
   "source": [
    "import spacy\n",
    "import pandas\n",
    "import numpy as np\n",
    "\n",
    "lemmatizer = spacy.load('en_core_web_sm', disable=['parser', 'ner']) # NLTK\n",
    "# Lemmatizace textu př.:  \n",
    "# \" \".join([token.lemma_ for token in lemmatizer(text)])"
   ]
  },
  {
   "cell_type": "code",
   "execution_count": 163,
   "metadata": {
    "pycharm": {
     "name": "#%%\n"
    }
   },
   "outputs": [],
   "source": []
  },
  {
   "cell_type": "code",
   "execution_count": 164,
   "outputs": [],
   "source": [
    "def normalize_data(db):\n",
    "    # set all to lowercase\n",
    "    df['text'] = df['text'].str.lower()\n",
    "    df['title'] = df['title'].str.lower()\n",
    "\n",
    "\n",
    "    # delete all special characters\n",
    "    df['text'] = df['text'].str.replace(r'\\W', ' ', regex=True)\n",
    "    df['title'] = df['title'].str.replace(r'\\W', ' ', regex=True)\n",
    "    # delete multiple spaces\n",
    "    df['text'] = df['text'].str.replace(r'\\s+', ' ', regex=True)\n",
    "    df['title'] = df['title'].str.replace(r'\\s+', ' ', regex=True)\n",
    "    return df"
   ],
   "metadata": {
    "collapsed": false,
    "pycharm": {
     "name": "#%%\n"
    }
   }
  },
  {
   "cell_type": "code",
   "execution_count": 165,
   "outputs": [
    {
     "data": {
      "text/plain": "                                                 title  \\\n0    chatbots were the next big thing what happened...   \n1    python for data science 8 concepts you may hav...   \n2    automated feature engineering in python toward...   \n3    machine learning how to go from zero to hero f...   \n4     reinforcement learning from scratch insight data   \n..                                                 ...   \n332  you can build a neural network in javascript e...   \n333  artificial intelligence ai in 2018 and beyond ...   \n334  spiking neural networks the next generation of...   \n335  surprise neurons are now more complex than we ...   \n336   wth does a neural network even learn a newcom...   \n\n                                                  text  \n0    oh how the headlines blared chatbots were the ...  \n1    if you ve ever found yourself looking up the s...  \n2    machine learning is increasingly moving from h...  \n3    if your understanding of a i and machine learn...  \n4    want to learn about applied artificial intelli...  \n..                                                 ...  \n332  click here to share this article on linkedin s...  \n333  these are my opinions on where deep neural net...  \n334  everyone who has been remotely tuned in to rec...  \n335  one of the biggest misconceptions around is th...  \n336  i believe we all have that psychologist philos...  \n\n[337 rows x 2 columns]",
      "text/html": "<div>\n<style scoped>\n    .dataframe tbody tr th:only-of-type {\n        vertical-align: middle;\n    }\n\n    .dataframe tbody tr th {\n        vertical-align: top;\n    }\n\n    .dataframe thead th {\n        text-align: right;\n    }\n</style>\n<table border=\"1\" class=\"dataframe\">\n  <thead>\n    <tr style=\"text-align: right;\">\n      <th></th>\n      <th>title</th>\n      <th>text</th>\n    </tr>\n  </thead>\n  <tbody>\n    <tr>\n      <th>0</th>\n      <td>chatbots were the next big thing what happened...</td>\n      <td>oh how the headlines blared chatbots were the ...</td>\n    </tr>\n    <tr>\n      <th>1</th>\n      <td>python for data science 8 concepts you may hav...</td>\n      <td>if you ve ever found yourself looking up the s...</td>\n    </tr>\n    <tr>\n      <th>2</th>\n      <td>automated feature engineering in python toward...</td>\n      <td>machine learning is increasingly moving from h...</td>\n    </tr>\n    <tr>\n      <th>3</th>\n      <td>machine learning how to go from zero to hero f...</td>\n      <td>if your understanding of a i and machine learn...</td>\n    </tr>\n    <tr>\n      <th>4</th>\n      <td>reinforcement learning from scratch insight data</td>\n      <td>want to learn about applied artificial intelli...</td>\n    </tr>\n    <tr>\n      <th>...</th>\n      <td>...</td>\n      <td>...</td>\n    </tr>\n    <tr>\n      <th>332</th>\n      <td>you can build a neural network in javascript e...</td>\n      <td>click here to share this article on linkedin s...</td>\n    </tr>\n    <tr>\n      <th>333</th>\n      <td>artificial intelligence ai in 2018 and beyond ...</td>\n      <td>these are my opinions on where deep neural net...</td>\n    </tr>\n    <tr>\n      <th>334</th>\n      <td>spiking neural networks the next generation of...</td>\n      <td>everyone who has been remotely tuned in to rec...</td>\n    </tr>\n    <tr>\n      <th>335</th>\n      <td>surprise neurons are now more complex than we ...</td>\n      <td>one of the biggest misconceptions around is th...</td>\n    </tr>\n    <tr>\n      <th>336</th>\n      <td>wth does a neural network even learn a newcom...</td>\n      <td>i believe we all have that psychologist philos...</td>\n    </tr>\n  </tbody>\n</table>\n<p>337 rows × 2 columns</p>\n</div>"
     },
     "execution_count": 165,
     "metadata": {},
     "output_type": "execute_result"
    }
   ],
   "source": [
    "#data load and normalize\n",
    "df = pandas.read_csv('articles.csv')\n",
    "df = df[['title','text']]\n",
    "df_norm = normalize_data(df)\n",
    "df"
   ],
   "metadata": {
    "collapsed": false,
    "pycharm": {
     "name": "#%%\n"
    }
   }
  },
  {
   "cell_type": "markdown",
   "metadata": {
    "pycharm": {
     "name": "#%% md\n"
    }
   },
   "source": [
    "## 2. část - Vytvoření invertovaného indexu\n",
    "\n",
    "Před další prací s textem je potřeba vytvořit invertovaný index, který poté usnadní práci. Invertovaný index bude slovník, kde klíčem bude slovo a hodnotou bude list s id dokumentů (index), které dané slovo obsahují.\n",
    "\n",
    "Pozn.: Je potřeba vytvořit dva invertované indexy - jeden pro title a druhý pro text."
   ]
  },
  {
   "cell_type": "code",
   "execution_count": 166,
   "metadata": {
    "pycharm": {
     "name": "#%%\n"
    }
   },
   "outputs": [],
   "source": [
    "def inverted_index(texts):\n",
    "    text_dic = {}\n",
    "    for i,line in enumerate(texts):\n",
    "        for word in \" \".join([token.lemma_ for token in lemmatizer(line)]).split(' '):\n",
    "            if word not in text_dic:\n",
    "                text_dic[word] = [i]\n",
    "            else:\n",
    "                text_dic[word].append(i)\n",
    "\n",
    "    return text_dic"
   ]
  },
  {
   "cell_type": "code",
   "execution_count": 167,
   "outputs": [],
   "source": [
    "text_ii = inverted_index(df_norm['text'])\n",
    "title_ii = inverted_index(df_norm['title'])"
   ],
   "metadata": {
    "collapsed": false,
    "pycharm": {
     "name": "#%%\n"
    }
   }
  },
  {
   "cell_type": "markdown",
   "metadata": {
    "pycharm": {
     "name": "#%% md\n"
    }
   },
   "source": [
    "## 3. část - Implementace TF-IDF\n",
    "\n",
    "Připravení funkce pro výpočet TF-IDF po příchodu dotazu. Funkce *tf_idf* by měla pracovat s dotazem, jedním invertovaným indexem a s danými dokumenty. Vrátit by měla list obsahující skóre pro každý dokument.\n",
    "\n",
    "<br>\n",
    "<center>\n",
    "$\n",
    "score(q,d) = TF\\_IDF(q,d) = \\sum\\limits_{w \\in q \\cap d} c(w, q) c(w, d) log(\\frac{M+1}{df(w)})\n",
    "$\n",
    "</center>\n",
    "\n",
    "$q$ ... dotaz<br>\n",
    "$d$ ... dokument<br>\n",
    "$c(w, q)$ ... kolikrát je slovo *w* v dotazu *q*<br>\n",
    "$M$ ... celkový počet dokumentů<br>\n",
    "$df(w)$ ... počet dokumentů, ve kterých se nachází slovo *w*"
   ]
  },
  {
   "cell_type": "code",
   "execution_count": 177,
   "metadata": {
    "pycharm": {
     "name": "#%%\n"
    }
   },
   "outputs": [],
   "source": [
    "def tf(words):\n",
    "    out = {}\n",
    "    for word in words:\n",
    "        if word not in out:\n",
    "            out[word] = 1\n",
    "        else:\n",
    "            out[word] += 1\n",
    "    return out\n",
    "\n",
    "def tf_idf(q,d,ii):\n",
    "\n",
    "    M = len(d) #num of all documents\n",
    "    q_lem = \" \".join([token.lemma_ for token in lemmatizer(q)]).split(' ')\n",
    "    freq = tf(q_lem) # how many times is each word in query\n",
    "    out = []\n",
    "    for doc in d:\n",
    "        scores = 0\n",
    "        wd = tf(\" \".join([token.lemma_ for token in lemmatizer(doc)]).split(' ')) #how many times is each word in specific document\n",
    "        for word in q_lem:\n",
    "            if word in wd:\n",
    "                scores += freq[word] * wd[word] *  np.log((M+1) / len(set(ii[word])) )\n",
    "        out.append(scores)\n",
    "    return  out"
   ]
  },
  {
   "cell_type": "code",
   "execution_count": 178,
   "outputs": [],
   "source": [
    "score = tf_idf('coursera vs udacity machine learning',df_norm['title'],title_ii)"
   ],
   "metadata": {
    "collapsed": false,
    "pycharm": {
     "name": "#%%\n"
    }
   }
  },
  {
   "cell_type": "markdown",
   "metadata": {
    "pycharm": {
     "name": "#%% md\n"
    }
   },
   "source": [
    "## 4. část - Použití a testování TF-IDF\n",
    "\n",
    "Nyní lze získat skóre pro titulky nebo text. Následujícím krokem je sjednocení výsledného skóre pro ohodnocení celého dokumentu. V případě dvou hodnot si vystačíme s parametrem $\\alpha$, který nám určuje jakou váhu má titulek a jakou samotný text dokumentu. <br>\n",
    "\n",
    "<center>\n",
    "$\n",
    "score(q,d) = \\alpha \\; TF\\_IDF\\_title(q,d) + (1-\\alpha) \\; TF\\_IDF\\_text(q,d)\n",
    "$\n",
    "</center>\n",
    "\n",
    "Při nastavení parametru $\\alpha$ na hodnotu 0.7 a vyhledávání dotazu \"coursera vs udacity machine learning\" by výsledky měly vypadat následovně:\n",
    "\n",
    "![output](sample_output.png)"
   ]
  },
  {
   "cell_type": "code",
   "execution_count": 183,
   "outputs": [],
   "source": [
    "alpha = 0.7\n",
    "qs = 'coursera vs udacity machine learning'\n",
    "test = list(alpha * np.array(tf_idf(qs,df_norm['title'],title_ii) + (1-alpha) * np.array(tf_idf(qs,df_norm['text'],text_ii))))\n"
   ],
   "metadata": {
    "collapsed": false,
    "pycharm": {
     "name": "#%%\n"
    }
   }
  },
  {
   "cell_type": "code",
   "execution_count": 186,
   "outputs": [
    {
     "data": {
      "text/plain": "                                                 title  \\\n276  coursera vs udacity for machine learning hacke...   \n99   every single machine learning course on the in...   \n143  every single machine learning course on the in...   \n19   every single machine learning course on the in...   \n67   every single machine learning course on the in...   \n..                                                 ...   \n126  how to build a simple neural network in 9 line...   \n31   classifying websites with neural networks know...   \n298  classifying websites with neural networks know...   \n219   sneakpeek the savedroid crypto saving app par...   \n239            digital companionship matt wiese medium   \n\n                                                  text      score  \n276  2018 is an exciting time for students of machi...  33.439363  \n99   a year and a half ago i dropped out of one of ...  23.360618  \n143  a year and a half ago i dropped out of one of ...  23.360618  \n19   a year and a half ago i dropped out of one of ...  23.360618  \n67   a year and a half ago i dropped out of one of ...  23.360618  \n..                                                 ...        ...  \n126  as part of my quest to learn about ai i set my...   0.000000  \n31   at datafiniti we have a strong need for conver...   0.000000  \n298  at datafiniti we have a strong need for conver...   0.000000  \n219  the international beta of our brand new crypto...   0.000000  \n239  recently i chose to treat myself to a movie i ...   0.000000  \n\n[337 rows x 3 columns]",
      "text/html": "<div>\n<style scoped>\n    .dataframe tbody tr th:only-of-type {\n        vertical-align: middle;\n    }\n\n    .dataframe tbody tr th {\n        vertical-align: top;\n    }\n\n    .dataframe thead th {\n        text-align: right;\n    }\n</style>\n<table border=\"1\" class=\"dataframe\">\n  <thead>\n    <tr style=\"text-align: right;\">\n      <th></th>\n      <th>title</th>\n      <th>text</th>\n      <th>score</th>\n    </tr>\n  </thead>\n  <tbody>\n    <tr>\n      <th>276</th>\n      <td>coursera vs udacity for machine learning hacke...</td>\n      <td>2018 is an exciting time for students of machi...</td>\n      <td>33.439363</td>\n    </tr>\n    <tr>\n      <th>99</th>\n      <td>every single machine learning course on the in...</td>\n      <td>a year and a half ago i dropped out of one of ...</td>\n      <td>23.360618</td>\n    </tr>\n    <tr>\n      <th>143</th>\n      <td>every single machine learning course on the in...</td>\n      <td>a year and a half ago i dropped out of one of ...</td>\n      <td>23.360618</td>\n    </tr>\n    <tr>\n      <th>19</th>\n      <td>every single machine learning course on the in...</td>\n      <td>a year and a half ago i dropped out of one of ...</td>\n      <td>23.360618</td>\n    </tr>\n    <tr>\n      <th>67</th>\n      <td>every single machine learning course on the in...</td>\n      <td>a year and a half ago i dropped out of one of ...</td>\n      <td>23.360618</td>\n    </tr>\n    <tr>\n      <th>...</th>\n      <td>...</td>\n      <td>...</td>\n      <td>...</td>\n    </tr>\n    <tr>\n      <th>126</th>\n      <td>how to build a simple neural network in 9 line...</td>\n      <td>as part of my quest to learn about ai i set my...</td>\n      <td>0.000000</td>\n    </tr>\n    <tr>\n      <th>31</th>\n      <td>classifying websites with neural networks know...</td>\n      <td>at datafiniti we have a strong need for conver...</td>\n      <td>0.000000</td>\n    </tr>\n    <tr>\n      <th>298</th>\n      <td>classifying websites with neural networks know...</td>\n      <td>at datafiniti we have a strong need for conver...</td>\n      <td>0.000000</td>\n    </tr>\n    <tr>\n      <th>219</th>\n      <td>sneakpeek the savedroid crypto saving app par...</td>\n      <td>the international beta of our brand new crypto...</td>\n      <td>0.000000</td>\n    </tr>\n    <tr>\n      <th>239</th>\n      <td>digital companionship matt wiese medium</td>\n      <td>recently i chose to treat myself to a movie i ...</td>\n      <td>0.000000</td>\n    </tr>\n  </tbody>\n</table>\n<p>337 rows × 3 columns</p>\n</div>"
     },
     "execution_count": 186,
     "metadata": {},
     "output_type": "execute_result"
    }
   ],
   "source": [
    "df_norm['score'] = test\n",
    "sorted_df = df_norm.sort_values(by='score', ascending=False)\n",
    "sorted_df"
   ],
   "metadata": {
    "collapsed": false,
    "pycharm": {
     "name": "#%%\n"
    }
   }
  },
  {
   "cell_type": "code",
   "execution_count": null,
   "outputs": [],
   "source": [],
   "metadata": {
    "collapsed": false,
    "pycharm": {
     "name": "#%%\n"
    }
   }
  }
 ],
 "metadata": {
  "kernelspec": {
   "display_name": "Python 3",
   "language": "python",
   "name": "python3"
  },
  "language_info": {
   "codemirror_mode": {
    "name": "ipython",
    "version": 3
   },
   "file_extension": ".py",
   "mimetype": "text/x-python",
   "name": "python",
   "nbconvert_exporter": "python",
   "pygments_lexer": "ipython3",
   "version": "3.7.6"
  }
 },
 "nbformat": 4,
 "nbformat_minor": 4
}