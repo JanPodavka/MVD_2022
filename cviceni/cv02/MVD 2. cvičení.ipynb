{
 "cells": [
  {
   "cell_type": "markdown",
   "id": "united-macedonia",
   "metadata": {
    "pycharm": {
     "name": "#%% md\n"
    }
   },
   "source": [
    "# MVD 2. Cvičení\n",
    "\n",
    "Potřebné knihovny\n",
    "- plotly\n",
    "- matplotlib\n",
    "- sklearn\n",
    "- numpy\n",
    "- pickle\n",
    "\n",
    "## 1. část - Základní vizualizace dat\n",
    "\n",
    "Úkolem v první části je vyzkoušet si základní vizualizaci s využitím knihoven Matplotlib a Plotly. Postačí vizualizovat základní sloupcový graf v každé z těchto knihoven s hodnotami [1, 2, 3]."
   ]
  },
  {
   "cell_type": "code",
   "execution_count": null,
   "id": "matched-preliminary",
   "metadata": {
    "pycharm": {
     "name": "#%%\n"
    }
   },
   "outputs": [],
   "source": []
  },
  {
   "cell_type": "markdown",
   "id": "automated-fossil",
   "metadata": {
    "pycharm": {
     "name": "#%% md\n"
    }
   },
   "source": [
    "## 2. část - Využití t-SNE knihovny pro redukci dimenze dat\n",
    "\n",
    "V této části je úkolem redukovat dimenzi vstupních vektorů a poté je vizualizovat. Jedná se o tzv. vektory mluvčích (x-vektory), které se často využívají při verifikaci mluvčího. Pokud tyto vektory fungují správně, tak by z vizualizace mělo být vidět, že se vektory stejných osob shlukují a zároveň jsou dostatečně vzdálené od vektorů ostatních osob.\n",
    "\n",
    "Je potřeba vyřešit následující úlohy:\n",
    "1. Načíst data, která byla uložena jako tuple (data, Y) pomocí knihovny pickle\n",
    "    - je potřeba binárně otevřít soubor data.pk a správně načíst data\n",
    "    - \"data\" ... jedná se o list obsahující vektory 5 osob, celková velikost je (25, 128)\n",
    "        - v Y jsou labely osob pro jednotlivé vektory (0,0,0,0,0,1,1,1,1,1,2,2,...)\n",
    "        \n",
    "        \n",
    "2. Použít t-SNE pro redukci dimenze dat do 2D (již naimportovaná knihovna), doporučuji přečíst si dokumentaci a podívat se na použití\n",
    "\n",
    "\n",
    "3. Vizualizovat vektory ve 2D s použitím plotly knihovny, graf stačí zobrazit zde v notebooku\n",
    "\n",
    "\n",
    "### Výsledek by měl vypadat přibližně takto\n",
    "![output](sample_output.png)"
   ]
  },
  {
   "cell_type": "code",
   "execution_count": 56,
   "id": "intelligent-undergraduate",
   "metadata": {
    "pycharm": {
     "name": "#%%\n"
    }
   },
   "outputs": [],
   "source": [
    "from sklearn.manifold import TSNE\n",
    "import pickle as pk\n",
    "import matplotlib.pyplot as plt\n",
    "import pandas as pd\n",
    "import re\n",
    "import plotly.express as px\n"
   ]
  },
  {
   "cell_type": "code",
   "execution_count": 3,
   "id": "confident-mills",
   "metadata": {
    "pycharm": {
     "name": "#%%\n"
    }
   },
   "outputs": [],
   "source": [
    "# Načtení dat\n",
    "with open('data.pk', 'rb') as file:\n",
    "    data = pk.load(file)"
   ]
  },
  {
   "cell_type": "code",
   "execution_count": 78,
   "outputs": [],
   "source": [
    "vec,y = [data[0],data[1]]"
   ],
   "metadata": {
    "collapsed": false,
    "pycharm": {
     "name": "#%%\n"
    }
   }
  },
  {
   "cell_type": "code",
   "execution_count": 81,
   "outputs": [
    {
     "name": "stderr",
     "output_type": "stream",
     "text": [
      "C:\\Users\\podav\\anaconda3\\envs\\data_science\\lib\\site-packages\\sklearn\\manifold\\_t_sne.py:795: FutureWarning:\n",
      "\n",
      "The default initialization in TSNE will change from 'random' to 'pca' in 1.2.\n",
      "\n",
      "C:\\Users\\podav\\anaconda3\\envs\\data_science\\lib\\site-packages\\sklearn\\manifold\\_t_sne.py:805: FutureWarning:\n",
      "\n",
      "The default learning rate in TSNE will change from 200.0 to 'auto' in 1.2.\n",
      "\n"
     ]
    },
    {
     "data": {
      "application/vnd.plotly.v1+json": {
       "data": [
        {
         "hovertemplate": "color=osoba 0<br>x=%{x}<br>index=%{y}<extra></extra>",
         "legendgroup": "osoba 0",
         "marker": {
          "color": "#636efa",
          "symbol": "circle"
         },
         "mode": "markers",
         "name": "osoba 0",
         "orientation": "h",
         "showlegend": true,
         "x": [
          -463.4405212402344,
          -454.87554931640625,
          -622.1600952148438,
          -556.9474487304688,
          -533.156982421875
         ],
         "xaxis": "x",
         "y": [
          0,
          1,
          2,
          3,
          4
         ],
         "yaxis": "y",
         "type": "scatter"
        },
        {
         "hovertemplate": "color=osoba 1<br>x=%{x}<br>index=%{y}<extra></extra>",
         "legendgroup": "osoba 1",
         "marker": {
          "color": "#EF553B",
          "symbol": "circle"
         },
         "mode": "markers",
         "name": "osoba 1",
         "orientation": "h",
         "showlegend": true,
         "x": [
          -154.99937438964844,
          -268.2578125,
          -320.6520080566406,
          -301.6288146972656,
          -200.8063201904297
         ],
         "xaxis": "x",
         "y": [
          5,
          6,
          7,
          8,
          9
         ],
         "yaxis": "y",
         "type": "scatter"
        },
        {
         "hovertemplate": "color=osoba 2<br>x=%{x}<br>index=%{y}<extra></extra>",
         "legendgroup": "osoba 2",
         "marker": {
          "color": "#00cc96",
          "symbol": "circle"
         },
         "mode": "markers",
         "name": "osoba 2",
         "orientation": "h",
         "showlegend": true,
         "x": [
          617.1609497070312,
          550.20068359375,
          544.474853515625,
          506.5469970703125,
          455.98577880859375
         ],
         "xaxis": "x",
         "y": [
          10,
          11,
          12,
          13,
          14
         ],
         "yaxis": "y",
         "type": "scatter"
        },
        {
         "hovertemplate": "color=osoba 3<br>x=%{x}<br>index=%{y}<extra></extra>",
         "legendgroup": "osoba 3",
         "marker": {
          "color": "#ab63fa",
          "symbol": "circle"
         },
         "mode": "markers",
         "name": "osoba 3",
         "orientation": "h",
         "showlegend": true,
         "x": [
          66.75115203857422,
          3.975395679473877,
          43.38668441772461,
          113.6018295288086,
          105.86602783203125
         ],
         "xaxis": "x",
         "y": [
          15,
          16,
          17,
          18,
          19
         ],
         "yaxis": "y",
         "type": "scatter"
        },
        {
         "hovertemplate": "color=osoba 4<br>x=%{x}<br>index=%{y}<extra></extra>",
         "legendgroup": "osoba 4",
         "marker": {
          "color": "#FFA15A",
          "symbol": "circle"
         },
         "mode": "markers",
         "name": "osoba 4",
         "orientation": "h",
         "showlegend": true,
         "x": [
          366.2310791015625,
          438.87310791015625,
          346.82452392578125,
          441.916748046875,
          522.6408081054688
         ],
         "xaxis": "x",
         "y": [
          20,
          21,
          22,
          23,
          24
         ],
         "yaxis": "y",
         "type": "scatter"
        }
       ],
       "layout": {
        "template": {
         "data": {
          "histogram2dcontour": [
           {
            "type": "histogram2dcontour",
            "colorbar": {
             "outlinewidth": 0,
             "ticks": ""
            },
            "colorscale": [
             [
              0.0,
              "#0d0887"
             ],
             [
              0.1111111111111111,
              "#46039f"
             ],
             [
              0.2222222222222222,
              "#7201a8"
             ],
             [
              0.3333333333333333,
              "#9c179e"
             ],
             [
              0.4444444444444444,
              "#bd3786"
             ],
             [
              0.5555555555555556,
              "#d8576b"
             ],
             [
              0.6666666666666666,
              "#ed7953"
             ],
             [
              0.7777777777777778,
              "#fb9f3a"
             ],
             [
              0.8888888888888888,
              "#fdca26"
             ],
             [
              1.0,
              "#f0f921"
             ]
            ]
           }
          ],
          "choropleth": [
           {
            "type": "choropleth",
            "colorbar": {
             "outlinewidth": 0,
             "ticks": ""
            }
           }
          ],
          "histogram2d": [
           {
            "type": "histogram2d",
            "colorbar": {
             "outlinewidth": 0,
             "ticks": ""
            },
            "colorscale": [
             [
              0.0,
              "#0d0887"
             ],
             [
              0.1111111111111111,
              "#46039f"
             ],
             [
              0.2222222222222222,
              "#7201a8"
             ],
             [
              0.3333333333333333,
              "#9c179e"
             ],
             [
              0.4444444444444444,
              "#bd3786"
             ],
             [
              0.5555555555555556,
              "#d8576b"
             ],
             [
              0.6666666666666666,
              "#ed7953"
             ],
             [
              0.7777777777777778,
              "#fb9f3a"
             ],
             [
              0.8888888888888888,
              "#fdca26"
             ],
             [
              1.0,
              "#f0f921"
             ]
            ]
           }
          ],
          "heatmap": [
           {
            "type": "heatmap",
            "colorbar": {
             "outlinewidth": 0,
             "ticks": ""
            },
            "colorscale": [
             [
              0.0,
              "#0d0887"
             ],
             [
              0.1111111111111111,
              "#46039f"
             ],
             [
              0.2222222222222222,
              "#7201a8"
             ],
             [
              0.3333333333333333,
              "#9c179e"
             ],
             [
              0.4444444444444444,
              "#bd3786"
             ],
             [
              0.5555555555555556,
              "#d8576b"
             ],
             [
              0.6666666666666666,
              "#ed7953"
             ],
             [
              0.7777777777777778,
              "#fb9f3a"
             ],
             [
              0.8888888888888888,
              "#fdca26"
             ],
             [
              1.0,
              "#f0f921"
             ]
            ]
           }
          ],
          "heatmapgl": [
           {
            "type": "heatmapgl",
            "colorbar": {
             "outlinewidth": 0,
             "ticks": ""
            },
            "colorscale": [
             [
              0.0,
              "#0d0887"
             ],
             [
              0.1111111111111111,
              "#46039f"
             ],
             [
              0.2222222222222222,
              "#7201a8"
             ],
             [
              0.3333333333333333,
              "#9c179e"
             ],
             [
              0.4444444444444444,
              "#bd3786"
             ],
             [
              0.5555555555555556,
              "#d8576b"
             ],
             [
              0.6666666666666666,
              "#ed7953"
             ],
             [
              0.7777777777777778,
              "#fb9f3a"
             ],
             [
              0.8888888888888888,
              "#fdca26"
             ],
             [
              1.0,
              "#f0f921"
             ]
            ]
           }
          ],
          "contourcarpet": [
           {
            "type": "contourcarpet",
            "colorbar": {
             "outlinewidth": 0,
             "ticks": ""
            }
           }
          ],
          "contour": [
           {
            "type": "contour",
            "colorbar": {
             "outlinewidth": 0,
             "ticks": ""
            },
            "colorscale": [
             [
              0.0,
              "#0d0887"
             ],
             [
              0.1111111111111111,
              "#46039f"
             ],
             [
              0.2222222222222222,
              "#7201a8"
             ],
             [
              0.3333333333333333,
              "#9c179e"
             ],
             [
              0.4444444444444444,
              "#bd3786"
             ],
             [
              0.5555555555555556,
              "#d8576b"
             ],
             [
              0.6666666666666666,
              "#ed7953"
             ],
             [
              0.7777777777777778,
              "#fb9f3a"
             ],
             [
              0.8888888888888888,
              "#fdca26"
             ],
             [
              1.0,
              "#f0f921"
             ]
            ]
           }
          ],
          "surface": [
           {
            "type": "surface",
            "colorbar": {
             "outlinewidth": 0,
             "ticks": ""
            },
            "colorscale": [
             [
              0.0,
              "#0d0887"
             ],
             [
              0.1111111111111111,
              "#46039f"
             ],
             [
              0.2222222222222222,
              "#7201a8"
             ],
             [
              0.3333333333333333,
              "#9c179e"
             ],
             [
              0.4444444444444444,
              "#bd3786"
             ],
             [
              0.5555555555555556,
              "#d8576b"
             ],
             [
              0.6666666666666666,
              "#ed7953"
             ],
             [
              0.7777777777777778,
              "#fb9f3a"
             ],
             [
              0.8888888888888888,
              "#fdca26"
             ],
             [
              1.0,
              "#f0f921"
             ]
            ]
           }
          ],
          "mesh3d": [
           {
            "type": "mesh3d",
            "colorbar": {
             "outlinewidth": 0,
             "ticks": ""
            }
           }
          ],
          "scatter": [
           {
            "fillpattern": {
             "fillmode": "overlay",
             "size": 10,
             "solidity": 0.2
            },
            "type": "scatter"
           }
          ],
          "parcoords": [
           {
            "type": "parcoords",
            "line": {
             "colorbar": {
              "outlinewidth": 0,
              "ticks": ""
             }
            }
           }
          ],
          "scatterpolargl": [
           {
            "type": "scatterpolargl",
            "marker": {
             "colorbar": {
              "outlinewidth": 0,
              "ticks": ""
             }
            }
           }
          ],
          "bar": [
           {
            "error_x": {
             "color": "#2a3f5f"
            },
            "error_y": {
             "color": "#2a3f5f"
            },
            "marker": {
             "line": {
              "color": "#E5ECF6",
              "width": 0.5
             },
             "pattern": {
              "fillmode": "overlay",
              "size": 10,
              "solidity": 0.2
             }
            },
            "type": "bar"
           }
          ],
          "scattergeo": [
           {
            "type": "scattergeo",
            "marker": {
             "colorbar": {
              "outlinewidth": 0,
              "ticks": ""
             }
            }
           }
          ],
          "scatterpolar": [
           {
            "type": "scatterpolar",
            "marker": {
             "colorbar": {
              "outlinewidth": 0,
              "ticks": ""
             }
            }
           }
          ],
          "histogram": [
           {
            "marker": {
             "pattern": {
              "fillmode": "overlay",
              "size": 10,
              "solidity": 0.2
             }
            },
            "type": "histogram"
           }
          ],
          "scattergl": [
           {
            "type": "scattergl",
            "marker": {
             "colorbar": {
              "outlinewidth": 0,
              "ticks": ""
             }
            }
           }
          ],
          "scatter3d": [
           {
            "type": "scatter3d",
            "line": {
             "colorbar": {
              "outlinewidth": 0,
              "ticks": ""
             }
            },
            "marker": {
             "colorbar": {
              "outlinewidth": 0,
              "ticks": ""
             }
            }
           }
          ],
          "scattermapbox": [
           {
            "type": "scattermapbox",
            "marker": {
             "colorbar": {
              "outlinewidth": 0,
              "ticks": ""
             }
            }
           }
          ],
          "scatterternary": [
           {
            "type": "scatterternary",
            "marker": {
             "colorbar": {
              "outlinewidth": 0,
              "ticks": ""
             }
            }
           }
          ],
          "scattercarpet": [
           {
            "type": "scattercarpet",
            "marker": {
             "colorbar": {
              "outlinewidth": 0,
              "ticks": ""
             }
            }
           }
          ],
          "carpet": [
           {
            "aaxis": {
             "endlinecolor": "#2a3f5f",
             "gridcolor": "white",
             "linecolor": "white",
             "minorgridcolor": "white",
             "startlinecolor": "#2a3f5f"
            },
            "baxis": {
             "endlinecolor": "#2a3f5f",
             "gridcolor": "white",
             "linecolor": "white",
             "minorgridcolor": "white",
             "startlinecolor": "#2a3f5f"
            },
            "type": "carpet"
           }
          ],
          "table": [
           {
            "cells": {
             "fill": {
              "color": "#EBF0F8"
             },
             "line": {
              "color": "white"
             }
            },
            "header": {
             "fill": {
              "color": "#C8D4E3"
             },
             "line": {
              "color": "white"
             }
            },
            "type": "table"
           }
          ],
          "barpolar": [
           {
            "marker": {
             "line": {
              "color": "#E5ECF6",
              "width": 0.5
             },
             "pattern": {
              "fillmode": "overlay",
              "size": 10,
              "solidity": 0.2
             }
            },
            "type": "barpolar"
           }
          ],
          "pie": [
           {
            "automargin": true,
            "type": "pie"
           }
          ]
         },
         "layout": {
          "autotypenumbers": "strict",
          "colorway": [
           "#636efa",
           "#EF553B",
           "#00cc96",
           "#ab63fa",
           "#FFA15A",
           "#19d3f3",
           "#FF6692",
           "#B6E880",
           "#FF97FF",
           "#FECB52"
          ],
          "font": {
           "color": "#2a3f5f"
          },
          "hovermode": "closest",
          "hoverlabel": {
           "align": "left"
          },
          "paper_bgcolor": "white",
          "plot_bgcolor": "#E5ECF6",
          "polar": {
           "bgcolor": "#E5ECF6",
           "angularaxis": {
            "gridcolor": "white",
            "linecolor": "white",
            "ticks": ""
           },
           "radialaxis": {
            "gridcolor": "white",
            "linecolor": "white",
            "ticks": ""
           }
          },
          "ternary": {
           "bgcolor": "#E5ECF6",
           "aaxis": {
            "gridcolor": "white",
            "linecolor": "white",
            "ticks": ""
           },
           "baxis": {
            "gridcolor": "white",
            "linecolor": "white",
            "ticks": ""
           },
           "caxis": {
            "gridcolor": "white",
            "linecolor": "white",
            "ticks": ""
           }
          },
          "coloraxis": {
           "colorbar": {
            "outlinewidth": 0,
            "ticks": ""
           }
          },
          "colorscale": {
           "sequential": [
            [
             0.0,
             "#0d0887"
            ],
            [
             0.1111111111111111,
             "#46039f"
            ],
            [
             0.2222222222222222,
             "#7201a8"
            ],
            [
             0.3333333333333333,
             "#9c179e"
            ],
            [
             0.4444444444444444,
             "#bd3786"
            ],
            [
             0.5555555555555556,
             "#d8576b"
            ],
            [
             0.6666666666666666,
             "#ed7953"
            ],
            [
             0.7777777777777778,
             "#fb9f3a"
            ],
            [
             0.8888888888888888,
             "#fdca26"
            ],
            [
             1.0,
             "#f0f921"
            ]
           ],
           "sequentialminus": [
            [
             0.0,
             "#0d0887"
            ],
            [
             0.1111111111111111,
             "#46039f"
            ],
            [
             0.2222222222222222,
             "#7201a8"
            ],
            [
             0.3333333333333333,
             "#9c179e"
            ],
            [
             0.4444444444444444,
             "#bd3786"
            ],
            [
             0.5555555555555556,
             "#d8576b"
            ],
            [
             0.6666666666666666,
             "#ed7953"
            ],
            [
             0.7777777777777778,
             "#fb9f3a"
            ],
            [
             0.8888888888888888,
             "#fdca26"
            ],
            [
             1.0,
             "#f0f921"
            ]
           ],
           "diverging": [
            [
             0,
             "#8e0152"
            ],
            [
             0.1,
             "#c51b7d"
            ],
            [
             0.2,
             "#de77ae"
            ],
            [
             0.3,
             "#f1b6da"
            ],
            [
             0.4,
             "#fde0ef"
            ],
            [
             0.5,
             "#f7f7f7"
            ],
            [
             0.6,
             "#e6f5d0"
            ],
            [
             0.7,
             "#b8e186"
            ],
            [
             0.8,
             "#7fbc41"
            ],
            [
             0.9,
             "#4d9221"
            ],
            [
             1,
             "#276419"
            ]
           ]
          },
          "xaxis": {
           "gridcolor": "white",
           "linecolor": "white",
           "ticks": "",
           "title": {
            "standoff": 15
           },
           "zerolinecolor": "white",
           "automargin": true,
           "zerolinewidth": 2
          },
          "yaxis": {
           "gridcolor": "white",
           "linecolor": "white",
           "ticks": "",
           "title": {
            "standoff": 15
           },
           "zerolinecolor": "white",
           "automargin": true,
           "zerolinewidth": 2
          },
          "scene": {
           "xaxis": {
            "backgroundcolor": "#E5ECF6",
            "gridcolor": "white",
            "linecolor": "white",
            "showbackground": true,
            "ticks": "",
            "zerolinecolor": "white",
            "gridwidth": 2
           },
           "yaxis": {
            "backgroundcolor": "#E5ECF6",
            "gridcolor": "white",
            "linecolor": "white",
            "showbackground": true,
            "ticks": "",
            "zerolinecolor": "white",
            "gridwidth": 2
           },
           "zaxis": {
            "backgroundcolor": "#E5ECF6",
            "gridcolor": "white",
            "linecolor": "white",
            "showbackground": true,
            "ticks": "",
            "zerolinecolor": "white",
            "gridwidth": 2
           }
          },
          "shapedefaults": {
           "line": {
            "color": "#2a3f5f"
           }
          },
          "annotationdefaults": {
           "arrowcolor": "#2a3f5f",
           "arrowhead": 0,
           "arrowwidth": 1
          },
          "geo": {
           "bgcolor": "white",
           "landcolor": "#E5ECF6",
           "subunitcolor": "white",
           "showland": true,
           "showlakes": true,
           "lakecolor": "white"
          },
          "title": {
           "x": 0.05
          },
          "mapbox": {
           "style": "light"
          }
         }
        },
        "xaxis": {
         "anchor": "y",
         "domain": [
          0.0,
          1.0
         ],
         "title": {
          "text": "x"
         }
        },
        "yaxis": {
         "anchor": "x",
         "domain": [
          0.0,
          1.0
         ],
         "title": {
          "text": "index"
         }
        },
        "legend": {
         "title": {
          "text": "color"
         },
         "tracegroupgap": 0
        },
        "margin": {
         "t": 60
        },
        "coloraxis": {
         "showscale": false
        }
       },
       "config": {
        "plotlyServerURL": "https://plot.ly"
       }
      },
      "text/html": "<div>                            <div id=\"fd01b412-bcbe-4945-8923-a082cd4f168b\" class=\"plotly-graph-div\" style=\"height:525px; width:100%;\"></div>            <script type=\"text/javascript\">                require([\"plotly\"], function(Plotly) {                    window.PLOTLYENV=window.PLOTLYENV || {};                                    if (document.getElementById(\"fd01b412-bcbe-4945-8923-a082cd4f168b\")) {                    Plotly.newPlot(                        \"fd01b412-bcbe-4945-8923-a082cd4f168b\",                        [{\"hovertemplate\":\"color=osoba 0<br>x=%{x}<br>index=%{y}<extra></extra>\",\"legendgroup\":\"osoba 0\",\"marker\":{\"color\":\"#636efa\",\"symbol\":\"circle\"},\"mode\":\"markers\",\"name\":\"osoba 0\",\"orientation\":\"h\",\"showlegend\":true,\"x\":[-463.4405212402344,-454.87554931640625,-622.1600952148438,-556.9474487304688,-533.156982421875],\"xaxis\":\"x\",\"y\":[0,1,2,3,4],\"yaxis\":\"y\",\"type\":\"scatter\"},{\"hovertemplate\":\"color=osoba 1<br>x=%{x}<br>index=%{y}<extra></extra>\",\"legendgroup\":\"osoba 1\",\"marker\":{\"color\":\"#EF553B\",\"symbol\":\"circle\"},\"mode\":\"markers\",\"name\":\"osoba 1\",\"orientation\":\"h\",\"showlegend\":true,\"x\":[-154.99937438964844,-268.2578125,-320.6520080566406,-301.6288146972656,-200.8063201904297],\"xaxis\":\"x\",\"y\":[5,6,7,8,9],\"yaxis\":\"y\",\"type\":\"scatter\"},{\"hovertemplate\":\"color=osoba 2<br>x=%{x}<br>index=%{y}<extra></extra>\",\"legendgroup\":\"osoba 2\",\"marker\":{\"color\":\"#00cc96\",\"symbol\":\"circle\"},\"mode\":\"markers\",\"name\":\"osoba 2\",\"orientation\":\"h\",\"showlegend\":true,\"x\":[617.1609497070312,550.20068359375,544.474853515625,506.5469970703125,455.98577880859375],\"xaxis\":\"x\",\"y\":[10,11,12,13,14],\"yaxis\":\"y\",\"type\":\"scatter\"},{\"hovertemplate\":\"color=osoba 3<br>x=%{x}<br>index=%{y}<extra></extra>\",\"legendgroup\":\"osoba 3\",\"marker\":{\"color\":\"#ab63fa\",\"symbol\":\"circle\"},\"mode\":\"markers\",\"name\":\"osoba 3\",\"orientation\":\"h\",\"showlegend\":true,\"x\":[66.75115203857422,3.975395679473877,43.38668441772461,113.6018295288086,105.86602783203125],\"xaxis\":\"x\",\"y\":[15,16,17,18,19],\"yaxis\":\"y\",\"type\":\"scatter\"},{\"hovertemplate\":\"color=osoba 4<br>x=%{x}<br>index=%{y}<extra></extra>\",\"legendgroup\":\"osoba 4\",\"marker\":{\"color\":\"#FFA15A\",\"symbol\":\"circle\"},\"mode\":\"markers\",\"name\":\"osoba 4\",\"orientation\":\"h\",\"showlegend\":true,\"x\":[366.2310791015625,438.87310791015625,346.82452392578125,441.916748046875,522.6408081054688],\"xaxis\":\"x\",\"y\":[20,21,22,23,24],\"yaxis\":\"y\",\"type\":\"scatter\"}],                        {\"template\":{\"data\":{\"histogram2dcontour\":[{\"type\":\"histogram2dcontour\",\"colorbar\":{\"outlinewidth\":0,\"ticks\":\"\"},\"colorscale\":[[0.0,\"#0d0887\"],[0.1111111111111111,\"#46039f\"],[0.2222222222222222,\"#7201a8\"],[0.3333333333333333,\"#9c179e\"],[0.4444444444444444,\"#bd3786\"],[0.5555555555555556,\"#d8576b\"],[0.6666666666666666,\"#ed7953\"],[0.7777777777777778,\"#fb9f3a\"],[0.8888888888888888,\"#fdca26\"],[1.0,\"#f0f921\"]]}],\"choropleth\":[{\"type\":\"choropleth\",\"colorbar\":{\"outlinewidth\":0,\"ticks\":\"\"}}],\"histogram2d\":[{\"type\":\"histogram2d\",\"colorbar\":{\"outlinewidth\":0,\"ticks\":\"\"},\"colorscale\":[[0.0,\"#0d0887\"],[0.1111111111111111,\"#46039f\"],[0.2222222222222222,\"#7201a8\"],[0.3333333333333333,\"#9c179e\"],[0.4444444444444444,\"#bd3786\"],[0.5555555555555556,\"#d8576b\"],[0.6666666666666666,\"#ed7953\"],[0.7777777777777778,\"#fb9f3a\"],[0.8888888888888888,\"#fdca26\"],[1.0,\"#f0f921\"]]}],\"heatmap\":[{\"type\":\"heatmap\",\"colorbar\":{\"outlinewidth\":0,\"ticks\":\"\"},\"colorscale\":[[0.0,\"#0d0887\"],[0.1111111111111111,\"#46039f\"],[0.2222222222222222,\"#7201a8\"],[0.3333333333333333,\"#9c179e\"],[0.4444444444444444,\"#bd3786\"],[0.5555555555555556,\"#d8576b\"],[0.6666666666666666,\"#ed7953\"],[0.7777777777777778,\"#fb9f3a\"],[0.8888888888888888,\"#fdca26\"],[1.0,\"#f0f921\"]]}],\"heatmapgl\":[{\"type\":\"heatmapgl\",\"colorbar\":{\"outlinewidth\":0,\"ticks\":\"\"},\"colorscale\":[[0.0,\"#0d0887\"],[0.1111111111111111,\"#46039f\"],[0.2222222222222222,\"#7201a8\"],[0.3333333333333333,\"#9c179e\"],[0.4444444444444444,\"#bd3786\"],[0.5555555555555556,\"#d8576b\"],[0.6666666666666666,\"#ed7953\"],[0.7777777777777778,\"#fb9f3a\"],[0.8888888888888888,\"#fdca26\"],[1.0,\"#f0f921\"]]}],\"contourcarpet\":[{\"type\":\"contourcarpet\",\"colorbar\":{\"outlinewidth\":0,\"ticks\":\"\"}}],\"contour\":[{\"type\":\"contour\",\"colorbar\":{\"outlinewidth\":0,\"ticks\":\"\"},\"colorscale\":[[0.0,\"#0d0887\"],[0.1111111111111111,\"#46039f\"],[0.2222222222222222,\"#7201a8\"],[0.3333333333333333,\"#9c179e\"],[0.4444444444444444,\"#bd3786\"],[0.5555555555555556,\"#d8576b\"],[0.6666666666666666,\"#ed7953\"],[0.7777777777777778,\"#fb9f3a\"],[0.8888888888888888,\"#fdca26\"],[1.0,\"#f0f921\"]]}],\"surface\":[{\"type\":\"surface\",\"colorbar\":{\"outlinewidth\":0,\"ticks\":\"\"},\"colorscale\":[[0.0,\"#0d0887\"],[0.1111111111111111,\"#46039f\"],[0.2222222222222222,\"#7201a8\"],[0.3333333333333333,\"#9c179e\"],[0.4444444444444444,\"#bd3786\"],[0.5555555555555556,\"#d8576b\"],[0.6666666666666666,\"#ed7953\"],[0.7777777777777778,\"#fb9f3a\"],[0.8888888888888888,\"#fdca26\"],[1.0,\"#f0f921\"]]}],\"mesh3d\":[{\"type\":\"mesh3d\",\"colorbar\":{\"outlinewidth\":0,\"ticks\":\"\"}}],\"scatter\":[{\"fillpattern\":{\"fillmode\":\"overlay\",\"size\":10,\"solidity\":0.2},\"type\":\"scatter\"}],\"parcoords\":[{\"type\":\"parcoords\",\"line\":{\"colorbar\":{\"outlinewidth\":0,\"ticks\":\"\"}}}],\"scatterpolargl\":[{\"type\":\"scatterpolargl\",\"marker\":{\"colorbar\":{\"outlinewidth\":0,\"ticks\":\"\"}}}],\"bar\":[{\"error_x\":{\"color\":\"#2a3f5f\"},\"error_y\":{\"color\":\"#2a3f5f\"},\"marker\":{\"line\":{\"color\":\"#E5ECF6\",\"width\":0.5},\"pattern\":{\"fillmode\":\"overlay\",\"size\":10,\"solidity\":0.2}},\"type\":\"bar\"}],\"scattergeo\":[{\"type\":\"scattergeo\",\"marker\":{\"colorbar\":{\"outlinewidth\":0,\"ticks\":\"\"}}}],\"scatterpolar\":[{\"type\":\"scatterpolar\",\"marker\":{\"colorbar\":{\"outlinewidth\":0,\"ticks\":\"\"}}}],\"histogram\":[{\"marker\":{\"pattern\":{\"fillmode\":\"overlay\",\"size\":10,\"solidity\":0.2}},\"type\":\"histogram\"}],\"scattergl\":[{\"type\":\"scattergl\",\"marker\":{\"colorbar\":{\"outlinewidth\":0,\"ticks\":\"\"}}}],\"scatter3d\":[{\"type\":\"scatter3d\",\"line\":{\"colorbar\":{\"outlinewidth\":0,\"ticks\":\"\"}},\"marker\":{\"colorbar\":{\"outlinewidth\":0,\"ticks\":\"\"}}}],\"scattermapbox\":[{\"type\":\"scattermapbox\",\"marker\":{\"colorbar\":{\"outlinewidth\":0,\"ticks\":\"\"}}}],\"scatterternary\":[{\"type\":\"scatterternary\",\"marker\":{\"colorbar\":{\"outlinewidth\":0,\"ticks\":\"\"}}}],\"scattercarpet\":[{\"type\":\"scattercarpet\",\"marker\":{\"colorbar\":{\"outlinewidth\":0,\"ticks\":\"\"}}}],\"carpet\":[{\"aaxis\":{\"endlinecolor\":\"#2a3f5f\",\"gridcolor\":\"white\",\"linecolor\":\"white\",\"minorgridcolor\":\"white\",\"startlinecolor\":\"#2a3f5f\"},\"baxis\":{\"endlinecolor\":\"#2a3f5f\",\"gridcolor\":\"white\",\"linecolor\":\"white\",\"minorgridcolor\":\"white\",\"startlinecolor\":\"#2a3f5f\"},\"type\":\"carpet\"}],\"table\":[{\"cells\":{\"fill\":{\"color\":\"#EBF0F8\"},\"line\":{\"color\":\"white\"}},\"header\":{\"fill\":{\"color\":\"#C8D4E3\"},\"line\":{\"color\":\"white\"}},\"type\":\"table\"}],\"barpolar\":[{\"marker\":{\"line\":{\"color\":\"#E5ECF6\",\"width\":0.5},\"pattern\":{\"fillmode\":\"overlay\",\"size\":10,\"solidity\":0.2}},\"type\":\"barpolar\"}],\"pie\":[{\"automargin\":true,\"type\":\"pie\"}]},\"layout\":{\"autotypenumbers\":\"strict\",\"colorway\":[\"#636efa\",\"#EF553B\",\"#00cc96\",\"#ab63fa\",\"#FFA15A\",\"#19d3f3\",\"#FF6692\",\"#B6E880\",\"#FF97FF\",\"#FECB52\"],\"font\":{\"color\":\"#2a3f5f\"},\"hovermode\":\"closest\",\"hoverlabel\":{\"align\":\"left\"},\"paper_bgcolor\":\"white\",\"plot_bgcolor\":\"#E5ECF6\",\"polar\":{\"bgcolor\":\"#E5ECF6\",\"angularaxis\":{\"gridcolor\":\"white\",\"linecolor\":\"white\",\"ticks\":\"\"},\"radialaxis\":{\"gridcolor\":\"white\",\"linecolor\":\"white\",\"ticks\":\"\"}},\"ternary\":{\"bgcolor\":\"#E5ECF6\",\"aaxis\":{\"gridcolor\":\"white\",\"linecolor\":\"white\",\"ticks\":\"\"},\"baxis\":{\"gridcolor\":\"white\",\"linecolor\":\"white\",\"ticks\":\"\"},\"caxis\":{\"gridcolor\":\"white\",\"linecolor\":\"white\",\"ticks\":\"\"}},\"coloraxis\":{\"colorbar\":{\"outlinewidth\":0,\"ticks\":\"\"}},\"colorscale\":{\"sequential\":[[0.0,\"#0d0887\"],[0.1111111111111111,\"#46039f\"],[0.2222222222222222,\"#7201a8\"],[0.3333333333333333,\"#9c179e\"],[0.4444444444444444,\"#bd3786\"],[0.5555555555555556,\"#d8576b\"],[0.6666666666666666,\"#ed7953\"],[0.7777777777777778,\"#fb9f3a\"],[0.8888888888888888,\"#fdca26\"],[1.0,\"#f0f921\"]],\"sequentialminus\":[[0.0,\"#0d0887\"],[0.1111111111111111,\"#46039f\"],[0.2222222222222222,\"#7201a8\"],[0.3333333333333333,\"#9c179e\"],[0.4444444444444444,\"#bd3786\"],[0.5555555555555556,\"#d8576b\"],[0.6666666666666666,\"#ed7953\"],[0.7777777777777778,\"#fb9f3a\"],[0.8888888888888888,\"#fdca26\"],[1.0,\"#f0f921\"]],\"diverging\":[[0,\"#8e0152\"],[0.1,\"#c51b7d\"],[0.2,\"#de77ae\"],[0.3,\"#f1b6da\"],[0.4,\"#fde0ef\"],[0.5,\"#f7f7f7\"],[0.6,\"#e6f5d0\"],[0.7,\"#b8e186\"],[0.8,\"#7fbc41\"],[0.9,\"#4d9221\"],[1,\"#276419\"]]},\"xaxis\":{\"gridcolor\":\"white\",\"linecolor\":\"white\",\"ticks\":\"\",\"title\":{\"standoff\":15},\"zerolinecolor\":\"white\",\"automargin\":true,\"zerolinewidth\":2},\"yaxis\":{\"gridcolor\":\"white\",\"linecolor\":\"white\",\"ticks\":\"\",\"title\":{\"standoff\":15},\"zerolinecolor\":\"white\",\"automargin\":true,\"zerolinewidth\":2},\"scene\":{\"xaxis\":{\"backgroundcolor\":\"#E5ECF6\",\"gridcolor\":\"white\",\"linecolor\":\"white\",\"showbackground\":true,\"ticks\":\"\",\"zerolinecolor\":\"white\",\"gridwidth\":2},\"yaxis\":{\"backgroundcolor\":\"#E5ECF6\",\"gridcolor\":\"white\",\"linecolor\":\"white\",\"showbackground\":true,\"ticks\":\"\",\"zerolinecolor\":\"white\",\"gridwidth\":2},\"zaxis\":{\"backgroundcolor\":\"#E5ECF6\",\"gridcolor\":\"white\",\"linecolor\":\"white\",\"showbackground\":true,\"ticks\":\"\",\"zerolinecolor\":\"white\",\"gridwidth\":2}},\"shapedefaults\":{\"line\":{\"color\":\"#2a3f5f\"}},\"annotationdefaults\":{\"arrowcolor\":\"#2a3f5f\",\"arrowhead\":0,\"arrowwidth\":1},\"geo\":{\"bgcolor\":\"white\",\"landcolor\":\"#E5ECF6\",\"subunitcolor\":\"white\",\"showland\":true,\"showlakes\":true,\"lakecolor\":\"white\"},\"title\":{\"x\":0.05},\"mapbox\":{\"style\":\"light\"}}},\"xaxis\":{\"anchor\":\"y\",\"domain\":[0.0,1.0],\"title\":{\"text\":\"x\"}},\"yaxis\":{\"anchor\":\"x\",\"domain\":[0.0,1.0],\"title\":{\"text\":\"index\"}},\"legend\":{\"title\":{\"text\":\"color\"},\"tracegroupgap\":0},\"margin\":{\"t\":60},\"coloraxis\":{\"showscale\":false}},                        {\"responsive\": true}                    ).then(function(){\n                            \nvar gd = document.getElementById('fd01b412-bcbe-4945-8923-a082cd4f168b');\nvar x = new MutationObserver(function (mutations, observer) {{\n        var display = window.getComputedStyle(gd).display;\n        if (!display || display === 'none') {{\n            console.log([gd, 'removed!']);\n            Plotly.purge(gd);\n            observer.disconnect();\n        }}\n}});\n\n// Listen for the removal of the full notebook cells\nvar notebookContainer = gd.closest('#notebook-container');\nif (notebookContainer) {{\n    x.observe(notebookContainer, {childList: true});\n}}\n\n// Listen for the clearing of the current output cell\nvar outputEl = gd.closest('.output');\nif (outputEl) {{\n    x.observe(outputEl, {childList: true});\n}}\n\n                        })                };                });            </script>        </div>"
     },
     "metadata": {},
     "output_type": "display_data"
    }
   ],
   "source": [
    "tsne = TSNE(n_components=2, perplexity=5,random_state=1).fit_transform(vec) #7\n",
    "\n",
    "# plt.scatter(tsne[:, 0], tsne[:, 1], c=y)\n",
    "# plt.show()\n",
    "plot = px.scatter(tsne[:, 0], tsne[:, 1], color=['osoba ' + str(x)  for x in y])\n",
    "plot.update_coloraxes(showscale=False)\n",
    "plot.show()"
   ],
   "metadata": {
    "collapsed": false,
    "pycharm": {
     "name": "#%%\n"
    }
   }
  },
  {
   "cell_type": "markdown",
   "id": "sought-fellowship",
   "metadata": {
    "pycharm": {
     "name": "#%% md\n"
    }
   },
   "source": [
    "## 3. část - Vizualizace libovolného datasetu\n",
    "\n",
    "Poslední úloha je více otevřená. Můžete použít libovolný dataset a vytvořit libovolné vizualizace (alespoň 2).\n",
    "\n",
    "Čerpat můžete z vlastního zdroje nebo např.:\n",
    "- [Stanford Large Network Dataset Collection](http://snap.stanford.edu/data/index.html)\n",
    "- [UCI Network Data Repository](https://networkdata.ics.uci.edu/)\n",
    "\n",
    "Pokud vytvoříte složitější vizualizaci, nebo provedete zajímavou analýzu datasetu, tak můžete získat bonusový bod."
   ]
  },
  {
   "cell_type": "code",
   "execution_count": 82,
   "outputs": [
    {
     "data": {
      "text/plain": "     show_id     type                                    title  date_added  \\\n0         s1  TV Show                                       3%  14.08.2020   \n1         s2    Movie                                     7:19  23.12.2016   \n2         s3    Movie                                    23:59  20.12.2018   \n3         s4    Movie                                        9  16.11.2017   \n4         s5    Movie                                       21  01.01.2020   \n...      ...      ...                                      ...         ...   \n7762   s7783    Movie                                     Zozo  19.10.2020   \n7763   s7784    Movie                                   Zubaan  02.03.2019   \n7764   s7785    Movie                        Zulu Man in Japan  25.09.2020   \n7765   s7786  TV Show                    Zumbo's Just Desserts  31.10.2020   \n7766   s7787    Movie  ZZ TOP: THAT LITTLE OL' BAND FROM TEXAS  01.03.2020   \n\n      release_year   duration  \\\n0             2020  4 Seasons   \n1             2016     93 min   \n2             2011     78 min   \n3             2009     80 min   \n4             2008    123 min   \n...            ...        ...   \n7762          2005     99 min   \n7763          2015    111 min   \n7764          2019     44 min   \n7765          2019   1 Season   \n7766          2019     90 min   \n\n                                              listed_in  \n0     International TV Shows, TV Dramas, TV Sci-Fi &...  \n1                          Dramas, International Movies  \n2                   Horror Movies, International Movies  \n3     Action & Adventure, Independent Movies, Sci-Fi...  \n4                                                Dramas  \n...                                                 ...  \n7762                       Dramas, International Movies  \n7763     Dramas, International Movies, Music & Musicals  \n7764  Documentaries, International Movies, Music & M...  \n7765                 International TV Shows, Reality TV  \n7766                    Documentaries, Music & Musicals  \n\n[7767 rows x 7 columns]",
      "text/html": "<div>\n<style scoped>\n    .dataframe tbody tr th:only-of-type {\n        vertical-align: middle;\n    }\n\n    .dataframe tbody tr th {\n        vertical-align: top;\n    }\n\n    .dataframe thead th {\n        text-align: right;\n    }\n</style>\n<table border=\"1\" class=\"dataframe\">\n  <thead>\n    <tr style=\"text-align: right;\">\n      <th></th>\n      <th>show_id</th>\n      <th>type</th>\n      <th>title</th>\n      <th>date_added</th>\n      <th>release_year</th>\n      <th>duration</th>\n      <th>listed_in</th>\n    </tr>\n  </thead>\n  <tbody>\n    <tr>\n      <th>0</th>\n      <td>s1</td>\n      <td>TV Show</td>\n      <td>3%</td>\n      <td>14.08.2020</td>\n      <td>2020</td>\n      <td>4 Seasons</td>\n      <td>International TV Shows, TV Dramas, TV Sci-Fi &amp;...</td>\n    </tr>\n    <tr>\n      <th>1</th>\n      <td>s2</td>\n      <td>Movie</td>\n      <td>7:19</td>\n      <td>23.12.2016</td>\n      <td>2016</td>\n      <td>93 min</td>\n      <td>Dramas, International Movies</td>\n    </tr>\n    <tr>\n      <th>2</th>\n      <td>s3</td>\n      <td>Movie</td>\n      <td>23:59</td>\n      <td>20.12.2018</td>\n      <td>2011</td>\n      <td>78 min</td>\n      <td>Horror Movies, International Movies</td>\n    </tr>\n    <tr>\n      <th>3</th>\n      <td>s4</td>\n      <td>Movie</td>\n      <td>9</td>\n      <td>16.11.2017</td>\n      <td>2009</td>\n      <td>80 min</td>\n      <td>Action &amp; Adventure, Independent Movies, Sci-Fi...</td>\n    </tr>\n    <tr>\n      <th>4</th>\n      <td>s5</td>\n      <td>Movie</td>\n      <td>21</td>\n      <td>01.01.2020</td>\n      <td>2008</td>\n      <td>123 min</td>\n      <td>Dramas</td>\n    </tr>\n    <tr>\n      <th>...</th>\n      <td>...</td>\n      <td>...</td>\n      <td>...</td>\n      <td>...</td>\n      <td>...</td>\n      <td>...</td>\n      <td>...</td>\n    </tr>\n    <tr>\n      <th>7762</th>\n      <td>s7783</td>\n      <td>Movie</td>\n      <td>Zozo</td>\n      <td>19.10.2020</td>\n      <td>2005</td>\n      <td>99 min</td>\n      <td>Dramas, International Movies</td>\n    </tr>\n    <tr>\n      <th>7763</th>\n      <td>s7784</td>\n      <td>Movie</td>\n      <td>Zubaan</td>\n      <td>02.03.2019</td>\n      <td>2015</td>\n      <td>111 min</td>\n      <td>Dramas, International Movies, Music &amp; Musicals</td>\n    </tr>\n    <tr>\n      <th>7764</th>\n      <td>s7785</td>\n      <td>Movie</td>\n      <td>Zulu Man in Japan</td>\n      <td>25.09.2020</td>\n      <td>2019</td>\n      <td>44 min</td>\n      <td>Documentaries, International Movies, Music &amp; M...</td>\n    </tr>\n    <tr>\n      <th>7765</th>\n      <td>s7786</td>\n      <td>TV Show</td>\n      <td>Zumbo's Just Desserts</td>\n      <td>31.10.2020</td>\n      <td>2019</td>\n      <td>1 Season</td>\n      <td>International TV Shows, Reality TV</td>\n    </tr>\n    <tr>\n      <th>7766</th>\n      <td>s7787</td>\n      <td>Movie</td>\n      <td>ZZ TOP: THAT LITTLE OL' BAND FROM TEXAS</td>\n      <td>01.03.2020</td>\n      <td>2019</td>\n      <td>90 min</td>\n      <td>Documentaries, Music &amp; Musicals</td>\n    </tr>\n  </tbody>\n</table>\n<p>7767 rows × 7 columns</p>\n</div>"
     },
     "execution_count": 82,
     "metadata": {},
     "output_type": "execute_result"
    }
   ],
   "source": [
    "# složitější vizualizace --- alespoň nějaká z pokročilejších metod, nebo zajímavá analýza dat\n",
    "\n",
    "#Načtení datasetu\n",
    "\n",
    "df = pd.read_csv(\"netflix_titles.csv\", sep=';')\n",
    "df"
   ],
   "metadata": {
    "collapsed": false,
    "pycharm": {
     "name": "#%%\n"
    }
   }
  },
  {
   "cell_type": "code",
   "execution_count": 83,
   "outputs": [
    {
     "data": {
      "text/plain": "array([[<AxesSubplot:title={'center':'release_year'}>]], dtype=object)"
     },
     "execution_count": 83,
     "metadata": {},
     "output_type": "execute_result"
    },
    {
     "data": {
      "text/plain": "<Figure size 432x288 with 1 Axes>",
      "image/png": "[encoded data removed]"
     },
     "metadata": {},
     "output_type": "display_data"
    }
   ],
   "source": [
    "df.release_year\n",
    "df.hist(column='release_year')"
   ],
   "metadata": {
    "collapsed": false,
    "pycharm": {
     "name": "#%%\n"
    }
   }
  },
  {
   "cell_type": "code",
   "execution_count": 84,
   "outputs": [
    {
     "data": {
      "text/plain": "<Figure size 720x576 with 1 Axes>",
      "image/png": "[encoded data removed]"
     },
     "metadata": {},
     "output_type": "display_data"
    }
   ],
   "source": [
    "#Průměrný rok vydání pro filmy či seriály\n",
    "rl = df.groupby(['type']).mean()\n",
    "ax = df.plot.box(column=\"release_year\", by=\"type\", figsize=(10, 8))"
   ],
   "metadata": {
    "collapsed": false,
    "pycharm": {
     "name": "#%%\n"
    }
   }
  },
  {
   "cell_type": "code",
   "execution_count": 85,
   "outputs": [],
   "source": [
    "s = []\n",
    "f =[]\n",
    "for item in df['duration']:\n",
    "    if item.__contains__('Season'):\n",
    "        s.append(int(re.findall(\"\\d+\",item )[0]))\n",
    "    else:\n",
    "        f.append(int(re.findall(\"\\d+\",item )[0]))"
   ],
   "metadata": {
    "collapsed": false,
    "pycharm": {
     "name": "#%%\n"
    }
   }
  },
  {
   "cell_type": "code",
   "execution_count": 86,
   "outputs": [],
   "source": [
    "ss = pd.Series(s)\n",
    "fs = pd.Series(f)"
   ],
   "metadata": {
    "collapsed": false,
    "pycharm": {
     "name": "#%%\n"
    }
   }
  },
  {
   "cell_type": "code",
   "execution_count": 87,
   "outputs": [
    {
     "data": {
      "text/plain": "<AxesSubplot:ylabel='Density'>"
     },
     "execution_count": 87,
     "metadata": {},
     "output_type": "execute_result"
    },
    {
     "data": {
      "text/plain": "<Figure size 432x288 with 1 Axes>",
      "image/png": "[encoded data removed]"
     },
     "metadata": {},
     "output_type": "display_data"
    }
   ],
   "source": [
    "ss.plot.kde()\n",
    "fs.plot.kde()"
   ],
   "metadata": {
    "collapsed": false,
    "pycharm": {
     "name": "#%%\n"
    }
   }
  },
  {
   "cell_type": "code",
   "execution_count": 90,
   "outputs": [
    {
     "data": {
      "text/plain": "<AxesSubplot:ylabel='release_year'>"
     },
     "execution_count": 90,
     "metadata": {},
     "output_type": "execute_result"
    },
    {
     "data": {
      "text/plain": "<Figure size 432x288 with 1 Axes>",
      "image/png": "[encoded data removed]"
     },
     "metadata": {},
     "output_type": "display_data"
    }
   ],
   "source": [
    "df.groupby(['type']).sum().plot(kind='pie', y='release_year', autopct='%1.0f%%')"
   ],
   "metadata": {
    "collapsed": false,
    "pycharm": {
     "name": "#%%\n"
    }
   }
  },
  {
   "cell_type": "code",
   "execution_count": 96,
   "outputs": [
    {
     "ename": "ValueError",
     "evalue": "All arguments should have the same length. The length of argument `theta` is 36, whereas the length of  previously-processed arguments ['r'] is 7767",
     "output_type": "error",
     "traceback": [
      "\u001B[1;31m---------------------------------------------------------------------------\u001B[0m",
      "\u001B[1;31mValueError\u001B[0m                                Traceback (most recent call last)",
      "Input \u001B[1;32mIn [96]\u001B[0m, in \u001B[0;36m<cell line: 4>\u001B[1;34m()\u001B[0m\n\u001B[0;32m      1\u001B[0m spicies \u001B[38;5;241m=\u001B[39m df\u001B[38;5;241m.\u001B[39mlisted_in\u001B[38;5;241m.\u001B[39mstr\u001B[38;5;241m.\u001B[39msplit(\u001B[38;5;124m'\u001B[39m\u001B[38;5;124m,\u001B[39m\u001B[38;5;124m'\u001B[39m, \u001B[38;5;241m2\u001B[39m, expand\u001B[38;5;241m=\u001B[39m\u001B[38;5;28;01mTrue\u001B[39;00m)\n\u001B[0;32m      2\u001B[0m theta \u001B[38;5;241m=\u001B[39m spicies[\u001B[38;5;241m0\u001B[39m]\u001B[38;5;241m.\u001B[39munique()\n\u001B[1;32m----> 4\u001B[0m fig \u001B[38;5;241m=\u001B[39m \u001B[43mpx\u001B[49m\u001B[38;5;241;43m.\u001B[39;49m\u001B[43mline_polar\u001B[49m\u001B[43m(\u001B[49m\u001B[43m \u001B[49m\u001B[43mr\u001B[49m\u001B[38;5;241;43m=\u001B[39;49m\u001B[43mspicies\u001B[49m\u001B[43m[\u001B[49m\u001B[38;5;241;43m0\u001B[39;49m\u001B[43m]\u001B[49m\u001B[43m \u001B[49m\u001B[43m,\u001B[49m\u001B[43m \u001B[49m\u001B[43mtheta\u001B[49m\u001B[38;5;241;43m=\u001B[39;49m\u001B[43m \u001B[49m\u001B[43mtheta\u001B[49m\u001B[43m,\u001B[49m\u001B[43m \u001B[49m\u001B[43mline_close\u001B[49m\u001B[38;5;241;43m=\u001B[39;49m\u001B[38;5;28;43;01mTrue\u001B[39;49;00m\u001B[43m)\u001B[49m\n\u001B[0;32m      5\u001B[0m fig\u001B[38;5;241m.\u001B[39mshow()\n",
      "File \u001B[1;32m~\\anaconda3\\envs\\data_science\\lib\\site-packages\\plotly\\express\\_chart_types.py:998\u001B[0m, in \u001B[0;36mline_polar\u001B[1;34m(data_frame, r, theta, color, line_dash, hover_name, hover_data, custom_data, line_group, text, symbol, animation_frame, animation_group, category_orders, labels, color_discrete_sequence, color_discrete_map, line_dash_sequence, line_dash_map, symbol_sequence, symbol_map, markers, direction, start_angle, line_close, line_shape, render_mode, range_r, range_theta, log_r, title, template, width, height)\u001B[0m\n\u001B[0;32m    958\u001B[0m \u001B[38;5;28;01mdef\u001B[39;00m \u001B[38;5;21mline_polar\u001B[39m(\n\u001B[0;32m    959\u001B[0m     data_frame\u001B[38;5;241m=\u001B[39m\u001B[38;5;28;01mNone\u001B[39;00m,\n\u001B[0;32m    960\u001B[0m     r\u001B[38;5;241m=\u001B[39m\u001B[38;5;28;01mNone\u001B[39;00m,\n\u001B[1;32m   (...)\u001B[0m\n\u001B[0;32m    992\u001B[0m     height\u001B[38;5;241m=\u001B[39m\u001B[38;5;28;01mNone\u001B[39;00m,\n\u001B[0;32m    993\u001B[0m ) \u001B[38;5;241m-\u001B[39m\u001B[38;5;241m>\u001B[39m go\u001B[38;5;241m.\u001B[39mFigure:\n\u001B[0;32m    994\u001B[0m     \u001B[38;5;124;03m\"\"\"\u001B[39;00m\n\u001B[0;32m    995\u001B[0m \u001B[38;5;124;03m    In a polar line plot, each row of `data_frame` is represented as vertex\u001B[39;00m\n\u001B[0;32m    996\u001B[0m \u001B[38;5;124;03m    of a polyline mark in polar coordinates.\u001B[39;00m\n\u001B[0;32m    997\u001B[0m \u001B[38;5;124;03m    \"\"\"\u001B[39;00m\n\u001B[1;32m--> 998\u001B[0m     \u001B[38;5;28;01mreturn\u001B[39;00m \u001B[43mmake_figure\u001B[49m\u001B[43m(\u001B[49m\u001B[43margs\u001B[49m\u001B[38;5;241;43m=\u001B[39;49m\u001B[38;5;28;43mlocals\u001B[39;49m\u001B[43m(\u001B[49m\u001B[43m)\u001B[49m\u001B[43m,\u001B[49m\u001B[43m \u001B[49m\u001B[43mconstructor\u001B[49m\u001B[38;5;241;43m=\u001B[39;49m\u001B[43mgo\u001B[49m\u001B[38;5;241;43m.\u001B[39;49m\u001B[43mScatterpolar\u001B[49m\u001B[43m)\u001B[49m\n",
      "File \u001B[1;32m~\\anaconda3\\envs\\data_science\\lib\\site-packages\\plotly\\express\\_core.py:1990\u001B[0m, in \u001B[0;36mmake_figure\u001B[1;34m(args, constructor, trace_patch, layout_patch)\u001B[0m\n\u001B[0;32m   1987\u001B[0m layout_patch \u001B[38;5;241m=\u001B[39m layout_patch \u001B[38;5;129;01mor\u001B[39;00m {}\n\u001B[0;32m   1988\u001B[0m apply_default_cascade(args)\n\u001B[1;32m-> 1990\u001B[0m args \u001B[38;5;241m=\u001B[39m \u001B[43mbuild_dataframe\u001B[49m\u001B[43m(\u001B[49m\u001B[43margs\u001B[49m\u001B[43m,\u001B[49m\u001B[43m \u001B[49m\u001B[43mconstructor\u001B[49m\u001B[43m)\u001B[49m\n\u001B[0;32m   1991\u001B[0m \u001B[38;5;28;01mif\u001B[39;00m constructor \u001B[38;5;129;01min\u001B[39;00m [go\u001B[38;5;241m.\u001B[39mTreemap, go\u001B[38;5;241m.\u001B[39mSunburst, go\u001B[38;5;241m.\u001B[39mIcicle] \u001B[38;5;129;01mand\u001B[39;00m args[\u001B[38;5;124m\"\u001B[39m\u001B[38;5;124mpath\u001B[39m\u001B[38;5;124m\"\u001B[39m] \u001B[38;5;129;01mis\u001B[39;00m \u001B[38;5;129;01mnot\u001B[39;00m \u001B[38;5;28;01mNone\u001B[39;00m:\n\u001B[0;32m   1992\u001B[0m     args \u001B[38;5;241m=\u001B[39m process_dataframe_hierarchy(args)\n",
      "File \u001B[1;32m~\\anaconda3\\envs\\data_science\\lib\\site-packages\\plotly\\express\\_core.py:1405\u001B[0m, in \u001B[0;36mbuild_dataframe\u001B[1;34m(args, constructor)\u001B[0m\n\u001B[0;32m   1402\u001B[0m     args[\u001B[38;5;124m\"\u001B[39m\u001B[38;5;124mcolor\u001B[39m\u001B[38;5;124m\"\u001B[39m] \u001B[38;5;241m=\u001B[39m \u001B[38;5;28;01mNone\u001B[39;00m\n\u001B[0;32m   1403\u001B[0m \u001B[38;5;66;03m# now that things have been prepped, we do the systematic rewriting of `args`\u001B[39;00m\n\u001B[1;32m-> 1405\u001B[0m df_output, wide_id_vars \u001B[38;5;241m=\u001B[39m \u001B[43mprocess_args_into_dataframe\u001B[49m\u001B[43m(\u001B[49m\n\u001B[0;32m   1406\u001B[0m \u001B[43m    \u001B[49m\u001B[43margs\u001B[49m\u001B[43m,\u001B[49m\u001B[43m \u001B[49m\u001B[43mwide_mode\u001B[49m\u001B[43m,\u001B[49m\u001B[43m \u001B[49m\u001B[43mvar_name\u001B[49m\u001B[43m,\u001B[49m\u001B[43m \u001B[49m\u001B[43mvalue_name\u001B[49m\n\u001B[0;32m   1407\u001B[0m \u001B[43m\u001B[49m\u001B[43m)\u001B[49m\n\u001B[0;32m   1409\u001B[0m \u001B[38;5;66;03m# now that `df_output` exists and `args` contains only references, we complete\u001B[39;00m\n\u001B[0;32m   1410\u001B[0m \u001B[38;5;66;03m# the special-case and wide-mode handling by further rewriting args and/or mutating\u001B[39;00m\n\u001B[0;32m   1411\u001B[0m \u001B[38;5;66;03m# df_output\u001B[39;00m\n\u001B[0;32m   1413\u001B[0m count_name \u001B[38;5;241m=\u001B[39m _escape_col_name(df_output, \u001B[38;5;124m\"\u001B[39m\u001B[38;5;124mcount\u001B[39m\u001B[38;5;124m\"\u001B[39m, [var_name, value_name])\n",
      "File \u001B[1;32m~\\anaconda3\\envs\\data_science\\lib\\site-packages\\plotly\\express\\_core.py:1245\u001B[0m, in \u001B[0;36mprocess_args_into_dataframe\u001B[1;34m(args, wide_mode, var_name, value_name)\u001B[0m\n\u001B[0;32m   1242\u001B[0m         col_name \u001B[38;5;241m=\u001B[39m _check_name_not_reserved(field, reserved_names)\n\u001B[0;32m   1244\u001B[0m     \u001B[38;5;28;01mif\u001B[39;00m length \u001B[38;5;129;01mand\u001B[39;00m \u001B[38;5;28mlen\u001B[39m(argument) \u001B[38;5;241m!=\u001B[39m length:\n\u001B[1;32m-> 1245\u001B[0m         \u001B[38;5;28;01mraise\u001B[39;00m \u001B[38;5;167;01mValueError\u001B[39;00m(\n\u001B[0;32m   1246\u001B[0m             \u001B[38;5;124m\"\u001B[39m\u001B[38;5;124mAll arguments should have the same length. \u001B[39m\u001B[38;5;124m\"\u001B[39m\n\u001B[0;32m   1247\u001B[0m             \u001B[38;5;124m\"\u001B[39m\u001B[38;5;124mThe length of argument `\u001B[39m\u001B[38;5;132;01m%s\u001B[39;00m\u001B[38;5;124m` is \u001B[39m\u001B[38;5;132;01m%d\u001B[39;00m\u001B[38;5;124m, whereas the \u001B[39m\u001B[38;5;124m\"\u001B[39m\n\u001B[0;32m   1248\u001B[0m             \u001B[38;5;124m\"\u001B[39m\u001B[38;5;124mlength of  previously-processed arguments \u001B[39m\u001B[38;5;132;01m%s\u001B[39;00m\u001B[38;5;124m is \u001B[39m\u001B[38;5;132;01m%d\u001B[39;00m\u001B[38;5;124m\"\u001B[39m\n\u001B[0;32m   1249\u001B[0m             \u001B[38;5;241m%\u001B[39m (field, \u001B[38;5;28mlen\u001B[39m(argument), \u001B[38;5;28mstr\u001B[39m(\u001B[38;5;28mlist\u001B[39m(df_output\u001B[38;5;241m.\u001B[39mcolumns)), length)\n\u001B[0;32m   1250\u001B[0m         )\n\u001B[0;32m   1251\u001B[0m     df_output[\u001B[38;5;28mstr\u001B[39m(col_name)] \u001B[38;5;241m=\u001B[39m to_unindexed_series(argument)\n\u001B[0;32m   1253\u001B[0m \u001B[38;5;66;03m# Finally, update argument with column name now that column exists\u001B[39;00m\n",
      "\u001B[1;31mValueError\u001B[0m: All arguments should have the same length. The length of argument `theta` is 36, whereas the length of  previously-processed arguments ['r'] is 7767"
     ]
    }
   ],
   "source": [
    "spicies = df.listed_in.str.split(',', 2, expand=True)\n",
    "theta = spicies[0].unique()"
   ],
   "metadata": {
    "collapsed": false,
    "pycharm": {
     "name": "#%%\n"
    }
   }
  },
  {
   "cell_type": "code",
   "execution_count": 98,
   "outputs": [
    {
     "data": {
      "text/plain": "     show_id     type                                    title  date_added  \\\n0         s1  TV Show                                       3%  14.08.2020   \n1         s2    Movie                                     7:19  23.12.2016   \n2         s3    Movie                                    23:59  20.12.2018   \n3         s4    Movie                                        9  16.11.2017   \n4         s5    Movie                                       21  01.01.2020   \n...      ...      ...                                      ...         ...   \n7762   s7783    Movie                                     Zozo  19.10.2020   \n7763   s7784    Movie                                   Zubaan  02.03.2019   \n7764   s7785    Movie                        Zulu Man in Japan  25.09.2020   \n7765   s7786  TV Show                    Zumbo's Just Desserts  31.10.2020   \n7766   s7787    Movie  ZZ TOP: THAT LITTLE OL' BAND FROM TEXAS  01.03.2020   \n\n      release_year   duration  \\\n0             2020  4 Seasons   \n1             2016     93 min   \n2             2011     78 min   \n3             2009     80 min   \n4             2008    123 min   \n...            ...        ...   \n7762          2005     99 min   \n7763          2015    111 min   \n7764          2019     44 min   \n7765          2019   1 Season   \n7766          2019     90 min   \n\n                                              listed_in  \\\n0     International TV Shows, TV Dramas, TV Sci-Fi &...   \n1                          Dramas, International Movies   \n2                   Horror Movies, International Movies   \n3     Action & Adventure, Independent Movies, Sci-Fi...   \n4                                                Dramas   \n...                                                 ...   \n7762                       Dramas, International Movies   \n7763     Dramas, International Movies, Music & Musicals   \n7764  Documentaries, International Movies, Music & M...   \n7765                 International TV Shows, Reality TV   \n7766                    Documentaries, Music & Musicals   \n\n                       genre  \n0     International TV Shows  \n1                     Dramas  \n2              Horror Movies  \n3         Action & Adventure  \n4                     Dramas  \n...                      ...  \n7762                  Dramas  \n7763                  Dramas  \n7764           Documentaries  \n7765  International TV Shows  \n7766           Documentaries  \n\n[7767 rows x 8 columns]",
      "text/html": "<div>\n<style scoped>\n    .dataframe tbody tr th:only-of-type {\n        vertical-align: middle;\n    }\n\n    .dataframe tbody tr th {\n        vertical-align: top;\n    }\n\n    .dataframe thead th {\n        text-align: right;\n    }\n</style>\n<table border=\"1\" class=\"dataframe\">\n  <thead>\n    <tr style=\"text-align: right;\">\n      <th></th>\n      <th>show_id</th>\n      <th>type</th>\n      <th>title</th>\n      <th>date_added</th>\n      <th>release_year</th>\n      <th>duration</th>\n      <th>listed_in</th>\n      <th>genre</th>\n    </tr>\n  </thead>\n  <tbody>\n    <tr>\n      <th>0</th>\n      <td>s1</td>\n      <td>TV Show</td>\n      <td>3%</td>\n      <td>14.08.2020</td>\n      <td>2020</td>\n      <td>4 Seasons</td>\n      <td>International TV Shows, TV Dramas, TV Sci-Fi &amp;...</td>\n      <td>International TV Shows</td>\n    </tr>\n    <tr>\n      <th>1</th>\n      <td>s2</td>\n      <td>Movie</td>\n      <td>7:19</td>\n      <td>23.12.2016</td>\n      <td>2016</td>\n      <td>93 min</td>\n      <td>Dramas, International Movies</td>\n      <td>Dramas</td>\n    </tr>\n    <tr>\n      <th>2</th>\n      <td>s3</td>\n      <td>Movie</td>\n      <td>23:59</td>\n      <td>20.12.2018</td>\n      <td>2011</td>\n      <td>78 min</td>\n      <td>Horror Movies, International Movies</td>\n      <td>Horror Movies</td>\n    </tr>\n    <tr>\n      <th>3</th>\n      <td>s4</td>\n      <td>Movie</td>\n      <td>9</td>\n      <td>16.11.2017</td>\n      <td>2009</td>\n      <td>80 min</td>\n      <td>Action &amp; Adventure, Independent Movies, Sci-Fi...</td>\n      <td>Action &amp; Adventure</td>\n    </tr>\n    <tr>\n      <th>4</th>\n      <td>s5</td>\n      <td>Movie</td>\n      <td>21</td>\n      <td>01.01.2020</td>\n      <td>2008</td>\n      <td>123 min</td>\n      <td>Dramas</td>\n      <td>Dramas</td>\n    </tr>\n    <tr>\n      <th>...</th>\n      <td>...</td>\n      <td>...</td>\n      <td>...</td>\n      <td>...</td>\n      <td>...</td>\n      <td>...</td>\n      <td>...</td>\n      <td>...</td>\n    </tr>\n    <tr>\n      <th>7762</th>\n      <td>s7783</td>\n      <td>Movie</td>\n      <td>Zozo</td>\n      <td>19.10.2020</td>\n      <td>2005</td>\n      <td>99 min</td>\n      <td>Dramas, International Movies</td>\n      <td>Dramas</td>\n    </tr>\n    <tr>\n      <th>7763</th>\n      <td>s7784</td>\n      <td>Movie</td>\n      <td>Zubaan</td>\n      <td>02.03.2019</td>\n      <td>2015</td>\n      <td>111 min</td>\n      <td>Dramas, International Movies, Music &amp; Musicals</td>\n      <td>Dramas</td>\n    </tr>\n    <tr>\n      <th>7764</th>\n      <td>s7785</td>\n      <td>Movie</td>\n      <td>Zulu Man in Japan</td>\n      <td>25.09.2020</td>\n      <td>2019</td>\n      <td>44 min</td>\n      <td>Documentaries, International Movies, Music &amp; M...</td>\n      <td>Documentaries</td>\n    </tr>\n    <tr>\n      <th>7765</th>\n      <td>s7786</td>\n      <td>TV Show</td>\n      <td>Zumbo's Just Desserts</td>\n      <td>31.10.2020</td>\n      <td>2019</td>\n      <td>1 Season</td>\n      <td>International TV Shows, Reality TV</td>\n      <td>International TV Shows</td>\n    </tr>\n    <tr>\n      <th>7766</th>\n      <td>s7787</td>\n      <td>Movie</td>\n      <td>ZZ TOP: THAT LITTLE OL' BAND FROM TEXAS</td>\n      <td>01.03.2020</td>\n      <td>2019</td>\n      <td>90 min</td>\n      <td>Documentaries, Music &amp; Musicals</td>\n      <td>Documentaries</td>\n    </tr>\n  </tbody>\n</table>\n<p>7767 rows × 8 columns</p>\n</div>"
     },
     "execution_count": 98,
     "metadata": {},
     "output_type": "execute_result"
    }
   ],
   "source": [
    "df = df.assign(genre=spicies[0])\n",
    "fig = px.bar(df, x='', y=\"count\", color=\"nation\", text_auto=True)"
   ],
   "metadata": {
    "collapsed": false,
    "pycharm": {
     "name": "#%%\n"
    }
   }
  },
  {
   "cell_type": "code",
   "execution_count": null,
   "outputs": [],
   "source": [],
   "metadata": {
    "collapsed": false,
    "pycharm": {
     "name": "#%%\n"
    }
   }
  }
 ],
 "metadata": {
  "kernelspec": {
   "display_name": "Python 3",
   "language": "python",
   "name": "python3"
  },
  "language_info": {
   "codemirror_mode": {
    "name": "ipython",
    "version": 3
   },
   "file_extension": ".py",
   "mimetype": "text/x-python",
   "name": "python",
   "nbconvert_exporter": "python",
   "pygments_lexer": "ipython3",
   "version": "3.7.7"
  }
 },
 "nbformat": 4,
 "nbformat_minor": 5
}