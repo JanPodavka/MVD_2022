{
 "cells": [
  {
   "cell_type": "markdown",
   "metadata": {},
   "source": [
    "# MVD 7. cvičení\n",
    "\n",
    "## 1. část - Vytvoření dat\n",
    "\n",
    "V dnešním cvičení je před implementací shlukování potřeba vygenerovat vlastní data. Cílem je vytvořit několik datasetů dle předlohy a vizualizovat je. Postačí dosažení podobného pozice a rozložení bodů."
   ]
  },
  {
   "cell_type": "markdown",
   "metadata": {},
   "source": [
    "### 1. dataset - 2 třídy, 100 datových bodů\n",
    "Použijte funkci ```make_blobs``` [odkaz na dokumentaci](https://scikit-learn.org/stable/modules/generated/sklearn.datasets.make_blobs.html).\n",
    "\n",
    "![dataset1](expected_outputs/dataset1.png)\n",
    "\n",
    "Připravený dataset pro další úlohu (k-means) může vypadat například takto:\n",
    "![prepared](expected_outputs/prepared_dataset.png)"
   ],
   "outputs": []
  },
  {
   "cell_type": "code",
   "execution_count": 187,
   "outputs": [],
   "source": [
    "from sklearn.datasets import make_blobs, make_moons, make_circles\n",
    "import plotly.express as px\n",
    "import plotly.graph_objects as go\n",
    "\n",
    "import pandas as pd"
   ],
   "metadata": {
    "collapsed": false
   }
  },
  {
   "cell_type": "code",
   "execution_count": 68,
   "outputs": [
    {
     "data": {
      "application/vnd.plotly.v1+json": {
       "data": [
        {
         "hovertemplate": "color=osoba 0<br>x=%{x}<br>y=%{y}<extra></extra>",
         "legendgroup": "osoba 0",
         "marker": {
          "color": "#636efa",
          "symbol": "circle"
         },
         "mode": "markers",
         "name": "osoba 0",
         "orientation": "v",
         "showlegend": true,
         "x": [
          -0.7044797617886656,
          -3.1770711362649395,
          -2.1092791571003198,
          -2.3831396192925074,
          -3.7862548608489917,
          -1.4666740048093685,
          -1.568156381377785,
          -1.2188269313718139,
          -0.7047371169401411,
          -2.6091295613132406,
          -2.6300924658420386,
          -3.580117143242111,
          -1.8528034406255283,
          -2.546661021340573,
          -3.085896313417147,
          -3.0874096016355326,
          -2.4344600901785856,
          -2.261049234119771,
          -2.6347125141395344,
          -0.6713646585672819,
          -3.479759485424239,
          -3.887246281604825,
          -3.4938275643375203,
          -2.5833408658652015,
          -2.6818259310356574,
          -0.840604959863924,
          -1.5991454703612469,
          -3.4182112086221403,
          -1.7260321936139889,
          -2.261616350213209,
          -2.6587523431065443,
          -3.397587550425559,
          -3.4881537538038616,
          -2.4726054390257146,
          -3.7731171460248447,
          -2.338517436505799,
          -2.084313287513802,
          -2.6342520772182447,
          -3.6741093589446034,
          -4.421504671351837,
          -1.728963293557284,
          -3.1089246709719904,
          -1.2680657945765121,
          -3.9643085397375857,
          -2.3057072932878766,
          -2.6375847327914985,
          -3.5003007218796087,
          -2.0581243527661996,
          -3.202333303110994,
          -1.102587453598545
         ],
         "xaxis": "x",
         "y": [
          -0.6612597649791506,
          -1.6056063785793797,
          -0.36437278490672104,
          -2.09870243942246,
          -1.9515329014525076,
          -1.0453480604757945,
          -0.15196540510588274,
          -1.9988811436801288,
          -1.7600067737002534,
          -0.28426899663309424,
          -0.9646809139759026,
          -0.27791450251746397,
          -0.1801883698500809,
          -0.8172963731161321,
          -2.317895880666544,
          -0.5047640828779738,
          0.9935577532674866,
          -0.3612471036699402,
          -1.6335644284016646,
          -1.6792424990338701,
          0.9379954183305486,
          0.06356357214469521,
          -0.6115182157772722,
          -2.109433740938468,
          -1.0774953546713861,
          -0.7240662088471992,
          -2.2644461948533747,
          -2.077035391890967,
          0.7409937453351283,
          -0.35547316483430286,
          -1.4344939937418135,
          1.8620953166425478,
          -2.5634209817989655,
          -1.104633061850615,
          0.5957851177680114,
          0.1205333541809005,
          -0.45233454913324433,
          -0.7813137596211855,
          -0.5261283775098557,
          -2.8221497328899257,
          0.8583862348435141,
          0.4112937147567439,
          -1.718696768060464,
          -2.4892883847687575,
          -0.2756626731970354,
          -1.174202326236556,
          -0.1204786743140015,
          -0.3250546913821276,
          0.04308446257357934,
          -0.6136893339029283
         ],
         "yaxis": "y",
         "type": "scatter"
        },
        {
         "hovertemplate": "color=osoba 1<br>x=%{x}<br>y=%{y}<extra></extra>",
         "legendgroup": "osoba 1",
         "marker": {
          "color": "#EF553B",
          "symbol": "circle"
         },
         "mode": "markers",
         "name": "osoba 1",
         "orientation": "v",
         "showlegend": true,
         "x": [
          6.241530920299751,
          7.931297488718007,
          6.983813151900489,
          7.148083640061025,
          6.795017742130688,
          6.85957044655227,
          6.9684167899559935,
          6.890252335284898,
          5.780356845237643,
          5.327944676550656,
          6.6998575512044,
          6.595150013074487,
          6.978569133273303,
          6.385438691749251,
          7.506746105909352,
          5.845187802930985,
          6.2026789625300065,
          7.182805144917547,
          6.431405929839887,
          8.03642331644155,
          7.363556986522446,
          6.015966838836066,
          7.560168781244937,
          6.2746035691843325,
          9.46947989037055,
          4.924638335860342,
          6.698933840424503,
          5.583258612396862,
          5.811497687255885,
          7.739880832845986,
          6.994516642853929,
          5.241487606491397,
          4.774805534066465,
          6.7265075541747565,
          7.15905730311816,
          6.610903202557758,
          6.502762989642954,
          6.25435863752298,
          6.954008545979155,
          7.31296748121234,
          7.137084724036334,
          6.903914540292803,
          6.2916262130379295,
          7.534614205479954,
          6.7113257496006336,
          7.000467740414114,
          7.093796124544649,
          7.158177889541425,
          6.072282295718949,
          5.0202337225367994
         ],
         "xaxis": "x",
         "y": [
          3.3206930211701557,
          5.22611756161726,
          4.138427437017307,
          2.5314193871523254,
          4.603884502237637,
          4.609016390345835,
          3.2711228749726278,
          5.081644588033245,
          4.53021062391388,
          4.556515401223174,
          3.854304293231712,
          5.493055784906878,
          5.249531066508565,
          4.659322201319758,
          4.826861520710609,
          3.55914836618718,
          4.063780653746972,
          6.363353440029117,
          4.988196576490101,
          3.6985724111116043,
          2.092294954730056,
          4.786862592926647,
          3.0380094349733104,
          3.8155083907682736,
          5.478329994414384,
          4.21610211652496,
          3.6220957755315766,
          3.2927727809430767,
          2.794373515391295,
          3.6487354821321794,
          4.178518998876845,
          4.858338753304567,
          4.911486983588708,
          5.2543693300407295,
          5.48979084003557,
          4.7505766437948544,
          3.6549790910672373,
          6.053221195714623,
          4.934315895870344,
          3.7306890831715127,
          3.699206778109795,
          3.281045236150641,
          5.434410927157834,
          4.8181635301986825,
          4.740216205898488,
          2.5029143222646377,
          4.34946712702342,
          3.5896703676422477,
          3.7507025965447127,
          4.360968727978466
         ],
         "yaxis": "y",
         "type": "scatter"
        }
       ],
       "layout": {
        "template": {
         "data": {
          "histogram2dcontour": [
           {
            "type": "histogram2dcontour",
            "colorbar": {
             "outlinewidth": 0,
             "ticks": ""
            },
            "colorscale": [
             [
              0.0,
              "#0d0887"
             ],
             [
              0.1111111111111111,
              "#46039f"
             ],
             [
              0.2222222222222222,
              "#7201a8"
             ],
             [
              0.3333333333333333,
              "#9c179e"
             ],
             [
              0.4444444444444444,
              "#bd3786"
             ],
             [
              0.5555555555555556,
              "#d8576b"
             ],
             [
              0.6666666666666666,
              "#ed7953"
             ],
             [
              0.7777777777777778,
              "#fb9f3a"
             ],
             [
              0.8888888888888888,
              "#fdca26"
             ],
             [
              1.0,
              "#f0f921"
             ]
            ]
           }
          ],
          "choropleth": [
           {
            "type": "choropleth",
            "colorbar": {
             "outlinewidth": 0,
             "ticks": ""
            }
           }
          ],
          "histogram2d": [
           {
            "type": "histogram2d",
            "colorbar": {
             "outlinewidth": 0,
             "ticks": ""
            },
            "colorscale": [
             [
              0.0,
              "#0d0887"
             ],
             [
              0.1111111111111111,
              "#46039f"
             ],
             [
              0.2222222222222222,
              "#7201a8"
             ],
             [
              0.3333333333333333,
              "#9c179e"
             ],
             [
              0.4444444444444444,
              "#bd3786"
             ],
             [
              0.5555555555555556,
              "#d8576b"
             ],
             [
              0.6666666666666666,
              "#ed7953"
             ],
             [
              0.7777777777777778,
              "#fb9f3a"
             ],
             [
              0.8888888888888888,
              "#fdca26"
             ],
             [
              1.0,
              "#f0f921"
             ]
            ]
           }
          ],
          "heatmap": [
           {
            "type": "heatmap",
            "colorbar": {
             "outlinewidth": 0,
             "ticks": ""
            },
            "colorscale": [
             [
              0.0,
              "#0d0887"
             ],
             [
              0.1111111111111111,
              "#46039f"
             ],
             [
              0.2222222222222222,
              "#7201a8"
             ],
             [
              0.3333333333333333,
              "#9c179e"
             ],
             [
              0.4444444444444444,
              "#bd3786"
             ],
             [
              0.5555555555555556,
              "#d8576b"
             ],
             [
              0.6666666666666666,
              "#ed7953"
             ],
             [
              0.7777777777777778,
              "#fb9f3a"
             ],
             [
              0.8888888888888888,
              "#fdca26"
             ],
             [
              1.0,
              "#f0f921"
             ]
            ]
           }
          ],
          "heatmapgl": [
           {
            "type": "heatmapgl",
            "colorbar": {
             "outlinewidth": 0,
             "ticks": ""
            },
            "colorscale": [
             [
              0.0,
              "#0d0887"
             ],
             [
              0.1111111111111111,
              "#46039f"
             ],
             [
              0.2222222222222222,
              "#7201a8"
             ],
             [
              0.3333333333333333,
              "#9c179e"
             ],
             [
              0.4444444444444444,
              "#bd3786"
             ],
             [
              0.5555555555555556,
              "#d8576b"
             ],
             [
              0.6666666666666666,
              "#ed7953"
             ],
             [
              0.7777777777777778,
              "#fb9f3a"
             ],
             [
              0.8888888888888888,
              "#fdca26"
             ],
             [
              1.0,
              "#f0f921"
             ]
            ]
           }
          ],
          "contourcarpet": [
           {
            "type": "contourcarpet",
            "colorbar": {
             "outlinewidth": 0,
             "ticks": ""
            }
           }
          ],
          "contour": [
           {
            "type": "contour",
            "colorbar": {
             "outlinewidth": 0,
             "ticks": ""
            },
            "colorscale": [
             [
              0.0,
              "#0d0887"
             ],
             [
              0.1111111111111111,
              "#46039f"
             ],
             [
              0.2222222222222222,
              "#7201a8"
             ],
             [
              0.3333333333333333,
              "#9c179e"
             ],
             [
              0.4444444444444444,
              "#bd3786"
             ],
             [
              0.5555555555555556,
              "#d8576b"
             ],
             [
              0.6666666666666666,
              "#ed7953"
             ],
             [
              0.7777777777777778,
              "#fb9f3a"
             ],
             [
              0.8888888888888888,
              "#fdca26"
             ],
             [
              1.0,
              "#f0f921"
             ]
            ]
           }
          ],
          "surface": [
           {
            "type": "surface",
            "colorbar": {
             "outlinewidth": 0,
             "ticks": ""
            },
            "colorscale": [
             [
              0.0,
              "#0d0887"
             ],
             [
              0.1111111111111111,
              "#46039f"
             ],
             [
              0.2222222222222222,
              "#7201a8"
             ],
             [
              0.3333333333333333,
              "#9c179e"
             ],
             [
              0.4444444444444444,
              "#bd3786"
             ],
             [
              0.5555555555555556,
              "#d8576b"
             ],
             [
              0.6666666666666666,
              "#ed7953"
             ],
             [
              0.7777777777777778,
              "#fb9f3a"
             ],
             [
              0.8888888888888888,
              "#fdca26"
             ],
             [
              1.0,
              "#f0f921"
             ]
            ]
           }
          ],
          "mesh3d": [
           {
            "type": "mesh3d",
            "colorbar": {
             "outlinewidth": 0,
             "ticks": ""
            }
           }
          ],
          "scatter": [
           {
            "fillpattern": {
             "fillmode": "overlay",
             "size": 10,
             "solidity": 0.2
            },
            "type": "scatter"
           }
          ],
          "parcoords": [
           {
            "type": "parcoords",
            "line": {
             "colorbar": {
              "outlinewidth": 0,
              "ticks": ""
             }
            }
           }
          ],
          "scatterpolargl": [
           {
            "type": "scatterpolargl",
            "marker": {
             "colorbar": {
              "outlinewidth": 0,
              "ticks": ""
             }
            }
           }
          ],
          "bar": [
           {
            "error_x": {
             "color": "#2a3f5f"
            },
            "error_y": {
             "color": "#2a3f5f"
            },
            "marker": {
             "line": {
              "color": "#E5ECF6",
              "width": 0.5
             },
             "pattern": {
              "fillmode": "overlay",
              "size": 10,
              "solidity": 0.2
             }
            },
            "type": "bar"
           }
          ],
          "scattergeo": [
           {
            "type": "scattergeo",
            "marker": {
             "colorbar": {
              "outlinewidth": 0,
              "ticks": ""
             }
            }
           }
          ],
          "scatterpolar": [
           {
            "type": "scatterpolar",
            "marker": {
             "colorbar": {
              "outlinewidth": 0,
              "ticks": ""
             }
            }
           }
          ],
          "histogram": [
           {
            "marker": {
             "pattern": {
              "fillmode": "overlay",
              "size": 10,
              "solidity": 0.2
             }
            },
            "type": "histogram"
           }
          ],
          "scattergl": [
           {
            "type": "scattergl",
            "marker": {
             "colorbar": {
              "outlinewidth": 0,
              "ticks": ""
             }
            }
           }
          ],
          "scatter3d": [
           {
            "type": "scatter3d",
            "line": {
             "colorbar": {
              "outlinewidth": 0,
              "ticks": ""
             }
            },
            "marker": {
             "colorbar": {
              "outlinewidth": 0,
              "ticks": ""
             }
            }
           }
          ],
          "scattermapbox": [
           {
            "type": "scattermapbox",
            "marker": {
             "colorbar": {
              "outlinewidth": 0,
              "ticks": ""
             }
            }
           }
          ],
          "scatterternary": [
           {
            "type": "scatterternary",
            "marker": {
             "colorbar": {
              "outlinewidth": 0,
              "ticks": ""
             }
            }
           }
          ],
          "scattercarpet": [
           {
            "type": "scattercarpet",
            "marker": {
             "colorbar": {
              "outlinewidth": 0,
              "ticks": ""
             }
            }
           }
          ],
          "carpet": [
           {
            "aaxis": {
             "endlinecolor": "#2a3f5f",
             "gridcolor": "white",
             "linecolor": "white",
             "minorgridcolor": "white",
             "startlinecolor": "#2a3f5f"
            },
            "baxis": {
             "endlinecolor": "#2a3f5f",
             "gridcolor": "white",
             "linecolor": "white",
             "minorgridcolor": "white",
             "startlinecolor": "#2a3f5f"
            },
            "type": "carpet"
           }
          ],
          "table": [
           {
            "cells": {
             "fill": {
              "color": "#EBF0F8"
             },
             "line": {
              "color": "white"
             }
            },
            "header": {
             "fill": {
              "color": "#C8D4E3"
             },
             "line": {
              "color": "white"
             }
            },
            "type": "table"
           }
          ],
          "barpolar": [
           {
            "marker": {
             "line": {
              "color": "#E5ECF6",
              "width": 0.5
             },
             "pattern": {
              "fillmode": "overlay",
              "size": 10,
              "solidity": 0.2
             }
            },
            "type": "barpolar"
           }
          ],
          "pie": [
           {
            "automargin": true,
            "type": "pie"
           }
          ]
         },
         "layout": {
          "autotypenumbers": "strict",
          "colorway": [
           "#636efa",
           "#EF553B",
           "#00cc96",
           "#ab63fa",
           "#FFA15A",
           "#19d3f3",
           "#FF6692",
           "#B6E880",
           "#FF97FF",
           "#FECB52"
          ],
          "font": {
           "color": "#2a3f5f"
          },
          "hovermode": "closest",
          "hoverlabel": {
           "align": "left"
          },
          "paper_bgcolor": "white",
          "plot_bgcolor": "#E5ECF6",
          "polar": {
           "bgcolor": "#E5ECF6",
           "angularaxis": {
            "gridcolor": "white",
            "linecolor": "white",
            "ticks": ""
           },
           "radialaxis": {
            "gridcolor": "white",
            "linecolor": "white",
            "ticks": ""
           }
          },
          "ternary": {
           "bgcolor": "#E5ECF6",
           "aaxis": {
            "gridcolor": "white",
            "linecolor": "white",
            "ticks": ""
           },
           "baxis": {
            "gridcolor": "white",
            "linecolor": "white",
            "ticks": ""
           },
           "caxis": {
            "gridcolor": "white",
            "linecolor": "white",
            "ticks": ""
           }
          },
          "coloraxis": {
           "colorbar": {
            "outlinewidth": 0,
            "ticks": ""
           }
          },
          "colorscale": {
           "sequential": [
            [
             0.0,
             "#0d0887"
            ],
            [
             0.1111111111111111,
             "#46039f"
            ],
            [
             0.2222222222222222,
             "#7201a8"
            ],
            [
             0.3333333333333333,
             "#9c179e"
            ],
            [
             0.4444444444444444,
             "#bd3786"
            ],
            [
             0.5555555555555556,
             "#d8576b"
            ],
            [
             0.6666666666666666,
             "#ed7953"
            ],
            [
             0.7777777777777778,
             "#fb9f3a"
            ],
            [
             0.8888888888888888,
             "#fdca26"
            ],
            [
             1.0,
             "#f0f921"
            ]
           ],
           "sequentialminus": [
            [
             0.0,
             "#0d0887"
            ],
            [
             0.1111111111111111,
             "#46039f"
            ],
            [
             0.2222222222222222,
             "#7201a8"
            ],
            [
             0.3333333333333333,
             "#9c179e"
            ],
            [
             0.4444444444444444,
             "#bd3786"
            ],
            [
             0.5555555555555556,
             "#d8576b"
            ],
            [
             0.6666666666666666,
             "#ed7953"
            ],
            [
             0.7777777777777778,
             "#fb9f3a"
            ],
            [
             0.8888888888888888,
             "#fdca26"
            ],
            [
             1.0,
             "#f0f921"
            ]
           ],
           "diverging": [
            [
             0,
             "#8e0152"
            ],
            [
             0.1,
             "#c51b7d"
            ],
            [
             0.2,
             "#de77ae"
            ],
            [
             0.3,
             "#f1b6da"
            ],
            [
             0.4,
             "#fde0ef"
            ],
            [
             0.5,
             "#f7f7f7"
            ],
            [
             0.6,
             "#e6f5d0"
            ],
            [
             0.7,
             "#b8e186"
            ],
            [
             0.8,
             "#7fbc41"
            ],
            [
             0.9,
             "#4d9221"
            ],
            [
             1,
             "#276419"
            ]
           ]
          },
          "xaxis": {
           "gridcolor": "white",
           "linecolor": "white",
           "ticks": "",
           "title": {
            "standoff": 15
           },
           "zerolinecolor": "white",
           "automargin": true,
           "zerolinewidth": 2
          },
          "yaxis": {
           "gridcolor": "white",
           "linecolor": "white",
           "ticks": "",
           "title": {
            "standoff": 15
           },
           "zerolinecolor": "white",
           "automargin": true,
           "zerolinewidth": 2
          },
          "scene": {
           "xaxis": {
            "backgroundcolor": "#E5ECF6",
            "gridcolor": "white",
            "linecolor": "white",
            "showbackground": true,
            "ticks": "",
            "zerolinecolor": "white",
            "gridwidth": 2
           },
           "yaxis": {
            "backgroundcolor": "#E5ECF6",
            "gridcolor": "white",
            "linecolor": "white",
            "showbackground": true,
            "ticks": "",
            "zerolinecolor": "white",
            "gridwidth": 2
           },
           "zaxis": {
            "backgroundcolor": "#E5ECF6",
            "gridcolor": "white",
            "linecolor": "white",
            "showbackground": true,
            "ticks": "",
            "zerolinecolor": "white",
            "gridwidth": 2
           }
          },
          "shapedefaults": {
           "line": {
            "color": "#2a3f5f"
           }
          },
          "annotationdefaults": {
           "arrowcolor": "#2a3f5f",
           "arrowhead": 0,
           "arrowwidth": 1
          },
          "geo": {
           "bgcolor": "white",
           "landcolor": "#E5ECF6",
           "subunitcolor": "white",
           "showland": true,
           "showlakes": true,
           "lakecolor": "white"
          },
          "title": {
           "x": 0.05
          },
          "mapbox": {
           "style": "light"
          }
         }
        },
        "xaxis": {
         "anchor": "y",
         "domain": [
          0.0,
          1.0
         ],
         "title": {
          "text": "x"
         }
        },
        "yaxis": {
         "anchor": "x",
         "domain": [
          0.0,
          1.0
         ],
         "title": {
          "text": "y"
         }
        },
        "legend": {
         "title": {
          "text": "color"
         },
         "tracegroupgap": 0
        },
        "margin": {
         "t": 60
        }
       },
       "config": {
        "plotlyServerURL": "https://plot.ly"
       }
      },
      "text/html": "<div>                            <div id=\"d79f003e-1266-4bf9-b750-83874fe50da7\" class=\"plotly-graph-div\" style=\"height:525px; width:100%;\"></div>            <script type=\"text/javascript\">                require([\"plotly\"], function(Plotly) {                    window.PLOTLYENV=window.PLOTLYENV || {};                                    if (document.getElementById(\"d79f003e-1266-4bf9-b750-83874fe50da7\")) {                    Plotly.newPlot(                        \"d79f003e-1266-4bf9-b750-83874fe50da7\",                        [{\"hovertemplate\":\"color=osoba 0<br>x=%{x}<br>y=%{y}<extra></extra>\",\"legendgroup\":\"osoba 0\",\"marker\":{\"color\":\"#636efa\",\"symbol\":\"circle\"},\"mode\":\"markers\",\"name\":\"osoba 0\",\"orientation\":\"v\",\"showlegend\":true,\"x\":[-0.7044797617886656,-3.1770711362649395,-2.1092791571003198,-2.3831396192925074,-3.7862548608489917,-1.4666740048093685,-1.568156381377785,-1.2188269313718139,-0.7047371169401411,-2.6091295613132406,-2.6300924658420386,-3.580117143242111,-1.8528034406255283,-2.546661021340573,-3.085896313417147,-3.0874096016355326,-2.4344600901785856,-2.261049234119771,-2.6347125141395344,-0.6713646585672819,-3.479759485424239,-3.887246281604825,-3.4938275643375203,-2.5833408658652015,-2.6818259310356574,-0.840604959863924,-1.5991454703612469,-3.4182112086221403,-1.7260321936139889,-2.261616350213209,-2.6587523431065443,-3.397587550425559,-3.4881537538038616,-2.4726054390257146,-3.7731171460248447,-2.338517436505799,-2.084313287513802,-2.6342520772182447,-3.6741093589446034,-4.421504671351837,-1.728963293557284,-3.1089246709719904,-1.2680657945765121,-3.9643085397375857,-2.3057072932878766,-2.6375847327914985,-3.5003007218796087,-2.0581243527661996,-3.202333303110994,-1.102587453598545],\"xaxis\":\"x\",\"y\":[-0.6612597649791506,-1.6056063785793797,-0.36437278490672104,-2.09870243942246,-1.9515329014525076,-1.0453480604757945,-0.15196540510588274,-1.9988811436801288,-1.7600067737002534,-0.28426899663309424,-0.9646809139759026,-0.27791450251746397,-0.1801883698500809,-0.8172963731161321,-2.317895880666544,-0.5047640828779738,0.9935577532674866,-0.3612471036699402,-1.6335644284016646,-1.6792424990338701,0.9379954183305486,0.06356357214469521,-0.6115182157772722,-2.109433740938468,-1.0774953546713861,-0.7240662088471992,-2.2644461948533747,-2.077035391890967,0.7409937453351283,-0.35547316483430286,-1.4344939937418135,1.8620953166425478,-2.5634209817989655,-1.104633061850615,0.5957851177680114,0.1205333541809005,-0.45233454913324433,-0.7813137596211855,-0.5261283775098557,-2.8221497328899257,0.8583862348435141,0.4112937147567439,-1.718696768060464,-2.4892883847687575,-0.2756626731970354,-1.174202326236556,-0.1204786743140015,-0.3250546913821276,0.04308446257357934,-0.6136893339029283],\"yaxis\":\"y\",\"type\":\"scatter\"},{\"hovertemplate\":\"color=osoba 1<br>x=%{x}<br>y=%{y}<extra></extra>\",\"legendgroup\":\"osoba 1\",\"marker\":{\"color\":\"#EF553B\",\"symbol\":\"circle\"},\"mode\":\"markers\",\"name\":\"osoba 1\",\"orientation\":\"v\",\"showlegend\":true,\"x\":[6.241530920299751,7.931297488718007,6.983813151900489,7.148083640061025,6.795017742130688,6.85957044655227,6.9684167899559935,6.890252335284898,5.780356845237643,5.327944676550656,6.6998575512044,6.595150013074487,6.978569133273303,6.385438691749251,7.506746105909352,5.845187802930985,6.2026789625300065,7.182805144917547,6.431405929839887,8.03642331644155,7.363556986522446,6.015966838836066,7.560168781244937,6.2746035691843325,9.46947989037055,4.924638335860342,6.698933840424503,5.583258612396862,5.811497687255885,7.739880832845986,6.994516642853929,5.241487606491397,4.774805534066465,6.7265075541747565,7.15905730311816,6.610903202557758,6.502762989642954,6.25435863752298,6.954008545979155,7.31296748121234,7.137084724036334,6.903914540292803,6.2916262130379295,7.534614205479954,6.7113257496006336,7.000467740414114,7.093796124544649,7.158177889541425,6.072282295718949,5.0202337225367994],\"xaxis\":\"x\",\"y\":[3.3206930211701557,5.22611756161726,4.138427437017307,2.5314193871523254,4.603884502237637,4.609016390345835,3.2711228749726278,5.081644588033245,4.53021062391388,4.556515401223174,3.854304293231712,5.493055784906878,5.249531066508565,4.659322201319758,4.826861520710609,3.55914836618718,4.063780653746972,6.363353440029117,4.988196576490101,3.6985724111116043,2.092294954730056,4.786862592926647,3.0380094349733104,3.8155083907682736,5.478329994414384,4.21610211652496,3.6220957755315766,3.2927727809430767,2.794373515391295,3.6487354821321794,4.178518998876845,4.858338753304567,4.911486983588708,5.2543693300407295,5.48979084003557,4.7505766437948544,3.6549790910672373,6.053221195714623,4.934315895870344,3.7306890831715127,3.699206778109795,3.281045236150641,5.434410927157834,4.8181635301986825,4.740216205898488,2.5029143222646377,4.34946712702342,3.5896703676422477,3.7507025965447127,4.360968727978466],\"yaxis\":\"y\",\"type\":\"scatter\"}],                        {\"template\":{\"data\":{\"histogram2dcontour\":[{\"type\":\"histogram2dcontour\",\"colorbar\":{\"outlinewidth\":0,\"ticks\":\"\"},\"colorscale\":[[0.0,\"#0d0887\"],[0.1111111111111111,\"#46039f\"],[0.2222222222222222,\"#7201a8\"],[0.3333333333333333,\"#9c179e\"],[0.4444444444444444,\"#bd3786\"],[0.5555555555555556,\"#d8576b\"],[0.6666666666666666,\"#ed7953\"],[0.7777777777777778,\"#fb9f3a\"],[0.8888888888888888,\"#fdca26\"],[1.0,\"#f0f921\"]]}],\"choropleth\":[{\"type\":\"choropleth\",\"colorbar\":{\"outlinewidth\":0,\"ticks\":\"\"}}],\"histogram2d\":[{\"type\":\"histogram2d\",\"colorbar\":{\"outlinewidth\":0,\"ticks\":\"\"},\"colorscale\":[[0.0,\"#0d0887\"],[0.1111111111111111,\"#46039f\"],[0.2222222222222222,\"#7201a8\"],[0.3333333333333333,\"#9c179e\"],[0.4444444444444444,\"#bd3786\"],[0.5555555555555556,\"#d8576b\"],[0.6666666666666666,\"#ed7953\"],[0.7777777777777778,\"#fb9f3a\"],[0.8888888888888888,\"#fdca26\"],[1.0,\"#f0f921\"]]}],\"heatmap\":[{\"type\":\"heatmap\",\"colorbar\":{\"outlinewidth\":0,\"ticks\":\"\"},\"colorscale\":[[0.0,\"#0d0887\"],[0.1111111111111111,\"#46039f\"],[0.2222222222222222,\"#7201a8\"],[0.3333333333333333,\"#9c179e\"],[0.4444444444444444,\"#bd3786\"],[0.5555555555555556,\"#d8576b\"],[0.6666666666666666,\"#ed7953\"],[0.7777777777777778,\"#fb9f3a\"],[0.8888888888888888,\"#fdca26\"],[1.0,\"#f0f921\"]]}],\"heatmapgl\":[{\"type\":\"heatmapgl\",\"colorbar\":{\"outlinewidth\":0,\"ticks\":\"\"},\"colorscale\":[[0.0,\"#0d0887\"],[0.1111111111111111,\"#46039f\"],[0.2222222222222222,\"#7201a8\"],[0.3333333333333333,\"#9c179e\"],[0.4444444444444444,\"#bd3786\"],[0.5555555555555556,\"#d8576b\"],[0.6666666666666666,\"#ed7953\"],[0.7777777777777778,\"#fb9f3a\"],[0.8888888888888888,\"#fdca26\"],[1.0,\"#f0f921\"]]}],\"contourcarpet\":[{\"type\":\"contourcarpet\",\"colorbar\":{\"outlinewidth\":0,\"ticks\":\"\"}}],\"contour\":[{\"type\":\"contour\",\"colorbar\":{\"outlinewidth\":0,\"ticks\":\"\"},\"colorscale\":[[0.0,\"#0d0887\"],[0.1111111111111111,\"#46039f\"],[0.2222222222222222,\"#7201a8\"],[0.3333333333333333,\"#9c179e\"],[0.4444444444444444,\"#bd3786\"],[0.5555555555555556,\"#d8576b\"],[0.6666666666666666,\"#ed7953\"],[0.7777777777777778,\"#fb9f3a\"],[0.8888888888888888,\"#fdca26\"],[1.0,\"#f0f921\"]]}],\"surface\":[{\"type\":\"surface\",\"colorbar\":{\"outlinewidth\":0,\"ticks\":\"\"},\"colorscale\":[[0.0,\"#0d0887\"],[0.1111111111111111,\"#46039f\"],[0.2222222222222222,\"#7201a8\"],[0.3333333333333333,\"#9c179e\"],[0.4444444444444444,\"#bd3786\"],[0.5555555555555556,\"#d8576b\"],[0.6666666666666666,\"#ed7953\"],[0.7777777777777778,\"#fb9f3a\"],[0.8888888888888888,\"#fdca26\"],[1.0,\"#f0f921\"]]}],\"mesh3d\":[{\"type\":\"mesh3d\",\"colorbar\":{\"outlinewidth\":0,\"ticks\":\"\"}}],\"scatter\":[{\"fillpattern\":{\"fillmode\":\"overlay\",\"size\":10,\"solidity\":0.2},\"type\":\"scatter\"}],\"parcoords\":[{\"type\":\"parcoords\",\"line\":{\"colorbar\":{\"outlinewidth\":0,\"ticks\":\"\"}}}],\"scatterpolargl\":[{\"type\":\"scatterpolargl\",\"marker\":{\"colorbar\":{\"outlinewidth\":0,\"ticks\":\"\"}}}],\"bar\":[{\"error_x\":{\"color\":\"#2a3f5f\"},\"error_y\":{\"color\":\"#2a3f5f\"},\"marker\":{\"line\":{\"color\":\"#E5ECF6\",\"width\":0.5},\"pattern\":{\"fillmode\":\"overlay\",\"size\":10,\"solidity\":0.2}},\"type\":\"bar\"}],\"scattergeo\":[{\"type\":\"scattergeo\",\"marker\":{\"colorbar\":{\"outlinewidth\":0,\"ticks\":\"\"}}}],\"scatterpolar\":[{\"type\":\"scatterpolar\",\"marker\":{\"colorbar\":{\"outlinewidth\":0,\"ticks\":\"\"}}}],\"histogram\":[{\"marker\":{\"pattern\":{\"fillmode\":\"overlay\",\"size\":10,\"solidity\":0.2}},\"type\":\"histogram\"}],\"scattergl\":[{\"type\":\"scattergl\",\"marker\":{\"colorbar\":{\"outlinewidth\":0,\"ticks\":\"\"}}}],\"scatter3d\":[{\"type\":\"scatter3d\",\"line\":{\"colorbar\":{\"outlinewidth\":0,\"ticks\":\"\"}},\"marker\":{\"colorbar\":{\"outlinewidth\":0,\"ticks\":\"\"}}}],\"scattermapbox\":[{\"type\":\"scattermapbox\",\"marker\":{\"colorbar\":{\"outlinewidth\":0,\"ticks\":\"\"}}}],\"scatterternary\":[{\"type\":\"scatterternary\",\"marker\":{\"colorbar\":{\"outlinewidth\":0,\"ticks\":\"\"}}}],\"scattercarpet\":[{\"type\":\"scattercarpet\",\"marker\":{\"colorbar\":{\"outlinewidth\":0,\"ticks\":\"\"}}}],\"carpet\":[{\"aaxis\":{\"endlinecolor\":\"#2a3f5f\",\"gridcolor\":\"white\",\"linecolor\":\"white\",\"minorgridcolor\":\"white\",\"startlinecolor\":\"#2a3f5f\"},\"baxis\":{\"endlinecolor\":\"#2a3f5f\",\"gridcolor\":\"white\",\"linecolor\":\"white\",\"minorgridcolor\":\"white\",\"startlinecolor\":\"#2a3f5f\"},\"type\":\"carpet\"}],\"table\":[{\"cells\":{\"fill\":{\"color\":\"#EBF0F8\"},\"line\":{\"color\":\"white\"}},\"header\":{\"fill\":{\"color\":\"#C8D4E3\"},\"line\":{\"color\":\"white\"}},\"type\":\"table\"}],\"barpolar\":[{\"marker\":{\"line\":{\"color\":\"#E5ECF6\",\"width\":0.5},\"pattern\":{\"fillmode\":\"overlay\",\"size\":10,\"solidity\":0.2}},\"type\":\"barpolar\"}],\"pie\":[{\"automargin\":true,\"type\":\"pie\"}]},\"layout\":{\"autotypenumbers\":\"strict\",\"colorway\":[\"#636efa\",\"#EF553B\",\"#00cc96\",\"#ab63fa\",\"#FFA15A\",\"#19d3f3\",\"#FF6692\",\"#B6E880\",\"#FF97FF\",\"#FECB52\"],\"font\":{\"color\":\"#2a3f5f\"},\"hovermode\":\"closest\",\"hoverlabel\":{\"align\":\"left\"},\"paper_bgcolor\":\"white\",\"plot_bgcolor\":\"#E5ECF6\",\"polar\":{\"bgcolor\":\"#E5ECF6\",\"angularaxis\":{\"gridcolor\":\"white\",\"linecolor\":\"white\",\"ticks\":\"\"},\"radialaxis\":{\"gridcolor\":\"white\",\"linecolor\":\"white\",\"ticks\":\"\"}},\"ternary\":{\"bgcolor\":\"#E5ECF6\",\"aaxis\":{\"gridcolor\":\"white\",\"linecolor\":\"white\",\"ticks\":\"\"},\"baxis\":{\"gridcolor\":\"white\",\"linecolor\":\"white\",\"ticks\":\"\"},\"caxis\":{\"gridcolor\":\"white\",\"linecolor\":\"white\",\"ticks\":\"\"}},\"coloraxis\":{\"colorbar\":{\"outlinewidth\":0,\"ticks\":\"\"}},\"colorscale\":{\"sequential\":[[0.0,\"#0d0887\"],[0.1111111111111111,\"#46039f\"],[0.2222222222222222,\"#7201a8\"],[0.3333333333333333,\"#9c179e\"],[0.4444444444444444,\"#bd3786\"],[0.5555555555555556,\"#d8576b\"],[0.6666666666666666,\"#ed7953\"],[0.7777777777777778,\"#fb9f3a\"],[0.8888888888888888,\"#fdca26\"],[1.0,\"#f0f921\"]],\"sequentialminus\":[[0.0,\"#0d0887\"],[0.1111111111111111,\"#46039f\"],[0.2222222222222222,\"#7201a8\"],[0.3333333333333333,\"#9c179e\"],[0.4444444444444444,\"#bd3786\"],[0.5555555555555556,\"#d8576b\"],[0.6666666666666666,\"#ed7953\"],[0.7777777777777778,\"#fb9f3a\"],[0.8888888888888888,\"#fdca26\"],[1.0,\"#f0f921\"]],\"diverging\":[[0,\"#8e0152\"],[0.1,\"#c51b7d\"],[0.2,\"#de77ae\"],[0.3,\"#f1b6da\"],[0.4,\"#fde0ef\"],[0.5,\"#f7f7f7\"],[0.6,\"#e6f5d0\"],[0.7,\"#b8e186\"],[0.8,\"#7fbc41\"],[0.9,\"#4d9221\"],[1,\"#276419\"]]},\"xaxis\":{\"gridcolor\":\"white\",\"linecolor\":\"white\",\"ticks\":\"\",\"title\":{\"standoff\":15},\"zerolinecolor\":\"white\",\"automargin\":true,\"zerolinewidth\":2},\"yaxis\":{\"gridcolor\":\"white\",\"linecolor\":\"white\",\"ticks\":\"\",\"title\":{\"standoff\":15},\"zerolinecolor\":\"white\",\"automargin\":true,\"zerolinewidth\":2},\"scene\":{\"xaxis\":{\"backgroundcolor\":\"#E5ECF6\",\"gridcolor\":\"white\",\"linecolor\":\"white\",\"showbackground\":true,\"ticks\":\"\",\"zerolinecolor\":\"white\",\"gridwidth\":2},\"yaxis\":{\"backgroundcolor\":\"#E5ECF6\",\"gridcolor\":\"white\",\"linecolor\":\"white\",\"showbackground\":true,\"ticks\":\"\",\"zerolinecolor\":\"white\",\"gridwidth\":2},\"zaxis\":{\"backgroundcolor\":\"#E5ECF6\",\"gridcolor\":\"white\",\"linecolor\":\"white\",\"showbackground\":true,\"ticks\":\"\",\"zerolinecolor\":\"white\",\"gridwidth\":2}},\"shapedefaults\":{\"line\":{\"color\":\"#2a3f5f\"}},\"annotationdefaults\":{\"arrowcolor\":\"#2a3f5f\",\"arrowhead\":0,\"arrowwidth\":1},\"geo\":{\"bgcolor\":\"white\",\"landcolor\":\"#E5ECF6\",\"subunitcolor\":\"white\",\"showland\":true,\"showlakes\":true,\"lakecolor\":\"white\"},\"title\":{\"x\":0.05},\"mapbox\":{\"style\":\"light\"}}},\"xaxis\":{\"anchor\":\"y\",\"domain\":[0.0,1.0],\"title\":{\"text\":\"x\"}},\"yaxis\":{\"anchor\":\"x\",\"domain\":[0.0,1.0],\"title\":{\"text\":\"y\"}},\"legend\":{\"title\":{\"text\":\"color\"},\"tracegroupgap\":0},\"margin\":{\"t\":60}},                        {\"responsive\": true}                    ).then(function(){\n                            \nvar gd = document.getElementById('d79f003e-1266-4bf9-b750-83874fe50da7');\nvar x = new MutationObserver(function (mutations, observer) {{\n        var display = window.getComputedStyle(gd).display;\n        if (!display || display === 'none') {{\n            console.log([gd, 'removed!']);\n            Plotly.purge(gd);\n            observer.disconnect();\n        }}\n}});\n\n// Listen for the removal of the full notebook cells\nvar notebookContainer = gd.closest('#notebook-container');\nif (notebookContainer) {{\n    x.observe(notebookContainer, {childList: true});\n}}\n\n// Listen for the clearing of the current output cell\nvar outputEl = gd.closest('.output');\nif (outputEl) {{\n    x.observe(outputEl, {childList: true});\n}}\n\n                        })                };                });            </script>        </div>"
     },
     "metadata": {},
     "output_type": "display_data"
    }
   ],
   "source": [
    "x1, y1 = make_blobs(n_samples=100, centers=2, n_features=2)\n",
    "df1 = pd.DataFrame({'x': x1[:,0], 'y': x1[:,1],\"label\":y1,\"kmeans\":[\"TODO\"]*100})\n",
    "fig = px.scatter(df1,x=\"x\",y=\"y\", color=['osoba ' + str(x)  for x in y1])\n",
    "fig.show()"
   ],
   "metadata": {
    "collapsed": false
   }
  },
  {
   "cell_type": "markdown",
   "metadata": {},
   "source": [
    "### 2. dataset - 4 třídy, 200 datových bodů\n",
    "Použijte funkci ```make_blobs``` [odkaz na dokumentaci](https://scikit-learn.org/stable/modules/generated/sklearn.datasets.make_blobs.html).\n",
    "\n",
    "![dataset1](expected_outputs/dataset2.png)"
   ]
  },
  {
   "cell_type": "code",
   "execution_count": 69,
   "outputs": [
    {
     "data": {
      "application/vnd.plotly.v1+json": {
       "data": [
        {
         "hovertemplate": "color=2<br>x=%{x}<br>y=%{y}<extra></extra>",
         "legendgroup": "2",
         "marker": {
          "color": "#636efa",
          "symbol": "circle"
         },
         "mode": "markers",
         "name": "2",
         "orientation": "v",
         "showlegend": true,
         "x": [
          4.896656715873136,
          5.707831794388692,
          3.9588442325528876,
          5.418028913020813,
          3.9555634217716626,
          4.3887216208405055,
          5.095030519392465,
          5.072492997949753,
          5.350540997497492,
          5.453738029658895,
          6.202950147538697,
          4.466074982760477,
          5.297405529243478,
          6.582704705512722,
          5.607522079887755,
          4.189283606694227,
          5.7989948624821395,
          4.120242859298245,
          5.809715585919881,
          3.7840303296405913,
          5.194197771531913,
          5.7853548157588595,
          6.089228880719381,
          4.436114993557534,
          5.812263726109747,
          5.4777341499983425,
          4.295826943623528,
          4.811581087382336,
          3.31267885456998,
          5.965118812937701,
          4.476052122707226,
          3.6008465041648963,
          3.9755475369943465,
          5.807065872786372,
          3.388860534435606,
          3.837331082371592,
          3.346617835060491,
          4.30607642711839,
          4.56507283395638,
          5.3387436892507045,
          4.824883357405199,
          3.321278253987522,
          2.9625859013923437,
          4.9412563708242185,
          3.2612006050546762,
          6.140620365977914,
          5.337498015087749,
          6.025276960645716,
          4.346732776845917,
          3.5367707196201317
         ],
         "xaxis": "x",
         "y": [
          2.030040759127338,
          4.729509256062414,
          3.3772081517945005,
          4.297754693639345,
          4.875695089860518,
          3.972732868362462,
          2.8698335178662564,
          2.190671057595143,
          5.2597159421608275,
          5.061523153885866,
          4.026784248496762,
          3.209968967688715,
          3.670352829017219,
          4.331246853209346,
          3.5252301483949933,
          6.317075007067846,
          4.721478078211559,
          4.22041295963812,
          4.624448479351981,
          3.7249495679017692,
          3.5321910709540525,
          2.4083009024969697,
          4.109555844475962,
          3.9822354065293237,
          5.23284735272138,
          4.546178560930479,
          5.053203249782735,
          3.91977947309908,
          4.421836564217887,
          3.0741483804994916,
          4.519046588273888,
          7.791277606110116,
          3.8704009823381673,
          5.236267725336733,
          3.1411947746741187,
          3.8736928924800305,
          5.910822345098195,
          4.146521788631694,
          4.250107601535769,
          3.984300396892733,
          5.126759440002368,
          3.2361528873322443,
          4.0793642375003945,
          4.8674203983642155,
          4.380430084745497,
          3.549142637354586,
          5.683174161677626,
          5.009666456517801,
          5.190472481617094,
          4.520762980403401
         ],
         "yaxis": "y",
         "type": "scatter"
        },
        {
         "hovertemplate": "color=1<br>x=%{x}<br>y=%{y}<extra></extra>",
         "legendgroup": "1",
         "marker": {
          "color": "#EF553B",
          "symbol": "circle"
         },
         "mode": "markers",
         "name": "1",
         "orientation": "v",
         "showlegend": true,
         "x": [
          -0.6610067726957048,
          -0.7593937998746185,
          0.7813070515708568,
          1.3633666673678724,
          -0.18097700133021655,
          0.4126697950071542,
          2.9330981368466915,
          1.2397003610091466,
          -0.6838819492870729,
          0.20543950537062336,
          -0.39261856530513994,
          -0.7350282394803576,
          2.0890882813080376,
          -0.7278673859436418,
          0.7297845019747103,
          -1.0968842446445217,
          0.03642282577245881,
          0.3852661547905827,
          1.230932481535726,
          0.2036864006644015,
          0.1415640738880141,
          1.9463020573513723,
          0.38198708726416886,
          0.5576399818668376,
          -1.2307271277543232,
          1.6500530490950187,
          -0.07247073992572106,
          0.12378913652154555,
          0.07702141222799569,
          -0.6488780508019482,
          -0.09984791019972833,
          -1.5346611632263385,
          0.16701263531758984,
          -0.5738975813288868,
          2.1805460975092537,
          0.9463629387995628,
          -0.7752547891927208,
          1.272618981192219,
          0.26156799449278895,
          0.7513886685422806,
          -0.37928923075726484,
          0.2582693862068853,
          -0.007395030566880789,
          0.2784714637276336,
          1.333966996120009,
          0.19698053903389273,
          0.022581346449282613,
          0.6564136306882724,
          1.5336890976441537,
          -0.9183737779109031
         ],
         "xaxis": "x",
         "y": [
          8.663860395928685,
          10.355933610594978,
          7.28069517671332,
          8.869275762563406,
          9.06111937743748,
          8.512214857055584,
          9.433787281579235,
          6.552260064334627,
          7.157903155632114,
          7.194907868973936,
          7.664397848774996,
          8.23400128269187,
          8.169394052133038,
          7.62802315943873,
          9.339581891068384,
          7.189515662291953,
          7.791022801082707,
          8.637796752859304,
          7.5468634034421225,
          7.063648919049718,
          7.788403548202062,
          7.018947354124239,
          8.7337796427697,
          7.698877788842278,
          8.256703972090893,
          7.457632766812431,
          7.70431096123242,
          7.958361372645492,
          9.72297794353286,
          7.067262234364999,
          7.877493663157696,
          8.525573638324218,
          8.725100860134708,
          8.409170050599254,
          6.727216795279344,
          7.905882559513539,
          9.35113691626066,
          9.119454507024733,
          7.750190821817426,
          7.373007825711763,
          6.900732743678737,
          7.623676093630486,
          9.46100857405265,
          7.1575821185521615,
          6.8078608631712285,
          9.689099615586215,
          6.251690405183612,
          6.296586165686236,
          7.135810538799111,
          8.892629948885514
         ],
         "yaxis": "y",
         "type": "scatter"
        },
        {
         "hovertemplate": "color=3<br>x=%{x}<br>y=%{y}<extra></extra>",
         "legendgroup": "3",
         "marker": {
          "color": "#00cc96",
          "symbol": "circle"
         },
         "mode": "markers",
         "name": "3",
         "orientation": "v",
         "showlegend": true,
         "x": [
          -8.791784897258445,
          -8.490447215875303,
          -7.30887243201656,
          -8.344271449223008,
          -8.479100171138366,
          -7.337641628257236,
          -6.574725147278514,
          -8.972215608457052,
          -8.812189428030765,
          -7.640895005513173,
          -8.615891346372415,
          -7.795479840161219,
          -8.539877896984667,
          -6.583260314853536,
          -9.06887827509674,
          -9.329039248735508,
          -9.033202087835386,
          -8.985020666897883,
          -8.641081049987223,
          -9.226497096273315,
          -8.077752631543198,
          -7.595155884905892,
          -9.384120686304795,
          -9.13133508922634,
          -7.2301300212273905,
          -9.02557436698661,
          -8.308039066368206,
          -9.22055121016637,
          -6.97652793702764,
          -9.626436134847628,
          -7.310053592695751,
          -9.220560492884406,
          -7.074256825289387,
          -9.988979300260073,
          -5.641642842530313,
          -9.79414776768236,
          -8.205134132675894,
          -9.059624611381643,
          -9.059814039342442,
          -5.835748806043965,
          -9.082864743587175,
          -8.600405668718118,
          -9.374165514609082,
          -7.957509117621835,
          -8.597167155713443,
          -8.16859491508721,
          -10.095279040082149,
          -7.558509683096367,
          -9.909081644777933,
          -7.085933806540609
         ],
         "xaxis": "x",
         "y": [
          -4.521618938697734,
          -5.6837715588525,
          -3.2293182067986907,
          -3.482699489628484,
          -5.509462365598468,
          -4.899266073919952,
          -4.303632200717912,
          -3.9739168046499396,
          -4.266407617185599,
          -5.024048713463097,
          -3.7742020293298397,
          -4.109738836853255,
          -5.688926222191999,
          -5.122767484959789,
          -5.694551685981983,
          -3.6064209725371645,
          -5.912549727584605,
          -4.723989194741656,
          -4.196993866942867,
          -3.4663069726985136,
          -5.3642018212534985,
          -4.536876967381275,
          -4.840086578894807,
          -3.8072593010774254,
          -5.196792790069839,
          -4.522558998919809,
          -3.9212754921205075,
          -5.408780507483392,
          -2.680643507347653,
          -3.532088840853215,
          -4.335048802088626,
          -4.0520715634310385,
          -5.141551099128266,
          -2.7531955350095023,
          -4.649551834367984,
          -3.5265437399963138,
          -3.901353186332129,
          -4.0653271581136705,
          -3.9169836866083525,
          -3.419902639498555,
          -6.231359719784852,
          -4.626094363922607,
          -4.081770198039693,
          -3.3428699287270014,
          -6.347659681100079,
          -5.402293191025735,
          -4.511992912597965,
          -3.5679383626805996,
          -4.512497289185267,
          -4.437333096642898
         ],
         "yaxis": "y",
         "type": "scatter"
        },
        {
         "hovertemplate": "color=0<br>x=%{x}<br>y=%{y}<extra></extra>",
         "legendgroup": "0",
         "marker": {
          "color": "#ab63fa",
          "symbol": "circle"
         },
         "mode": "markers",
         "name": "0",
         "orientation": "v",
         "showlegend": true,
         "x": [
          -8.07307316643648,
          -9.10351281187181,
          -8.438179775418226,
          -8.785520115588387,
          -8.415288570685805,
          -9.307245905745669,
          -8.387636267131201,
          -7.230074159483079,
          -8.436188861385263,
          -8.639070380726299,
          -8.12355999794374,
          -8.91845824490604,
          -7.81833714020201,
          -8.233716595827921,
          -9.743534615190605,
          -9.61929146422197,
          -8.603181552177334,
          -7.545447014084816,
          -7.848719427247705,
          -8.551473123511446,
          -9.858527411480267,
          -7.670489745644992,
          -8.3621328375548,
          -8.624505088728386,
          -8.039127493351712,
          -8.250093275755225,
          -9.193750525849111,
          -8.01128570373862,
          -9.41799536962301,
          -7.729848120619992,
          -8.533349217264295,
          -7.872404032980638,
          -8.855884838070825,
          -7.290903977054409,
          -8.774265800132094,
          -9.180579021782277,
          -6.890933512885879,
          -8.220645753175585,
          -8.219936120994742,
          -8.598461063386369,
          -8.513079954679432,
          -7.265221677062005,
          -7.180288865171808,
          -7.364699072622408,
          -6.30474527703644,
          -9.498832517822269,
          -7.238202589281051,
          -8.025522695101966,
          -8.737575680187176,
          -10.118281758020876
         ],
         "xaxis": "x",
         "y": [
          -7.637699868087837,
          -1.8975010176397622,
          -5.0778907170822025,
          -4.615500000004188,
          -4.390556129666734,
          -4.767283567294176,
          -4.928472031530783,
          -3.675661694789996,
          -5.6652846853665935,
          -5.397362057098512,
          -4.63546268675432,
          -6.207711828561928,
          -5.327211595392267,
          -4.448657094261013,
          -6.346063797985123,
          -6.342561264630917,
          -5.162185112908522,
          -6.302740037015486,
          -6.222379389279865,
          -6.99237403960567,
          -5.353991723607847,
          -5.032545552637954,
          -6.062400037640183,
          -4.213313568080512,
          -3.882341159493392,
          -6.667274319814099,
          -6.6717191283728035,
          -5.478713712213113,
          -3.9073004963303304,
          -4.8875428820569375,
          -5.648974328809139,
          -4.790283128398514,
          -6.156451879149466,
          -5.361354745751018,
          -5.019536753640915,
          -4.247365630067561,
          -3.471238816751647,
          -5.275351303533342,
          -3.640298396108862,
          -4.612970464922928,
          -4.333814484975652,
          -4.234933895694525,
          -4.606244863283636,
          -3.591959184789683,
          -4.364097680323429,
          -4.398046540200709,
          -5.745640488242864,
          -5.592571076383204,
          -4.130591567965456,
          -5.166259919369426
         ],
         "yaxis": "y",
         "type": "scatter"
        }
       ],
       "layout": {
        "template": {
         "data": {
          "histogram2dcontour": [
           {
            "type": "histogram2dcontour",
            "colorbar": {
             "outlinewidth": 0,
             "ticks": ""
            },
            "colorscale": [
             [
              0.0,
              "#0d0887"
             ],
             [
              0.1111111111111111,
              "#46039f"
             ],
             [
              0.2222222222222222,
              "#7201a8"
             ],
             [
              0.3333333333333333,
              "#9c179e"
             ],
             [
              0.4444444444444444,
              "#bd3786"
             ],
             [
              0.5555555555555556,
              "#d8576b"
             ],
             [
              0.6666666666666666,
              "#ed7953"
             ],
             [
              0.7777777777777778,
              "#fb9f3a"
             ],
             [
              0.8888888888888888,
              "#fdca26"
             ],
             [
              1.0,
              "#f0f921"
             ]
            ]
           }
          ],
          "choropleth": [
           {
            "type": "choropleth",
            "colorbar": {
             "outlinewidth": 0,
             "ticks": ""
            }
           }
          ],
          "histogram2d": [
           {
            "type": "histogram2d",
            "colorbar": {
             "outlinewidth": 0,
             "ticks": ""
            },
            "colorscale": [
             [
              0.0,
              "#0d0887"
             ],
             [
              0.1111111111111111,
              "#46039f"
             ],
             [
              0.2222222222222222,
              "#7201a8"
             ],
             [
              0.3333333333333333,
              "#9c179e"
             ],
             [
              0.4444444444444444,
              "#bd3786"
             ],
             [
              0.5555555555555556,
              "#d8576b"
             ],
             [
              0.6666666666666666,
              "#ed7953"
             ],
             [
              0.7777777777777778,
              "#fb9f3a"
             ],
             [
              0.8888888888888888,
              "#fdca26"
             ],
             [
              1.0,
              "#f0f921"
             ]
            ]
           }
          ],
          "heatmap": [
           {
            "type": "heatmap",
            "colorbar": {
             "outlinewidth": 0,
             "ticks": ""
            },
            "colorscale": [
             [
              0.0,
              "#0d0887"
             ],
             [
              0.1111111111111111,
              "#46039f"
             ],
             [
              0.2222222222222222,
              "#7201a8"
             ],
             [
              0.3333333333333333,
              "#9c179e"
             ],
             [
              0.4444444444444444,
              "#bd3786"
             ],
             [
              0.5555555555555556,
              "#d8576b"
             ],
             [
              0.6666666666666666,
              "#ed7953"
             ],
             [
              0.7777777777777778,
              "#fb9f3a"
             ],
             [
              0.8888888888888888,
              "#fdca26"
             ],
             [
              1.0,
              "#f0f921"
             ]
            ]
           }
          ],
          "heatmapgl": [
           {
            "type": "heatmapgl",
            "colorbar": {
             "outlinewidth": 0,
             "ticks": ""
            },
            "colorscale": [
             [
              0.0,
              "#0d0887"
             ],
             [
              0.1111111111111111,
              "#46039f"
             ],
             [
              0.2222222222222222,
              "#7201a8"
             ],
             [
              0.3333333333333333,
              "#9c179e"
             ],
             [
              0.4444444444444444,
              "#bd3786"
             ],
             [
              0.5555555555555556,
              "#d8576b"
             ],
             [
              0.6666666666666666,
              "#ed7953"
             ],
             [
              0.7777777777777778,
              "#fb9f3a"
             ],
             [
              0.8888888888888888,
              "#fdca26"
             ],
             [
              1.0,
              "#f0f921"
             ]
            ]
           }
          ],
          "contourcarpet": [
           {
            "type": "contourcarpet",
            "colorbar": {
             "outlinewidth": 0,
             "ticks": ""
            }
           }
          ],
          "contour": [
           {
            "type": "contour",
            "colorbar": {
             "outlinewidth": 0,
             "ticks": ""
            },
            "colorscale": [
             [
              0.0,
              "#0d0887"
             ],
             [
              0.1111111111111111,
              "#46039f"
             ],
             [
              0.2222222222222222,
              "#7201a8"
             ],
             [
              0.3333333333333333,
              "#9c179e"
             ],
             [
              0.4444444444444444,
              "#bd3786"
             ],
             [
              0.5555555555555556,
              "#d8576b"
             ],
             [
              0.6666666666666666,
              "#ed7953"
             ],
             [
              0.7777777777777778,
              "#fb9f3a"
             ],
             [
              0.8888888888888888,
              "#fdca26"
             ],
             [
              1.0,
              "#f0f921"
             ]
            ]
           }
          ],
          "surface": [
           {
            "type": "surface",
            "colorbar": {
             "outlinewidth": 0,
             "ticks": ""
            },
            "colorscale": [
             [
              0.0,
              "#0d0887"
             ],
             [
              0.1111111111111111,
              "#46039f"
             ],
             [
              0.2222222222222222,
              "#7201a8"
             ],
             [
              0.3333333333333333,
              "#9c179e"
             ],
             [
              0.4444444444444444,
              "#bd3786"
             ],
             [
              0.5555555555555556,
              "#d8576b"
             ],
             [
              0.6666666666666666,
              "#ed7953"
             ],
             [
              0.7777777777777778,
              "#fb9f3a"
             ],
             [
              0.8888888888888888,
              "#fdca26"
             ],
             [
              1.0,
              "#f0f921"
             ]
            ]
           }
          ],
          "mesh3d": [
           {
            "type": "mesh3d",
            "colorbar": {
             "outlinewidth": 0,
             "ticks": ""
            }
           }
          ],
          "scatter": [
           {
            "fillpattern": {
             "fillmode": "overlay",
             "size": 10,
             "solidity": 0.2
            },
            "type": "scatter"
           }
          ],
          "parcoords": [
           {
            "type": "parcoords",
            "line": {
             "colorbar": {
              "outlinewidth": 0,
              "ticks": ""
             }
            }
           }
          ],
          "scatterpolargl": [
           {
            "type": "scatterpolargl",
            "marker": {
             "colorbar": {
              "outlinewidth": 0,
              "ticks": ""
             }
            }
           }
          ],
          "bar": [
           {
            "error_x": {
             "color": "#2a3f5f"
            },
            "error_y": {
             "color": "#2a3f5f"
            },
            "marker": {
             "line": {
              "color": "#E5ECF6",
              "width": 0.5
             },
             "pattern": {
              "fillmode": "overlay",
              "size": 10,
              "solidity": 0.2
             }
            },
            "type": "bar"
           }
          ],
          "scattergeo": [
           {
            "type": "scattergeo",
            "marker": {
             "colorbar": {
              "outlinewidth": 0,
              "ticks": ""
             }
            }
           }
          ],
          "scatterpolar": [
           {
            "type": "scatterpolar",
            "marker": {
             "colorbar": {
              "outlinewidth": 0,
              "ticks": ""
             }
            }
           }
          ],
          "histogram": [
           {
            "marker": {
             "pattern": {
              "fillmode": "overlay",
              "size": 10,
              "solidity": 0.2
             }
            },
            "type": "histogram"
           }
          ],
          "scattergl": [
           {
            "type": "scattergl",
            "marker": {
             "colorbar": {
              "outlinewidth": 0,
              "ticks": ""
             }
            }
           }
          ],
          "scatter3d": [
           {
            "type": "scatter3d",
            "line": {
             "colorbar": {
              "outlinewidth": 0,
              "ticks": ""
             }
            },
            "marker": {
             "colorbar": {
              "outlinewidth": 0,
              "ticks": ""
             }
            }
           }
          ],
          "scattermapbox": [
           {
            "type": "scattermapbox",
            "marker": {
             "colorbar": {
              "outlinewidth": 0,
              "ticks": ""
             }
            }
           }
          ],
          "scatterternary": [
           {
            "type": "scatterternary",
            "marker": {
             "colorbar": {
              "outlinewidth": 0,
              "ticks": ""
             }
            }
           }
          ],
          "scattercarpet": [
           {
            "type": "scattercarpet",
            "marker": {
             "colorbar": {
              "outlinewidth": 0,
              "ticks": ""
             }
            }
           }
          ],
          "carpet": [
           {
            "aaxis": {
             "endlinecolor": "#2a3f5f",
             "gridcolor": "white",
             "linecolor": "white",
             "minorgridcolor": "white",
             "startlinecolor": "#2a3f5f"
            },
            "baxis": {
             "endlinecolor": "#2a3f5f",
             "gridcolor": "white",
             "linecolor": "white",
             "minorgridcolor": "white",
             "startlinecolor": "#2a3f5f"
            },
            "type": "carpet"
           }
          ],
          "table": [
           {
            "cells": {
             "fill": {
              "color": "#EBF0F8"
             },
             "line": {
              "color": "white"
             }
            },
            "header": {
             "fill": {
              "color": "#C8D4E3"
             },
             "line": {
              "color": "white"
             }
            },
            "type": "table"
           }
          ],
          "barpolar": [
           {
            "marker": {
             "line": {
              "color": "#E5ECF6",
              "width": 0.5
             },
             "pattern": {
              "fillmode": "overlay",
              "size": 10,
              "solidity": 0.2
             }
            },
            "type": "barpolar"
           }
          ],
          "pie": [
           {
            "automargin": true,
            "type": "pie"
           }
          ]
         },
         "layout": {
          "autotypenumbers": "strict",
          "colorway": [
           "#636efa",
           "#EF553B",
           "#00cc96",
           "#ab63fa",
           "#FFA15A",
           "#19d3f3",
           "#FF6692",
           "#B6E880",
           "#FF97FF",
           "#FECB52"
          ],
          "font": {
           "color": "#2a3f5f"
          },
          "hovermode": "closest",
          "hoverlabel": {
           "align": "left"
          },
          "paper_bgcolor": "white",
          "plot_bgcolor": "#E5ECF6",
          "polar": {
           "bgcolor": "#E5ECF6",
           "angularaxis": {
            "gridcolor": "white",
            "linecolor": "white",
            "ticks": ""
           },
           "radialaxis": {
            "gridcolor": "white",
            "linecolor": "white",
            "ticks": ""
           }
          },
          "ternary": {
           "bgcolor": "#E5ECF6",
           "aaxis": {
            "gridcolor": "white",
            "linecolor": "white",
            "ticks": ""
           },
           "baxis": {
            "gridcolor": "white",
            "linecolor": "white",
            "ticks": ""
           },
           "caxis": {
            "gridcolor": "white",
            "linecolor": "white",
            "ticks": ""
           }
          },
          "coloraxis": {
           "colorbar": {
            "outlinewidth": 0,
            "ticks": ""
           }
          },
          "colorscale": {
           "sequential": [
            [
             0.0,
             "#0d0887"
            ],
            [
             0.1111111111111111,
             "#46039f"
            ],
            [
             0.2222222222222222,
             "#7201a8"
            ],
            [
             0.3333333333333333,
             "#9c179e"
            ],
            [
             0.4444444444444444,
             "#bd3786"
            ],
            [
             0.5555555555555556,
             "#d8576b"
            ],
            [
             0.6666666666666666,
             "#ed7953"
            ],
            [
             0.7777777777777778,
             "#fb9f3a"
            ],
            [
             0.8888888888888888,
             "#fdca26"
            ],
            [
             1.0,
             "#f0f921"
            ]
           ],
           "sequentialminus": [
            [
             0.0,
             "#0d0887"
            ],
            [
             0.1111111111111111,
             "#46039f"
            ],
            [
             0.2222222222222222,
             "#7201a8"
            ],
            [
             0.3333333333333333,
             "#9c179e"
            ],
            [
             0.4444444444444444,
             "#bd3786"
            ],
            [
             0.5555555555555556,
             "#d8576b"
            ],
            [
             0.6666666666666666,
             "#ed7953"
            ],
            [
             0.7777777777777778,
             "#fb9f3a"
            ],
            [
             0.8888888888888888,
             "#fdca26"
            ],
            [
             1.0,
             "#f0f921"
            ]
           ],
           "diverging": [
            [
             0,
             "#8e0152"
            ],
            [
             0.1,
             "#c51b7d"
            ],
            [
             0.2,
             "#de77ae"
            ],
            [
             0.3,
             "#f1b6da"
            ],
            [
             0.4,
             "#fde0ef"
            ],
            [
             0.5,
             "#f7f7f7"
            ],
            [
             0.6,
             "#e6f5d0"
            ],
            [
             0.7,
             "#b8e186"
            ],
            [
             0.8,
             "#7fbc41"
            ],
            [
             0.9,
             "#4d9221"
            ],
            [
             1,
             "#276419"
            ]
           ]
          },
          "xaxis": {
           "gridcolor": "white",
           "linecolor": "white",
           "ticks": "",
           "title": {
            "standoff": 15
           },
           "zerolinecolor": "white",
           "automargin": true,
           "zerolinewidth": 2
          },
          "yaxis": {
           "gridcolor": "white",
           "linecolor": "white",
           "ticks": "",
           "title": {
            "standoff": 15
           },
           "zerolinecolor": "white",
           "automargin": true,
           "zerolinewidth": 2
          },
          "scene": {
           "xaxis": {
            "backgroundcolor": "#E5ECF6",
            "gridcolor": "white",
            "linecolor": "white",
            "showbackground": true,
            "ticks": "",
            "zerolinecolor": "white",
            "gridwidth": 2
           },
           "yaxis": {
            "backgroundcolor": "#E5ECF6",
            "gridcolor": "white",
            "linecolor": "white",
            "showbackground": true,
            "ticks": "",
            "zerolinecolor": "white",
            "gridwidth": 2
           },
           "zaxis": {
            "backgroundcolor": "#E5ECF6",
            "gridcolor": "white",
            "linecolor": "white",
            "showbackground": true,
            "ticks": "",
            "zerolinecolor": "white",
            "gridwidth": 2
           }
          },
          "shapedefaults": {
           "line": {
            "color": "#2a3f5f"
           }
          },
          "annotationdefaults": {
           "arrowcolor": "#2a3f5f",
           "arrowhead": 0,
           "arrowwidth": 1
          },
          "geo": {
           "bgcolor": "white",
           "landcolor": "#E5ECF6",
           "subunitcolor": "white",
           "showland": true,
           "showlakes": true,
           "lakecolor": "white"
          },
          "title": {
           "x": 0.05
          },
          "mapbox": {
           "style": "light"
          }
         }
        },
        "xaxis": {
         "anchor": "y",
         "domain": [
          0.0,
          1.0
         ],
         "title": {
          "text": "x"
         }
        },
        "yaxis": {
         "anchor": "x",
         "domain": [
          0.0,
          1.0
         ],
         "title": {
          "text": "y"
         }
        },
        "legend": {
         "title": {
          "text": "color"
         },
         "tracegroupgap": 0
        },
        "margin": {
         "t": 60
        }
       },
       "config": {
        "plotlyServerURL": "https://plot.ly"
       }
      },
      "text/html": "<div>                            <div id=\"d3b7dee0-258e-4c7e-8574-e0c29d2a6984\" class=\"plotly-graph-div\" style=\"height:525px; width:100%;\"></div>            <script type=\"text/javascript\">                require([\"plotly\"], function(Plotly) {                    window.PLOTLYENV=window.PLOTLYENV || {};                                    if (document.getElementById(\"d3b7dee0-258e-4c7e-8574-e0c29d2a6984\")) {                    Plotly.newPlot(                        \"d3b7dee0-258e-4c7e-8574-e0c29d2a6984\",                        [{\"hovertemplate\":\"color=2<br>x=%{x}<br>y=%{y}<extra></extra>\",\"legendgroup\":\"2\",\"marker\":{\"color\":\"#636efa\",\"symbol\":\"circle\"},\"mode\":\"markers\",\"name\":\"2\",\"orientation\":\"v\",\"showlegend\":true,\"x\":[4.896656715873136,5.707831794388692,3.9588442325528876,5.418028913020813,3.9555634217716626,4.3887216208405055,5.095030519392465,5.072492997949753,5.350540997497492,5.453738029658895,6.202950147538697,4.466074982760477,5.297405529243478,6.582704705512722,5.607522079887755,4.189283606694227,5.7989948624821395,4.120242859298245,5.809715585919881,3.7840303296405913,5.194197771531913,5.7853548157588595,6.089228880719381,4.436114993557534,5.812263726109747,5.4777341499983425,4.295826943623528,4.811581087382336,3.31267885456998,5.965118812937701,4.476052122707226,3.6008465041648963,3.9755475369943465,5.807065872786372,3.388860534435606,3.837331082371592,3.346617835060491,4.30607642711839,4.56507283395638,5.3387436892507045,4.824883357405199,3.321278253987522,2.9625859013923437,4.9412563708242185,3.2612006050546762,6.140620365977914,5.337498015087749,6.025276960645716,4.346732776845917,3.5367707196201317],\"xaxis\":\"x\",\"y\":[2.030040759127338,4.729509256062414,3.3772081517945005,4.297754693639345,4.875695089860518,3.972732868362462,2.8698335178662564,2.190671057595143,5.2597159421608275,5.061523153885866,4.026784248496762,3.209968967688715,3.670352829017219,4.331246853209346,3.5252301483949933,6.317075007067846,4.721478078211559,4.22041295963812,4.624448479351981,3.7249495679017692,3.5321910709540525,2.4083009024969697,4.109555844475962,3.9822354065293237,5.23284735272138,4.546178560930479,5.053203249782735,3.91977947309908,4.421836564217887,3.0741483804994916,4.519046588273888,7.791277606110116,3.8704009823381673,5.236267725336733,3.1411947746741187,3.8736928924800305,5.910822345098195,4.146521788631694,4.250107601535769,3.984300396892733,5.126759440002368,3.2361528873322443,4.0793642375003945,4.8674203983642155,4.380430084745497,3.549142637354586,5.683174161677626,5.009666456517801,5.190472481617094,4.520762980403401],\"yaxis\":\"y\",\"type\":\"scatter\"},{\"hovertemplate\":\"color=1<br>x=%{x}<br>y=%{y}<extra></extra>\",\"legendgroup\":\"1\",\"marker\":{\"color\":\"#EF553B\",\"symbol\":\"circle\"},\"mode\":\"markers\",\"name\":\"1\",\"orientation\":\"v\",\"showlegend\":true,\"x\":[-0.6610067726957048,-0.7593937998746185,0.7813070515708568,1.3633666673678724,-0.18097700133021655,0.4126697950071542,2.9330981368466915,1.2397003610091466,-0.6838819492870729,0.20543950537062336,-0.39261856530513994,-0.7350282394803576,2.0890882813080376,-0.7278673859436418,0.7297845019747103,-1.0968842446445217,0.03642282577245881,0.3852661547905827,1.230932481535726,0.2036864006644015,0.1415640738880141,1.9463020573513723,0.38198708726416886,0.5576399818668376,-1.2307271277543232,1.6500530490950187,-0.07247073992572106,0.12378913652154555,0.07702141222799569,-0.6488780508019482,-0.09984791019972833,-1.5346611632263385,0.16701263531758984,-0.5738975813288868,2.1805460975092537,0.9463629387995628,-0.7752547891927208,1.272618981192219,0.26156799449278895,0.7513886685422806,-0.37928923075726484,0.2582693862068853,-0.007395030566880789,0.2784714637276336,1.333966996120009,0.19698053903389273,0.022581346449282613,0.6564136306882724,1.5336890976441537,-0.9183737779109031],\"xaxis\":\"x\",\"y\":[8.663860395928685,10.355933610594978,7.28069517671332,8.869275762563406,9.06111937743748,8.512214857055584,9.433787281579235,6.552260064334627,7.157903155632114,7.194907868973936,7.664397848774996,8.23400128269187,8.169394052133038,7.62802315943873,9.339581891068384,7.189515662291953,7.791022801082707,8.637796752859304,7.5468634034421225,7.063648919049718,7.788403548202062,7.018947354124239,8.7337796427697,7.698877788842278,8.256703972090893,7.457632766812431,7.70431096123242,7.958361372645492,9.72297794353286,7.067262234364999,7.877493663157696,8.525573638324218,8.725100860134708,8.409170050599254,6.727216795279344,7.905882559513539,9.35113691626066,9.119454507024733,7.750190821817426,7.373007825711763,6.900732743678737,7.623676093630486,9.46100857405265,7.1575821185521615,6.8078608631712285,9.689099615586215,6.251690405183612,6.296586165686236,7.135810538799111,8.892629948885514],\"yaxis\":\"y\",\"type\":\"scatter\"},{\"hovertemplate\":\"color=3<br>x=%{x}<br>y=%{y}<extra></extra>\",\"legendgroup\":\"3\",\"marker\":{\"color\":\"#00cc96\",\"symbol\":\"circle\"},\"mode\":\"markers\",\"name\":\"3\",\"orientation\":\"v\",\"showlegend\":true,\"x\":[-8.791784897258445,-8.490447215875303,-7.30887243201656,-8.344271449223008,-8.479100171138366,-7.337641628257236,-6.574725147278514,-8.972215608457052,-8.812189428030765,-7.640895005513173,-8.615891346372415,-7.795479840161219,-8.539877896984667,-6.583260314853536,-9.06887827509674,-9.329039248735508,-9.033202087835386,-8.985020666897883,-8.641081049987223,-9.226497096273315,-8.077752631543198,-7.595155884905892,-9.384120686304795,-9.13133508922634,-7.2301300212273905,-9.02557436698661,-8.308039066368206,-9.22055121016637,-6.97652793702764,-9.626436134847628,-7.310053592695751,-9.220560492884406,-7.074256825289387,-9.988979300260073,-5.641642842530313,-9.79414776768236,-8.205134132675894,-9.059624611381643,-9.059814039342442,-5.835748806043965,-9.082864743587175,-8.600405668718118,-9.374165514609082,-7.957509117621835,-8.597167155713443,-8.16859491508721,-10.095279040082149,-7.558509683096367,-9.909081644777933,-7.085933806540609],\"xaxis\":\"x\",\"y\":[-4.521618938697734,-5.6837715588525,-3.2293182067986907,-3.482699489628484,-5.509462365598468,-4.899266073919952,-4.303632200717912,-3.9739168046499396,-4.266407617185599,-5.024048713463097,-3.7742020293298397,-4.109738836853255,-5.688926222191999,-5.122767484959789,-5.694551685981983,-3.6064209725371645,-5.912549727584605,-4.723989194741656,-4.196993866942867,-3.4663069726985136,-5.3642018212534985,-4.536876967381275,-4.840086578894807,-3.8072593010774254,-5.196792790069839,-4.522558998919809,-3.9212754921205075,-5.408780507483392,-2.680643507347653,-3.532088840853215,-4.335048802088626,-4.0520715634310385,-5.141551099128266,-2.7531955350095023,-4.649551834367984,-3.5265437399963138,-3.901353186332129,-4.0653271581136705,-3.9169836866083525,-3.419902639498555,-6.231359719784852,-4.626094363922607,-4.081770198039693,-3.3428699287270014,-6.347659681100079,-5.402293191025735,-4.511992912597965,-3.5679383626805996,-4.512497289185267,-4.437333096642898],\"yaxis\":\"y\",\"type\":\"scatter\"},{\"hovertemplate\":\"color=0<br>x=%{x}<br>y=%{y}<extra></extra>\",\"legendgroup\":\"0\",\"marker\":{\"color\":\"#ab63fa\",\"symbol\":\"circle\"},\"mode\":\"markers\",\"name\":\"0\",\"orientation\":\"v\",\"showlegend\":true,\"x\":[-8.07307316643648,-9.10351281187181,-8.438179775418226,-8.785520115588387,-8.415288570685805,-9.307245905745669,-8.387636267131201,-7.230074159483079,-8.436188861385263,-8.639070380726299,-8.12355999794374,-8.91845824490604,-7.81833714020201,-8.233716595827921,-9.743534615190605,-9.61929146422197,-8.603181552177334,-7.545447014084816,-7.848719427247705,-8.551473123511446,-9.858527411480267,-7.670489745644992,-8.3621328375548,-8.624505088728386,-8.039127493351712,-8.250093275755225,-9.193750525849111,-8.01128570373862,-9.41799536962301,-7.729848120619992,-8.533349217264295,-7.872404032980638,-8.855884838070825,-7.290903977054409,-8.774265800132094,-9.180579021782277,-6.890933512885879,-8.220645753175585,-8.219936120994742,-8.598461063386369,-8.513079954679432,-7.265221677062005,-7.180288865171808,-7.364699072622408,-6.30474527703644,-9.498832517822269,-7.238202589281051,-8.025522695101966,-8.737575680187176,-10.118281758020876],\"xaxis\":\"x\",\"y\":[-7.637699868087837,-1.8975010176397622,-5.0778907170822025,-4.615500000004188,-4.390556129666734,-4.767283567294176,-4.928472031530783,-3.675661694789996,-5.6652846853665935,-5.397362057098512,-4.63546268675432,-6.207711828561928,-5.327211595392267,-4.448657094261013,-6.346063797985123,-6.342561264630917,-5.162185112908522,-6.302740037015486,-6.222379389279865,-6.99237403960567,-5.353991723607847,-5.032545552637954,-6.062400037640183,-4.213313568080512,-3.882341159493392,-6.667274319814099,-6.6717191283728035,-5.478713712213113,-3.9073004963303304,-4.8875428820569375,-5.648974328809139,-4.790283128398514,-6.156451879149466,-5.361354745751018,-5.019536753640915,-4.247365630067561,-3.471238816751647,-5.275351303533342,-3.640298396108862,-4.612970464922928,-4.333814484975652,-4.234933895694525,-4.606244863283636,-3.591959184789683,-4.364097680323429,-4.398046540200709,-5.745640488242864,-5.592571076383204,-4.130591567965456,-5.166259919369426],\"yaxis\":\"y\",\"type\":\"scatter\"}],                        {\"template\":{\"data\":{\"histogram2dcontour\":[{\"type\":\"histogram2dcontour\",\"colorbar\":{\"outlinewidth\":0,\"ticks\":\"\"},\"colorscale\":[[0.0,\"#0d0887\"],[0.1111111111111111,\"#46039f\"],[0.2222222222222222,\"#7201a8\"],[0.3333333333333333,\"#9c179e\"],[0.4444444444444444,\"#bd3786\"],[0.5555555555555556,\"#d8576b\"],[0.6666666666666666,\"#ed7953\"],[0.7777777777777778,\"#fb9f3a\"],[0.8888888888888888,\"#fdca26\"],[1.0,\"#f0f921\"]]}],\"choropleth\":[{\"type\":\"choropleth\",\"colorbar\":{\"outlinewidth\":0,\"ticks\":\"\"}}],\"histogram2d\":[{\"type\":\"histogram2d\",\"colorbar\":{\"outlinewidth\":0,\"ticks\":\"\"},\"colorscale\":[[0.0,\"#0d0887\"],[0.1111111111111111,\"#46039f\"],[0.2222222222222222,\"#7201a8\"],[0.3333333333333333,\"#9c179e\"],[0.4444444444444444,\"#bd3786\"],[0.5555555555555556,\"#d8576b\"],[0.6666666666666666,\"#ed7953\"],[0.7777777777777778,\"#fb9f3a\"],[0.8888888888888888,\"#fdca26\"],[1.0,\"#f0f921\"]]}],\"heatmap\":[{\"type\":\"heatmap\",\"colorbar\":{\"outlinewidth\":0,\"ticks\":\"\"},\"colorscale\":[[0.0,\"#0d0887\"],[0.1111111111111111,\"#46039f\"],[0.2222222222222222,\"#7201a8\"],[0.3333333333333333,\"#9c179e\"],[0.4444444444444444,\"#bd3786\"],[0.5555555555555556,\"#d8576b\"],[0.6666666666666666,\"#ed7953\"],[0.7777777777777778,\"#fb9f3a\"],[0.8888888888888888,\"#fdca26\"],[1.0,\"#f0f921\"]]}],\"heatmapgl\":[{\"type\":\"heatmapgl\",\"colorbar\":{\"outlinewidth\":0,\"ticks\":\"\"},\"colorscale\":[[0.0,\"#0d0887\"],[0.1111111111111111,\"#46039f\"],[0.2222222222222222,\"#7201a8\"],[0.3333333333333333,\"#9c179e\"],[0.4444444444444444,\"#bd3786\"],[0.5555555555555556,\"#d8576b\"],[0.6666666666666666,\"#ed7953\"],[0.7777777777777778,\"#fb9f3a\"],[0.8888888888888888,\"#fdca26\"],[1.0,\"#f0f921\"]]}],\"contourcarpet\":[{\"type\":\"contourcarpet\",\"colorbar\":{\"outlinewidth\":0,\"ticks\":\"\"}}],\"contour\":[{\"type\":\"contour\",\"colorbar\":{\"outlinewidth\":0,\"ticks\":\"\"},\"colorscale\":[[0.0,\"#0d0887\"],[0.1111111111111111,\"#46039f\"],[0.2222222222222222,\"#7201a8\"],[0.3333333333333333,\"#9c179e\"],[0.4444444444444444,\"#bd3786\"],[0.5555555555555556,\"#d8576b\"],[0.6666666666666666,\"#ed7953\"],[0.7777777777777778,\"#fb9f3a\"],[0.8888888888888888,\"#fdca26\"],[1.0,\"#f0f921\"]]}],\"surface\":[{\"type\":\"surface\",\"colorbar\":{\"outlinewidth\":0,\"ticks\":\"\"},\"colorscale\":[[0.0,\"#0d0887\"],[0.1111111111111111,\"#46039f\"],[0.2222222222222222,\"#7201a8\"],[0.3333333333333333,\"#9c179e\"],[0.4444444444444444,\"#bd3786\"],[0.5555555555555556,\"#d8576b\"],[0.6666666666666666,\"#ed7953\"],[0.7777777777777778,\"#fb9f3a\"],[0.8888888888888888,\"#fdca26\"],[1.0,\"#f0f921\"]]}],\"mesh3d\":[{\"type\":\"mesh3d\",\"colorbar\":{\"outlinewidth\":0,\"ticks\":\"\"}}],\"scatter\":[{\"fillpattern\":{\"fillmode\":\"overlay\",\"size\":10,\"solidity\":0.2},\"type\":\"scatter\"}],\"parcoords\":[{\"type\":\"parcoords\",\"line\":{\"colorbar\":{\"outlinewidth\":0,\"ticks\":\"\"}}}],\"scatterpolargl\":[{\"type\":\"scatterpolargl\",\"marker\":{\"colorbar\":{\"outlinewidth\":0,\"ticks\":\"\"}}}],\"bar\":[{\"error_x\":{\"color\":\"#2a3f5f\"},\"error_y\":{\"color\":\"#2a3f5f\"},\"marker\":{\"line\":{\"color\":\"#E5ECF6\",\"width\":0.5},\"pattern\":{\"fillmode\":\"overlay\",\"size\":10,\"solidity\":0.2}},\"type\":\"bar\"}],\"scattergeo\":[{\"type\":\"scattergeo\",\"marker\":{\"colorbar\":{\"outlinewidth\":0,\"ticks\":\"\"}}}],\"scatterpolar\":[{\"type\":\"scatterpolar\",\"marker\":{\"colorbar\":{\"outlinewidth\":0,\"ticks\":\"\"}}}],\"histogram\":[{\"marker\":{\"pattern\":{\"fillmode\":\"overlay\",\"size\":10,\"solidity\":0.2}},\"type\":\"histogram\"}],\"scattergl\":[{\"type\":\"scattergl\",\"marker\":{\"colorbar\":{\"outlinewidth\":0,\"ticks\":\"\"}}}],\"scatter3d\":[{\"type\":\"scatter3d\",\"line\":{\"colorbar\":{\"outlinewidth\":0,\"ticks\":\"\"}},\"marker\":{\"colorbar\":{\"outlinewidth\":0,\"ticks\":\"\"}}}],\"scattermapbox\":[{\"type\":\"scattermapbox\",\"marker\":{\"colorbar\":{\"outlinewidth\":0,\"ticks\":\"\"}}}],\"scatterternary\":[{\"type\":\"scatterternary\",\"marker\":{\"colorbar\":{\"outlinewidth\":0,\"ticks\":\"\"}}}],\"scattercarpet\":[{\"type\":\"scattercarpet\",\"marker\":{\"colorbar\":{\"outlinewidth\":0,\"ticks\":\"\"}}}],\"carpet\":[{\"aaxis\":{\"endlinecolor\":\"#2a3f5f\",\"gridcolor\":\"white\",\"linecolor\":\"white\",\"minorgridcolor\":\"white\",\"startlinecolor\":\"#2a3f5f\"},\"baxis\":{\"endlinecolor\":\"#2a3f5f\",\"gridcolor\":\"white\",\"linecolor\":\"white\",\"minorgridcolor\":\"white\",\"startlinecolor\":\"#2a3f5f\"},\"type\":\"carpet\"}],\"table\":[{\"cells\":{\"fill\":{\"color\":\"#EBF0F8\"},\"line\":{\"color\":\"white\"}},\"header\":{\"fill\":{\"color\":\"#C8D4E3\"},\"line\":{\"color\":\"white\"}},\"type\":\"table\"}],\"barpolar\":[{\"marker\":{\"line\":{\"color\":\"#E5ECF6\",\"width\":0.5},\"pattern\":{\"fillmode\":\"overlay\",\"size\":10,\"solidity\":0.2}},\"type\":\"barpolar\"}],\"pie\":[{\"automargin\":true,\"type\":\"pie\"}]},\"layout\":{\"autotypenumbers\":\"strict\",\"colorway\":[\"#636efa\",\"#EF553B\",\"#00cc96\",\"#ab63fa\",\"#FFA15A\",\"#19d3f3\",\"#FF6692\",\"#B6E880\",\"#FF97FF\",\"#FECB52\"],\"font\":{\"color\":\"#2a3f5f\"},\"hovermode\":\"closest\",\"hoverlabel\":{\"align\":\"left\"},\"paper_bgcolor\":\"white\",\"plot_bgcolor\":\"#E5ECF6\",\"polar\":{\"bgcolor\":\"#E5ECF6\",\"angularaxis\":{\"gridcolor\":\"white\",\"linecolor\":\"white\",\"ticks\":\"\"},\"radialaxis\":{\"gridcolor\":\"white\",\"linecolor\":\"white\",\"ticks\":\"\"}},\"ternary\":{\"bgcolor\":\"#E5ECF6\",\"aaxis\":{\"gridcolor\":\"white\",\"linecolor\":\"white\",\"ticks\":\"\"},\"baxis\":{\"gridcolor\":\"white\",\"linecolor\":\"white\",\"ticks\":\"\"},\"caxis\":{\"gridcolor\":\"white\",\"linecolor\":\"white\",\"ticks\":\"\"}},\"coloraxis\":{\"colorbar\":{\"outlinewidth\":0,\"ticks\":\"\"}},\"colorscale\":{\"sequential\":[[0.0,\"#0d0887\"],[0.1111111111111111,\"#46039f\"],[0.2222222222222222,\"#7201a8\"],[0.3333333333333333,\"#9c179e\"],[0.4444444444444444,\"#bd3786\"],[0.5555555555555556,\"#d8576b\"],[0.6666666666666666,\"#ed7953\"],[0.7777777777777778,\"#fb9f3a\"],[0.8888888888888888,\"#fdca26\"],[1.0,\"#f0f921\"]],\"sequentialminus\":[[0.0,\"#0d0887\"],[0.1111111111111111,\"#46039f\"],[0.2222222222222222,\"#7201a8\"],[0.3333333333333333,\"#9c179e\"],[0.4444444444444444,\"#bd3786\"],[0.5555555555555556,\"#d8576b\"],[0.6666666666666666,\"#ed7953\"],[0.7777777777777778,\"#fb9f3a\"],[0.8888888888888888,\"#fdca26\"],[1.0,\"#f0f921\"]],\"diverging\":[[0,\"#8e0152\"],[0.1,\"#c51b7d\"],[0.2,\"#de77ae\"],[0.3,\"#f1b6da\"],[0.4,\"#fde0ef\"],[0.5,\"#f7f7f7\"],[0.6,\"#e6f5d0\"],[0.7,\"#b8e186\"],[0.8,\"#7fbc41\"],[0.9,\"#4d9221\"],[1,\"#276419\"]]},\"xaxis\":{\"gridcolor\":\"white\",\"linecolor\":\"white\",\"ticks\":\"\",\"title\":{\"standoff\":15},\"zerolinecolor\":\"white\",\"automargin\":true,\"zerolinewidth\":2},\"yaxis\":{\"gridcolor\":\"white\",\"linecolor\":\"white\",\"ticks\":\"\",\"title\":{\"standoff\":15},\"zerolinecolor\":\"white\",\"automargin\":true,\"zerolinewidth\":2},\"scene\":{\"xaxis\":{\"backgroundcolor\":\"#E5ECF6\",\"gridcolor\":\"white\",\"linecolor\":\"white\",\"showbackground\":true,\"ticks\":\"\",\"zerolinecolor\":\"white\",\"gridwidth\":2},\"yaxis\":{\"backgroundcolor\":\"#E5ECF6\",\"gridcolor\":\"white\",\"linecolor\":\"white\",\"showbackground\":true,\"ticks\":\"\",\"zerolinecolor\":\"white\",\"gridwidth\":2},\"zaxis\":{\"backgroundcolor\":\"#E5ECF6\",\"gridcolor\":\"white\",\"linecolor\":\"white\",\"showbackground\":true,\"ticks\":\"\",\"zerolinecolor\":\"white\",\"gridwidth\":2}},\"shapedefaults\":{\"line\":{\"color\":\"#2a3f5f\"}},\"annotationdefaults\":{\"arrowcolor\":\"#2a3f5f\",\"arrowhead\":0,\"arrowwidth\":1},\"geo\":{\"bgcolor\":\"white\",\"landcolor\":\"#E5ECF6\",\"subunitcolor\":\"white\",\"showland\":true,\"showlakes\":true,\"lakecolor\":\"white\"},\"title\":{\"x\":0.05},\"mapbox\":{\"style\":\"light\"}}},\"xaxis\":{\"anchor\":\"y\",\"domain\":[0.0,1.0],\"title\":{\"text\":\"x\"}},\"yaxis\":{\"anchor\":\"x\",\"domain\":[0.0,1.0],\"title\":{\"text\":\"y\"}},\"legend\":{\"title\":{\"text\":\"color\"},\"tracegroupgap\":0},\"margin\":{\"t\":60}},                        {\"responsive\": true}                    ).then(function(){\n                            \nvar gd = document.getElementById('d3b7dee0-258e-4c7e-8574-e0c29d2a6984');\nvar x = new MutationObserver(function (mutations, observer) {{\n        var display = window.getComputedStyle(gd).display;\n        if (!display || display === 'none') {{\n            console.log([gd, 'removed!']);\n            Plotly.purge(gd);\n            observer.disconnect();\n        }}\n}});\n\n// Listen for the removal of the full notebook cells\nvar notebookContainer = gd.closest('#notebook-container');\nif (notebookContainer) {{\n    x.observe(notebookContainer, {childList: true});\n}}\n\n// Listen for the clearing of the current output cell\nvar outputEl = gd.closest('.output');\nif (outputEl) {{\n    x.observe(outputEl, {childList: true});\n}}\n\n                        })                };                });            </script>        </div>"
     },
     "metadata": {},
     "output_type": "display_data"
    }
   ],
   "source": [
    "x2, y2 = make_blobs(n_samples=200, centers=4, n_features=2)\n",
    "df2 = pd.DataFrame({'x': x2[:,0], 'y': x2[:,1],\"label\":y2,\"kmeans\":[\"TODO\"]*200})\n",
    "fig = px.scatter(df2,x=\"x\",y=\"y\", color=[str(x)  for x in y2])\n",
    "fig.show()"
   ],
   "metadata": {
    "collapsed": false
   }
  },
  {
   "cell_type": "code",
   "execution_count": 69,
   "metadata": {},
   "outputs": [],
   "source": []
  },
  {
   "cell_type": "markdown",
   "metadata": {},
   "source": [
    "### 3. dataset - 2 třídy, 200 datových bodů\n",
    "Použijte funkci ```make_moons``` [odkaz na dokumentaci](https://scikit-learn.org/stable/modules/generated/sklearn.datasets.make_moons.html#sklearn.datasets.make_moons).\n",
    "\n",
    "![dataset1](expected_outputs/dataset3.png)"
   ]
  },
  {
   "cell_type": "code",
   "execution_count": 70,
   "metadata": {
    "scrolled": false
   },
   "outputs": [
    {
     "data": {
      "application/vnd.plotly.v1+json": {
       "data": [
        {
         "hovertemplate": "color=1<br>x=%{x}<br>y=%{y}<extra></extra>",
         "legendgroup": "1",
         "marker": {
          "color": "#636efa",
          "symbol": "circle"
         },
         "mode": "markers",
         "name": "1",
         "orientation": "v",
         "showlegend": true,
         "x": [
          0.38531326691070367,
          1.3438528558119798,
          0.07643361271402761,
          2.010398893646984,
          0.9721341061212622,
          1.9162881535516567,
          1.7957261176463082,
          0.31485345264214465,
          0.5054387998476707,
          1.0212662265102836,
          0.8720390012495841,
          -0.020179335916126022,
          1.329221598892002,
          2.0029855100627376,
          2.0144862219929784,
          0.2749526569865458,
          1.6915744768374263,
          0.010445705688042171,
          0.9103251782378509,
          1.6654818015134725,
          0.20635045005070207,
          0.3526155327141865,
          1.918561953568501,
          1.9640589867714897,
          1.904392940645224,
          1.9401085848334743,
          1.2260965528211751,
          1.6593721152171772,
          1.7627758139481025,
          0.669841693632564,
          0.3773030747233638,
          0.5611995492595315,
          0.1332998407083478,
          0.711780680223981,
          2.008509971645317,
          1.4342206130411272,
          1.5840174772963223,
          0.026550438959583547,
          0.10383905215709542,
          1.5750648457852943,
          1.8619726898827902,
          1.7757223542043872,
          1.9756460757669976,
          0.3169844912816923,
          1.4094085512653969,
          1.2203646921781808,
          1.764656360017662,
          0.2706269075975074,
          -0.0871789387523037,
          1.7294208667625963,
          1.0489959038366767,
          0.8732066261222382,
          0.5168119133037272,
          1.4390902380259132,
          0.7044627063233487,
          0.08291993837507439,
          1.3173859957899474,
          1.8581224485704095,
          1.9948892841610277,
          0.0608110793955911,
          0.03697942164594004,
          1.927374669196014,
          0.20889174558881218,
          -0.003995086820202859,
          0.6021019514107687,
          1.529001329262542,
          0.034529311283493985,
          0.06976494367195099,
          0.6612003202013487,
          2.069598267963111,
          1.4990734362011773,
          1.9664225091370302,
          1.1529912440041892,
          1.1562181337816553,
          2.0025813863980493,
          2.0676851844159567,
          0.6841134159767834,
          1.8922251457694657,
          1.2229415044765286,
          2.093871294486196,
          0.1056569250079494,
          0.32316792620754387,
          0.972297693893897,
          0.1519044789643003,
          0.9744524114582741,
          0.12497480990616941,
          1.4335864188149834,
          0.9224332997005182,
          1.579133835159084,
          0.6069721467629392,
          1.1514847859677915,
          0.6810624769587984,
          -0.018106759004741048,
          1.7059354710378998,
          -0.007182559170516608,
          -0.042090543739330424,
          -0.06578117348574018,
          0.4569120304491371,
          0.04703016962680032,
          0.4322291354149276
         ],
         "xaxis": "x",
         "y": [
          -0.2680804602368957,
          -0.48272381286786936,
          0.13606012845272913,
          0.39392862058193495,
          -0.5846017872524807,
          0.3145017279406161,
          0.08362759936246913,
          -0.27656887196628493,
          -0.5475688055780035,
          -0.5088860517371689,
          -0.5481450674349355,
          0.399855798968703,
          -0.3469041973817125,
          0.26414657363128385,
          0.25805781551634027,
          -0.18143779082825012,
          -0.3397512108873899,
          0.3305615608982965,
          -0.5614348947986436,
          -0.1244893727350329,
          0.1673960707374928,
          -0.23883587301834247,
          0.13253394791020723,
          0.19674166835013157,
          -0.08420285726793628,
          0.17726537161915165,
          -0.4600563657736122,
          -0.15188452316428225,
          -0.22562115888480969,
          -0.3591577484165265,
          -0.06279839582026411,
          -0.40239861489718215,
          -0.18779238359418313,
          -0.5173402398349081,
          -0.004943046563353731,
          -0.366291777751001,
          -0.21809001659123156,
          0.09027892899464149,
          -0.044591796343822494,
          -0.4003768083911017,
          0.5413499381413773,
          -0.2431624569168937,
          -0.08580446894369556,
          -0.23049386888751994,
          -0.32099533220058496,
          -0.32595405074663225,
          0.006312751844781472,
          -0.21360908442188353,
          0.27754945045962454,
          -0.30819411233354715,
          -0.4688085759274018,
          -0.5196717663552486,
          -0.4292566211780421,
          -0.3156578050007269,
          -0.5800310904196504,
          0.3967842157344674,
          -0.3955262827360116,
          0.2751249800844913,
          0.24221658134179072,
          0.3826667393754962,
          0.4987941221942338,
          -0.13651011756901427,
          -0.20243836648722388,
          0.019725571963395,
          -0.37730487571227367,
          -0.29120104642976524,
          -0.2044424261019921,
          0.1934226602445339,
          -0.4334334693918541,
          0.3480840482255154,
          -0.2738812119507279,
          0.13199606268517616,
          -0.48340890436482703,
          -0.39296578639379126,
          0.32672752191678267,
          0.5851741723829158,
          -0.321215170234912,
          -0.10328517707848373,
          -0.5313621870795373,
          0.4299371219681718,
          0.1505548230156313,
          -0.27936372114368274,
          -0.4432850721552249,
          0.05936964360742024,
          -0.5838087306900165,
          0.045300931177214156,
          -0.40411638303274466,
          -0.5096643190181606,
          -0.3166228989701706,
          -0.47684709681162557,
          -0.510051104608521,
          -0.5125339885216463,
          0.1543342672356819,
          -0.08869402053204113,
          0.4927363889023989,
          0.17778480895303328,
          0.45738633556514136,
          -0.34904025575204145,
          0.03891675359892795,
          -0.40178601759151517
         ],
         "yaxis": "y",
         "type": "scatter"
        },
        {
         "hovertemplate": "color=0<br>x=%{x}<br>y=%{y}<extra></extra>",
         "legendgroup": "0",
         "marker": {
          "color": "#EF553B",
          "symbol": "circle"
         },
         "mode": "markers",
         "name": "0",
         "orientation": "v",
         "showlegend": true,
         "x": [
          0.4478945247798857,
          -0.7330260211481716,
          0.8871468046029728,
          -0.3907821125896762,
          1.0262698250890783,
          1.018220151636525,
          -0.2613704893662548,
          0.7515256033019017,
          -0.9996489270737027,
          -0.7875366362474696,
          -0.8230147335898115,
          0.8758698979810124,
          0.3177998602051766,
          0.715556366814177,
          0.3566613983104014,
          0.439975108440806,
          -0.7188365198997172,
          -1.0396189691676763,
          -0.2629553683285397,
          0.059092819461743315,
          0.6676205734058794,
          0.04372037895235535,
          -0.5274812734803971,
          0.5994866645013824,
          -0.7444610933308796,
          0.97559059370672,
          -0.2099872209353583,
          -0.7755953755085497,
          1.008949388667712,
          0.6617745661426186,
          -0.006259374062948082,
          -0.057136676058032895,
          -0.6589532371671267,
          0.56669461604858,
          -0.05821235151672544,
          -0.5396706937923295,
          0.8632086511085544,
          -0.6078057956054794,
          1.0647454323978807,
          -1.0542885641682922,
          0.5359589591589288,
          0.8434299351463478,
          -0.8426353197341477,
          0.8197179564272622,
          -0.20998013437012703,
          -0.8971759071514046,
          0.7100703377243773,
          -0.05156465885688993,
          -0.8406247140663766,
          0.16465148069706262,
          0.8923825939722243,
          0.42817974757339694,
          0.8885747049991122,
          -0.5838720309015543,
          -0.8217618118790002,
          -0.40634420951405004,
          0.3577481369761597,
          -0.6638731181652265,
          -0.8238912206409572,
          0.04899516219089703,
          0.21965275812961985,
          -0.495232432587381,
          -0.9103368780707022,
          0.29494746505440056,
          -0.9507639051735648,
          -0.8657121112076812,
          -1.0061437570633043,
          0.15425581323394905,
          0.8771390641696121,
          0.9066251340480282,
          -0.8850945870168909,
          -0.7342356966248039,
          0.8684846749253027,
          -0.06158787578748584,
          -0.4364195808188705,
          0.762136519286824,
          -0.9915026412139594,
          -0.9366970898638184,
          -0.9773016524231727,
          0.8176098197164167,
          0.9904722095826097,
          0.9044793701355764,
          -0.10284741941393068,
          0.9575808912821675,
          0.3952080769862178,
          -0.07515913186099496,
          -0.1647547427990887,
          -1.0097414145711536,
          0.9152727223841708,
          1.118939510830592,
          -0.5268758766654835,
          0.9495526140713747,
          0.5584095308790327,
          0.388582667125957,
          -0.32169232570561335,
          -0.5986343247283419,
          0.5322740661239224,
          -0.3134687256420135,
          -1.0424388080423377,
          -1.0309099170052756
         ],
         "xaxis": "x",
         "y": [
          0.8757966753165153,
          0.6579534582471516,
          0.5434807291780392,
          0.8377253947711549,
          0.12673011569661835,
          0.2543694040575478,
          0.9700740724741933,
          0.5667958312376886,
          -0.03562003725974791,
          0.6525213889640094,
          0.6532227706405107,
          0.12329466110189953,
          1.0432587682574466,
          0.7829897834782411,
          0.826308982660062,
          0.8205059002724959,
          0.6454986915643172,
          0.35372447721298317,
          0.9883994661218398,
          1.0084536662197974,
          0.7682895987550433,
          1.076309129405955,
          0.8378734857244643,
          0.7673029923517113,
          0.4650555130881365,
          0.39559533214923964,
          1.0268471054835422,
          0.42265684570537815,
          0.1333905928461738,
          0.9204739864216769,
          0.9293813531056102,
          0.9393517218805111,
          0.5538338225738408,
          0.9334047615992238,
          0.8706283135479216,
          0.8137386123929302,
          0.45669607702732007,
          0.826185436489934,
          0.3453540317186449,
          -0.01743023977815738,
          0.8179183003456868,
          0.49921393868064284,
          0.6246053627748007,
          0.32408720332917107,
          0.971092945778212,
          0.4620931470122587,
          0.5706931106162975,
          1.0263701194174397,
          0.3388771706422022,
          0.8927097836968281,
          0.08963343729716045,
          0.9383198317306505,
          0.6563631332014265,
          0.8470565784476544,
          0.48301972676158467,
          0.9292713693391415,
          0.9204269619641428,
          0.5209550674073508,
          0.8099989603860291,
          1.0499895586847583,
          0.8345063576859129,
          0.9422429189969801,
          0.2341129469996438,
          0.9120717112862131,
          0.08985686402559583,
          0.24263579254759876,
          0.29067949886489136,
          1.0068635768647036,
          0.6435994973563441,
          0.12607480813851715,
          0.4291643152990071,
          0.7747292336862173,
          0.479253232110853,
          0.9890521440404708,
          0.9366022375547673,
          0.6203250926728492,
          0.4384849612296051,
          0.1783120710251874,
          0.22080669116284013,
          0.5355931595839617,
          0.05416975447216506,
          0.38845887899321074,
          1.1484412332165113,
          0.14697712973508031,
          0.9820771284917486,
          0.9759862457177593,
          0.9338689461082148,
          0.09044812868002813,
          0.25590043410759544,
          0.03815683580105679,
          0.8467972931139804,
          0.02191387910545065,
          0.6161794150404224,
          0.8108347531644112,
          0.9533455433554969,
          0.8537518770488831,
          0.6622903850485635,
          0.894487563533642,
          0.132907320392299,
          0.2264689674889564
         ],
         "yaxis": "y",
         "type": "scatter"
        }
       ],
       "layout": {
        "template": {
         "data": {
          "histogram2dcontour": [
           {
            "type": "histogram2dcontour",
            "colorbar": {
             "outlinewidth": 0,
             "ticks": ""
            },
            "colorscale": [
             [
              0.0,
              "#0d0887"
             ],
             [
              0.1111111111111111,
              "#46039f"
             ],
             [
              0.2222222222222222,
              "#7201a8"
             ],
             [
              0.3333333333333333,
              "#9c179e"
             ],
             [
              0.4444444444444444,
              "#bd3786"
             ],
             [
              0.5555555555555556,
              "#d8576b"
             ],
             [
              0.6666666666666666,
              "#ed7953"
             ],
             [
              0.7777777777777778,
              "#fb9f3a"
             ],
             [
              0.8888888888888888,
              "#fdca26"
             ],
             [
              1.0,
              "#f0f921"
             ]
            ]
           }
          ],
          "choropleth": [
           {
            "type": "choropleth",
            "colorbar": {
             "outlinewidth": 0,
             "ticks": ""
            }
           }
          ],
          "histogram2d": [
           {
            "type": "histogram2d",
            "colorbar": {
             "outlinewidth": 0,
             "ticks": ""
            },
            "colorscale": [
             [
              0.0,
              "#0d0887"
             ],
             [
              0.1111111111111111,
              "#46039f"
             ],
             [
              0.2222222222222222,
              "#7201a8"
             ],
             [
              0.3333333333333333,
              "#9c179e"
             ],
             [
              0.4444444444444444,
              "#bd3786"
             ],
             [
              0.5555555555555556,
              "#d8576b"
             ],
             [
              0.6666666666666666,
              "#ed7953"
             ],
             [
              0.7777777777777778,
              "#fb9f3a"
             ],
             [
              0.8888888888888888,
              "#fdca26"
             ],
             [
              1.0,
              "#f0f921"
             ]
            ]
           }
          ],
          "heatmap": [
           {
            "type": "heatmap",
            "colorbar": {
             "outlinewidth": 0,
             "ticks": ""
            },
            "colorscale": [
             [
              0.0,
              "#0d0887"
             ],
             [
              0.1111111111111111,
              "#46039f"
             ],
             [
              0.2222222222222222,
              "#7201a8"
             ],
             [
              0.3333333333333333,
              "#9c179e"
             ],
             [
              0.4444444444444444,
              "#bd3786"
             ],
             [
              0.5555555555555556,
              "#d8576b"
             ],
             [
              0.6666666666666666,
              "#ed7953"
             ],
             [
              0.7777777777777778,
              "#fb9f3a"
             ],
             [
              0.8888888888888888,
              "#fdca26"
             ],
             [
              1.0,
              "#f0f921"
             ]
            ]
           }
          ],
          "heatmapgl": [
           {
            "type": "heatmapgl",
            "colorbar": {
             "outlinewidth": 0,
             "ticks": ""
            },
            "colorscale": [
             [
              0.0,
              "#0d0887"
             ],
             [
              0.1111111111111111,
              "#46039f"
             ],
             [
              0.2222222222222222,
              "#7201a8"
             ],
             [
              0.3333333333333333,
              "#9c179e"
             ],
             [
              0.4444444444444444,
              "#bd3786"
             ],
             [
              0.5555555555555556,
              "#d8576b"
             ],
             [
              0.6666666666666666,
              "#ed7953"
             ],
             [
              0.7777777777777778,
              "#fb9f3a"
             ],
             [
              0.8888888888888888,
              "#fdca26"
             ],
             [
              1.0,
              "#f0f921"
             ]
            ]
           }
          ],
          "contourcarpet": [
           {
            "type": "contourcarpet",
            "colorbar": {
             "outlinewidth": 0,
             "ticks": ""
            }
           }
          ],
          "contour": [
           {
            "type": "contour",
            "colorbar": {
             "outlinewidth": 0,
             "ticks": ""
            },
            "colorscale": [
             [
              0.0,
              "#0d0887"
             ],
             [
              0.1111111111111111,
              "#46039f"
             ],
             [
              0.2222222222222222,
              "#7201a8"
             ],
             [
              0.3333333333333333,
              "#9c179e"
             ],
             [
              0.4444444444444444,
              "#bd3786"
             ],
             [
              0.5555555555555556,
              "#d8576b"
             ],
             [
              0.6666666666666666,
              "#ed7953"
             ],
             [
              0.7777777777777778,
              "#fb9f3a"
             ],
             [
              0.8888888888888888,
              "#fdca26"
             ],
             [
              1.0,
              "#f0f921"
             ]
            ]
           }
          ],
          "surface": [
           {
            "type": "surface",
            "colorbar": {
             "outlinewidth": 0,
             "ticks": ""
            },
            "colorscale": [
             [
              0.0,
              "#0d0887"
             ],
             [
              0.1111111111111111,
              "#46039f"
             ],
             [
              0.2222222222222222,
              "#7201a8"
             ],
             [
              0.3333333333333333,
              "#9c179e"
             ],
             [
              0.4444444444444444,
              "#bd3786"
             ],
             [
              0.5555555555555556,
              "#d8576b"
             ],
             [
              0.6666666666666666,
              "#ed7953"
             ],
             [
              0.7777777777777778,
              "#fb9f3a"
             ],
             [
              0.8888888888888888,
              "#fdca26"
             ],
             [
              1.0,
              "#f0f921"
             ]
            ]
           }
          ],
          "mesh3d": [
           {
            "type": "mesh3d",
            "colorbar": {
             "outlinewidth": 0,
             "ticks": ""
            }
           }
          ],
          "scatter": [
           {
            "fillpattern": {
             "fillmode": "overlay",
             "size": 10,
             "solidity": 0.2
            },
            "type": "scatter"
           }
          ],
          "parcoords": [
           {
            "type": "parcoords",
            "line": {
             "colorbar": {
              "outlinewidth": 0,
              "ticks": ""
             }
            }
           }
          ],
          "scatterpolargl": [
           {
            "type": "scatterpolargl",
            "marker": {
             "colorbar": {
              "outlinewidth": 0,
              "ticks": ""
             }
            }
           }
          ],
          "bar": [
           {
            "error_x": {
             "color": "#2a3f5f"
            },
            "error_y": {
             "color": "#2a3f5f"
            },
            "marker": {
             "line": {
              "color": "#E5ECF6",
              "width": 0.5
             },
             "pattern": {
              "fillmode": "overlay",
              "size": 10,
              "solidity": 0.2
             }
            },
            "type": "bar"
           }
          ],
          "scattergeo": [
           {
            "type": "scattergeo",
            "marker": {
             "colorbar": {
              "outlinewidth": 0,
              "ticks": ""
             }
            }
           }
          ],
          "scatterpolar": [
           {
            "type": "scatterpolar",
            "marker": {
             "colorbar": {
              "outlinewidth": 0,
              "ticks": ""
             }
            }
           }
          ],
          "histogram": [
           {
            "marker": {
             "pattern": {
              "fillmode": "overlay",
              "size": 10,
              "solidity": 0.2
             }
            },
            "type": "histogram"
           }
          ],
          "scattergl": [
           {
            "type": "scattergl",
            "marker": {
             "colorbar": {
              "outlinewidth": 0,
              "ticks": ""
             }
            }
           }
          ],
          "scatter3d": [
           {
            "type": "scatter3d",
            "line": {
             "colorbar": {
              "outlinewidth": 0,
              "ticks": ""
             }
            },
            "marker": {
             "colorbar": {
              "outlinewidth": 0,
              "ticks": ""
             }
            }
           }
          ],
          "scattermapbox": [
           {
            "type": "scattermapbox",
            "marker": {
             "colorbar": {
              "outlinewidth": 0,
              "ticks": ""
             }
            }
           }
          ],
          "scatterternary": [
           {
            "type": "scatterternary",
            "marker": {
             "colorbar": {
              "outlinewidth": 0,
              "ticks": ""
             }
            }
           }
          ],
          "scattercarpet": [
           {
            "type": "scattercarpet",
            "marker": {
             "colorbar": {
              "outlinewidth": 0,
              "ticks": ""
             }
            }
           }
          ],
          "carpet": [
           {
            "aaxis": {
             "endlinecolor": "#2a3f5f",
             "gridcolor": "white",
             "linecolor": "white",
             "minorgridcolor": "white",
             "startlinecolor": "#2a3f5f"
            },
            "baxis": {
             "endlinecolor": "#2a3f5f",
             "gridcolor": "white",
             "linecolor": "white",
             "minorgridcolor": "white",
             "startlinecolor": "#2a3f5f"
            },
            "type": "carpet"
           }
          ],
          "table": [
           {
            "cells": {
             "fill": {
              "color": "#EBF0F8"
             },
             "line": {
              "color": "white"
             }
            },
            "header": {
             "fill": {
              "color": "#C8D4E3"
             },
             "line": {
              "color": "white"
             }
            },
            "type": "table"
           }
          ],
          "barpolar": [
           {
            "marker": {
             "line": {
              "color": "#E5ECF6",
              "width": 0.5
             },
             "pattern": {
              "fillmode": "overlay",
              "size": 10,
              "solidity": 0.2
             }
            },
            "type": "barpolar"
           }
          ],
          "pie": [
           {
            "automargin": true,
            "type": "pie"
           }
          ]
         },
         "layout": {
          "autotypenumbers": "strict",
          "colorway": [
           "#636efa",
           "#EF553B",
           "#00cc96",
           "#ab63fa",
           "#FFA15A",
           "#19d3f3",
           "#FF6692",
           "#B6E880",
           "#FF97FF",
           "#FECB52"
          ],
          "font": {
           "color": "#2a3f5f"
          },
          "hovermode": "closest",
          "hoverlabel": {
           "align": "left"
          },
          "paper_bgcolor": "white",
          "plot_bgcolor": "#E5ECF6",
          "polar": {
           "bgcolor": "#E5ECF6",
           "angularaxis": {
            "gridcolor": "white",
            "linecolor": "white",
            "ticks": ""
           },
           "radialaxis": {
            "gridcolor": "white",
            "linecolor": "white",
            "ticks": ""
           }
          },
          "ternary": {
           "bgcolor": "#E5ECF6",
           "aaxis": {
            "gridcolor": "white",
            "linecolor": "white",
            "ticks": ""
           },
           "baxis": {
            "gridcolor": "white",
            "linecolor": "white",
            "ticks": ""
           },
           "caxis": {
            "gridcolor": "white",
            "linecolor": "white",
            "ticks": ""
           }
          },
          "coloraxis": {
           "colorbar": {
            "outlinewidth": 0,
            "ticks": ""
           }
          },
          "colorscale": {
           "sequential": [
            [
             0.0,
             "#0d0887"
            ],
            [
             0.1111111111111111,
             "#46039f"
            ],
            [
             0.2222222222222222,
             "#7201a8"
            ],
            [
             0.3333333333333333,
             "#9c179e"
            ],
            [
             0.4444444444444444,
             "#bd3786"
            ],
            [
             0.5555555555555556,
             "#d8576b"
            ],
            [
             0.6666666666666666,
             "#ed7953"
            ],
            [
             0.7777777777777778,
             "#fb9f3a"
            ],
            [
             0.8888888888888888,
             "#fdca26"
            ],
            [
             1.0,
             "#f0f921"
            ]
           ],
           "sequentialminus": [
            [
             0.0,
             "#0d0887"
            ],
            [
             0.1111111111111111,
             "#46039f"
            ],
            [
             0.2222222222222222,
             "#7201a8"
            ],
            [
             0.3333333333333333,
             "#9c179e"
            ],
            [
             0.4444444444444444,
             "#bd3786"
            ],
            [
             0.5555555555555556,
             "#d8576b"
            ],
            [
             0.6666666666666666,
             "#ed7953"
            ],
            [
             0.7777777777777778,
             "#fb9f3a"
            ],
            [
             0.8888888888888888,
             "#fdca26"
            ],
            [
             1.0,
             "#f0f921"
            ]
           ],
           "diverging": [
            [
             0,
             "#8e0152"
            ],
            [
             0.1,
             "#c51b7d"
            ],
            [
             0.2,
             "#de77ae"
            ],
            [
             0.3,
             "#f1b6da"
            ],
            [
             0.4,
             "#fde0ef"
            ],
            [
             0.5,
             "#f7f7f7"
            ],
            [
             0.6,
             "#e6f5d0"
            ],
            [
             0.7,
             "#b8e186"
            ],
            [
             0.8,
             "#7fbc41"
            ],
            [
             0.9,
             "#4d9221"
            ],
            [
             1,
             "#276419"
            ]
           ]
          },
          "xaxis": {
           "gridcolor": "white",
           "linecolor": "white",
           "ticks": "",
           "title": {
            "standoff": 15
           },
           "zerolinecolor": "white",
           "automargin": true,
           "zerolinewidth": 2
          },
          "yaxis": {
           "gridcolor": "white",
           "linecolor": "white",
           "ticks": "",
           "title": {
            "standoff": 15
           },
           "zerolinecolor": "white",
           "automargin": true,
           "zerolinewidth": 2
          },
          "scene": {
           "xaxis": {
            "backgroundcolor": "#E5ECF6",
            "gridcolor": "white",
            "linecolor": "white",
            "showbackground": true,
            "ticks": "",
            "zerolinecolor": "white",
            "gridwidth": 2
           },
           "yaxis": {
            "backgroundcolor": "#E5ECF6",
            "gridcolor": "white",
            "linecolor": "white",
            "showbackground": true,
            "ticks": "",
            "zerolinecolor": "white",
            "gridwidth": 2
           },
           "zaxis": {
            "backgroundcolor": "#E5ECF6",
            "gridcolor": "white",
            "linecolor": "white",
            "showbackground": true,
            "ticks": "",
            "zerolinecolor": "white",
            "gridwidth": 2
           }
          },
          "shapedefaults": {
           "line": {
            "color": "#2a3f5f"
           }
          },
          "annotationdefaults": {
           "arrowcolor": "#2a3f5f",
           "arrowhead": 0,
           "arrowwidth": 1
          },
          "geo": {
           "bgcolor": "white",
           "landcolor": "#E5ECF6",
           "subunitcolor": "white",
           "showland": true,
           "showlakes": true,
           "lakecolor": "white"
          },
          "title": {
           "x": 0.05
          },
          "mapbox": {
           "style": "light"
          }
         }
        },
        "xaxis": {
         "anchor": "y",
         "domain": [
          0.0,
          1.0
         ],
         "title": {
          "text": "x"
         }
        },
        "yaxis": {
         "anchor": "x",
         "domain": [
          0.0,
          1.0
         ],
         "title": {
          "text": "y"
         }
        },
        "legend": {
         "title": {
          "text": "color"
         },
         "tracegroupgap": 0
        },
        "margin": {
         "t": 60
        }
       },
       "config": {
        "plotlyServerURL": "https://plot.ly"
       }
      },
      "text/html": "<div>                            <div id=\"06631224-1bad-453f-ac68-5718aed872ff\" class=\"plotly-graph-div\" style=\"height:525px; width:100%;\"></div>            <script type=\"text/javascript\">                require([\"plotly\"], function(Plotly) {                    window.PLOTLYENV=window.PLOTLYENV || {};                                    if (document.getElementById(\"06631224-1bad-453f-ac68-5718aed872ff\")) {                    Plotly.newPlot(                        \"06631224-1bad-453f-ac68-5718aed872ff\",                        [{\"hovertemplate\":\"color=1<br>x=%{x}<br>y=%{y}<extra></extra>\",\"legendgroup\":\"1\",\"marker\":{\"color\":\"#636efa\",\"symbol\":\"circle\"},\"mode\":\"markers\",\"name\":\"1\",\"orientation\":\"v\",\"showlegend\":true,\"x\":[0.38531326691070367,1.3438528558119798,0.07643361271402761,2.010398893646984,0.9721341061212622,1.9162881535516567,1.7957261176463082,0.31485345264214465,0.5054387998476707,1.0212662265102836,0.8720390012495841,-0.020179335916126022,1.329221598892002,2.0029855100627376,2.0144862219929784,0.2749526569865458,1.6915744768374263,0.010445705688042171,0.9103251782378509,1.6654818015134725,0.20635045005070207,0.3526155327141865,1.918561953568501,1.9640589867714897,1.904392940645224,1.9401085848334743,1.2260965528211751,1.6593721152171772,1.7627758139481025,0.669841693632564,0.3773030747233638,0.5611995492595315,0.1332998407083478,0.711780680223981,2.008509971645317,1.4342206130411272,1.5840174772963223,0.026550438959583547,0.10383905215709542,1.5750648457852943,1.8619726898827902,1.7757223542043872,1.9756460757669976,0.3169844912816923,1.4094085512653969,1.2203646921781808,1.764656360017662,0.2706269075975074,-0.0871789387523037,1.7294208667625963,1.0489959038366767,0.8732066261222382,0.5168119133037272,1.4390902380259132,0.7044627063233487,0.08291993837507439,1.3173859957899474,1.8581224485704095,1.9948892841610277,0.0608110793955911,0.03697942164594004,1.927374669196014,0.20889174558881218,-0.003995086820202859,0.6021019514107687,1.529001329262542,0.034529311283493985,0.06976494367195099,0.6612003202013487,2.069598267963111,1.4990734362011773,1.9664225091370302,1.1529912440041892,1.1562181337816553,2.0025813863980493,2.0676851844159567,0.6841134159767834,1.8922251457694657,1.2229415044765286,2.093871294486196,0.1056569250079494,0.32316792620754387,0.972297693893897,0.1519044789643003,0.9744524114582741,0.12497480990616941,1.4335864188149834,0.9224332997005182,1.579133835159084,0.6069721467629392,1.1514847859677915,0.6810624769587984,-0.018106759004741048,1.7059354710378998,-0.007182559170516608,-0.042090543739330424,-0.06578117348574018,0.4569120304491371,0.04703016962680032,0.4322291354149276],\"xaxis\":\"x\",\"y\":[-0.2680804602368957,-0.48272381286786936,0.13606012845272913,0.39392862058193495,-0.5846017872524807,0.3145017279406161,0.08362759936246913,-0.27656887196628493,-0.5475688055780035,-0.5088860517371689,-0.5481450674349355,0.399855798968703,-0.3469041973817125,0.26414657363128385,0.25805781551634027,-0.18143779082825012,-0.3397512108873899,0.3305615608982965,-0.5614348947986436,-0.1244893727350329,0.1673960707374928,-0.23883587301834247,0.13253394791020723,0.19674166835013157,-0.08420285726793628,0.17726537161915165,-0.4600563657736122,-0.15188452316428225,-0.22562115888480969,-0.3591577484165265,-0.06279839582026411,-0.40239861489718215,-0.18779238359418313,-0.5173402398349081,-0.004943046563353731,-0.366291777751001,-0.21809001659123156,0.09027892899464149,-0.044591796343822494,-0.4003768083911017,0.5413499381413773,-0.2431624569168937,-0.08580446894369556,-0.23049386888751994,-0.32099533220058496,-0.32595405074663225,0.006312751844781472,-0.21360908442188353,0.27754945045962454,-0.30819411233354715,-0.4688085759274018,-0.5196717663552486,-0.4292566211780421,-0.3156578050007269,-0.5800310904196504,0.3967842157344674,-0.3955262827360116,0.2751249800844913,0.24221658134179072,0.3826667393754962,0.4987941221942338,-0.13651011756901427,-0.20243836648722388,0.019725571963395,-0.37730487571227367,-0.29120104642976524,-0.2044424261019921,0.1934226602445339,-0.4334334693918541,0.3480840482255154,-0.2738812119507279,0.13199606268517616,-0.48340890436482703,-0.39296578639379126,0.32672752191678267,0.5851741723829158,-0.321215170234912,-0.10328517707848373,-0.5313621870795373,0.4299371219681718,0.1505548230156313,-0.27936372114368274,-0.4432850721552249,0.05936964360742024,-0.5838087306900165,0.045300931177214156,-0.40411638303274466,-0.5096643190181606,-0.3166228989701706,-0.47684709681162557,-0.510051104608521,-0.5125339885216463,0.1543342672356819,-0.08869402053204113,0.4927363889023989,0.17778480895303328,0.45738633556514136,-0.34904025575204145,0.03891675359892795,-0.40178601759151517],\"yaxis\":\"y\",\"type\":\"scatter\"},{\"hovertemplate\":\"color=0<br>x=%{x}<br>y=%{y}<extra></extra>\",\"legendgroup\":\"0\",\"marker\":{\"color\":\"#EF553B\",\"symbol\":\"circle\"},\"mode\":\"markers\",\"name\":\"0\",\"orientation\":\"v\",\"showlegend\":true,\"x\":[0.4478945247798857,-0.7330260211481716,0.8871468046029728,-0.3907821125896762,1.0262698250890783,1.018220151636525,-0.2613704893662548,0.7515256033019017,-0.9996489270737027,-0.7875366362474696,-0.8230147335898115,0.8758698979810124,0.3177998602051766,0.715556366814177,0.3566613983104014,0.439975108440806,-0.7188365198997172,-1.0396189691676763,-0.2629553683285397,0.059092819461743315,0.6676205734058794,0.04372037895235535,-0.5274812734803971,0.5994866645013824,-0.7444610933308796,0.97559059370672,-0.2099872209353583,-0.7755953755085497,1.008949388667712,0.6617745661426186,-0.006259374062948082,-0.057136676058032895,-0.6589532371671267,0.56669461604858,-0.05821235151672544,-0.5396706937923295,0.8632086511085544,-0.6078057956054794,1.0647454323978807,-1.0542885641682922,0.5359589591589288,0.8434299351463478,-0.8426353197341477,0.8197179564272622,-0.20998013437012703,-0.8971759071514046,0.7100703377243773,-0.05156465885688993,-0.8406247140663766,0.16465148069706262,0.8923825939722243,0.42817974757339694,0.8885747049991122,-0.5838720309015543,-0.8217618118790002,-0.40634420951405004,0.3577481369761597,-0.6638731181652265,-0.8238912206409572,0.04899516219089703,0.21965275812961985,-0.495232432587381,-0.9103368780707022,0.29494746505440056,-0.9507639051735648,-0.8657121112076812,-1.0061437570633043,0.15425581323394905,0.8771390641696121,0.9066251340480282,-0.8850945870168909,-0.7342356966248039,0.8684846749253027,-0.06158787578748584,-0.4364195808188705,0.762136519286824,-0.9915026412139594,-0.9366970898638184,-0.9773016524231727,0.8176098197164167,0.9904722095826097,0.9044793701355764,-0.10284741941393068,0.9575808912821675,0.3952080769862178,-0.07515913186099496,-0.1647547427990887,-1.0097414145711536,0.9152727223841708,1.118939510830592,-0.5268758766654835,0.9495526140713747,0.5584095308790327,0.388582667125957,-0.32169232570561335,-0.5986343247283419,0.5322740661239224,-0.3134687256420135,-1.0424388080423377,-1.0309099170052756],\"xaxis\":\"x\",\"y\":[0.8757966753165153,0.6579534582471516,0.5434807291780392,0.8377253947711549,0.12673011569661835,0.2543694040575478,0.9700740724741933,0.5667958312376886,-0.03562003725974791,0.6525213889640094,0.6532227706405107,0.12329466110189953,1.0432587682574466,0.7829897834782411,0.826308982660062,0.8205059002724959,0.6454986915643172,0.35372447721298317,0.9883994661218398,1.0084536662197974,0.7682895987550433,1.076309129405955,0.8378734857244643,0.7673029923517113,0.4650555130881365,0.39559533214923964,1.0268471054835422,0.42265684570537815,0.1333905928461738,0.9204739864216769,0.9293813531056102,0.9393517218805111,0.5538338225738408,0.9334047615992238,0.8706283135479216,0.8137386123929302,0.45669607702732007,0.826185436489934,0.3453540317186449,-0.01743023977815738,0.8179183003456868,0.49921393868064284,0.6246053627748007,0.32408720332917107,0.971092945778212,0.4620931470122587,0.5706931106162975,1.0263701194174397,0.3388771706422022,0.8927097836968281,0.08963343729716045,0.9383198317306505,0.6563631332014265,0.8470565784476544,0.48301972676158467,0.9292713693391415,0.9204269619641428,0.5209550674073508,0.8099989603860291,1.0499895586847583,0.8345063576859129,0.9422429189969801,0.2341129469996438,0.9120717112862131,0.08985686402559583,0.24263579254759876,0.29067949886489136,1.0068635768647036,0.6435994973563441,0.12607480813851715,0.4291643152990071,0.7747292336862173,0.479253232110853,0.9890521440404708,0.9366022375547673,0.6203250926728492,0.4384849612296051,0.1783120710251874,0.22080669116284013,0.5355931595839617,0.05416975447216506,0.38845887899321074,1.1484412332165113,0.14697712973508031,0.9820771284917486,0.9759862457177593,0.9338689461082148,0.09044812868002813,0.25590043410759544,0.03815683580105679,0.8467972931139804,0.02191387910545065,0.6161794150404224,0.8108347531644112,0.9533455433554969,0.8537518770488831,0.6622903850485635,0.894487563533642,0.132907320392299,0.2264689674889564],\"yaxis\":\"y\",\"type\":\"scatter\"}],                        {\"template\":{\"data\":{\"histogram2dcontour\":[{\"type\":\"histogram2dcontour\",\"colorbar\":{\"outlinewidth\":0,\"ticks\":\"\"},\"colorscale\":[[0.0,\"#0d0887\"],[0.1111111111111111,\"#46039f\"],[0.2222222222222222,\"#7201a8\"],[0.3333333333333333,\"#9c179e\"],[0.4444444444444444,\"#bd3786\"],[0.5555555555555556,\"#d8576b\"],[0.6666666666666666,\"#ed7953\"],[0.7777777777777778,\"#fb9f3a\"],[0.8888888888888888,\"#fdca26\"],[1.0,\"#f0f921\"]]}],\"choropleth\":[{\"type\":\"choropleth\",\"colorbar\":{\"outlinewidth\":0,\"ticks\":\"\"}}],\"histogram2d\":[{\"type\":\"histogram2d\",\"colorbar\":{\"outlinewidth\":0,\"ticks\":\"\"},\"colorscale\":[[0.0,\"#0d0887\"],[0.1111111111111111,\"#46039f\"],[0.2222222222222222,\"#7201a8\"],[0.3333333333333333,\"#9c179e\"],[0.4444444444444444,\"#bd3786\"],[0.5555555555555556,\"#d8576b\"],[0.6666666666666666,\"#ed7953\"],[0.7777777777777778,\"#fb9f3a\"],[0.8888888888888888,\"#fdca26\"],[1.0,\"#f0f921\"]]}],\"heatmap\":[{\"type\":\"heatmap\",\"colorbar\":{\"outlinewidth\":0,\"ticks\":\"\"},\"colorscale\":[[0.0,\"#0d0887\"],[0.1111111111111111,\"#46039f\"],[0.2222222222222222,\"#7201a8\"],[0.3333333333333333,\"#9c179e\"],[0.4444444444444444,\"#bd3786\"],[0.5555555555555556,\"#d8576b\"],[0.6666666666666666,\"#ed7953\"],[0.7777777777777778,\"#fb9f3a\"],[0.8888888888888888,\"#fdca26\"],[1.0,\"#f0f921\"]]}],\"heatmapgl\":[{\"type\":\"heatmapgl\",\"colorbar\":{\"outlinewidth\":0,\"ticks\":\"\"},\"colorscale\":[[0.0,\"#0d0887\"],[0.1111111111111111,\"#46039f\"],[0.2222222222222222,\"#7201a8\"],[0.3333333333333333,\"#9c179e\"],[0.4444444444444444,\"#bd3786\"],[0.5555555555555556,\"#d8576b\"],[0.6666666666666666,\"#ed7953\"],[0.7777777777777778,\"#fb9f3a\"],[0.8888888888888888,\"#fdca26\"],[1.0,\"#f0f921\"]]}],\"contourcarpet\":[{\"type\":\"contourcarpet\",\"colorbar\":{\"outlinewidth\":0,\"ticks\":\"\"}}],\"contour\":[{\"type\":\"contour\",\"colorbar\":{\"outlinewidth\":0,\"ticks\":\"\"},\"colorscale\":[[0.0,\"#0d0887\"],[0.1111111111111111,\"#46039f\"],[0.2222222222222222,\"#7201a8\"],[0.3333333333333333,\"#9c179e\"],[0.4444444444444444,\"#bd3786\"],[0.5555555555555556,\"#d8576b\"],[0.6666666666666666,\"#ed7953\"],[0.7777777777777778,\"#fb9f3a\"],[0.8888888888888888,\"#fdca26\"],[1.0,\"#f0f921\"]]}],\"surface\":[{\"type\":\"surface\",\"colorbar\":{\"outlinewidth\":0,\"ticks\":\"\"},\"colorscale\":[[0.0,\"#0d0887\"],[0.1111111111111111,\"#46039f\"],[0.2222222222222222,\"#7201a8\"],[0.3333333333333333,\"#9c179e\"],[0.4444444444444444,\"#bd3786\"],[0.5555555555555556,\"#d8576b\"],[0.6666666666666666,\"#ed7953\"],[0.7777777777777778,\"#fb9f3a\"],[0.8888888888888888,\"#fdca26\"],[1.0,\"#f0f921\"]]}],\"mesh3d\":[{\"type\":\"mesh3d\",\"colorbar\":{\"outlinewidth\":0,\"ticks\":\"\"}}],\"scatter\":[{\"fillpattern\":{\"fillmode\":\"overlay\",\"size\":10,\"solidity\":0.2},\"type\":\"scatter\"}],\"parcoords\":[{\"type\":\"parcoords\",\"line\":{\"colorbar\":{\"outlinewidth\":0,\"ticks\":\"\"}}}],\"scatterpolargl\":[{\"type\":\"scatterpolargl\",\"marker\":{\"colorbar\":{\"outlinewidth\":0,\"ticks\":\"\"}}}],\"bar\":[{\"error_x\":{\"color\":\"#2a3f5f\"},\"error_y\":{\"color\":\"#2a3f5f\"},\"marker\":{\"line\":{\"color\":\"#E5ECF6\",\"width\":0.5},\"pattern\":{\"fillmode\":\"overlay\",\"size\":10,\"solidity\":0.2}},\"type\":\"bar\"}],\"scattergeo\":[{\"type\":\"scattergeo\",\"marker\":{\"colorbar\":{\"outlinewidth\":0,\"ticks\":\"\"}}}],\"scatterpolar\":[{\"type\":\"scatterpolar\",\"marker\":{\"colorbar\":{\"outlinewidth\":0,\"ticks\":\"\"}}}],\"histogram\":[{\"marker\":{\"pattern\":{\"fillmode\":\"overlay\",\"size\":10,\"solidity\":0.2}},\"type\":\"histogram\"}],\"scattergl\":[{\"type\":\"scattergl\",\"marker\":{\"colorbar\":{\"outlinewidth\":0,\"ticks\":\"\"}}}],\"scatter3d\":[{\"type\":\"scatter3d\",\"line\":{\"colorbar\":{\"outlinewidth\":0,\"ticks\":\"\"}},\"marker\":{\"colorbar\":{\"outlinewidth\":0,\"ticks\":\"\"}}}],\"scattermapbox\":[{\"type\":\"scattermapbox\",\"marker\":{\"colorbar\":{\"outlinewidth\":0,\"ticks\":\"\"}}}],\"scatterternary\":[{\"type\":\"scatterternary\",\"marker\":{\"colorbar\":{\"outlinewidth\":0,\"ticks\":\"\"}}}],\"scattercarpet\":[{\"type\":\"scattercarpet\",\"marker\":{\"colorbar\":{\"outlinewidth\":0,\"ticks\":\"\"}}}],\"carpet\":[{\"aaxis\":{\"endlinecolor\":\"#2a3f5f\",\"gridcolor\":\"white\",\"linecolor\":\"white\",\"minorgridcolor\":\"white\",\"startlinecolor\":\"#2a3f5f\"},\"baxis\":{\"endlinecolor\":\"#2a3f5f\",\"gridcolor\":\"white\",\"linecolor\":\"white\",\"minorgridcolor\":\"white\",\"startlinecolor\":\"#2a3f5f\"},\"type\":\"carpet\"}],\"table\":[{\"cells\":{\"fill\":{\"color\":\"#EBF0F8\"},\"line\":{\"color\":\"white\"}},\"header\":{\"fill\":{\"color\":\"#C8D4E3\"},\"line\":{\"color\":\"white\"}},\"type\":\"table\"}],\"barpolar\":[{\"marker\":{\"line\":{\"color\":\"#E5ECF6\",\"width\":0.5},\"pattern\":{\"fillmode\":\"overlay\",\"size\":10,\"solidity\":0.2}},\"type\":\"barpolar\"}],\"pie\":[{\"automargin\":true,\"type\":\"pie\"}]},\"layout\":{\"autotypenumbers\":\"strict\",\"colorway\":[\"#636efa\",\"#EF553B\",\"#00cc96\",\"#ab63fa\",\"#FFA15A\",\"#19d3f3\",\"#FF6692\",\"#B6E880\",\"#FF97FF\",\"#FECB52\"],\"font\":{\"color\":\"#2a3f5f\"},\"hovermode\":\"closest\",\"hoverlabel\":{\"align\":\"left\"},\"paper_bgcolor\":\"white\",\"plot_bgcolor\":\"#E5ECF6\",\"polar\":{\"bgcolor\":\"#E5ECF6\",\"angularaxis\":{\"gridcolor\":\"white\",\"linecolor\":\"white\",\"ticks\":\"\"},\"radialaxis\":{\"gridcolor\":\"white\",\"linecolor\":\"white\",\"ticks\":\"\"}},\"ternary\":{\"bgcolor\":\"#E5ECF6\",\"aaxis\":{\"gridcolor\":\"white\",\"linecolor\":\"white\",\"ticks\":\"\"},\"baxis\":{\"gridcolor\":\"white\",\"linecolor\":\"white\",\"ticks\":\"\"},\"caxis\":{\"gridcolor\":\"white\",\"linecolor\":\"white\",\"ticks\":\"\"}},\"coloraxis\":{\"colorbar\":{\"outlinewidth\":0,\"ticks\":\"\"}},\"colorscale\":{\"sequential\":[[0.0,\"#0d0887\"],[0.1111111111111111,\"#46039f\"],[0.2222222222222222,\"#7201a8\"],[0.3333333333333333,\"#9c179e\"],[0.4444444444444444,\"#bd3786\"],[0.5555555555555556,\"#d8576b\"],[0.6666666666666666,\"#ed7953\"],[0.7777777777777778,\"#fb9f3a\"],[0.8888888888888888,\"#fdca26\"],[1.0,\"#f0f921\"]],\"sequentialminus\":[[0.0,\"#0d0887\"],[0.1111111111111111,\"#46039f\"],[0.2222222222222222,\"#7201a8\"],[0.3333333333333333,\"#9c179e\"],[0.4444444444444444,\"#bd3786\"],[0.5555555555555556,\"#d8576b\"],[0.6666666666666666,\"#ed7953\"],[0.7777777777777778,\"#fb9f3a\"],[0.8888888888888888,\"#fdca26\"],[1.0,\"#f0f921\"]],\"diverging\":[[0,\"#8e0152\"],[0.1,\"#c51b7d\"],[0.2,\"#de77ae\"],[0.3,\"#f1b6da\"],[0.4,\"#fde0ef\"],[0.5,\"#f7f7f7\"],[0.6,\"#e6f5d0\"],[0.7,\"#b8e186\"],[0.8,\"#7fbc41\"],[0.9,\"#4d9221\"],[1,\"#276419\"]]},\"xaxis\":{\"gridcolor\":\"white\",\"linecolor\":\"white\",\"ticks\":\"\",\"title\":{\"standoff\":15},\"zerolinecolor\":\"white\",\"automargin\":true,\"zerolinewidth\":2},\"yaxis\":{\"gridcolor\":\"white\",\"linecolor\":\"white\",\"ticks\":\"\",\"title\":{\"standoff\":15},\"zerolinecolor\":\"white\",\"automargin\":true,\"zerolinewidth\":2},\"scene\":{\"xaxis\":{\"backgroundcolor\":\"#E5ECF6\",\"gridcolor\":\"white\",\"linecolor\":\"white\",\"showbackground\":true,\"ticks\":\"\",\"zerolinecolor\":\"white\",\"gridwidth\":2},\"yaxis\":{\"backgroundcolor\":\"#E5ECF6\",\"gridcolor\":\"white\",\"linecolor\":\"white\",\"showbackground\":true,\"ticks\":\"\",\"zerolinecolor\":\"white\",\"gridwidth\":2},\"zaxis\":{\"backgroundcolor\":\"#E5ECF6\",\"gridcolor\":\"white\",\"linecolor\":\"white\",\"showbackground\":true,\"ticks\":\"\",\"zerolinecolor\":\"white\",\"gridwidth\":2}},\"shapedefaults\":{\"line\":{\"color\":\"#2a3f5f\"}},\"annotationdefaults\":{\"arrowcolor\":\"#2a3f5f\",\"arrowhead\":0,\"arrowwidth\":1},\"geo\":{\"bgcolor\":\"white\",\"landcolor\":\"#E5ECF6\",\"subunitcolor\":\"white\",\"showland\":true,\"showlakes\":true,\"lakecolor\":\"white\"},\"title\":{\"x\":0.05},\"mapbox\":{\"style\":\"light\"}}},\"xaxis\":{\"anchor\":\"y\",\"domain\":[0.0,1.0],\"title\":{\"text\":\"x\"}},\"yaxis\":{\"anchor\":\"x\",\"domain\":[0.0,1.0],\"title\":{\"text\":\"y\"}},\"legend\":{\"title\":{\"text\":\"color\"},\"tracegroupgap\":0},\"margin\":{\"t\":60}},                        {\"responsive\": true}                    ).then(function(){\n                            \nvar gd = document.getElementById('06631224-1bad-453f-ac68-5718aed872ff');\nvar x = new MutationObserver(function (mutations, observer) {{\n        var display = window.getComputedStyle(gd).display;\n        if (!display || display === 'none') {{\n            console.log([gd, 'removed!']);\n            Plotly.purge(gd);\n            observer.disconnect();\n        }}\n}});\n\n// Listen for the removal of the full notebook cells\nvar notebookContainer = gd.closest('#notebook-container');\nif (notebookContainer) {{\n    x.observe(notebookContainer, {childList: true});\n}}\n\n// Listen for the clearing of the current output cell\nvar outputEl = gd.closest('.output');\nif (outputEl) {{\n    x.observe(outputEl, {childList: true});\n}}\n\n                        })                };                });            </script>        </div>"
     },
     "metadata": {},
     "output_type": "display_data"
    }
   ],
   "source": [
    "x3, y3 = make_moons(n_samples=(100,100), noise=0.075)\n",
    "df3 = pd.DataFrame({'x': x3[:,0], 'y': x3[:,1],\"label\":y3,\"kmeans\":[\"TODO\"]*200})\n",
    "fig = px.scatter(df3,x=\"x\",y=\"y\", color=[str(x)  for x in y3])\n",
    "fig.show()"
   ]
  },
  {
   "cell_type": "markdown",
   "metadata": {},
   "source": [
    "### 4. dataset - 2 třídy, 200 datových bodů\n",
    "Použijte funkci ```make_circles``` [odkaz na dokumentaci](https://scikit-learn.org/stable/modules/generated/sklearn.datasets.make_circles.html#sklearn.datasets.make_circles).\n",
    "\n",
    "![dataset1](expected_outputs/dataset4.png)"
   ]
  },
  {
   "cell_type": "code",
   "execution_count": 71,
   "metadata": {
    "scrolled": false
   },
   "outputs": [
    {
     "data": {
      "application/vnd.plotly.v1+json": {
       "data": [
        {
         "hovertemplate": "color=0<br>x=%{x}<br>y=%{y}<extra></extra>",
         "legendgroup": "0",
         "marker": {
          "color": "#636efa",
          "symbol": "circle"
         },
         "mode": "markers",
         "name": "0",
         "orientation": "v",
         "showlegend": true,
         "x": [
          -0.8860665051948676,
          0.33290576854306975,
          -0.40078764345454154,
          -0.6050436762615032,
          -0.07597151192060429,
          -0.14108610294981616,
          0.26575363182641093,
          0.14038225513729752,
          0.9006783003116727,
          -1.0990197331816502,
          -0.7525075331847146,
          0.6998409050073243,
          -0.07569613757774295,
          -0.14247577028244987,
          -0.03545024043018438,
          0.4815726353894952,
          -1.0095743855334145,
          0.7988267663068841,
          -0.7565726789385584,
          1.0128816260475553,
          0.9493804334255767,
          -0.8678403612137655,
          1.0914679779954986,
          -0.9280041437991955,
          0.370631205951065,
          -0.4222476143189306,
          0.9079061152646056,
          -0.8673815212336409,
          -0.33242425507827533,
          0.8219474750601268,
          -0.6898713188851607,
          0.921766486661254,
          0.12049123131758799,
          -0.2607561611824566,
          0.6150138706721944,
          0.4776754074802657,
          -0.53250164261831,
          0.8259129274939835,
          -0.6769935681406479,
          -0.361201358846516,
          0.7694231832014653,
          0.09531133508021866,
          -0.6697991828464442,
          0.9712726781918565,
          -0.9823518801025075,
          0.7466848026284866,
          0.5024963879528944,
          -1.0711004833298967,
          0.48504630070412025,
          -0.6968124920437299,
          -0.6091936953237937,
          0.7614275670808164,
          0.791054580438054,
          0.44589282237308414,
          1.0112770083918852,
          1.1067768174115726,
          -0.9282363741899078,
          -1.0693776808678568,
          -0.619852610508829,
          0.309606220860519,
          0.9675434473636323,
          -0.9335309468490772,
          -0.01411620583108788,
          -0.8054104848223633,
          0.4383326553808847,
          1.1587085053843853,
          -0.6294353919662049,
          -0.40865537126699714,
          -1.090497127759374,
          -0.7427333827014416,
          -0.17568653561012515,
          -0.8241306817138855,
          0.7474631103051415,
          -0.15817338625318678,
          0.583127075037655,
          -0.28117548361966777,
          0.14486913273643426,
          1.0174429573430936,
          1.0608917064997823,
          0.490527985115839,
          -0.5043711064214228,
          -0.6981923098600149,
          -0.793912743734272,
          0.18281393051855133,
          -1.0101813153308832,
          0.8930292562675435,
          -0.42173888412285243,
          -0.05072384981511903,
          0.3571249646410881,
          -0.9024157095214642,
          0.5674936103650997,
          0.6349654247278239,
          0.8293086332727835,
          -0.8011670229426507,
          0.2861475278242582,
          0.0982635333216051,
          -0.985947641687133,
          0.9547283100321448,
          0.861170689181212,
          -0.7350599520123084
         ],
         "xaxis": "x",
         "y": [
          0.4976810692219228,
          -0.9764219976735646,
          -0.9687642833917366,
          -0.7767102721936839,
          0.9740237209293944,
          -0.8852314209059313,
          -0.9832985625799315,
          0.936469124686638,
          0.5590362861908035,
          -0.15296118452111895,
          -0.8711917795372637,
          0.8895936131687738,
          0.8459874568925082,
          -0.940200349691918,
          1.0215325954149905,
          0.9809013566408488,
          0.5865696818339867,
          -0.6056689311965002,
          0.6286098533012767,
          -0.41063667216174404,
          0.11028800489965448,
          -0.3689354398823148,
          0.03970712279687456,
          -0.3912601604323136,
          0.8284988145549121,
          0.9608012383582302,
          -0.45186109384088047,
          -0.0026341124671201872,
          0.8998877600214974,
          -0.19322433546357415,
          0.6370930309623929,
          0.05727261875299483,
          -0.9458988236967368,
          -0.8273341768700839,
          -0.7658147034173414,
          -0.7500497709702172,
          0.9523055957477677,
          0.35039614088340987,
          0.46696977562217334,
          0.7915662307878422,
          0.6579281705341328,
          -0.9636007575620658,
          0.7744225235027735,
          0.42675479110297254,
          0.29012470028120524,
          0.5198591411281217,
          -0.927870866830789,
          0.18038009627409193,
          -0.7371931520533734,
          0.7616304500444708,
          0.746109370476966,
          -0.764638245160424,
          -0.7035529671755044,
          -0.8794630734669654,
          0.30923675047298016,
          -0.1755391352961171,
          0.45150963441814845,
          0.14624080851839844,
          -0.5814594819411778,
          0.9596811240883587,
          -0.5192282487924441,
          -0.22325212466039357,
          0.9217320110713635,
          -0.32058655174748724,
          0.7687914174032944,
          -0.19696483069001508,
          -0.7401979407957479,
          0.9708388171801734,
          0.010804712835224294,
          -0.6058963847999828,
          0.9674932257724476,
          0.5297330984922983,
          0.7755224864728202,
          -0.9742394820797521,
          0.5686435153436367,
          -0.9144272410009302,
          1.0898202044940557,
          0.25149321677207775,
          0.4164947325046335,
          0.9296531468469891,
          0.9151479945834857,
          -0.6203819546172457,
          -0.437810461939684,
          -0.8773432459044476,
          -0.10804090324092552,
          -0.5247135252182621,
          -0.8584086527617864,
          -1.0529989061831841,
          -0.9828294658331295,
          -0.19761413445572545,
          0.8668311989931653,
          -0.7543748756486274,
          0.6739660794577059,
          0.3353315102868674,
          0.8593714817984258,
          -1.000420272258096,
          -0.3429504482527288,
          -0.26241007624201185,
          -0.28087395562979556,
          -0.8082375426472592
         ],
         "yaxis": "y",
         "type": "scatter"
        },
        {
         "hovertemplate": "color=1<br>x=%{x}<br>y=%{y}<extra></extra>",
         "legendgroup": "1",
         "marker": {
          "color": "#EF553B",
          "symbol": "circle"
         },
         "mode": "markers",
         "name": "1",
         "orientation": "v",
         "showlegend": true,
         "x": [
          0.12626024347963202,
          -0.05595200713235628,
          -0.2644858046065987,
          0.18734239263467461,
          0.02895981721194451,
          0.17733162197607408,
          -0.08040864310023685,
          0.04963704125138163,
          0.11017725211196938,
          -0.0012514446309867464,
          -0.1881941457101166,
          -0.24772429389643844,
          -0.22992227967804182,
          0.04386030909800595,
          0.1790842334521621,
          -0.3377321179283511,
          0.2854060987158351,
          -0.07414613539861865,
          0.1335745173409002,
          -0.10009818267922475,
          0.15439691282578058,
          -0.17406094037090325,
          -0.11337133719007378,
          0.07289875917438668,
          -0.1322077529025345,
          0.16650846680977266,
          -0.050552803777828004,
          0.10287124701066594,
          -0.1939898107669451,
          -0.1127547434728175,
          -0.05380122517508512,
          0.11417028418500134,
          0.03748315354368981,
          -0.04759982077702547,
          -0.0679588199249501,
          -0.1540122887621898,
          0.15435666127552755,
          -0.13489764350987804,
          0.12886128602957342,
          0.07299619678768039,
          -0.2304096188526709,
          -0.20793494676829574,
          0.1311517608309391,
          0.2406851652601579,
          0.049851796004825435,
          -0.1874302845551583,
          0.20521074621066018,
          0.057920853503851594,
          0.24275447434355982,
          0.15202004203510547,
          -0.12988347747327117,
          0.04022931054444456,
          -0.055732118083926196,
          0.04176963018759497,
          -0.09082242792573345,
          -0.17454118032262397,
          0.13049694117911387,
          0.21841461268098333,
          -0.18410014218361245,
          0.2067748455470808,
          -0.06567642685367997,
          -0.022081227586005076,
          -0.09120857128784195,
          0.14240056804522408,
          -0.06290381927612254,
          -0.02625601079665222,
          0.25102266254101707,
          -0.14262002616864414,
          0.00920960156537147,
          -0.2693925994720589,
          -0.14283436122864382,
          0.14814327693796495,
          0.15910454926000744,
          0.04744859908583751,
          -0.15792613439493633,
          0.16898927653263118,
          0.07612626701674038,
          0.24003281260825154,
          -0.170189180947607,
          -0.2751374225332491,
          0.08754498886280644,
          -0.02868684732578715,
          0.04098819052599957,
          -0.3107104379249797,
          -0.18834210793097234,
          -0.1782628648636429,
          0.07649855462469171,
          -0.2622689643022275,
          -0.1614293806187449,
          0.27709226272146226,
          -0.003626360371747156,
          -0.009155632265117439,
          -0.1694582113591432,
          -0.01569752615628868,
          0.07652421227380499,
          0.11932515710466118,
          -0.03230206906540835,
          -0.193260716872858,
          -0.24206319516168798,
          0.18999027846581856
         ],
         "xaxis": "x",
         "y": [
          -0.05117796221950752,
          -0.14861602268051566,
          -0.1655294696178356,
          -0.04933950774522468,
          0.1490420886275816,
          -0.016410220611113552,
          0.0853494165184707,
          -0.18049621910712427,
          0.05440444237051333,
          0.09575241538908286,
          0.05612406318467502,
          0.06274272931459404,
          -0.1354865391023018,
          -0.05402291605409823,
          0.10235816699794599,
          0.017432885524515523,
          -0.11998693120399762,
          -0.27396872715732334,
          -0.3410053726621055,
          -0.31971312101894067,
          0.09581785861785565,
          -0.009073310379400748,
          0.14769106272398008,
          -0.09476208300690811,
          0.03204084358055472,
          0.05618759514754273,
          0.23639524251043748,
          -0.17760500346781194,
          -0.07715139931803852,
          -0.15251869919852343,
          -0.20104202371202462,
          0.0972961621428825,
          -0.032498110276282216,
          -0.004951878652612235,
          0.10742073543858945,
          -0.03959753988101675,
          0.19019369323874838,
          -0.2768962221188955,
          0.023866842862434748,
          0.14172552568330973,
          -0.04090758216207978,
          0.1374431802599513,
          0.04891004896842837,
          -0.07513757533647879,
          -0.16029784668803973,
          0.19540115147807363,
          0.27094744315087244,
          0.32584398711510665,
          0.12599818696963422,
          -0.04900937073881254,
          -0.1991601639450026,
          0.0962299337046643,
          0.3005245539366306,
          -0.0074355494040649756,
          -0.21746526947847789,
          0.13556555010319699,
          -0.24711085602877492,
          -0.07932235002029826,
          -0.18957416970902316,
          -0.06609825641542955,
          0.08246683591938096,
          -0.14255406053851055,
          0.14831122242256278,
          0.04823869405603809,
          0.09167853654452952,
          0.3041943318070791,
          0.19300049597497002,
          -0.11431583153922045,
          0.20320672837028833,
          -0.10049730342358065,
          0.10431079059688059,
          -0.06528229161457438,
          0.09248299162542095,
          0.19078730954330364,
          0.13368007800203038,
          -0.2373681195218016,
          0.09646265198832088,
          0.22113333648114286,
          0.25429580887102626,
          -0.19063133887041359,
          -0.2679004990783926,
          0.1456968293053594,
          0.11895003598414888,
          -0.056300203257243234,
          0.0708929614503712,
          0.08883129353140963,
          -0.18030541708785391,
          -0.13022715138826754,
          0.10280181947141903,
          0.19411406193849806,
          0.12272609289900266,
          -0.032389362697255786,
          0.08837944834182226,
          -0.31253876003013376,
          -0.19389937255477852,
          0.15766914331495235,
          -0.28014057631989453,
          0.06449078894255392,
          -0.075750289274239,
          0.14981879268430998
         ],
         "yaxis": "y",
         "type": "scatter"
        }
       ],
       "layout": {
        "template": {
         "data": {
          "histogram2dcontour": [
           {
            "type": "histogram2dcontour",
            "colorbar": {
             "outlinewidth": 0,
             "ticks": ""
            },
            "colorscale": [
             [
              0.0,
              "#0d0887"
             ],
             [
              0.1111111111111111,
              "#46039f"
             ],
             [
              0.2222222222222222,
              "#7201a8"
             ],
             [
              0.3333333333333333,
              "#9c179e"
             ],
             [
              0.4444444444444444,
              "#bd3786"
             ],
             [
              0.5555555555555556,
              "#d8576b"
             ],
             [
              0.6666666666666666,
              "#ed7953"
             ],
             [
              0.7777777777777778,
              "#fb9f3a"
             ],
             [
              0.8888888888888888,
              "#fdca26"
             ],
             [
              1.0,
              "#f0f921"
             ]
            ]
           }
          ],
          "choropleth": [
           {
            "type": "choropleth",
            "colorbar": {
             "outlinewidth": 0,
             "ticks": ""
            }
           }
          ],
          "histogram2d": [
           {
            "type": "histogram2d",
            "colorbar": {
             "outlinewidth": 0,
             "ticks": ""
            },
            "colorscale": [
             [
              0.0,
              "#0d0887"
             ],
             [
              0.1111111111111111,
              "#46039f"
             ],
             [
              0.2222222222222222,
              "#7201a8"
             ],
             [
              0.3333333333333333,
              "#9c179e"
             ],
             [
              0.4444444444444444,
              "#bd3786"
             ],
             [
              0.5555555555555556,
              "#d8576b"
             ],
             [
              0.6666666666666666,
              "#ed7953"
             ],
             [
              0.7777777777777778,
              "#fb9f3a"
             ],
             [
              0.8888888888888888,
              "#fdca26"
             ],
             [
              1.0,
              "#f0f921"
             ]
            ]
           }
          ],
          "heatmap": [
           {
            "type": "heatmap",
            "colorbar": {
             "outlinewidth": 0,
             "ticks": ""
            },
            "colorscale": [
             [
              0.0,
              "#0d0887"
             ],
             [
              0.1111111111111111,
              "#46039f"
             ],
             [
              0.2222222222222222,
              "#7201a8"
             ],
             [
              0.3333333333333333,
              "#9c179e"
             ],
             [
              0.4444444444444444,
              "#bd3786"
             ],
             [
              0.5555555555555556,
              "#d8576b"
             ],
             [
              0.6666666666666666,
              "#ed7953"
             ],
             [
              0.7777777777777778,
              "#fb9f3a"
             ],
             [
              0.8888888888888888,
              "#fdca26"
             ],
             [
              1.0,
              "#f0f921"
             ]
            ]
           }
          ],
          "heatmapgl": [
           {
            "type": "heatmapgl",
            "colorbar": {
             "outlinewidth": 0,
             "ticks": ""
            },
            "colorscale": [
             [
              0.0,
              "#0d0887"
             ],
             [
              0.1111111111111111,
              "#46039f"
             ],
             [
              0.2222222222222222,
              "#7201a8"
             ],
             [
              0.3333333333333333,
              "#9c179e"
             ],
             [
              0.4444444444444444,
              "#bd3786"
             ],
             [
              0.5555555555555556,
              "#d8576b"
             ],
             [
              0.6666666666666666,
              "#ed7953"
             ],
             [
              0.7777777777777778,
              "#fb9f3a"
             ],
             [
              0.8888888888888888,
              "#fdca26"
             ],
             [
              1.0,
              "#f0f921"
             ]
            ]
           }
          ],
          "contourcarpet": [
           {
            "type": "contourcarpet",
            "colorbar": {
             "outlinewidth": 0,
             "ticks": ""
            }
           }
          ],
          "contour": [
           {
            "type": "contour",
            "colorbar": {
             "outlinewidth": 0,
             "ticks": ""
            },
            "colorscale": [
             [
              0.0,
              "#0d0887"
             ],
             [
              0.1111111111111111,
              "#46039f"
             ],
             [
              0.2222222222222222,
              "#7201a8"
             ],
             [
              0.3333333333333333,
              "#9c179e"
             ],
             [
              0.4444444444444444,
              "#bd3786"
             ],
             [
              0.5555555555555556,
              "#d8576b"
             ],
             [
              0.6666666666666666,
              "#ed7953"
             ],
             [
              0.7777777777777778,
              "#fb9f3a"
             ],
             [
              0.8888888888888888,
              "#fdca26"
             ],
             [
              1.0,
              "#f0f921"
             ]
            ]
           }
          ],
          "surface": [
           {
            "type": "surface",
            "colorbar": {
             "outlinewidth": 0,
             "ticks": ""
            },
            "colorscale": [
             [
              0.0,
              "#0d0887"
             ],
             [
              0.1111111111111111,
              "#46039f"
             ],
             [
              0.2222222222222222,
              "#7201a8"
             ],
             [
              0.3333333333333333,
              "#9c179e"
             ],
             [
              0.4444444444444444,
              "#bd3786"
             ],
             [
              0.5555555555555556,
              "#d8576b"
             ],
             [
              0.6666666666666666,
              "#ed7953"
             ],
             [
              0.7777777777777778,
              "#fb9f3a"
             ],
             [
              0.8888888888888888,
              "#fdca26"
             ],
             [
              1.0,
              "#f0f921"
             ]
            ]
           }
          ],
          "mesh3d": [
           {
            "type": "mesh3d",
            "colorbar": {
             "outlinewidth": 0,
             "ticks": ""
            }
           }
          ],
          "scatter": [
           {
            "fillpattern": {
             "fillmode": "overlay",
             "size": 10,
             "solidity": 0.2
            },
            "type": "scatter"
           }
          ],
          "parcoords": [
           {
            "type": "parcoords",
            "line": {
             "colorbar": {
              "outlinewidth": 0,
              "ticks": ""
             }
            }
           }
          ],
          "scatterpolargl": [
           {
            "type": "scatterpolargl",
            "marker": {
             "colorbar": {
              "outlinewidth": 0,
              "ticks": ""
             }
            }
           }
          ],
          "bar": [
           {
            "error_x": {
             "color": "#2a3f5f"
            },
            "error_y": {
             "color": "#2a3f5f"
            },
            "marker": {
             "line": {
              "color": "#E5ECF6",
              "width": 0.5
             },
             "pattern": {
              "fillmode": "overlay",
              "size": 10,
              "solidity": 0.2
             }
            },
            "type": "bar"
           }
          ],
          "scattergeo": [
           {
            "type": "scattergeo",
            "marker": {
             "colorbar": {
              "outlinewidth": 0,
              "ticks": ""
             }
            }
           }
          ],
          "scatterpolar": [
           {
            "type": "scatterpolar",
            "marker": {
             "colorbar": {
              "outlinewidth": 0,
              "ticks": ""
             }
            }
           }
          ],
          "histogram": [
           {
            "marker": {
             "pattern": {
              "fillmode": "overlay",
              "size": 10,
              "solidity": 0.2
             }
            },
            "type": "histogram"
           }
          ],
          "scattergl": [
           {
            "type": "scattergl",
            "marker": {
             "colorbar": {
              "outlinewidth": 0,
              "ticks": ""
             }
            }
           }
          ],
          "scatter3d": [
           {
            "type": "scatter3d",
            "line": {
             "colorbar": {
              "outlinewidth": 0,
              "ticks": ""
             }
            },
            "marker": {
             "colorbar": {
              "outlinewidth": 0,
              "ticks": ""
             }
            }
           }
          ],
          "scattermapbox": [
           {
            "type": "scattermapbox",
            "marker": {
             "colorbar": {
              "outlinewidth": 0,
              "ticks": ""
             }
            }
           }
          ],
          "scatterternary": [
           {
            "type": "scatterternary",
            "marker": {
             "colorbar": {
              "outlinewidth": 0,
              "ticks": ""
             }
            }
           }
          ],
          "scattercarpet": [
           {
            "type": "scattercarpet",
            "marker": {
             "colorbar": {
              "outlinewidth": 0,
              "ticks": ""
             }
            }
           }
          ],
          "carpet": [
           {
            "aaxis": {
             "endlinecolor": "#2a3f5f",
             "gridcolor": "white",
             "linecolor": "white",
             "minorgridcolor": "white",
             "startlinecolor": "#2a3f5f"
            },
            "baxis": {
             "endlinecolor": "#2a3f5f",
             "gridcolor": "white",
             "linecolor": "white",
             "minorgridcolor": "white",
             "startlinecolor": "#2a3f5f"
            },
            "type": "carpet"
           }
          ],
          "table": [
           {
            "cells": {
             "fill": {
              "color": "#EBF0F8"
             },
             "line": {
              "color": "white"
             }
            },
            "header": {
             "fill": {
              "color": "#C8D4E3"
             },
             "line": {
              "color": "white"
             }
            },
            "type": "table"
           }
          ],
          "barpolar": [
           {
            "marker": {
             "line": {
              "color": "#E5ECF6",
              "width": 0.5
             },
             "pattern": {
              "fillmode": "overlay",
              "size": 10,
              "solidity": 0.2
             }
            },
            "type": "barpolar"
           }
          ],
          "pie": [
           {
            "automargin": true,
            "type": "pie"
           }
          ]
         },
         "layout": {
          "autotypenumbers": "strict",
          "colorway": [
           "#636efa",
           "#EF553B",
           "#00cc96",
           "#ab63fa",
           "#FFA15A",
           "#19d3f3",
           "#FF6692",
           "#B6E880",
           "#FF97FF",
           "#FECB52"
          ],
          "font": {
           "color": "#2a3f5f"
          },
          "hovermode": "closest",
          "hoverlabel": {
           "align": "left"
          },
          "paper_bgcolor": "white",
          "plot_bgcolor": "#E5ECF6",
          "polar": {
           "bgcolor": "#E5ECF6",
           "angularaxis": {
            "gridcolor": "white",
            "linecolor": "white",
            "ticks": ""
           },
           "radialaxis": {
            "gridcolor": "white",
            "linecolor": "white",
            "ticks": ""
           }
          },
          "ternary": {
           "bgcolor": "#E5ECF6",
           "aaxis": {
            "gridcolor": "white",
            "linecolor": "white",
            "ticks": ""
           },
           "baxis": {
            "gridcolor": "white",
            "linecolor": "white",
            "ticks": ""
           },
           "caxis": {
            "gridcolor": "white",
            "linecolor": "white",
            "ticks": ""
           }
          },
          "coloraxis": {
           "colorbar": {
            "outlinewidth": 0,
            "ticks": ""
           }
          },
          "colorscale": {
           "sequential": [
            [
             0.0,
             "#0d0887"
            ],
            [
             0.1111111111111111,
             "#46039f"
            ],
            [
             0.2222222222222222,
             "#7201a8"
            ],
            [
             0.3333333333333333,
             "#9c179e"
            ],
            [
             0.4444444444444444,
             "#bd3786"
            ],
            [
             0.5555555555555556,
             "#d8576b"
            ],
            [
             0.6666666666666666,
             "#ed7953"
            ],
            [
             0.7777777777777778,
             "#fb9f3a"
            ],
            [
             0.8888888888888888,
             "#fdca26"
            ],
            [
             1.0,
             "#f0f921"
            ]
           ],
           "sequentialminus": [
            [
             0.0,
             "#0d0887"
            ],
            [
             0.1111111111111111,
             "#46039f"
            ],
            [
             0.2222222222222222,
             "#7201a8"
            ],
            [
             0.3333333333333333,
             "#9c179e"
            ],
            [
             0.4444444444444444,
             "#bd3786"
            ],
            [
             0.5555555555555556,
             "#d8576b"
            ],
            [
             0.6666666666666666,
             "#ed7953"
            ],
            [
             0.7777777777777778,
             "#fb9f3a"
            ],
            [
             0.8888888888888888,
             "#fdca26"
            ],
            [
             1.0,
             "#f0f921"
            ]
           ],
           "diverging": [
            [
             0,
             "#8e0152"
            ],
            [
             0.1,
             "#c51b7d"
            ],
            [
             0.2,
             "#de77ae"
            ],
            [
             0.3,
             "#f1b6da"
            ],
            [
             0.4,
             "#fde0ef"
            ],
            [
             0.5,
             "#f7f7f7"
            ],
            [
             0.6,
             "#e6f5d0"
            ],
            [
             0.7,
             "#b8e186"
            ],
            [
             0.8,
             "#7fbc41"
            ],
            [
             0.9,
             "#4d9221"
            ],
            [
             1,
             "#276419"
            ]
           ]
          },
          "xaxis": {
           "gridcolor": "white",
           "linecolor": "white",
           "ticks": "",
           "title": {
            "standoff": 15
           },
           "zerolinecolor": "white",
           "automargin": true,
           "zerolinewidth": 2
          },
          "yaxis": {
           "gridcolor": "white",
           "linecolor": "white",
           "ticks": "",
           "title": {
            "standoff": 15
           },
           "zerolinecolor": "white",
           "automargin": true,
           "zerolinewidth": 2
          },
          "scene": {
           "xaxis": {
            "backgroundcolor": "#E5ECF6",
            "gridcolor": "white",
            "linecolor": "white",
            "showbackground": true,
            "ticks": "",
            "zerolinecolor": "white",
            "gridwidth": 2
           },
           "yaxis": {
            "backgroundcolor": "#E5ECF6",
            "gridcolor": "white",
            "linecolor": "white",
            "showbackground": true,
            "ticks": "",
            "zerolinecolor": "white",
            "gridwidth": 2
           },
           "zaxis": {
            "backgroundcolor": "#E5ECF6",
            "gridcolor": "white",
            "linecolor": "white",
            "showbackground": true,
            "ticks": "",
            "zerolinecolor": "white",
            "gridwidth": 2
           }
          },
          "shapedefaults": {
           "line": {
            "color": "#2a3f5f"
           }
          },
          "annotationdefaults": {
           "arrowcolor": "#2a3f5f",
           "arrowhead": 0,
           "arrowwidth": 1
          },
          "geo": {
           "bgcolor": "white",
           "landcolor": "#E5ECF6",
           "subunitcolor": "white",
           "showland": true,
           "showlakes": true,
           "lakecolor": "white"
          },
          "title": {
           "x": 0.05
          },
          "mapbox": {
           "style": "light"
          }
         }
        },
        "xaxis": {
         "anchor": "y",
         "domain": [
          0.0,
          1.0
         ],
         "title": {
          "text": "x"
         }
        },
        "yaxis": {
         "anchor": "x",
         "domain": [
          0.0,
          1.0
         ],
         "title": {
          "text": "y"
         }
        },
        "legend": {
         "title": {
          "text": "color"
         },
         "tracegroupgap": 0
        },
        "margin": {
         "t": 60
        }
       },
       "config": {
        "plotlyServerURL": "https://plot.ly"
       }
      },
      "text/html": "<div>                            <div id=\"08714b85-6a6b-4688-bc66-073030d476e3\" class=\"plotly-graph-div\" style=\"height:525px; width:100%;\"></div>            <script type=\"text/javascript\">                require([\"plotly\"], function(Plotly) {                    window.PLOTLYENV=window.PLOTLYENV || {};                                    if (document.getElementById(\"08714b85-6a6b-4688-bc66-073030d476e3\")) {                    Plotly.newPlot(                        \"08714b85-6a6b-4688-bc66-073030d476e3\",                        [{\"hovertemplate\":\"color=0<br>x=%{x}<br>y=%{y}<extra></extra>\",\"legendgroup\":\"0\",\"marker\":{\"color\":\"#636efa\",\"symbol\":\"circle\"},\"mode\":\"markers\",\"name\":\"0\",\"orientation\":\"v\",\"showlegend\":true,\"x\":[-0.8860665051948676,0.33290576854306975,-0.40078764345454154,-0.6050436762615032,-0.07597151192060429,-0.14108610294981616,0.26575363182641093,0.14038225513729752,0.9006783003116727,-1.0990197331816502,-0.7525075331847146,0.6998409050073243,-0.07569613757774295,-0.14247577028244987,-0.03545024043018438,0.4815726353894952,-1.0095743855334145,0.7988267663068841,-0.7565726789385584,1.0128816260475553,0.9493804334255767,-0.8678403612137655,1.0914679779954986,-0.9280041437991955,0.370631205951065,-0.4222476143189306,0.9079061152646056,-0.8673815212336409,-0.33242425507827533,0.8219474750601268,-0.6898713188851607,0.921766486661254,0.12049123131758799,-0.2607561611824566,0.6150138706721944,0.4776754074802657,-0.53250164261831,0.8259129274939835,-0.6769935681406479,-0.361201358846516,0.7694231832014653,0.09531133508021866,-0.6697991828464442,0.9712726781918565,-0.9823518801025075,0.7466848026284866,0.5024963879528944,-1.0711004833298967,0.48504630070412025,-0.6968124920437299,-0.6091936953237937,0.7614275670808164,0.791054580438054,0.44589282237308414,1.0112770083918852,1.1067768174115726,-0.9282363741899078,-1.0693776808678568,-0.619852610508829,0.309606220860519,0.9675434473636323,-0.9335309468490772,-0.01411620583108788,-0.8054104848223633,0.4383326553808847,1.1587085053843853,-0.6294353919662049,-0.40865537126699714,-1.090497127759374,-0.7427333827014416,-0.17568653561012515,-0.8241306817138855,0.7474631103051415,-0.15817338625318678,0.583127075037655,-0.28117548361966777,0.14486913273643426,1.0174429573430936,1.0608917064997823,0.490527985115839,-0.5043711064214228,-0.6981923098600149,-0.793912743734272,0.18281393051855133,-1.0101813153308832,0.8930292562675435,-0.42173888412285243,-0.05072384981511903,0.3571249646410881,-0.9024157095214642,0.5674936103650997,0.6349654247278239,0.8293086332727835,-0.8011670229426507,0.2861475278242582,0.0982635333216051,-0.985947641687133,0.9547283100321448,0.861170689181212,-0.7350599520123084],\"xaxis\":\"x\",\"y\":[0.4976810692219228,-0.9764219976735646,-0.9687642833917366,-0.7767102721936839,0.9740237209293944,-0.8852314209059313,-0.9832985625799315,0.936469124686638,0.5590362861908035,-0.15296118452111895,-0.8711917795372637,0.8895936131687738,0.8459874568925082,-0.940200349691918,1.0215325954149905,0.9809013566408488,0.5865696818339867,-0.6056689311965002,0.6286098533012767,-0.41063667216174404,0.11028800489965448,-0.3689354398823148,0.03970712279687456,-0.3912601604323136,0.8284988145549121,0.9608012383582302,-0.45186109384088047,-0.0026341124671201872,0.8998877600214974,-0.19322433546357415,0.6370930309623929,0.05727261875299483,-0.9458988236967368,-0.8273341768700839,-0.7658147034173414,-0.7500497709702172,0.9523055957477677,0.35039614088340987,0.46696977562217334,0.7915662307878422,0.6579281705341328,-0.9636007575620658,0.7744225235027735,0.42675479110297254,0.29012470028120524,0.5198591411281217,-0.927870866830789,0.18038009627409193,-0.7371931520533734,0.7616304500444708,0.746109370476966,-0.764638245160424,-0.7035529671755044,-0.8794630734669654,0.30923675047298016,-0.1755391352961171,0.45150963441814845,0.14624080851839844,-0.5814594819411778,0.9596811240883587,-0.5192282487924441,-0.22325212466039357,0.9217320110713635,-0.32058655174748724,0.7687914174032944,-0.19696483069001508,-0.7401979407957479,0.9708388171801734,0.010804712835224294,-0.6058963847999828,0.9674932257724476,0.5297330984922983,0.7755224864728202,-0.9742394820797521,0.5686435153436367,-0.9144272410009302,1.0898202044940557,0.25149321677207775,0.4164947325046335,0.9296531468469891,0.9151479945834857,-0.6203819546172457,-0.437810461939684,-0.8773432459044476,-0.10804090324092552,-0.5247135252182621,-0.8584086527617864,-1.0529989061831841,-0.9828294658331295,-0.19761413445572545,0.8668311989931653,-0.7543748756486274,0.6739660794577059,0.3353315102868674,0.8593714817984258,-1.000420272258096,-0.3429504482527288,-0.26241007624201185,-0.28087395562979556,-0.8082375426472592],\"yaxis\":\"y\",\"type\":\"scatter\"},{\"hovertemplate\":\"color=1<br>x=%{x}<br>y=%{y}<extra></extra>\",\"legendgroup\":\"1\",\"marker\":{\"color\":\"#EF553B\",\"symbol\":\"circle\"},\"mode\":\"markers\",\"name\":\"1\",\"orientation\":\"v\",\"showlegend\":true,\"x\":[0.12626024347963202,-0.05595200713235628,-0.2644858046065987,0.18734239263467461,0.02895981721194451,0.17733162197607408,-0.08040864310023685,0.04963704125138163,0.11017725211196938,-0.0012514446309867464,-0.1881941457101166,-0.24772429389643844,-0.22992227967804182,0.04386030909800595,0.1790842334521621,-0.3377321179283511,0.2854060987158351,-0.07414613539861865,0.1335745173409002,-0.10009818267922475,0.15439691282578058,-0.17406094037090325,-0.11337133719007378,0.07289875917438668,-0.1322077529025345,0.16650846680977266,-0.050552803777828004,0.10287124701066594,-0.1939898107669451,-0.1127547434728175,-0.05380122517508512,0.11417028418500134,0.03748315354368981,-0.04759982077702547,-0.0679588199249501,-0.1540122887621898,0.15435666127552755,-0.13489764350987804,0.12886128602957342,0.07299619678768039,-0.2304096188526709,-0.20793494676829574,0.1311517608309391,0.2406851652601579,0.049851796004825435,-0.1874302845551583,0.20521074621066018,0.057920853503851594,0.24275447434355982,0.15202004203510547,-0.12988347747327117,0.04022931054444456,-0.055732118083926196,0.04176963018759497,-0.09082242792573345,-0.17454118032262397,0.13049694117911387,0.21841461268098333,-0.18410014218361245,0.2067748455470808,-0.06567642685367997,-0.022081227586005076,-0.09120857128784195,0.14240056804522408,-0.06290381927612254,-0.02625601079665222,0.25102266254101707,-0.14262002616864414,0.00920960156537147,-0.2693925994720589,-0.14283436122864382,0.14814327693796495,0.15910454926000744,0.04744859908583751,-0.15792613439493633,0.16898927653263118,0.07612626701674038,0.24003281260825154,-0.170189180947607,-0.2751374225332491,0.08754498886280644,-0.02868684732578715,0.04098819052599957,-0.3107104379249797,-0.18834210793097234,-0.1782628648636429,0.07649855462469171,-0.2622689643022275,-0.1614293806187449,0.27709226272146226,-0.003626360371747156,-0.009155632265117439,-0.1694582113591432,-0.01569752615628868,0.07652421227380499,0.11932515710466118,-0.03230206906540835,-0.193260716872858,-0.24206319516168798,0.18999027846581856],\"xaxis\":\"x\",\"y\":[-0.05117796221950752,-0.14861602268051566,-0.1655294696178356,-0.04933950774522468,0.1490420886275816,-0.016410220611113552,0.0853494165184707,-0.18049621910712427,0.05440444237051333,0.09575241538908286,0.05612406318467502,0.06274272931459404,-0.1354865391023018,-0.05402291605409823,0.10235816699794599,0.017432885524515523,-0.11998693120399762,-0.27396872715732334,-0.3410053726621055,-0.31971312101894067,0.09581785861785565,-0.009073310379400748,0.14769106272398008,-0.09476208300690811,0.03204084358055472,0.05618759514754273,0.23639524251043748,-0.17760500346781194,-0.07715139931803852,-0.15251869919852343,-0.20104202371202462,0.0972961621428825,-0.032498110276282216,-0.004951878652612235,0.10742073543858945,-0.03959753988101675,0.19019369323874838,-0.2768962221188955,0.023866842862434748,0.14172552568330973,-0.04090758216207978,0.1374431802599513,0.04891004896842837,-0.07513757533647879,-0.16029784668803973,0.19540115147807363,0.27094744315087244,0.32584398711510665,0.12599818696963422,-0.04900937073881254,-0.1991601639450026,0.0962299337046643,0.3005245539366306,-0.0074355494040649756,-0.21746526947847789,0.13556555010319699,-0.24711085602877492,-0.07932235002029826,-0.18957416970902316,-0.06609825641542955,0.08246683591938096,-0.14255406053851055,0.14831122242256278,0.04823869405603809,0.09167853654452952,0.3041943318070791,0.19300049597497002,-0.11431583153922045,0.20320672837028833,-0.10049730342358065,0.10431079059688059,-0.06528229161457438,0.09248299162542095,0.19078730954330364,0.13368007800203038,-0.2373681195218016,0.09646265198832088,0.22113333648114286,0.25429580887102626,-0.19063133887041359,-0.2679004990783926,0.1456968293053594,0.11895003598414888,-0.056300203257243234,0.0708929614503712,0.08883129353140963,-0.18030541708785391,-0.13022715138826754,0.10280181947141903,0.19411406193849806,0.12272609289900266,-0.032389362697255786,0.08837944834182226,-0.31253876003013376,-0.19389937255477852,0.15766914331495235,-0.28014057631989453,0.06449078894255392,-0.075750289274239,0.14981879268430998],\"yaxis\":\"y\",\"type\":\"scatter\"}],                        {\"template\":{\"data\":{\"histogram2dcontour\":[{\"type\":\"histogram2dcontour\",\"colorbar\":{\"outlinewidth\":0,\"ticks\":\"\"},\"colorscale\":[[0.0,\"#0d0887\"],[0.1111111111111111,\"#46039f\"],[0.2222222222222222,\"#7201a8\"],[0.3333333333333333,\"#9c179e\"],[0.4444444444444444,\"#bd3786\"],[0.5555555555555556,\"#d8576b\"],[0.6666666666666666,\"#ed7953\"],[0.7777777777777778,\"#fb9f3a\"],[0.8888888888888888,\"#fdca26\"],[1.0,\"#f0f921\"]]}],\"choropleth\":[{\"type\":\"choropleth\",\"colorbar\":{\"outlinewidth\":0,\"ticks\":\"\"}}],\"histogram2d\":[{\"type\":\"histogram2d\",\"colorbar\":{\"outlinewidth\":0,\"ticks\":\"\"},\"colorscale\":[[0.0,\"#0d0887\"],[0.1111111111111111,\"#46039f\"],[0.2222222222222222,\"#7201a8\"],[0.3333333333333333,\"#9c179e\"],[0.4444444444444444,\"#bd3786\"],[0.5555555555555556,\"#d8576b\"],[0.6666666666666666,\"#ed7953\"],[0.7777777777777778,\"#fb9f3a\"],[0.8888888888888888,\"#fdca26\"],[1.0,\"#f0f921\"]]}],\"heatmap\":[{\"type\":\"heatmap\",\"colorbar\":{\"outlinewidth\":0,\"ticks\":\"\"},\"colorscale\":[[0.0,\"#0d0887\"],[0.1111111111111111,\"#46039f\"],[0.2222222222222222,\"#7201a8\"],[0.3333333333333333,\"#9c179e\"],[0.4444444444444444,\"#bd3786\"],[0.5555555555555556,\"#d8576b\"],[0.6666666666666666,\"#ed7953\"],[0.7777777777777778,\"#fb9f3a\"],[0.8888888888888888,\"#fdca26\"],[1.0,\"#f0f921\"]]}],\"heatmapgl\":[{\"type\":\"heatmapgl\",\"colorbar\":{\"outlinewidth\":0,\"ticks\":\"\"},\"colorscale\":[[0.0,\"#0d0887\"],[0.1111111111111111,\"#46039f\"],[0.2222222222222222,\"#7201a8\"],[0.3333333333333333,\"#9c179e\"],[0.4444444444444444,\"#bd3786\"],[0.5555555555555556,\"#d8576b\"],[0.6666666666666666,\"#ed7953\"],[0.7777777777777778,\"#fb9f3a\"],[0.8888888888888888,\"#fdca26\"],[1.0,\"#f0f921\"]]}],\"contourcarpet\":[{\"type\":\"contourcarpet\",\"colorbar\":{\"outlinewidth\":0,\"ticks\":\"\"}}],\"contour\":[{\"type\":\"contour\",\"colorbar\":{\"outlinewidth\":0,\"ticks\":\"\"},\"colorscale\":[[0.0,\"#0d0887\"],[0.1111111111111111,\"#46039f\"],[0.2222222222222222,\"#7201a8\"],[0.3333333333333333,\"#9c179e\"],[0.4444444444444444,\"#bd3786\"],[0.5555555555555556,\"#d8576b\"],[0.6666666666666666,\"#ed7953\"],[0.7777777777777778,\"#fb9f3a\"],[0.8888888888888888,\"#fdca26\"],[1.0,\"#f0f921\"]]}],\"surface\":[{\"type\":\"surface\",\"colorbar\":{\"outlinewidth\":0,\"ticks\":\"\"},\"colorscale\":[[0.0,\"#0d0887\"],[0.1111111111111111,\"#46039f\"],[0.2222222222222222,\"#7201a8\"],[0.3333333333333333,\"#9c179e\"],[0.4444444444444444,\"#bd3786\"],[0.5555555555555556,\"#d8576b\"],[0.6666666666666666,\"#ed7953\"],[0.7777777777777778,\"#fb9f3a\"],[0.8888888888888888,\"#fdca26\"],[1.0,\"#f0f921\"]]}],\"mesh3d\":[{\"type\":\"mesh3d\",\"colorbar\":{\"outlinewidth\":0,\"ticks\":\"\"}}],\"scatter\":[{\"fillpattern\":{\"fillmode\":\"overlay\",\"size\":10,\"solidity\":0.2},\"type\":\"scatter\"}],\"parcoords\":[{\"type\":\"parcoords\",\"line\":{\"colorbar\":{\"outlinewidth\":0,\"ticks\":\"\"}}}],\"scatterpolargl\":[{\"type\":\"scatterpolargl\",\"marker\":{\"colorbar\":{\"outlinewidth\":0,\"ticks\":\"\"}}}],\"bar\":[{\"error_x\":{\"color\":\"#2a3f5f\"},\"error_y\":{\"color\":\"#2a3f5f\"},\"marker\":{\"line\":{\"color\":\"#E5ECF6\",\"width\":0.5},\"pattern\":{\"fillmode\":\"overlay\",\"size\":10,\"solidity\":0.2}},\"type\":\"bar\"}],\"scattergeo\":[{\"type\":\"scattergeo\",\"marker\":{\"colorbar\":{\"outlinewidth\":0,\"ticks\":\"\"}}}],\"scatterpolar\":[{\"type\":\"scatterpolar\",\"marker\":{\"colorbar\":{\"outlinewidth\":0,\"ticks\":\"\"}}}],\"histogram\":[{\"marker\":{\"pattern\":{\"fillmode\":\"overlay\",\"size\":10,\"solidity\":0.2}},\"type\":\"histogram\"}],\"scattergl\":[{\"type\":\"scattergl\",\"marker\":{\"colorbar\":{\"outlinewidth\":0,\"ticks\":\"\"}}}],\"scatter3d\":[{\"type\":\"scatter3d\",\"line\":{\"colorbar\":{\"outlinewidth\":0,\"ticks\":\"\"}},\"marker\":{\"colorbar\":{\"outlinewidth\":0,\"ticks\":\"\"}}}],\"scattermapbox\":[{\"type\":\"scattermapbox\",\"marker\":{\"colorbar\":{\"outlinewidth\":0,\"ticks\":\"\"}}}],\"scatterternary\":[{\"type\":\"scatterternary\",\"marker\":{\"colorbar\":{\"outlinewidth\":0,\"ticks\":\"\"}}}],\"scattercarpet\":[{\"type\":\"scattercarpet\",\"marker\":{\"colorbar\":{\"outlinewidth\":0,\"ticks\":\"\"}}}],\"carpet\":[{\"aaxis\":{\"endlinecolor\":\"#2a3f5f\",\"gridcolor\":\"white\",\"linecolor\":\"white\",\"minorgridcolor\":\"white\",\"startlinecolor\":\"#2a3f5f\"},\"baxis\":{\"endlinecolor\":\"#2a3f5f\",\"gridcolor\":\"white\",\"linecolor\":\"white\",\"minorgridcolor\":\"white\",\"startlinecolor\":\"#2a3f5f\"},\"type\":\"carpet\"}],\"table\":[{\"cells\":{\"fill\":{\"color\":\"#EBF0F8\"},\"line\":{\"color\":\"white\"}},\"header\":{\"fill\":{\"color\":\"#C8D4E3\"},\"line\":{\"color\":\"white\"}},\"type\":\"table\"}],\"barpolar\":[{\"marker\":{\"line\":{\"color\":\"#E5ECF6\",\"width\":0.5},\"pattern\":{\"fillmode\":\"overlay\",\"size\":10,\"solidity\":0.2}},\"type\":\"barpolar\"}],\"pie\":[{\"automargin\":true,\"type\":\"pie\"}]},\"layout\":{\"autotypenumbers\":\"strict\",\"colorway\":[\"#636efa\",\"#EF553B\",\"#00cc96\",\"#ab63fa\",\"#FFA15A\",\"#19d3f3\",\"#FF6692\",\"#B6E880\",\"#FF97FF\",\"#FECB52\"],\"font\":{\"color\":\"#2a3f5f\"},\"hovermode\":\"closest\",\"hoverlabel\":{\"align\":\"left\"},\"paper_bgcolor\":\"white\",\"plot_bgcolor\":\"#E5ECF6\",\"polar\":{\"bgcolor\":\"#E5ECF6\",\"angularaxis\":{\"gridcolor\":\"white\",\"linecolor\":\"white\",\"ticks\":\"\"},\"radialaxis\":{\"gridcolor\":\"white\",\"linecolor\":\"white\",\"ticks\":\"\"}},\"ternary\":{\"bgcolor\":\"#E5ECF6\",\"aaxis\":{\"gridcolor\":\"white\",\"linecolor\":\"white\",\"ticks\":\"\"},\"baxis\":{\"gridcolor\":\"white\",\"linecolor\":\"white\",\"ticks\":\"\"},\"caxis\":{\"gridcolor\":\"white\",\"linecolor\":\"white\",\"ticks\":\"\"}},\"coloraxis\":{\"colorbar\":{\"outlinewidth\":0,\"ticks\":\"\"}},\"colorscale\":{\"sequential\":[[0.0,\"#0d0887\"],[0.1111111111111111,\"#46039f\"],[0.2222222222222222,\"#7201a8\"],[0.3333333333333333,\"#9c179e\"],[0.4444444444444444,\"#bd3786\"],[0.5555555555555556,\"#d8576b\"],[0.6666666666666666,\"#ed7953\"],[0.7777777777777778,\"#fb9f3a\"],[0.8888888888888888,\"#fdca26\"],[1.0,\"#f0f921\"]],\"sequentialminus\":[[0.0,\"#0d0887\"],[0.1111111111111111,\"#46039f\"],[0.2222222222222222,\"#7201a8\"],[0.3333333333333333,\"#9c179e\"],[0.4444444444444444,\"#bd3786\"],[0.5555555555555556,\"#d8576b\"],[0.6666666666666666,\"#ed7953\"],[0.7777777777777778,\"#fb9f3a\"],[0.8888888888888888,\"#fdca26\"],[1.0,\"#f0f921\"]],\"diverging\":[[0,\"#8e0152\"],[0.1,\"#c51b7d\"],[0.2,\"#de77ae\"],[0.3,\"#f1b6da\"],[0.4,\"#fde0ef\"],[0.5,\"#f7f7f7\"],[0.6,\"#e6f5d0\"],[0.7,\"#b8e186\"],[0.8,\"#7fbc41\"],[0.9,\"#4d9221\"],[1,\"#276419\"]]},\"xaxis\":{\"gridcolor\":\"white\",\"linecolor\":\"white\",\"ticks\":\"\",\"title\":{\"standoff\":15},\"zerolinecolor\":\"white\",\"automargin\":true,\"zerolinewidth\":2},\"yaxis\":{\"gridcolor\":\"white\",\"linecolor\":\"white\",\"ticks\":\"\",\"title\":{\"standoff\":15},\"zerolinecolor\":\"white\",\"automargin\":true,\"zerolinewidth\":2},\"scene\":{\"xaxis\":{\"backgroundcolor\":\"#E5ECF6\",\"gridcolor\":\"white\",\"linecolor\":\"white\",\"showbackground\":true,\"ticks\":\"\",\"zerolinecolor\":\"white\",\"gridwidth\":2},\"yaxis\":{\"backgroundcolor\":\"#E5ECF6\",\"gridcolor\":\"white\",\"linecolor\":\"white\",\"showbackground\":true,\"ticks\":\"\",\"zerolinecolor\":\"white\",\"gridwidth\":2},\"zaxis\":{\"backgroundcolor\":\"#E5ECF6\",\"gridcolor\":\"white\",\"linecolor\":\"white\",\"showbackground\":true,\"ticks\":\"\",\"zerolinecolor\":\"white\",\"gridwidth\":2}},\"shapedefaults\":{\"line\":{\"color\":\"#2a3f5f\"}},\"annotationdefaults\":{\"arrowcolor\":\"#2a3f5f\",\"arrowhead\":0,\"arrowwidth\":1},\"geo\":{\"bgcolor\":\"white\",\"landcolor\":\"#E5ECF6\",\"subunitcolor\":\"white\",\"showland\":true,\"showlakes\":true,\"lakecolor\":\"white\"},\"title\":{\"x\":0.05},\"mapbox\":{\"style\":\"light\"}}},\"xaxis\":{\"anchor\":\"y\",\"domain\":[0.0,1.0],\"title\":{\"text\":\"x\"}},\"yaxis\":{\"anchor\":\"x\",\"domain\":[0.0,1.0],\"title\":{\"text\":\"y\"}},\"legend\":{\"title\":{\"text\":\"color\"},\"tracegroupgap\":0},\"margin\":{\"t\":60}},                        {\"responsive\": true}                    ).then(function(){\n                            \nvar gd = document.getElementById('08714b85-6a6b-4688-bc66-073030d476e3');\nvar x = new MutationObserver(function (mutations, observer) {{\n        var display = window.getComputedStyle(gd).display;\n        if (!display || display === 'none') {{\n            console.log([gd, 'removed!']);\n            Plotly.purge(gd);\n            observer.disconnect();\n        }}\n}});\n\n// Listen for the removal of the full notebook cells\nvar notebookContainer = gd.closest('#notebook-container');\nif (notebookContainer) {{\n    x.observe(notebookContainer, {childList: true});\n}}\n\n// Listen for the clearing of the current output cell\nvar outputEl = gd.closest('.output');\nif (outputEl) {{\n    x.observe(outputEl, {childList: true});\n}}\n\n                        })                };                });            </script>        </div>"
     },
     "metadata": {},
     "output_type": "display_data"
    }
   ],
   "source": [
    "x4, y4 = make_circles(n_samples=(100,100), noise=0.075,factor=0.2)\n",
    "df4 = pd.DataFrame({'x': x4[:,0], 'y': x4[:,1],\"label\":y4,\"kmeans\":[\"TODO\"]*200})\n",
    "fig = px.scatter(df4,x=\"x\",y=\"y\", color=[str(x)  for x in y4])\n",
    "fig.show()"
   ]
  },
  {
   "cell_type": "markdown",
   "metadata": {},
   "source": [
    "## 2. část - K-means\n",
    "\n",
    "Implementujte K-means algoritmus, aplikujte ho na všechny 4 datasety a zobrazte výsledky algoritmu. Zároveň se pokuste zvýraznit centroid ve vizualizaci výsledku. Pro aplikaci K-means můžete použít počet tříd v každém datasetu (není třeba hledat parametr K automaticky)."
   ]
  },
  {
   "cell_type": "code",
   "execution_count": 88,
   "metadata": {},
   "outputs": [],
   "source": [
    "import numpy as np"
   ]
  },
  {
   "cell_type": "code",
   "execution_count": 235,
   "outputs": [],
   "source": [
    "def kmean(db:pd.DataFrame,it = 100, eps = 0.001) -> tuple:\n",
    "\n",
    "\n",
    "    k = len(db['label'].unique()) # number of labels\n",
    "    p = db[[\"x\",\"y\"]].sample(n=k)\n",
    "    centroids = np.array([np.array(p[\"x\"]),np.array(p[\"y\"])]).T #init centroids\n",
    "    data = np.array([np.array(db[\"x\"]),np.array(db[\"y\"])]).T #init data Matrix\n",
    "    distance = np.zeros((db[\"x\"].shape[0],k)) # init distance\n",
    "    for i in range(it):\n",
    "        for j in range(k): # K iteration\n",
    "            distance[:,j] = np.sum(((centroids[j]-data)**2), axis=1)\n",
    "\n",
    "        db[\"kmeans\"] = np.argmin(distance, axis=1)\n",
    "        centroids =  db.groupby(['kmeans']).mean()\n",
    "        centroids = np.array([np.array(centroids[\"x\"]),np.array(centroids[\"y\"])]).T\n",
    "\n",
    "\n",
    "    return db, centroids.T\n",
    "\n"
   ],
   "metadata": {
    "collapsed": false
   }
  },
  {
   "cell_type": "code",
   "execution_count": 237,
   "outputs": [
    {
     "data": {
      "application/vnd.plotly.v1+json": {
       "data": [
        {
         "hovertemplate": "color=1<br>x=%{x}<br>y=%{y}<extra></extra>",
         "legendgroup": "1",
         "marker": {
          "color": "#636efa",
          "symbol": "circle"
         },
         "mode": "markers",
         "name": "1",
         "orientation": "v",
         "showlegend": true,
         "x": [
          -0.7044797617886656,
          -3.1770711362649395,
          -2.1092791571003198,
          -2.3831396192925074,
          -3.7862548608489917,
          -1.4666740048093685,
          -1.568156381377785,
          -1.2188269313718139,
          -0.7047371169401411,
          -2.6091295613132406,
          -2.6300924658420386,
          -3.580117143242111,
          -1.8528034406255283,
          -2.546661021340573,
          -3.085896313417147,
          -3.0874096016355326,
          -2.4344600901785856,
          -2.261049234119771,
          -2.6347125141395344,
          -0.6713646585672819,
          -3.479759485424239,
          -3.887246281604825,
          -3.4938275643375203,
          -2.5833408658652015,
          -2.6818259310356574,
          -0.840604959863924,
          -1.5991454703612469,
          -3.4182112086221403,
          -1.7260321936139889,
          -2.261616350213209,
          -2.6587523431065443,
          -3.397587550425559,
          -3.4881537538038616,
          -2.4726054390257146,
          -3.7731171460248447,
          -2.338517436505799,
          -2.084313287513802,
          -2.6342520772182447,
          -3.6741093589446034,
          -4.421504671351837,
          -1.728963293557284,
          -3.1089246709719904,
          -1.2680657945765121,
          -3.9643085397375857,
          -2.3057072932878766,
          -2.6375847327914985,
          -3.5003007218796087,
          -2.0581243527661996,
          -3.202333303110994,
          -1.102587453598545
         ],
         "xaxis": "x",
         "y": [
          -0.6612597649791506,
          -1.6056063785793797,
          -0.36437278490672104,
          -2.09870243942246,
          -1.9515329014525076,
          -1.0453480604757945,
          -0.15196540510588274,
          -1.9988811436801288,
          -1.7600067737002534,
          -0.28426899663309424,
          -0.9646809139759026,
          -0.27791450251746397,
          -0.1801883698500809,
          -0.8172963731161321,
          -2.317895880666544,
          -0.5047640828779738,
          0.9935577532674866,
          -0.3612471036699402,
          -1.6335644284016646,
          -1.6792424990338701,
          0.9379954183305486,
          0.06356357214469521,
          -0.6115182157772722,
          -2.109433740938468,
          -1.0774953546713861,
          -0.7240662088471992,
          -2.2644461948533747,
          -2.077035391890967,
          0.7409937453351283,
          -0.35547316483430286,
          -1.4344939937418135,
          1.8620953166425478,
          -2.5634209817989655,
          -1.104633061850615,
          0.5957851177680114,
          0.1205333541809005,
          -0.45233454913324433,
          -0.7813137596211855,
          -0.5261283775098557,
          -2.8221497328899257,
          0.8583862348435141,
          0.4112937147567439,
          -1.718696768060464,
          -2.4892883847687575,
          -0.2756626731970354,
          -1.174202326236556,
          -0.1204786743140015,
          -0.3250546913821276,
          0.04308446257357934,
          -0.6136893339029283
         ],
         "yaxis": "y",
         "type": "scatter"
        },
        {
         "hovertemplate": "color=0<br>x=%{x}<br>y=%{y}<extra></extra>",
         "legendgroup": "0",
         "marker": {
          "color": "#EF553B",
          "symbol": "circle"
         },
         "mode": "markers",
         "name": "0",
         "orientation": "v",
         "showlegend": true,
         "x": [
          6.241530920299751,
          7.931297488718007,
          6.983813151900489,
          7.148083640061025,
          6.795017742130688,
          6.85957044655227,
          6.9684167899559935,
          6.890252335284898,
          5.780356845237643,
          5.327944676550656,
          6.6998575512044,
          6.595150013074487,
          6.978569133273303,
          6.385438691749251,
          7.506746105909352,
          5.845187802930985,
          6.2026789625300065,
          7.182805144917547,
          6.431405929839887,
          8.03642331644155,
          7.363556986522446,
          6.015966838836066,
          7.560168781244937,
          6.2746035691843325,
          9.46947989037055,
          4.924638335860342,
          6.698933840424503,
          5.583258612396862,
          5.811497687255885,
          7.739880832845986,
          6.994516642853929,
          5.241487606491397,
          4.774805534066465,
          6.7265075541747565,
          7.15905730311816,
          6.610903202557758,
          6.502762989642954,
          6.25435863752298,
          6.954008545979155,
          7.31296748121234,
          7.137084724036334,
          6.903914540292803,
          6.2916262130379295,
          7.534614205479954,
          6.7113257496006336,
          7.000467740414114,
          7.093796124544649,
          7.158177889541425,
          6.072282295718949,
          5.0202337225367994
         ],
         "xaxis": "x",
         "y": [
          3.3206930211701557,
          5.22611756161726,
          4.138427437017307,
          2.5314193871523254,
          4.603884502237637,
          4.609016390345835,
          3.2711228749726278,
          5.081644588033245,
          4.53021062391388,
          4.556515401223174,
          3.854304293231712,
          5.493055784906878,
          5.249531066508565,
          4.659322201319758,
          4.826861520710609,
          3.55914836618718,
          4.063780653746972,
          6.363353440029117,
          4.988196576490101,
          3.6985724111116043,
          2.092294954730056,
          4.786862592926647,
          3.0380094349733104,
          3.8155083907682736,
          5.478329994414384,
          4.21610211652496,
          3.6220957755315766,
          3.2927727809430767,
          2.794373515391295,
          3.6487354821321794,
          4.178518998876845,
          4.858338753304567,
          4.911486983588708,
          5.2543693300407295,
          5.48979084003557,
          4.7505766437948544,
          3.6549790910672373,
          6.053221195714623,
          4.934315895870344,
          3.7306890831715127,
          3.699206778109795,
          3.281045236150641,
          5.434410927157834,
          4.8181635301986825,
          4.740216205898488,
          2.5029143222646377,
          4.34946712702342,
          3.5896703676422477,
          3.7507025965447127,
          4.360968727978466
         ],
         "yaxis": "y",
         "type": "scatter"
        },
        {
         "marker": {
          "color": "black",
          "size": 10
         },
         "mode": "markers",
         "showlegend": false,
         "x": [
          6.673748615326551,
          -2.526074770907135
         ],
         "y": [
          4.275066315493913,
          -0.7930493138684447
         ],
         "type": "scatter"
        }
       ],
       "layout": {
        "template": {
         "data": {
          "histogram2dcontour": [
           {
            "type": "histogram2dcontour",
            "colorbar": {
             "outlinewidth": 0,
             "ticks": ""
            },
            "colorscale": [
             [
              0.0,
              "#0d0887"
             ],
             [
              0.1111111111111111,
              "#46039f"
             ],
             [
              0.2222222222222222,
              "#7201a8"
             ],
             [
              0.3333333333333333,
              "#9c179e"
             ],
             [
              0.4444444444444444,
              "#bd3786"
             ],
             [
              0.5555555555555556,
              "#d8576b"
             ],
             [
              0.6666666666666666,
              "#ed7953"
             ],
             [
              0.7777777777777778,
              "#fb9f3a"
             ],
             [
              0.8888888888888888,
              "#fdca26"
             ],
             [
              1.0,
              "#f0f921"
             ]
            ]
           }
          ],
          "choropleth": [
           {
            "type": "choropleth",
            "colorbar": {
             "outlinewidth": 0,
             "ticks": ""
            }
           }
          ],
          "histogram2d": [
           {
            "type": "histogram2d",
            "colorbar": {
             "outlinewidth": 0,
             "ticks": ""
            },
            "colorscale": [
             [
              0.0,
              "#0d0887"
             ],
             [
              0.1111111111111111,
              "#46039f"
             ],
             [
              0.2222222222222222,
              "#7201a8"
             ],
             [
              0.3333333333333333,
              "#9c179e"
             ],
             [
              0.4444444444444444,
              "#bd3786"
             ],
             [
              0.5555555555555556,
              "#d8576b"
             ],
             [
              0.6666666666666666,
              "#ed7953"
             ],
             [
              0.7777777777777778,
              "#fb9f3a"
             ],
             [
              0.8888888888888888,
              "#fdca26"
             ],
             [
              1.0,
              "#f0f921"
             ]
            ]
           }
          ],
          "heatmap": [
           {
            "type": "heatmap",
            "colorbar": {
             "outlinewidth": 0,
             "ticks": ""
            },
            "colorscale": [
             [
              0.0,
              "#0d0887"
             ],
             [
              0.1111111111111111,
              "#46039f"
             ],
             [
              0.2222222222222222,
              "#7201a8"
             ],
             [
              0.3333333333333333,
              "#9c179e"
             ],
             [
              0.4444444444444444,
              "#bd3786"
             ],
             [
              0.5555555555555556,
              "#d8576b"
             ],
             [
              0.6666666666666666,
              "#ed7953"
             ],
             [
              0.7777777777777778,
              "#fb9f3a"
             ],
             [
              0.8888888888888888,
              "#fdca26"
             ],
             [
              1.0,
              "#f0f921"
             ]
            ]
           }
          ],
          "heatmapgl": [
           {
            "type": "heatmapgl",
            "colorbar": {
             "outlinewidth": 0,
             "ticks": ""
            },
            "colorscale": [
             [
              0.0,
              "#0d0887"
             ],
             [
              0.1111111111111111,
              "#46039f"
             ],
             [
              0.2222222222222222,
              "#7201a8"
             ],
             [
              0.3333333333333333,
              "#9c179e"
             ],
             [
              0.4444444444444444,
              "#bd3786"
             ],
             [
              0.5555555555555556,
              "#d8576b"
             ],
             [
              0.6666666666666666,
              "#ed7953"
             ],
             [
              0.7777777777777778,
              "#fb9f3a"
             ],
             [
              0.8888888888888888,
              "#fdca26"
             ],
             [
              1.0,
              "#f0f921"
             ]
            ]
           }
          ],
          "contourcarpet": [
           {
            "type": "contourcarpet",
            "colorbar": {
             "outlinewidth": 0,
             "ticks": ""
            }
           }
          ],
          "contour": [
           {
            "type": "contour",
            "colorbar": {
             "outlinewidth": 0,
             "ticks": ""
            },
            "colorscale": [
             [
              0.0,
              "#0d0887"
             ],
             [
              0.1111111111111111,
              "#46039f"
             ],
             [
              0.2222222222222222,
              "#7201a8"
             ],
             [
              0.3333333333333333,
              "#9c179e"
             ],
             [
              0.4444444444444444,
              "#bd3786"
             ],
             [
              0.5555555555555556,
              "#d8576b"
             ],
             [
              0.6666666666666666,
              "#ed7953"
             ],
             [
              0.7777777777777778,
              "#fb9f3a"
             ],
             [
              0.8888888888888888,
              "#fdca26"
             ],
             [
              1.0,
              "#f0f921"
             ]
            ]
           }
          ],
          "surface": [
           {
            "type": "surface",
            "colorbar": {
             "outlinewidth": 0,
             "ticks": ""
            },
            "colorscale": [
             [
              0.0,
              "#0d0887"
             ],
             [
              0.1111111111111111,
              "#46039f"
             ],
             [
              0.2222222222222222,
              "#7201a8"
             ],
             [
              0.3333333333333333,
              "#9c179e"
             ],
             [
              0.4444444444444444,
              "#bd3786"
             ],
             [
              0.5555555555555556,
              "#d8576b"
             ],
             [
              0.6666666666666666,
              "#ed7953"
             ],
             [
              0.7777777777777778,
              "#fb9f3a"
             ],
             [
              0.8888888888888888,
              "#fdca26"
             ],
             [
              1.0,
              "#f0f921"
             ]
            ]
           }
          ],
          "mesh3d": [
           {
            "type": "mesh3d",
            "colorbar": {
             "outlinewidth": 0,
             "ticks": ""
            }
           }
          ],
          "scatter": [
           {
            "fillpattern": {
             "fillmode": "overlay",
             "size": 10,
             "solidity": 0.2
            },
            "type": "scatter"
           }
          ],
          "parcoords": [
           {
            "type": "parcoords",
            "line": {
             "colorbar": {
              "outlinewidth": 0,
              "ticks": ""
             }
            }
           }
          ],
          "scatterpolargl": [
           {
            "type": "scatterpolargl",
            "marker": {
             "colorbar": {
              "outlinewidth": 0,
              "ticks": ""
             }
            }
           }
          ],
          "bar": [
           {
            "error_x": {
             "color": "#2a3f5f"
            },
            "error_y": {
             "color": "#2a3f5f"
            },
            "marker": {
             "line": {
              "color": "#E5ECF6",
              "width": 0.5
             },
             "pattern": {
              "fillmode": "overlay",
              "size": 10,
              "solidity": 0.2
             }
            },
            "type": "bar"
           }
          ],
          "scattergeo": [
           {
            "type": "scattergeo",
            "marker": {
             "colorbar": {
              "outlinewidth": 0,
              "ticks": ""
             }
            }
           }
          ],
          "scatterpolar": [
           {
            "type": "scatterpolar",
            "marker": {
             "colorbar": {
              "outlinewidth": 0,
              "ticks": ""
             }
            }
           }
          ],
          "histogram": [
           {
            "marker": {
             "pattern": {
              "fillmode": "overlay",
              "size": 10,
              "solidity": 0.2
             }
            },
            "type": "histogram"
           }
          ],
          "scattergl": [
           {
            "type": "scattergl",
            "marker": {
             "colorbar": {
              "outlinewidth": 0,
              "ticks": ""
             }
            }
           }
          ],
          "scatter3d": [
           {
            "type": "scatter3d",
            "line": {
             "colorbar": {
              "outlinewidth": 0,
              "ticks": ""
             }
            },
            "marker": {
             "colorbar": {
              "outlinewidth": 0,
              "ticks": ""
             }
            }
           }
          ],
          "scattermapbox": [
           {
            "type": "scattermapbox",
            "marker": {
             "colorbar": {
              "outlinewidth": 0,
              "ticks": ""
             }
            }
           }
          ],
          "scatterternary": [
           {
            "type": "scatterternary",
            "marker": {
             "colorbar": {
              "outlinewidth": 0,
              "ticks": ""
             }
            }
           }
          ],
          "scattercarpet": [
           {
            "type": "scattercarpet",
            "marker": {
             "colorbar": {
              "outlinewidth": 0,
              "ticks": ""
             }
            }
           }
          ],
          "carpet": [
           {
            "aaxis": {
             "endlinecolor": "#2a3f5f",
             "gridcolor": "white",
             "linecolor": "white",
             "minorgridcolor": "white",
             "startlinecolor": "#2a3f5f"
            },
            "baxis": {
             "endlinecolor": "#2a3f5f",
             "gridcolor": "white",
             "linecolor": "white",
             "minorgridcolor": "white",
             "startlinecolor": "#2a3f5f"
            },
            "type": "carpet"
           }
          ],
          "table": [
           {
            "cells": {
             "fill": {
              "color": "#EBF0F8"
             },
             "line": {
              "color": "white"
             }
            },
            "header": {
             "fill": {
              "color": "#C8D4E3"
             },
             "line": {
              "color": "white"
             }
            },
            "type": "table"
           }
          ],
          "barpolar": [
           {
            "marker": {
             "line": {
              "color": "#E5ECF6",
              "width": 0.5
             },
             "pattern": {
              "fillmode": "overlay",
              "size": 10,
              "solidity": 0.2
             }
            },
            "type": "barpolar"
           }
          ],
          "pie": [
           {
            "automargin": true,
            "type": "pie"
           }
          ]
         },
         "layout": {
          "autotypenumbers": "strict",
          "colorway": [
           "#636efa",
           "#EF553B",
           "#00cc96",
           "#ab63fa",
           "#FFA15A",
           "#19d3f3",
           "#FF6692",
           "#B6E880",
           "#FF97FF",
           "#FECB52"
          ],
          "font": {
           "color": "#2a3f5f"
          },
          "hovermode": "closest",
          "hoverlabel": {
           "align": "left"
          },
          "paper_bgcolor": "white",
          "plot_bgcolor": "#E5ECF6",
          "polar": {
           "bgcolor": "#E5ECF6",
           "angularaxis": {
            "gridcolor": "white",
            "linecolor": "white",
            "ticks": ""
           },
           "radialaxis": {
            "gridcolor": "white",
            "linecolor": "white",
            "ticks": ""
           }
          },
          "ternary": {
           "bgcolor": "#E5ECF6",
           "aaxis": {
            "gridcolor": "white",
            "linecolor": "white",
            "ticks": ""
           },
           "baxis": {
            "gridcolor": "white",
            "linecolor": "white",
            "ticks": ""
           },
           "caxis": {
            "gridcolor": "white",
            "linecolor": "white",
            "ticks": ""
           }
          },
          "coloraxis": {
           "colorbar": {
            "outlinewidth": 0,
            "ticks": ""
           }
          },
          "colorscale": {
           "sequential": [
            [
             0.0,
             "#0d0887"
            ],
            [
             0.1111111111111111,
             "#46039f"
            ],
            [
             0.2222222222222222,
             "#7201a8"
            ],
            [
             0.3333333333333333,
             "#9c179e"
            ],
            [
             0.4444444444444444,
             "#bd3786"
            ],
            [
             0.5555555555555556,
             "#d8576b"
            ],
            [
             0.6666666666666666,
             "#ed7953"
            ],
            [
             0.7777777777777778,
             "#fb9f3a"
            ],
            [
             0.8888888888888888,
             "#fdca26"
            ],
            [
             1.0,
             "#f0f921"
            ]
           ],
           "sequentialminus": [
            [
             0.0,
             "#0d0887"
            ],
            [
             0.1111111111111111,
             "#46039f"
            ],
            [
             0.2222222222222222,
             "#7201a8"
            ],
            [
             0.3333333333333333,
             "#9c179e"
            ],
            [
             0.4444444444444444,
             "#bd3786"
            ],
            [
             0.5555555555555556,
             "#d8576b"
            ],
            [
             0.6666666666666666,
             "#ed7953"
            ],
            [
             0.7777777777777778,
             "#fb9f3a"
            ],
            [
             0.8888888888888888,
             "#fdca26"
            ],
            [
             1.0,
             "#f0f921"
            ]
           ],
           "diverging": [
            [
             0,
             "#8e0152"
            ],
            [
             0.1,
             "#c51b7d"
            ],
            [
             0.2,
             "#de77ae"
            ],
            [
             0.3,
             "#f1b6da"
            ],
            [
             0.4,
             "#fde0ef"
            ],
            [
             0.5,
             "#f7f7f7"
            ],
            [
             0.6,
             "#e6f5d0"
            ],
            [
             0.7,
             "#b8e186"
            ],
            [
             0.8,
             "#7fbc41"
            ],
            [
             0.9,
             "#4d9221"
            ],
            [
             1,
             "#276419"
            ]
           ]
          },
          "xaxis": {
           "gridcolor": "white",
           "linecolor": "white",
           "ticks": "",
           "title": {
            "standoff": 15
           },
           "zerolinecolor": "white",
           "automargin": true,
           "zerolinewidth": 2
          },
          "yaxis": {
           "gridcolor": "white",
           "linecolor": "white",
           "ticks": "",
           "title": {
            "standoff": 15
           },
           "zerolinecolor": "white",
           "automargin": true,
           "zerolinewidth": 2
          },
          "scene": {
           "xaxis": {
            "backgroundcolor": "#E5ECF6",
            "gridcolor": "white",
            "linecolor": "white",
            "showbackground": true,
            "ticks": "",
            "zerolinecolor": "white",
            "gridwidth": 2
           },
           "yaxis": {
            "backgroundcolor": "#E5ECF6",
            "gridcolor": "white",
            "linecolor": "white",
            "showbackground": true,
            "ticks": "",
            "zerolinecolor": "white",
            "gridwidth": 2
           },
           "zaxis": {
            "backgroundcolor": "#E5ECF6",
            "gridcolor": "white",
            "linecolor": "white",
            "showbackground": true,
            "ticks": "",
            "zerolinecolor": "white",
            "gridwidth": 2
           }
          },
          "shapedefaults": {
           "line": {
            "color": "#2a3f5f"
           }
          },
          "annotationdefaults": {
           "arrowcolor": "#2a3f5f",
           "arrowhead": 0,
           "arrowwidth": 1
          },
          "geo": {
           "bgcolor": "white",
           "landcolor": "#E5ECF6",
           "subunitcolor": "white",
           "showland": true,
           "showlakes": true,
           "lakecolor": "white"
          },
          "title": {
           "x": 0.05
          },
          "mapbox": {
           "style": "light"
          }
         }
        },
        "xaxis": {
         "anchor": "y",
         "domain": [
          0.0,
          1.0
         ],
         "title": {
          "text": "x"
         }
        },
        "yaxis": {
         "anchor": "x",
         "domain": [
          0.0,
          1.0
         ],
         "title": {
          "text": "y"
         }
        },
        "legend": {
         "title": {
          "text": "color"
         },
         "tracegroupgap": 0
        },
        "margin": {
         "t": 60
        }
       },
       "config": {
        "plotlyServerURL": "https://plot.ly"
       }
      },
      "text/html": "<div>                            <div id=\"d1b80b40-c8f7-4f54-8b85-495e11427abe\" class=\"plotly-graph-div\" style=\"height:525px; width:100%;\"></div>            <script type=\"text/javascript\">                require([\"plotly\"], function(Plotly) {                    window.PLOTLYENV=window.PLOTLYENV || {};                                    if (document.getElementById(\"d1b80b40-c8f7-4f54-8b85-495e11427abe\")) {                    Plotly.newPlot(                        \"d1b80b40-c8f7-4f54-8b85-495e11427abe\",                        [{\"hovertemplate\":\"color=1<br>x=%{x}<br>y=%{y}<extra></extra>\",\"legendgroup\":\"1\",\"marker\":{\"color\":\"#636efa\",\"symbol\":\"circle\"},\"mode\":\"markers\",\"name\":\"1\",\"orientation\":\"v\",\"showlegend\":true,\"x\":[-0.7044797617886656,-3.1770711362649395,-2.1092791571003198,-2.3831396192925074,-3.7862548608489917,-1.4666740048093685,-1.568156381377785,-1.2188269313718139,-0.7047371169401411,-2.6091295613132406,-2.6300924658420386,-3.580117143242111,-1.8528034406255283,-2.546661021340573,-3.085896313417147,-3.0874096016355326,-2.4344600901785856,-2.261049234119771,-2.6347125141395344,-0.6713646585672819,-3.479759485424239,-3.887246281604825,-3.4938275643375203,-2.5833408658652015,-2.6818259310356574,-0.840604959863924,-1.5991454703612469,-3.4182112086221403,-1.7260321936139889,-2.261616350213209,-2.6587523431065443,-3.397587550425559,-3.4881537538038616,-2.4726054390257146,-3.7731171460248447,-2.338517436505799,-2.084313287513802,-2.6342520772182447,-3.6741093589446034,-4.421504671351837,-1.728963293557284,-3.1089246709719904,-1.2680657945765121,-3.9643085397375857,-2.3057072932878766,-2.6375847327914985,-3.5003007218796087,-2.0581243527661996,-3.202333303110994,-1.102587453598545],\"xaxis\":\"x\",\"y\":[-0.6612597649791506,-1.6056063785793797,-0.36437278490672104,-2.09870243942246,-1.9515329014525076,-1.0453480604757945,-0.15196540510588274,-1.9988811436801288,-1.7600067737002534,-0.28426899663309424,-0.9646809139759026,-0.27791450251746397,-0.1801883698500809,-0.8172963731161321,-2.317895880666544,-0.5047640828779738,0.9935577532674866,-0.3612471036699402,-1.6335644284016646,-1.6792424990338701,0.9379954183305486,0.06356357214469521,-0.6115182157772722,-2.109433740938468,-1.0774953546713861,-0.7240662088471992,-2.2644461948533747,-2.077035391890967,0.7409937453351283,-0.35547316483430286,-1.4344939937418135,1.8620953166425478,-2.5634209817989655,-1.104633061850615,0.5957851177680114,0.1205333541809005,-0.45233454913324433,-0.7813137596211855,-0.5261283775098557,-2.8221497328899257,0.8583862348435141,0.4112937147567439,-1.718696768060464,-2.4892883847687575,-0.2756626731970354,-1.174202326236556,-0.1204786743140015,-0.3250546913821276,0.04308446257357934,-0.6136893339029283],\"yaxis\":\"y\",\"type\":\"scatter\"},{\"hovertemplate\":\"color=0<br>x=%{x}<br>y=%{y}<extra></extra>\",\"legendgroup\":\"0\",\"marker\":{\"color\":\"#EF553B\",\"symbol\":\"circle\"},\"mode\":\"markers\",\"name\":\"0\",\"orientation\":\"v\",\"showlegend\":true,\"x\":[6.241530920299751,7.931297488718007,6.983813151900489,7.148083640061025,6.795017742130688,6.85957044655227,6.9684167899559935,6.890252335284898,5.780356845237643,5.327944676550656,6.6998575512044,6.595150013074487,6.978569133273303,6.385438691749251,7.506746105909352,5.845187802930985,6.2026789625300065,7.182805144917547,6.431405929839887,8.03642331644155,7.363556986522446,6.015966838836066,7.560168781244937,6.2746035691843325,9.46947989037055,4.924638335860342,6.698933840424503,5.583258612396862,5.811497687255885,7.739880832845986,6.994516642853929,5.241487606491397,4.774805534066465,6.7265075541747565,7.15905730311816,6.610903202557758,6.502762989642954,6.25435863752298,6.954008545979155,7.31296748121234,7.137084724036334,6.903914540292803,6.2916262130379295,7.534614205479954,6.7113257496006336,7.000467740414114,7.093796124544649,7.158177889541425,6.072282295718949,5.0202337225367994],\"xaxis\":\"x\",\"y\":[3.3206930211701557,5.22611756161726,4.138427437017307,2.5314193871523254,4.603884502237637,4.609016390345835,3.2711228749726278,5.081644588033245,4.53021062391388,4.556515401223174,3.854304293231712,5.493055784906878,5.249531066508565,4.659322201319758,4.826861520710609,3.55914836618718,4.063780653746972,6.363353440029117,4.988196576490101,3.6985724111116043,2.092294954730056,4.786862592926647,3.0380094349733104,3.8155083907682736,5.478329994414384,4.21610211652496,3.6220957755315766,3.2927727809430767,2.794373515391295,3.6487354821321794,4.178518998876845,4.858338753304567,4.911486983588708,5.2543693300407295,5.48979084003557,4.7505766437948544,3.6549790910672373,6.053221195714623,4.934315895870344,3.7306890831715127,3.699206778109795,3.281045236150641,5.434410927157834,4.8181635301986825,4.740216205898488,2.5029143222646377,4.34946712702342,3.5896703676422477,3.7507025965447127,4.360968727978466],\"yaxis\":\"y\",\"type\":\"scatter\"},{\"marker\":{\"color\":\"black\",\"size\":10},\"mode\":\"markers\",\"showlegend\":false,\"x\":[6.673748615326551,-2.526074770907135],\"y\":[4.275066315493913,-0.7930493138684447],\"type\":\"scatter\"}],                        {\"template\":{\"data\":{\"histogram2dcontour\":[{\"type\":\"histogram2dcontour\",\"colorbar\":{\"outlinewidth\":0,\"ticks\":\"\"},\"colorscale\":[[0.0,\"#0d0887\"],[0.1111111111111111,\"#46039f\"],[0.2222222222222222,\"#7201a8\"],[0.3333333333333333,\"#9c179e\"],[0.4444444444444444,\"#bd3786\"],[0.5555555555555556,\"#d8576b\"],[0.6666666666666666,\"#ed7953\"],[0.7777777777777778,\"#fb9f3a\"],[0.8888888888888888,\"#fdca26\"],[1.0,\"#f0f921\"]]}],\"choropleth\":[{\"type\":\"choropleth\",\"colorbar\":{\"outlinewidth\":0,\"ticks\":\"\"}}],\"histogram2d\":[{\"type\":\"histogram2d\",\"colorbar\":{\"outlinewidth\":0,\"ticks\":\"\"},\"colorscale\":[[0.0,\"#0d0887\"],[0.1111111111111111,\"#46039f\"],[0.2222222222222222,\"#7201a8\"],[0.3333333333333333,\"#9c179e\"],[0.4444444444444444,\"#bd3786\"],[0.5555555555555556,\"#d8576b\"],[0.6666666666666666,\"#ed7953\"],[0.7777777777777778,\"#fb9f3a\"],[0.8888888888888888,\"#fdca26\"],[1.0,\"#f0f921\"]]}],\"heatmap\":[{\"type\":\"heatmap\",\"colorbar\":{\"outlinewidth\":0,\"ticks\":\"\"},\"colorscale\":[[0.0,\"#0d0887\"],[0.1111111111111111,\"#46039f\"],[0.2222222222222222,\"#7201a8\"],[0.3333333333333333,\"#9c179e\"],[0.4444444444444444,\"#bd3786\"],[0.5555555555555556,\"#d8576b\"],[0.6666666666666666,\"#ed7953\"],[0.7777777777777778,\"#fb9f3a\"],[0.8888888888888888,\"#fdca26\"],[1.0,\"#f0f921\"]]}],\"heatmapgl\":[{\"type\":\"heatmapgl\",\"colorbar\":{\"outlinewidth\":0,\"ticks\":\"\"},\"colorscale\":[[0.0,\"#0d0887\"],[0.1111111111111111,\"#46039f\"],[0.2222222222222222,\"#7201a8\"],[0.3333333333333333,\"#9c179e\"],[0.4444444444444444,\"#bd3786\"],[0.5555555555555556,\"#d8576b\"],[0.6666666666666666,\"#ed7953\"],[0.7777777777777778,\"#fb9f3a\"],[0.8888888888888888,\"#fdca26\"],[1.0,\"#f0f921\"]]}],\"contourcarpet\":[{\"type\":\"contourcarpet\",\"colorbar\":{\"outlinewidth\":0,\"ticks\":\"\"}}],\"contour\":[{\"type\":\"contour\",\"colorbar\":{\"outlinewidth\":0,\"ticks\":\"\"},\"colorscale\":[[0.0,\"#0d0887\"],[0.1111111111111111,\"#46039f\"],[0.2222222222222222,\"#7201a8\"],[0.3333333333333333,\"#9c179e\"],[0.4444444444444444,\"#bd3786\"],[0.5555555555555556,\"#d8576b\"],[0.6666666666666666,\"#ed7953\"],[0.7777777777777778,\"#fb9f3a\"],[0.8888888888888888,\"#fdca26\"],[1.0,\"#f0f921\"]]}],\"surface\":[{\"type\":\"surface\",\"colorbar\":{\"outlinewidth\":0,\"ticks\":\"\"},\"colorscale\":[[0.0,\"#0d0887\"],[0.1111111111111111,\"#46039f\"],[0.2222222222222222,\"#7201a8\"],[0.3333333333333333,\"#9c179e\"],[0.4444444444444444,\"#bd3786\"],[0.5555555555555556,\"#d8576b\"],[0.6666666666666666,\"#ed7953\"],[0.7777777777777778,\"#fb9f3a\"],[0.8888888888888888,\"#fdca26\"],[1.0,\"#f0f921\"]]}],\"mesh3d\":[{\"type\":\"mesh3d\",\"colorbar\":{\"outlinewidth\":0,\"ticks\":\"\"}}],\"scatter\":[{\"fillpattern\":{\"fillmode\":\"overlay\",\"size\":10,\"solidity\":0.2},\"type\":\"scatter\"}],\"parcoords\":[{\"type\":\"parcoords\",\"line\":{\"colorbar\":{\"outlinewidth\":0,\"ticks\":\"\"}}}],\"scatterpolargl\":[{\"type\":\"scatterpolargl\",\"marker\":{\"colorbar\":{\"outlinewidth\":0,\"ticks\":\"\"}}}],\"bar\":[{\"error_x\":{\"color\":\"#2a3f5f\"},\"error_y\":{\"color\":\"#2a3f5f\"},\"marker\":{\"line\":{\"color\":\"#E5ECF6\",\"width\":0.5},\"pattern\":{\"fillmode\":\"overlay\",\"size\":10,\"solidity\":0.2}},\"type\":\"bar\"}],\"scattergeo\":[{\"type\":\"scattergeo\",\"marker\":{\"colorbar\":{\"outlinewidth\":0,\"ticks\":\"\"}}}],\"scatterpolar\":[{\"type\":\"scatterpolar\",\"marker\":{\"colorbar\":{\"outlinewidth\":0,\"ticks\":\"\"}}}],\"histogram\":[{\"marker\":{\"pattern\":{\"fillmode\":\"overlay\",\"size\":10,\"solidity\":0.2}},\"type\":\"histogram\"}],\"scattergl\":[{\"type\":\"scattergl\",\"marker\":{\"colorbar\":{\"outlinewidth\":0,\"ticks\":\"\"}}}],\"scatter3d\":[{\"type\":\"scatter3d\",\"line\":{\"colorbar\":{\"outlinewidth\":0,\"ticks\":\"\"}},\"marker\":{\"colorbar\":{\"outlinewidth\":0,\"ticks\":\"\"}}}],\"scattermapbox\":[{\"type\":\"scattermapbox\",\"marker\":{\"colorbar\":{\"outlinewidth\":0,\"ticks\":\"\"}}}],\"scatterternary\":[{\"type\":\"scatterternary\",\"marker\":{\"colorbar\":{\"outlinewidth\":0,\"ticks\":\"\"}}}],\"scattercarpet\":[{\"type\":\"scattercarpet\",\"marker\":{\"colorbar\":{\"outlinewidth\":0,\"ticks\":\"\"}}}],\"carpet\":[{\"aaxis\":{\"endlinecolor\":\"#2a3f5f\",\"gridcolor\":\"white\",\"linecolor\":\"white\",\"minorgridcolor\":\"white\",\"startlinecolor\":\"#2a3f5f\"},\"baxis\":{\"endlinecolor\":\"#2a3f5f\",\"gridcolor\":\"white\",\"linecolor\":\"white\",\"minorgridcolor\":\"white\",\"startlinecolor\":\"#2a3f5f\"},\"type\":\"carpet\"}],\"table\":[{\"cells\":{\"fill\":{\"color\":\"#EBF0F8\"},\"line\":{\"color\":\"white\"}},\"header\":{\"fill\":{\"color\":\"#C8D4E3\"},\"line\":{\"color\":\"white\"}},\"type\":\"table\"}],\"barpolar\":[{\"marker\":{\"line\":{\"color\":\"#E5ECF6\",\"width\":0.5},\"pattern\":{\"fillmode\":\"overlay\",\"size\":10,\"solidity\":0.2}},\"type\":\"barpolar\"}],\"pie\":[{\"automargin\":true,\"type\":\"pie\"}]},\"layout\":{\"autotypenumbers\":\"strict\",\"colorway\":[\"#636efa\",\"#EF553B\",\"#00cc96\",\"#ab63fa\",\"#FFA15A\",\"#19d3f3\",\"#FF6692\",\"#B6E880\",\"#FF97FF\",\"#FECB52\"],\"font\":{\"color\":\"#2a3f5f\"},\"hovermode\":\"closest\",\"hoverlabel\":{\"align\":\"left\"},\"paper_bgcolor\":\"white\",\"plot_bgcolor\":\"#E5ECF6\",\"polar\":{\"bgcolor\":\"#E5ECF6\",\"angularaxis\":{\"gridcolor\":\"white\",\"linecolor\":\"white\",\"ticks\":\"\"},\"radialaxis\":{\"gridcolor\":\"white\",\"linecolor\":\"white\",\"ticks\":\"\"}},\"ternary\":{\"bgcolor\":\"#E5ECF6\",\"aaxis\":{\"gridcolor\":\"white\",\"linecolor\":\"white\",\"ticks\":\"\"},\"baxis\":{\"gridcolor\":\"white\",\"linecolor\":\"white\",\"ticks\":\"\"},\"caxis\":{\"gridcolor\":\"white\",\"linecolor\":\"white\",\"ticks\":\"\"}},\"coloraxis\":{\"colorbar\":{\"outlinewidth\":0,\"ticks\":\"\"}},\"colorscale\":{\"sequential\":[[0.0,\"#0d0887\"],[0.1111111111111111,\"#46039f\"],[0.2222222222222222,\"#7201a8\"],[0.3333333333333333,\"#9c179e\"],[0.4444444444444444,\"#bd3786\"],[0.5555555555555556,\"#d8576b\"],[0.6666666666666666,\"#ed7953\"],[0.7777777777777778,\"#fb9f3a\"],[0.8888888888888888,\"#fdca26\"],[1.0,\"#f0f921\"]],\"sequentialminus\":[[0.0,\"#0d0887\"],[0.1111111111111111,\"#46039f\"],[0.2222222222222222,\"#7201a8\"],[0.3333333333333333,\"#9c179e\"],[0.4444444444444444,\"#bd3786\"],[0.5555555555555556,\"#d8576b\"],[0.6666666666666666,\"#ed7953\"],[0.7777777777777778,\"#fb9f3a\"],[0.8888888888888888,\"#fdca26\"],[1.0,\"#f0f921\"]],\"diverging\":[[0,\"#8e0152\"],[0.1,\"#c51b7d\"],[0.2,\"#de77ae\"],[0.3,\"#f1b6da\"],[0.4,\"#fde0ef\"],[0.5,\"#f7f7f7\"],[0.6,\"#e6f5d0\"],[0.7,\"#b8e186\"],[0.8,\"#7fbc41\"],[0.9,\"#4d9221\"],[1,\"#276419\"]]},\"xaxis\":{\"gridcolor\":\"white\",\"linecolor\":\"white\",\"ticks\":\"\",\"title\":{\"standoff\":15},\"zerolinecolor\":\"white\",\"automargin\":true,\"zerolinewidth\":2},\"yaxis\":{\"gridcolor\":\"white\",\"linecolor\":\"white\",\"ticks\":\"\",\"title\":{\"standoff\":15},\"zerolinecolor\":\"white\",\"automargin\":true,\"zerolinewidth\":2},\"scene\":{\"xaxis\":{\"backgroundcolor\":\"#E5ECF6\",\"gridcolor\":\"white\",\"linecolor\":\"white\",\"showbackground\":true,\"ticks\":\"\",\"zerolinecolor\":\"white\",\"gridwidth\":2},\"yaxis\":{\"backgroundcolor\":\"#E5ECF6\",\"gridcolor\":\"white\",\"linecolor\":\"white\",\"showbackground\":true,\"ticks\":\"\",\"zerolinecolor\":\"white\",\"gridwidth\":2},\"zaxis\":{\"backgroundcolor\":\"#E5ECF6\",\"gridcolor\":\"white\",\"linecolor\":\"white\",\"showbackground\":true,\"ticks\":\"\",\"zerolinecolor\":\"white\",\"gridwidth\":2}},\"shapedefaults\":{\"line\":{\"color\":\"#2a3f5f\"}},\"annotationdefaults\":{\"arrowcolor\":\"#2a3f5f\",\"arrowhead\":0,\"arrowwidth\":1},\"geo\":{\"bgcolor\":\"white\",\"landcolor\":\"#E5ECF6\",\"subunitcolor\":\"white\",\"showland\":true,\"showlakes\":true,\"lakecolor\":\"white\"},\"title\":{\"x\":0.05},\"mapbox\":{\"style\":\"light\"}}},\"xaxis\":{\"anchor\":\"y\",\"domain\":[0.0,1.0],\"title\":{\"text\":\"x\"}},\"yaxis\":{\"anchor\":\"x\",\"domain\":[0.0,1.0],\"title\":{\"text\":\"y\"}},\"legend\":{\"title\":{\"text\":\"color\"},\"tracegroupgap\":0},\"margin\":{\"t\":60}},                        {\"responsive\": true}                    ).then(function(){\n                            \nvar gd = document.getElementById('d1b80b40-c8f7-4f54-8b85-495e11427abe');\nvar x = new MutationObserver(function (mutations, observer) {{\n        var display = window.getComputedStyle(gd).display;\n        if (!display || display === 'none') {{\n            console.log([gd, 'removed!']);\n            Plotly.purge(gd);\n            observer.disconnect();\n        }}\n}});\n\n// Listen for the removal of the full notebook cells\nvar notebookContainer = gd.closest('#notebook-container');\nif (notebookContainer) {{\n    x.observe(notebookContainer, {childList: true});\n}}\n\n// Listen for the clearing of the current output cell\nvar outputEl = gd.closest('.output');\nif (outputEl) {{\n    x.observe(outputEl, {childList: true});\n}}\n\n                        })                };                });            </script>        </div>"
     },
     "metadata": {},
     "output_type": "display_data"
    },
    {
     "data": {
      "application/vnd.plotly.v1+json": {
       "data": [
        {
         "hovertemplate": "color=0<br>x=%{x}<br>y=%{y}<extra></extra>",
         "legendgroup": "0",
         "marker": {
          "color": "#636efa",
          "symbol": "circle"
         },
         "mode": "markers",
         "name": "0",
         "orientation": "v",
         "showlegend": true,
         "x": [
          4.896656715873136,
          5.707831794388692,
          3.9588442325528876,
          5.418028913020813,
          3.9555634217716626,
          4.3887216208405055,
          5.095030519392465,
          5.072492997949753,
          5.350540997497492,
          5.453738029658895,
          6.202950147538697,
          4.466074982760477,
          5.297405529243478,
          6.582704705512722,
          5.607522079887755,
          4.189283606694227,
          5.7989948624821395,
          4.120242859298245,
          5.809715585919881,
          3.7840303296405913,
          5.194197771531913,
          5.7853548157588595,
          6.089228880719381,
          4.436114993557534,
          5.812263726109747,
          5.4777341499983425,
          4.295826943623528,
          4.811581087382336,
          3.31267885456998,
          5.965118812937701,
          4.476052122707226,
          3.9755475369943465,
          5.807065872786372,
          3.388860534435606,
          3.837331082371592,
          3.346617835060491,
          4.30607642711839,
          4.56507283395638,
          5.3387436892507045,
          4.824883357405199,
          3.321278253987522,
          2.9625859013923437,
          4.9412563708242185,
          3.2612006050546762,
          6.140620365977914,
          5.337498015087749,
          6.025276960645716,
          4.346732776845917,
          3.5367707196201317
         ],
         "xaxis": "x",
         "y": [
          2.030040759127338,
          4.729509256062414,
          3.3772081517945005,
          4.297754693639345,
          4.875695089860518,
          3.972732868362462,
          2.8698335178662564,
          2.190671057595143,
          5.2597159421608275,
          5.061523153885866,
          4.026784248496762,
          3.209968967688715,
          3.670352829017219,
          4.331246853209346,
          3.5252301483949933,
          6.317075007067846,
          4.721478078211559,
          4.22041295963812,
          4.624448479351981,
          3.7249495679017692,
          3.5321910709540525,
          2.4083009024969697,
          4.109555844475962,
          3.9822354065293237,
          5.23284735272138,
          4.546178560930479,
          5.053203249782735,
          3.91977947309908,
          4.421836564217887,
          3.0741483804994916,
          4.519046588273888,
          3.8704009823381673,
          5.236267725336733,
          3.1411947746741187,
          3.8736928924800305,
          5.910822345098195,
          4.146521788631694,
          4.250107601535769,
          3.984300396892733,
          5.126759440002368,
          3.2361528873322443,
          4.0793642375003945,
          4.8674203983642155,
          4.380430084745497,
          3.549142637354586,
          5.683174161677626,
          5.009666456517801,
          5.190472481617094,
          4.520762980403401
         ],
         "yaxis": "y",
         "type": "scatter"
        },
        {
         "hovertemplate": "color=1<br>x=%{x}<br>y=%{y}<extra></extra>",
         "legendgroup": "1",
         "marker": {
          "color": "#EF553B",
          "symbol": "circle"
         },
         "mode": "markers",
         "name": "1",
         "orientation": "v",
         "showlegend": true,
         "x": [
          -0.6610067726957048,
          -0.7593937998746185,
          1.3633666673678724,
          -0.18097700133021655,
          0.4126697950071542,
          2.9330981368466915,
          2.0890882813080376,
          0.7297845019747103,
          0.3852661547905827,
          0.38198708726416886,
          0.07702141222799569,
          0.16701263531758984,
          3.6008465041648963,
          -0.7752547891927208,
          1.272618981192219,
          -0.007395030566880789,
          0.19698053903389273,
          -0.9183737779109031
         ],
         "xaxis": "x",
         "y": [
          8.663860395928685,
          10.355933610594978,
          8.869275762563406,
          9.06111937743748,
          8.512214857055584,
          9.433787281579235,
          8.169394052133038,
          9.339581891068384,
          8.637796752859304,
          8.7337796427697,
          9.72297794353286,
          8.725100860134708,
          7.791277606110116,
          9.35113691626066,
          9.119454507024733,
          9.46100857405265,
          9.689099615586215,
          8.892629948885514
         ],
         "yaxis": "y",
         "type": "scatter"
        },
        {
         "hovertemplate": "color=2<br>x=%{x}<br>y=%{y}<extra></extra>",
         "legendgroup": "2",
         "marker": {
          "color": "#00cc96",
          "symbol": "circle"
         },
         "mode": "markers",
         "name": "2",
         "orientation": "v",
         "showlegend": true,
         "x": [
          -8.791784897258445,
          -8.490447215875303,
          -7.30887243201656,
          -8.344271449223008,
          -8.479100171138366,
          -8.07307316643648,
          -9.10351281187181,
          -8.438179775418226,
          -7.337641628257236,
          -8.785520115588387,
          -6.574725147278514,
          -8.972215608457052,
          -8.812189428030765,
          -8.415288570685805,
          -7.640895005513173,
          -9.307245905745669,
          -8.387636267131201,
          -7.230074159483079,
          -8.436188861385263,
          -8.615891346372415,
          -8.639070380726299,
          -8.12355999794374,
          -7.795479840161219,
          -8.91845824490604,
          -8.539877896984667,
          -7.81833714020201,
          -8.233716595827921,
          -9.743534615190605,
          -6.583260314853536,
          -9.61929146422197,
          -8.603181552177334,
          -9.06887827509674,
          -7.545447014084816,
          -9.329039248735508,
          -7.848719427247705,
          -9.033202087835386,
          -8.551473123511446,
          -9.858527411480267,
          -7.670489745644992,
          -8.3621328375548,
          -8.624505088728386,
          -8.985020666897883,
          -8.039127493351712,
          -8.641081049987223,
          -9.226497096273315,
          -8.077752631543198,
          -7.595155884905892,
          -8.250093275755225,
          -9.193750525849111,
          -9.384120686304795,
          -9.13133508922634,
          -8.01128570373862,
          -9.41799536962301,
          -7.2301300212273905,
          -7.729848120619992,
          -8.533349217264295,
          -7.872404032980638,
          -9.02557436698661,
          -8.855884838070825,
          -8.308039066368206,
          -7.290903977054409,
          -8.774265800132094,
          -9.180579021782277,
          -6.890933512885879,
          -9.22055121016637,
          -6.97652793702764,
          -9.626436134847628,
          -8.220645753175585,
          -8.219936120994742,
          -8.598461063386369,
          -8.513079954679432,
          -7.310053592695751,
          -9.220560492884406,
          -7.074256825289387,
          -7.265221677062005,
          -9.988979300260073,
          -5.641642842530313,
          -9.79414776768236,
          -7.180288865171808,
          -8.205134132675894,
          -9.059624611381643,
          -9.059814039342442,
          -7.364699072622408,
          -5.835748806043965,
          -9.082864743587175,
          -8.600405668718118,
          -9.374165514609082,
          -7.957509117621835,
          -6.30474527703644,
          -8.597167155713443,
          -8.16859491508721,
          -9.498832517822269,
          -10.095279040082149,
          -7.238202589281051,
          -7.558509683096367,
          -9.909081644777933,
          -8.025522695101966,
          -8.737575680187176,
          -10.118281758020876,
          -7.085933806540609
         ],
         "xaxis": "x",
         "y": [
          -4.521618938697734,
          -5.6837715588525,
          -3.2293182067986907,
          -3.482699489628484,
          -5.509462365598468,
          -7.637699868087837,
          -1.8975010176397622,
          -5.0778907170822025,
          -4.899266073919952,
          -4.615500000004188,
          -4.303632200717912,
          -3.9739168046499396,
          -4.266407617185599,
          -4.390556129666734,
          -5.024048713463097,
          -4.767283567294176,
          -4.928472031530783,
          -3.675661694789996,
          -5.6652846853665935,
          -3.7742020293298397,
          -5.397362057098512,
          -4.63546268675432,
          -4.109738836853255,
          -6.207711828561928,
          -5.688926222191999,
          -5.327211595392267,
          -4.448657094261013,
          -6.346063797985123,
          -5.122767484959789,
          -6.342561264630917,
          -5.162185112908522,
          -5.694551685981983,
          -6.302740037015486,
          -3.6064209725371645,
          -6.222379389279865,
          -5.912549727584605,
          -6.99237403960567,
          -5.353991723607847,
          -5.032545552637954,
          -6.062400037640183,
          -4.213313568080512,
          -4.723989194741656,
          -3.882341159493392,
          -4.196993866942867,
          -3.4663069726985136,
          -5.3642018212534985,
          -4.536876967381275,
          -6.667274319814099,
          -6.6717191283728035,
          -4.840086578894807,
          -3.8072593010774254,
          -5.478713712213113,
          -3.9073004963303304,
          -5.196792790069839,
          -4.8875428820569375,
          -5.648974328809139,
          -4.790283128398514,
          -4.522558998919809,
          -6.156451879149466,
          -3.9212754921205075,
          -5.361354745751018,
          -5.019536753640915,
          -4.247365630067561,
          -3.471238816751647,
          -5.408780507483392,
          -2.680643507347653,
          -3.532088840853215,
          -5.275351303533342,
          -3.640298396108862,
          -4.612970464922928,
          -4.333814484975652,
          -4.335048802088626,
          -4.0520715634310385,
          -5.141551099128266,
          -4.234933895694525,
          -2.7531955350095023,
          -4.649551834367984,
          -3.5265437399963138,
          -4.606244863283636,
          -3.901353186332129,
          -4.0653271581136705,
          -3.9169836866083525,
          -3.591959184789683,
          -3.419902639498555,
          -6.231359719784852,
          -4.626094363922607,
          -4.081770198039693,
          -3.3428699287270014,
          -4.364097680323429,
          -6.347659681100079,
          -5.402293191025735,
          -4.398046540200709,
          -4.511992912597965,
          -5.745640488242864,
          -3.5679383626805996,
          -4.512497289185267,
          -5.592571076383204,
          -4.130591567965456,
          -5.166259919369426,
          -4.437333096642898
         ],
         "yaxis": "y",
         "type": "scatter"
        },
        {
         "hovertemplate": "color=3<br>x=%{x}<br>y=%{y}<extra></extra>",
         "legendgroup": "3",
         "marker": {
          "color": "#ab63fa",
          "symbol": "circle"
         },
         "mode": "markers",
         "name": "3",
         "orientation": "v",
         "showlegend": true,
         "x": [
          0.7813070515708568,
          1.2397003610091466,
          -0.6838819492870729,
          0.20543950537062336,
          -0.39261856530513994,
          -0.7350282394803576,
          -0.7278673859436418,
          -1.0968842446445217,
          0.03642282577245881,
          1.230932481535726,
          0.2036864006644015,
          0.1415640738880141,
          1.9463020573513723,
          0.5576399818668376,
          -1.2307271277543232,
          1.6500530490950187,
          -0.07247073992572106,
          0.12378913652154555,
          -0.6488780508019482,
          -0.09984791019972833,
          -1.5346611632263385,
          -0.5738975813288868,
          2.1805460975092537,
          0.9463629387995628,
          0.26156799449278895,
          0.7513886685422806,
          -0.37928923075726484,
          0.2582693862068853,
          0.2784714637276336,
          1.333966996120009,
          0.022581346449282613,
          0.6564136306882724,
          1.5336890976441537
         ],
         "xaxis": "x",
         "y": [
          7.28069517671332,
          6.552260064334627,
          7.157903155632114,
          7.194907868973936,
          7.664397848774996,
          8.23400128269187,
          7.62802315943873,
          7.189515662291953,
          7.791022801082707,
          7.5468634034421225,
          7.063648919049718,
          7.788403548202062,
          7.018947354124239,
          7.698877788842278,
          8.256703972090893,
          7.457632766812431,
          7.70431096123242,
          7.958361372645492,
          7.067262234364999,
          7.877493663157696,
          8.525573638324218,
          8.409170050599254,
          6.727216795279344,
          7.905882559513539,
          7.750190821817426,
          7.373007825711763,
          6.900732743678737,
          7.623676093630486,
          7.1575821185521615,
          6.8078608631712285,
          6.251690405183612,
          6.296586165686236,
          7.135810538799111
         ],
         "yaxis": "y",
         "type": "scatter"
        },
        {
         "marker": {
          "color": "black",
          "size": 10
         },
         "mode": "markers",
         "showlegend": false,
         "x": [
          4.817876433257885,
          0.5726299736069316,
          -8.36428545722315,
          0.24739522291427818
         ],
         "y": [
          4.201889985628917,
          9.029412755309847,
          -4.744101781005817,
          7.424127685571083
         ],
         "type": "scatter"
        }
       ],
       "layout": {
        "template": {
         "data": {
          "histogram2dcontour": [
           {
            "type": "histogram2dcontour",
            "colorbar": {
             "outlinewidth": 0,
             "ticks": ""
            },
            "colorscale": [
             [
              0.0,
              "#0d0887"
             ],
             [
              0.1111111111111111,
              "#46039f"
             ],
             [
              0.2222222222222222,
              "#7201a8"
             ],
             [
              0.3333333333333333,
              "#9c179e"
             ],
             [
              0.4444444444444444,
              "#bd3786"
             ],
             [
              0.5555555555555556,
              "#d8576b"
             ],
             [
              0.6666666666666666,
              "#ed7953"
             ],
             [
              0.7777777777777778,
              "#fb9f3a"
             ],
             [
              0.8888888888888888,
              "#fdca26"
             ],
             [
              1.0,
              "#f0f921"
             ]
            ]
           }
          ],
          "choropleth": [
           {
            "type": "choropleth",
            "colorbar": {
             "outlinewidth": 0,
             "ticks": ""
            }
           }
          ],
          "histogram2d": [
           {
            "type": "histogram2d",
            "colorbar": {
             "outlinewidth": 0,
             "ticks": ""
            },
            "colorscale": [
             [
              0.0,
              "#0d0887"
             ],
             [
              0.1111111111111111,
              "#46039f"
             ],
             [
              0.2222222222222222,
              "#7201a8"
             ],
             [
              0.3333333333333333,
              "#9c179e"
             ],
             [
              0.4444444444444444,
              "#bd3786"
             ],
             [
              0.5555555555555556,
              "#d8576b"
             ],
             [
              0.6666666666666666,
              "#ed7953"
             ],
             [
              0.7777777777777778,
              "#fb9f3a"
             ],
             [
              0.8888888888888888,
              "#fdca26"
             ],
             [
              1.0,
              "#f0f921"
             ]
            ]
           }
          ],
          "heatmap": [
           {
            "type": "heatmap",
            "colorbar": {
             "outlinewidth": 0,
             "ticks": ""
            },
            "colorscale": [
             [
              0.0,
              "#0d0887"
             ],
             [
              0.1111111111111111,
              "#46039f"
             ],
             [
              0.2222222222222222,
              "#7201a8"
             ],
             [
              0.3333333333333333,
              "#9c179e"
             ],
             [
              0.4444444444444444,
              "#bd3786"
             ],
             [
              0.5555555555555556,
              "#d8576b"
             ],
             [
              0.6666666666666666,
              "#ed7953"
             ],
             [
              0.7777777777777778,
              "#fb9f3a"
             ],
             [
              0.8888888888888888,
              "#fdca26"
             ],
             [
              1.0,
              "#f0f921"
             ]
            ]
           }
          ],
          "heatmapgl": [
           {
            "type": "heatmapgl",
            "colorbar": {
             "outlinewidth": 0,
             "ticks": ""
            },
            "colorscale": [
             [
              0.0,
              "#0d0887"
             ],
             [
              0.1111111111111111,
              "#46039f"
             ],
             [
              0.2222222222222222,
              "#7201a8"
             ],
             [
              0.3333333333333333,
              "#9c179e"
             ],
             [
              0.4444444444444444,
              "#bd3786"
             ],
             [
              0.5555555555555556,
              "#d8576b"
             ],
             [
              0.6666666666666666,
              "#ed7953"
             ],
             [
              0.7777777777777778,
              "#fb9f3a"
             ],
             [
              0.8888888888888888,
              "#fdca26"
             ],
             [
              1.0,
              "#f0f921"
             ]
            ]
           }
          ],
          "contourcarpet": [
           {
            "type": "contourcarpet",
            "colorbar": {
             "outlinewidth": 0,
             "ticks": ""
            }
           }
          ],
          "contour": [
           {
            "type": "contour",
            "colorbar": {
             "outlinewidth": 0,
             "ticks": ""
            },
            "colorscale": [
             [
              0.0,
              "#0d0887"
             ],
             [
              0.1111111111111111,
              "#46039f"
             ],
             [
              0.2222222222222222,
              "#7201a8"
             ],
             [
              0.3333333333333333,
              "#9c179e"
             ],
             [
              0.4444444444444444,
              "#bd3786"
             ],
             [
              0.5555555555555556,
              "#d8576b"
             ],
             [
              0.6666666666666666,
              "#ed7953"
             ],
             [
              0.7777777777777778,
              "#fb9f3a"
             ],
             [
              0.8888888888888888,
              "#fdca26"
             ],
             [
              1.0,
              "#f0f921"
             ]
            ]
           }
          ],
          "surface": [
           {
            "type": "surface",
            "colorbar": {
             "outlinewidth": 0,
             "ticks": ""
            },
            "colorscale": [
             [
              0.0,
              "#0d0887"
             ],
             [
              0.1111111111111111,
              "#46039f"
             ],
             [
              0.2222222222222222,
              "#7201a8"
             ],
             [
              0.3333333333333333,
              "#9c179e"
             ],
             [
              0.4444444444444444,
              "#bd3786"
             ],
             [
              0.5555555555555556,
              "#d8576b"
             ],
             [
              0.6666666666666666,
              "#ed7953"
             ],
             [
              0.7777777777777778,
              "#fb9f3a"
             ],
             [
              0.8888888888888888,
              "#fdca26"
             ],
             [
              1.0,
              "#f0f921"
             ]
            ]
           }
          ],
          "mesh3d": [
           {
            "type": "mesh3d",
            "colorbar": {
             "outlinewidth": 0,
             "ticks": ""
            }
           }
          ],
          "scatter": [
           {
            "fillpattern": {
             "fillmode": "overlay",
             "size": 10,
             "solidity": 0.2
            },
            "type": "scatter"
           }
          ],
          "parcoords": [
           {
            "type": "parcoords",
            "line": {
             "colorbar": {
              "outlinewidth": 0,
              "ticks": ""
             }
            }
           }
          ],
          "scatterpolargl": [
           {
            "type": "scatterpolargl",
            "marker": {
             "colorbar": {
              "outlinewidth": 0,
              "ticks": ""
             }
            }
           }
          ],
          "bar": [
           {
            "error_x": {
             "color": "#2a3f5f"
            },
            "error_y": {
             "color": "#2a3f5f"
            },
            "marker": {
             "line": {
              "color": "#E5ECF6",
              "width": 0.5
             },
             "pattern": {
              "fillmode": "overlay",
              "size": 10,
              "solidity": 0.2
             }
            },
            "type": "bar"
           }
          ],
          "scattergeo": [
           {
            "type": "scattergeo",
            "marker": {
             "colorbar": {
              "outlinewidth": 0,
              "ticks": ""
             }
            }
           }
          ],
          "scatterpolar": [
           {
            "type": "scatterpolar",
            "marker": {
             "colorbar": {
              "outlinewidth": 0,
              "ticks": ""
             }
            }
           }
          ],
          "histogram": [
           {
            "marker": {
             "pattern": {
              "fillmode": "overlay",
              "size": 10,
              "solidity": 0.2
             }
            },
            "type": "histogram"
           }
          ],
          "scattergl": [
           {
            "type": "scattergl",
            "marker": {
             "colorbar": {
              "outlinewidth": 0,
              "ticks": ""
             }
            }
           }
          ],
          "scatter3d": [
           {
            "type": "scatter3d",
            "line": {
             "colorbar": {
              "outlinewidth": 0,
              "ticks": ""
             }
            },
            "marker": {
             "colorbar": {
              "outlinewidth": 0,
              "ticks": ""
             }
            }
           }
          ],
          "scattermapbox": [
           {
            "type": "scattermapbox",
            "marker": {
             "colorbar": {
              "outlinewidth": 0,
              "ticks": ""
             }
            }
           }
          ],
          "scatterternary": [
           {
            "type": "scatterternary",
            "marker": {
             "colorbar": {
              "outlinewidth": 0,
              "ticks": ""
             }
            }
           }
          ],
          "scattercarpet": [
           {
            "type": "scattercarpet",
            "marker": {
             "colorbar": {
              "outlinewidth": 0,
              "ticks": ""
             }
            }
           }
          ],
          "carpet": [
           {
            "aaxis": {
             "endlinecolor": "#2a3f5f",
             "gridcolor": "white",
             "linecolor": "white",
             "minorgridcolor": "white",
             "startlinecolor": "#2a3f5f"
            },
            "baxis": {
             "endlinecolor": "#2a3f5f",
             "gridcolor": "white",
             "linecolor": "white",
             "minorgridcolor": "white",
             "startlinecolor": "#2a3f5f"
            },
            "type": "carpet"
           }
          ],
          "table": [
           {
            "cells": {
             "fill": {
              "color": "#EBF0F8"
             },
             "line": {
              "color": "white"
             }
            },
            "header": {
             "fill": {
              "color": "#C8D4E3"
             },
             "line": {
              "color": "white"
             }
            },
            "type": "table"
           }
          ],
          "barpolar": [
           {
            "marker": {
             "line": {
              "color": "#E5ECF6",
              "width": 0.5
             },
             "pattern": {
              "fillmode": "overlay",
              "size": 10,
              "solidity": 0.2
             }
            },
            "type": "barpolar"
           }
          ],
          "pie": [
           {
            "automargin": true,
            "type": "pie"
           }
          ]
         },
         "layout": {
          "autotypenumbers": "strict",
          "colorway": [
           "#636efa",
           "#EF553B",
           "#00cc96",
           "#ab63fa",
           "#FFA15A",
           "#19d3f3",
           "#FF6692",
           "#B6E880",
           "#FF97FF",
           "#FECB52"
          ],
          "font": {
           "color": "#2a3f5f"
          },
          "hovermode": "closest",
          "hoverlabel": {
           "align": "left"
          },
          "paper_bgcolor": "white",
          "plot_bgcolor": "#E5ECF6",
          "polar": {
           "bgcolor": "#E5ECF6",
           "angularaxis": {
            "gridcolor": "white",
            "linecolor": "white",
            "ticks": ""
           },
           "radialaxis": {
            "gridcolor": "white",
            "linecolor": "white",
            "ticks": ""
           }
          },
          "ternary": {
           "bgcolor": "#E5ECF6",
           "aaxis": {
            "gridcolor": "white",
            "linecolor": "white",
            "ticks": ""
           },
           "baxis": {
            "gridcolor": "white",
            "linecolor": "white",
            "ticks": ""
           },
           "caxis": {
            "gridcolor": "white",
            "linecolor": "white",
            "ticks": ""
           }
          },
          "coloraxis": {
           "colorbar": {
            "outlinewidth": 0,
            "ticks": ""
           }
          },
          "colorscale": {
           "sequential": [
            [
             0.0,
             "#0d0887"
            ],
            [
             0.1111111111111111,
             "#46039f"
            ],
            [
             0.2222222222222222,
             "#7201a8"
            ],
            [
             0.3333333333333333,
             "#9c179e"
            ],
            [
             0.4444444444444444,
             "#bd3786"
            ],
            [
             0.5555555555555556,
             "#d8576b"
            ],
            [
             0.6666666666666666,
             "#ed7953"
            ],
            [
             0.7777777777777778,
             "#fb9f3a"
            ],
            [
             0.8888888888888888,
             "#fdca26"
            ],
            [
             1.0,
             "#f0f921"
            ]
           ],
           "sequentialminus": [
            [
             0.0,
             "#0d0887"
            ],
            [
             0.1111111111111111,
             "#46039f"
            ],
            [
             0.2222222222222222,
             "#7201a8"
            ],
            [
             0.3333333333333333,
             "#9c179e"
            ],
            [
             0.4444444444444444,
             "#bd3786"
            ],
            [
             0.5555555555555556,
             "#d8576b"
            ],
            [
             0.6666666666666666,
             "#ed7953"
            ],
            [
             0.7777777777777778,
             "#fb9f3a"
            ],
            [
             0.8888888888888888,
             "#fdca26"
            ],
            [
             1.0,
             "#f0f921"
            ]
           ],
           "diverging": [
            [
             0,
             "#8e0152"
            ],
            [
             0.1,
             "#c51b7d"
            ],
            [
             0.2,
             "#de77ae"
            ],
            [
             0.3,
             "#f1b6da"
            ],
            [
             0.4,
             "#fde0ef"
            ],
            [
             0.5,
             "#f7f7f7"
            ],
            [
             0.6,
             "#e6f5d0"
            ],
            [
             0.7,
             "#b8e186"
            ],
            [
             0.8,
             "#7fbc41"
            ],
            [
             0.9,
             "#4d9221"
            ],
            [
             1,
             "#276419"
            ]
           ]
          },
          "xaxis": {
           "gridcolor": "white",
           "linecolor": "white",
           "ticks": "",
           "title": {
            "standoff": 15
           },
           "zerolinecolor": "white",
           "automargin": true,
           "zerolinewidth": 2
          },
          "yaxis": {
           "gridcolor": "white",
           "linecolor": "white",
           "ticks": "",
           "title": {
            "standoff": 15
           },
           "zerolinecolor": "white",
           "automargin": true,
           "zerolinewidth": 2
          },
          "scene": {
           "xaxis": {
            "backgroundcolor": "#E5ECF6",
            "gridcolor": "white",
            "linecolor": "white",
            "showbackground": true,
            "ticks": "",
            "zerolinecolor": "white",
            "gridwidth": 2
           },
           "yaxis": {
            "backgroundcolor": "#E5ECF6",
            "gridcolor": "white",
            "linecolor": "white",
            "showbackground": true,
            "ticks": "",
            "zerolinecolor": "white",
            "gridwidth": 2
           },
           "zaxis": {
            "backgroundcolor": "#E5ECF6",
            "gridcolor": "white",
            "linecolor": "white",
            "showbackground": true,
            "ticks": "",
            "zerolinecolor": "white",
            "gridwidth": 2
           }
          },
          "shapedefaults": {
           "line": {
            "color": "#2a3f5f"
           }
          },
          "annotationdefaults": {
           "arrowcolor": "#2a3f5f",
           "arrowhead": 0,
           "arrowwidth": 1
          },
          "geo": {
           "bgcolor": "white",
           "landcolor": "#E5ECF6",
           "subunitcolor": "white",
           "showland": true,
           "showlakes": true,
           "lakecolor": "white"
          },
          "title": {
           "x": 0.05
          },
          "mapbox": {
           "style": "light"
          }
         }
        },
        "xaxis": {
         "anchor": "y",
         "domain": [
          0.0,
          1.0
         ],
         "title": {
          "text": "x"
         }
        },
        "yaxis": {
         "anchor": "x",
         "domain": [
          0.0,
          1.0
         ],
         "title": {
          "text": "y"
         }
        },
        "legend": {
         "title": {
          "text": "color"
         },
         "tracegroupgap": 0
        },
        "margin": {
         "t": 60
        }
       },
       "config": {
        "plotlyServerURL": "https://plot.ly"
       }
      },
      "text/html": "<div>                            <div id=\"272090df-521f-4c3a-a3e4-3d5517b6a1e1\" class=\"plotly-graph-div\" style=\"height:525px; width:100%;\"></div>            <script type=\"text/javascript\">                require([\"plotly\"], function(Plotly) {                    window.PLOTLYENV=window.PLOTLYENV || {};                                    if (document.getElementById(\"272090df-521f-4c3a-a3e4-3d5517b6a1e1\")) {                    Plotly.newPlot(                        \"272090df-521f-4c3a-a3e4-3d5517b6a1e1\",                        [{\"hovertemplate\":\"color=0<br>x=%{x}<br>y=%{y}<extra></extra>\",\"legendgroup\":\"0\",\"marker\":{\"color\":\"#636efa\",\"symbol\":\"circle\"},\"mode\":\"markers\",\"name\":\"0\",\"orientation\":\"v\",\"showlegend\":true,\"x\":[4.896656715873136,5.707831794388692,3.9588442325528876,5.418028913020813,3.9555634217716626,4.3887216208405055,5.095030519392465,5.072492997949753,5.350540997497492,5.453738029658895,6.202950147538697,4.466074982760477,5.297405529243478,6.582704705512722,5.607522079887755,4.189283606694227,5.7989948624821395,4.120242859298245,5.809715585919881,3.7840303296405913,5.194197771531913,5.7853548157588595,6.089228880719381,4.436114993557534,5.812263726109747,5.4777341499983425,4.295826943623528,4.811581087382336,3.31267885456998,5.965118812937701,4.476052122707226,3.9755475369943465,5.807065872786372,3.388860534435606,3.837331082371592,3.346617835060491,4.30607642711839,4.56507283395638,5.3387436892507045,4.824883357405199,3.321278253987522,2.9625859013923437,4.9412563708242185,3.2612006050546762,6.140620365977914,5.337498015087749,6.025276960645716,4.346732776845917,3.5367707196201317],\"xaxis\":\"x\",\"y\":[2.030040759127338,4.729509256062414,3.3772081517945005,4.297754693639345,4.875695089860518,3.972732868362462,2.8698335178662564,2.190671057595143,5.2597159421608275,5.061523153885866,4.026784248496762,3.209968967688715,3.670352829017219,4.331246853209346,3.5252301483949933,6.317075007067846,4.721478078211559,4.22041295963812,4.624448479351981,3.7249495679017692,3.5321910709540525,2.4083009024969697,4.109555844475962,3.9822354065293237,5.23284735272138,4.546178560930479,5.053203249782735,3.91977947309908,4.421836564217887,3.0741483804994916,4.519046588273888,3.8704009823381673,5.236267725336733,3.1411947746741187,3.8736928924800305,5.910822345098195,4.146521788631694,4.250107601535769,3.984300396892733,5.126759440002368,3.2361528873322443,4.0793642375003945,4.8674203983642155,4.380430084745497,3.549142637354586,5.683174161677626,5.009666456517801,5.190472481617094,4.520762980403401],\"yaxis\":\"y\",\"type\":\"scatter\"},{\"hovertemplate\":\"color=1<br>x=%{x}<br>y=%{y}<extra></extra>\",\"legendgroup\":\"1\",\"marker\":{\"color\":\"#EF553B\",\"symbol\":\"circle\"},\"mode\":\"markers\",\"name\":\"1\",\"orientation\":\"v\",\"showlegend\":true,\"x\":[-0.6610067726957048,-0.7593937998746185,1.3633666673678724,-0.18097700133021655,0.4126697950071542,2.9330981368466915,2.0890882813080376,0.7297845019747103,0.3852661547905827,0.38198708726416886,0.07702141222799569,0.16701263531758984,3.6008465041648963,-0.7752547891927208,1.272618981192219,-0.007395030566880789,0.19698053903389273,-0.9183737779109031],\"xaxis\":\"x\",\"y\":[8.663860395928685,10.355933610594978,8.869275762563406,9.06111937743748,8.512214857055584,9.433787281579235,8.169394052133038,9.339581891068384,8.637796752859304,8.7337796427697,9.72297794353286,8.725100860134708,7.791277606110116,9.35113691626066,9.119454507024733,9.46100857405265,9.689099615586215,8.892629948885514],\"yaxis\":\"y\",\"type\":\"scatter\"},{\"hovertemplate\":\"color=2<br>x=%{x}<br>y=%{y}<extra></extra>\",\"legendgroup\":\"2\",\"marker\":{\"color\":\"#00cc96\",\"symbol\":\"circle\"},\"mode\":\"markers\",\"name\":\"2\",\"orientation\":\"v\",\"showlegend\":true,\"x\":[-8.791784897258445,-8.490447215875303,-7.30887243201656,-8.344271449223008,-8.479100171138366,-8.07307316643648,-9.10351281187181,-8.438179775418226,-7.337641628257236,-8.785520115588387,-6.574725147278514,-8.972215608457052,-8.812189428030765,-8.415288570685805,-7.640895005513173,-9.307245905745669,-8.387636267131201,-7.230074159483079,-8.436188861385263,-8.615891346372415,-8.639070380726299,-8.12355999794374,-7.795479840161219,-8.91845824490604,-8.539877896984667,-7.81833714020201,-8.233716595827921,-9.743534615190605,-6.583260314853536,-9.61929146422197,-8.603181552177334,-9.06887827509674,-7.545447014084816,-9.329039248735508,-7.848719427247705,-9.033202087835386,-8.551473123511446,-9.858527411480267,-7.670489745644992,-8.3621328375548,-8.624505088728386,-8.985020666897883,-8.039127493351712,-8.641081049987223,-9.226497096273315,-8.077752631543198,-7.595155884905892,-8.250093275755225,-9.193750525849111,-9.384120686304795,-9.13133508922634,-8.01128570373862,-9.41799536962301,-7.2301300212273905,-7.729848120619992,-8.533349217264295,-7.872404032980638,-9.02557436698661,-8.855884838070825,-8.308039066368206,-7.290903977054409,-8.774265800132094,-9.180579021782277,-6.890933512885879,-9.22055121016637,-6.97652793702764,-9.626436134847628,-8.220645753175585,-8.219936120994742,-8.598461063386369,-8.513079954679432,-7.310053592695751,-9.220560492884406,-7.074256825289387,-7.265221677062005,-9.988979300260073,-5.641642842530313,-9.79414776768236,-7.180288865171808,-8.205134132675894,-9.059624611381643,-9.059814039342442,-7.364699072622408,-5.835748806043965,-9.082864743587175,-8.600405668718118,-9.374165514609082,-7.957509117621835,-6.30474527703644,-8.597167155713443,-8.16859491508721,-9.498832517822269,-10.095279040082149,-7.238202589281051,-7.558509683096367,-9.909081644777933,-8.025522695101966,-8.737575680187176,-10.118281758020876,-7.085933806540609],\"xaxis\":\"x\",\"y\":[-4.521618938697734,-5.6837715588525,-3.2293182067986907,-3.482699489628484,-5.509462365598468,-7.637699868087837,-1.8975010176397622,-5.0778907170822025,-4.899266073919952,-4.615500000004188,-4.303632200717912,-3.9739168046499396,-4.266407617185599,-4.390556129666734,-5.024048713463097,-4.767283567294176,-4.928472031530783,-3.675661694789996,-5.6652846853665935,-3.7742020293298397,-5.397362057098512,-4.63546268675432,-4.109738836853255,-6.207711828561928,-5.688926222191999,-5.327211595392267,-4.448657094261013,-6.346063797985123,-5.122767484959789,-6.342561264630917,-5.162185112908522,-5.694551685981983,-6.302740037015486,-3.6064209725371645,-6.222379389279865,-5.912549727584605,-6.99237403960567,-5.353991723607847,-5.032545552637954,-6.062400037640183,-4.213313568080512,-4.723989194741656,-3.882341159493392,-4.196993866942867,-3.4663069726985136,-5.3642018212534985,-4.536876967381275,-6.667274319814099,-6.6717191283728035,-4.840086578894807,-3.8072593010774254,-5.478713712213113,-3.9073004963303304,-5.196792790069839,-4.8875428820569375,-5.648974328809139,-4.790283128398514,-4.522558998919809,-6.156451879149466,-3.9212754921205075,-5.361354745751018,-5.019536753640915,-4.247365630067561,-3.471238816751647,-5.408780507483392,-2.680643507347653,-3.532088840853215,-5.275351303533342,-3.640298396108862,-4.612970464922928,-4.333814484975652,-4.335048802088626,-4.0520715634310385,-5.141551099128266,-4.234933895694525,-2.7531955350095023,-4.649551834367984,-3.5265437399963138,-4.606244863283636,-3.901353186332129,-4.0653271581136705,-3.9169836866083525,-3.591959184789683,-3.419902639498555,-6.231359719784852,-4.626094363922607,-4.081770198039693,-3.3428699287270014,-4.364097680323429,-6.347659681100079,-5.402293191025735,-4.398046540200709,-4.511992912597965,-5.745640488242864,-3.5679383626805996,-4.512497289185267,-5.592571076383204,-4.130591567965456,-5.166259919369426,-4.437333096642898],\"yaxis\":\"y\",\"type\":\"scatter\"},{\"hovertemplate\":\"color=3<br>x=%{x}<br>y=%{y}<extra></extra>\",\"legendgroup\":\"3\",\"marker\":{\"color\":\"#ab63fa\",\"symbol\":\"circle\"},\"mode\":\"markers\",\"name\":\"3\",\"orientation\":\"v\",\"showlegend\":true,\"x\":[0.7813070515708568,1.2397003610091466,-0.6838819492870729,0.20543950537062336,-0.39261856530513994,-0.7350282394803576,-0.7278673859436418,-1.0968842446445217,0.03642282577245881,1.230932481535726,0.2036864006644015,0.1415640738880141,1.9463020573513723,0.5576399818668376,-1.2307271277543232,1.6500530490950187,-0.07247073992572106,0.12378913652154555,-0.6488780508019482,-0.09984791019972833,-1.5346611632263385,-0.5738975813288868,2.1805460975092537,0.9463629387995628,0.26156799449278895,0.7513886685422806,-0.37928923075726484,0.2582693862068853,0.2784714637276336,1.333966996120009,0.022581346449282613,0.6564136306882724,1.5336890976441537],\"xaxis\":\"x\",\"y\":[7.28069517671332,6.552260064334627,7.157903155632114,7.194907868973936,7.664397848774996,8.23400128269187,7.62802315943873,7.189515662291953,7.791022801082707,7.5468634034421225,7.063648919049718,7.788403548202062,7.018947354124239,7.698877788842278,8.256703972090893,7.457632766812431,7.70431096123242,7.958361372645492,7.067262234364999,7.877493663157696,8.525573638324218,8.409170050599254,6.727216795279344,7.905882559513539,7.750190821817426,7.373007825711763,6.900732743678737,7.623676093630486,7.1575821185521615,6.8078608631712285,6.251690405183612,6.296586165686236,7.135810538799111],\"yaxis\":\"y\",\"type\":\"scatter\"},{\"marker\":{\"color\":\"black\",\"size\":10},\"mode\":\"markers\",\"showlegend\":false,\"x\":[4.817876433257885,0.5726299736069316,-8.36428545722315,0.24739522291427818],\"y\":[4.201889985628917,9.029412755309847,-4.744101781005817,7.424127685571083],\"type\":\"scatter\"}],                        {\"template\":{\"data\":{\"histogram2dcontour\":[{\"type\":\"histogram2dcontour\",\"colorbar\":{\"outlinewidth\":0,\"ticks\":\"\"},\"colorscale\":[[0.0,\"#0d0887\"],[0.1111111111111111,\"#46039f\"],[0.2222222222222222,\"#7201a8\"],[0.3333333333333333,\"#9c179e\"],[0.4444444444444444,\"#bd3786\"],[0.5555555555555556,\"#d8576b\"],[0.6666666666666666,\"#ed7953\"],[0.7777777777777778,\"#fb9f3a\"],[0.8888888888888888,\"#fdca26\"],[1.0,\"#f0f921\"]]}],\"choropleth\":[{\"type\":\"choropleth\",\"colorbar\":{\"outlinewidth\":0,\"ticks\":\"\"}}],\"histogram2d\":[{\"type\":\"histogram2d\",\"colorbar\":{\"outlinewidth\":0,\"ticks\":\"\"},\"colorscale\":[[0.0,\"#0d0887\"],[0.1111111111111111,\"#46039f\"],[0.2222222222222222,\"#7201a8\"],[0.3333333333333333,\"#9c179e\"],[0.4444444444444444,\"#bd3786\"],[0.5555555555555556,\"#d8576b\"],[0.6666666666666666,\"#ed7953\"],[0.7777777777777778,\"#fb9f3a\"],[0.8888888888888888,\"#fdca26\"],[1.0,\"#f0f921\"]]}],\"heatmap\":[{\"type\":\"heatmap\",\"colorbar\":{\"outlinewidth\":0,\"ticks\":\"\"},\"colorscale\":[[0.0,\"#0d0887\"],[0.1111111111111111,\"#46039f\"],[0.2222222222222222,\"#7201a8\"],[0.3333333333333333,\"#9c179e\"],[0.4444444444444444,\"#bd3786\"],[0.5555555555555556,\"#d8576b\"],[0.6666666666666666,\"#ed7953\"],[0.7777777777777778,\"#fb9f3a\"],[0.8888888888888888,\"#fdca26\"],[1.0,\"#f0f921\"]]}],\"heatmapgl\":[{\"type\":\"heatmapgl\",\"colorbar\":{\"outlinewidth\":0,\"ticks\":\"\"},\"colorscale\":[[0.0,\"#0d0887\"],[0.1111111111111111,\"#46039f\"],[0.2222222222222222,\"#7201a8\"],[0.3333333333333333,\"#9c179e\"],[0.4444444444444444,\"#bd3786\"],[0.5555555555555556,\"#d8576b\"],[0.6666666666666666,\"#ed7953\"],[0.7777777777777778,\"#fb9f3a\"],[0.8888888888888888,\"#fdca26\"],[1.0,\"#f0f921\"]]}],\"contourcarpet\":[{\"type\":\"contourcarpet\",\"colorbar\":{\"outlinewidth\":0,\"ticks\":\"\"}}],\"contour\":[{\"type\":\"contour\",\"colorbar\":{\"outlinewidth\":0,\"ticks\":\"\"},\"colorscale\":[[0.0,\"#0d0887\"],[0.1111111111111111,\"#46039f\"],[0.2222222222222222,\"#7201a8\"],[0.3333333333333333,\"#9c179e\"],[0.4444444444444444,\"#bd3786\"],[0.5555555555555556,\"#d8576b\"],[0.6666666666666666,\"#ed7953\"],[0.7777777777777778,\"#fb9f3a\"],[0.8888888888888888,\"#fdca26\"],[1.0,\"#f0f921\"]]}],\"surface\":[{\"type\":\"surface\",\"colorbar\":{\"outlinewidth\":0,\"ticks\":\"\"},\"colorscale\":[[0.0,\"#0d0887\"],[0.1111111111111111,\"#46039f\"],[0.2222222222222222,\"#7201a8\"],[0.3333333333333333,\"#9c179e\"],[0.4444444444444444,\"#bd3786\"],[0.5555555555555556,\"#d8576b\"],[0.6666666666666666,\"#ed7953\"],[0.7777777777777778,\"#fb9f3a\"],[0.8888888888888888,\"#fdca26\"],[1.0,\"#f0f921\"]]}],\"mesh3d\":[{\"type\":\"mesh3d\",\"colorbar\":{\"outlinewidth\":0,\"ticks\":\"\"}}],\"scatter\":[{\"fillpattern\":{\"fillmode\":\"overlay\",\"size\":10,\"solidity\":0.2},\"type\":\"scatter\"}],\"parcoords\":[{\"type\":\"parcoords\",\"line\":{\"colorbar\":{\"outlinewidth\":0,\"ticks\":\"\"}}}],\"scatterpolargl\":[{\"type\":\"scatterpolargl\",\"marker\":{\"colorbar\":{\"outlinewidth\":0,\"ticks\":\"\"}}}],\"bar\":[{\"error_x\":{\"color\":\"#2a3f5f\"},\"error_y\":{\"color\":\"#2a3f5f\"},\"marker\":{\"line\":{\"color\":\"#E5ECF6\",\"width\":0.5},\"pattern\":{\"fillmode\":\"overlay\",\"size\":10,\"solidity\":0.2}},\"type\":\"bar\"}],\"scattergeo\":[{\"type\":\"scattergeo\",\"marker\":{\"colorbar\":{\"outlinewidth\":0,\"ticks\":\"\"}}}],\"scatterpolar\":[{\"type\":\"scatterpolar\",\"marker\":{\"colorbar\":{\"outlinewidth\":0,\"ticks\":\"\"}}}],\"histogram\":[{\"marker\":{\"pattern\":{\"fillmode\":\"overlay\",\"size\":10,\"solidity\":0.2}},\"type\":\"histogram\"}],\"scattergl\":[{\"type\":\"scattergl\",\"marker\":{\"colorbar\":{\"outlinewidth\":0,\"ticks\":\"\"}}}],\"scatter3d\":[{\"type\":\"scatter3d\",\"line\":{\"colorbar\":{\"outlinewidth\":0,\"ticks\":\"\"}},\"marker\":{\"colorbar\":{\"outlinewidth\":0,\"ticks\":\"\"}}}],\"scattermapbox\":[{\"type\":\"scattermapbox\",\"marker\":{\"colorbar\":{\"outlinewidth\":0,\"ticks\":\"\"}}}],\"scatterternary\":[{\"type\":\"scatterternary\",\"marker\":{\"colorbar\":{\"outlinewidth\":0,\"ticks\":\"\"}}}],\"scattercarpet\":[{\"type\":\"scattercarpet\",\"marker\":{\"colorbar\":{\"outlinewidth\":0,\"ticks\":\"\"}}}],\"carpet\":[{\"aaxis\":{\"endlinecolor\":\"#2a3f5f\",\"gridcolor\":\"white\",\"linecolor\":\"white\",\"minorgridcolor\":\"white\",\"startlinecolor\":\"#2a3f5f\"},\"baxis\":{\"endlinecolor\":\"#2a3f5f\",\"gridcolor\":\"white\",\"linecolor\":\"white\",\"minorgridcolor\":\"white\",\"startlinecolor\":\"#2a3f5f\"},\"type\":\"carpet\"}],\"table\":[{\"cells\":{\"fill\":{\"color\":\"#EBF0F8\"},\"line\":{\"color\":\"white\"}},\"header\":{\"fill\":{\"color\":\"#C8D4E3\"},\"line\":{\"color\":\"white\"}},\"type\":\"table\"}],\"barpolar\":[{\"marker\":{\"line\":{\"color\":\"#E5ECF6\",\"width\":0.5},\"pattern\":{\"fillmode\":\"overlay\",\"size\":10,\"solidity\":0.2}},\"type\":\"barpolar\"}],\"pie\":[{\"automargin\":true,\"type\":\"pie\"}]},\"layout\":{\"autotypenumbers\":\"strict\",\"colorway\":[\"#636efa\",\"#EF553B\",\"#00cc96\",\"#ab63fa\",\"#FFA15A\",\"#19d3f3\",\"#FF6692\",\"#B6E880\",\"#FF97FF\",\"#FECB52\"],\"font\":{\"color\":\"#2a3f5f\"},\"hovermode\":\"closest\",\"hoverlabel\":{\"align\":\"left\"},\"paper_bgcolor\":\"white\",\"plot_bgcolor\":\"#E5ECF6\",\"polar\":{\"bgcolor\":\"#E5ECF6\",\"angularaxis\":{\"gridcolor\":\"white\",\"linecolor\":\"white\",\"ticks\":\"\"},\"radialaxis\":{\"gridcolor\":\"white\",\"linecolor\":\"white\",\"ticks\":\"\"}},\"ternary\":{\"bgcolor\":\"#E5ECF6\",\"aaxis\":{\"gridcolor\":\"white\",\"linecolor\":\"white\",\"ticks\":\"\"},\"baxis\":{\"gridcolor\":\"white\",\"linecolor\":\"white\",\"ticks\":\"\"},\"caxis\":{\"gridcolor\":\"white\",\"linecolor\":\"white\",\"ticks\":\"\"}},\"coloraxis\":{\"colorbar\":{\"outlinewidth\":0,\"ticks\":\"\"}},\"colorscale\":{\"sequential\":[[0.0,\"#0d0887\"],[0.1111111111111111,\"#46039f\"],[0.2222222222222222,\"#7201a8\"],[0.3333333333333333,\"#9c179e\"],[0.4444444444444444,\"#bd3786\"],[0.5555555555555556,\"#d8576b\"],[0.6666666666666666,\"#ed7953\"],[0.7777777777777778,\"#fb9f3a\"],[0.8888888888888888,\"#fdca26\"],[1.0,\"#f0f921\"]],\"sequentialminus\":[[0.0,\"#0d0887\"],[0.1111111111111111,\"#46039f\"],[0.2222222222222222,\"#7201a8\"],[0.3333333333333333,\"#9c179e\"],[0.4444444444444444,\"#bd3786\"],[0.5555555555555556,\"#d8576b\"],[0.6666666666666666,\"#ed7953\"],[0.7777777777777778,\"#fb9f3a\"],[0.8888888888888888,\"#fdca26\"],[1.0,\"#f0f921\"]],\"diverging\":[[0,\"#8e0152\"],[0.1,\"#c51b7d\"],[0.2,\"#de77ae\"],[0.3,\"#f1b6da\"],[0.4,\"#fde0ef\"],[0.5,\"#f7f7f7\"],[0.6,\"#e6f5d0\"],[0.7,\"#b8e186\"],[0.8,\"#7fbc41\"],[0.9,\"#4d9221\"],[1,\"#276419\"]]},\"xaxis\":{\"gridcolor\":\"white\",\"linecolor\":\"white\",\"ticks\":\"\",\"title\":{\"standoff\":15},\"zerolinecolor\":\"white\",\"automargin\":true,\"zerolinewidth\":2},\"yaxis\":{\"gridcolor\":\"white\",\"linecolor\":\"white\",\"ticks\":\"\",\"title\":{\"standoff\":15},\"zerolinecolor\":\"white\",\"automargin\":true,\"zerolinewidth\":2},\"scene\":{\"xaxis\":{\"backgroundcolor\":\"#E5ECF6\",\"gridcolor\":\"white\",\"linecolor\":\"white\",\"showbackground\":true,\"ticks\":\"\",\"zerolinecolor\":\"white\",\"gridwidth\":2},\"yaxis\":{\"backgroundcolor\":\"#E5ECF6\",\"gridcolor\":\"white\",\"linecolor\":\"white\",\"showbackground\":true,\"ticks\":\"\",\"zerolinecolor\":\"white\",\"gridwidth\":2},\"zaxis\":{\"backgroundcolor\":\"#E5ECF6\",\"gridcolor\":\"white\",\"linecolor\":\"white\",\"showbackground\":true,\"ticks\":\"\",\"zerolinecolor\":\"white\",\"gridwidth\":2}},\"shapedefaults\":{\"line\":{\"color\":\"#2a3f5f\"}},\"annotationdefaults\":{\"arrowcolor\":\"#2a3f5f\",\"arrowhead\":0,\"arrowwidth\":1},\"geo\":{\"bgcolor\":\"white\",\"landcolor\":\"#E5ECF6\",\"subunitcolor\":\"white\",\"showland\":true,\"showlakes\":true,\"lakecolor\":\"white\"},\"title\":{\"x\":0.05},\"mapbox\":{\"style\":\"light\"}}},\"xaxis\":{\"anchor\":\"y\",\"domain\":[0.0,1.0],\"title\":{\"text\":\"x\"}},\"yaxis\":{\"anchor\":\"x\",\"domain\":[0.0,1.0],\"title\":{\"text\":\"y\"}},\"legend\":{\"title\":{\"text\":\"color\"},\"tracegroupgap\":0},\"margin\":{\"t\":60}},                        {\"responsive\": true}                    ).then(function(){\n                            \nvar gd = document.getElementById('272090df-521f-4c3a-a3e4-3d5517b6a1e1');\nvar x = new MutationObserver(function (mutations, observer) {{\n        var display = window.getComputedStyle(gd).display;\n        if (!display || display === 'none') {{\n            console.log([gd, 'removed!']);\n            Plotly.purge(gd);\n            observer.disconnect();\n        }}\n}});\n\n// Listen for the removal of the full notebook cells\nvar notebookContainer = gd.closest('#notebook-container');\nif (notebookContainer) {{\n    x.observe(notebookContainer, {childList: true});\n}}\n\n// Listen for the clearing of the current output cell\nvar outputEl = gd.closest('.output');\nif (outputEl) {{\n    x.observe(outputEl, {childList: true});\n}}\n\n                        })                };                });            </script>        </div>"
     },
     "metadata": {},
     "output_type": "display_data"
    },
    {
     "data": {
      "application/vnd.plotly.v1+json": {
       "data": [
        {
         "hovertemplate": "color=0<br>x=%{x}<br>y=%{y}<extra></extra>",
         "legendgroup": "0",
         "marker": {
          "color": "#636efa",
          "symbol": "circle"
         },
         "mode": "markers",
         "name": "0",
         "orientation": "v",
         "showlegend": true,
         "x": [
          0.38531326691070367,
          1.3438528558119798,
          0.8871468046029728,
          2.010398893646984,
          1.0262698250890783,
          1.018220151636525,
          0.7515256033019017,
          0.9721341061212622,
          1.9162881535516567,
          1.7957261176463082,
          0.8758698979810124,
          0.31485345264214465,
          0.5054387998476707,
          1.0212662265102836,
          0.8720390012495841,
          1.329221598892002,
          2.0029855100627376,
          2.0144862219929784,
          1.6915744768374263,
          0.9103251782378509,
          1.6654818015134725,
          0.97559059370672,
          0.3526155327141865,
          1.918561953568501,
          1.9640589867714897,
          1.904392940645224,
          1.008949388667712,
          1.9401085848334743,
          1.2260965528211751,
          1.6593721152171772,
          1.7627758139481025,
          0.669841693632564,
          0.3773030747233638,
          0.5611995492595315,
          0.711780680223981,
          2.008509971645317,
          1.4342206130411272,
          1.5840174772963223,
          1.5750648457852943,
          0.8632086511085544,
          1.0647454323978807,
          1.8619726898827902,
          1.7757223542043872,
          0.8434299351463478,
          1.9756460757669976,
          0.3169844912816923,
          1.4094085512653969,
          0.8197179564272622,
          1.2203646921781808,
          1.764656360017662,
          0.7100703377243773,
          1.7294208667625963,
          1.0489959038366767,
          0.8732066261222382,
          0.8923825939722243,
          0.5168119133037272,
          1.4390902380259132,
          0.7044627063233487,
          0.8885747049991122,
          1.3173859957899474,
          1.8581224485704095,
          1.9948892841610277,
          1.927374669196014,
          0.6021019514107687,
          1.529001329262542,
          0.6612003202013487,
          2.069598267963111,
          1.4990734362011773,
          0.8771390641696121,
          0.9066251340480282,
          1.9664225091370302,
          1.1529912440041892,
          0.8684846749253027,
          1.1562181337816553,
          2.0025813863980493,
          2.0676851844159567,
          0.6841134159767834,
          0.762136519286824,
          1.8922251457694657,
          1.2229415044765286,
          2.093871294486196,
          0.8176098197164167,
          0.9904722095826097,
          0.32316792620754387,
          0.9044793701355764,
          0.972297693893897,
          0.9575808912821675,
          0.9744524114582741,
          1.4335864188149834,
          0.9152727223841708,
          0.9224332997005182,
          1.579133835159084,
          0.6069721467629392,
          1.1514847859677915,
          1.118939510830592,
          0.6810624769587984,
          0.9495526140713747,
          1.7059354710378998,
          0.4569120304491371,
          0.4322291354149276
         ],
         "xaxis": "x",
         "y": [
          -0.2680804602368957,
          -0.48272381286786936,
          0.5434807291780392,
          0.39392862058193495,
          0.12673011569661835,
          0.2543694040575478,
          0.5667958312376886,
          -0.5846017872524807,
          0.3145017279406161,
          0.08362759936246913,
          0.12329466110189953,
          -0.27656887196628493,
          -0.5475688055780035,
          -0.5088860517371689,
          -0.5481450674349355,
          -0.3469041973817125,
          0.26414657363128385,
          0.25805781551634027,
          -0.3397512108873899,
          -0.5614348947986436,
          -0.1244893727350329,
          0.39559533214923964,
          -0.23883587301834247,
          0.13253394791020723,
          0.19674166835013157,
          -0.08420285726793628,
          0.1333905928461738,
          0.17726537161915165,
          -0.4600563657736122,
          -0.15188452316428225,
          -0.22562115888480969,
          -0.3591577484165265,
          -0.06279839582026411,
          -0.40239861489718215,
          -0.5173402398349081,
          -0.004943046563353731,
          -0.366291777751001,
          -0.21809001659123156,
          -0.4003768083911017,
          0.45669607702732007,
          0.3453540317186449,
          0.5413499381413773,
          -0.2431624569168937,
          0.49921393868064284,
          -0.08580446894369556,
          -0.23049386888751994,
          -0.32099533220058496,
          0.32408720332917107,
          -0.32595405074663225,
          0.006312751844781472,
          0.5706931106162975,
          -0.30819411233354715,
          -0.4688085759274018,
          -0.5196717663552486,
          0.08963343729716045,
          -0.4292566211780421,
          -0.3156578050007269,
          -0.5800310904196504,
          0.6563631332014265,
          -0.3955262827360116,
          0.2751249800844913,
          0.24221658134179072,
          -0.13651011756901427,
          -0.37730487571227367,
          -0.29120104642976524,
          -0.4334334693918541,
          0.3480840482255154,
          -0.2738812119507279,
          0.6435994973563441,
          0.12607480813851715,
          0.13199606268517616,
          -0.48340890436482703,
          0.479253232110853,
          -0.39296578639379126,
          0.32672752191678267,
          0.5851741723829158,
          -0.321215170234912,
          0.6203250926728492,
          -0.10328517707848373,
          -0.5313621870795373,
          0.4299371219681718,
          0.5355931595839617,
          0.05416975447216506,
          -0.27936372114368274,
          0.38845887899321074,
          -0.4432850721552249,
          0.14697712973508031,
          -0.5838087306900165,
          -0.40411638303274466,
          0.25590043410759544,
          -0.5096643190181606,
          -0.3166228989701706,
          -0.47684709681162557,
          -0.510051104608521,
          0.03815683580105679,
          -0.5125339885216463,
          0.02191387910545065,
          -0.08869402053204113,
          -0.34904025575204145,
          -0.40178601759151517
         ],
         "yaxis": "y",
         "type": "scatter"
        },
        {
         "hovertemplate": "color=1<br>x=%{x}<br>y=%{y}<extra></extra>",
         "legendgroup": "1",
         "marker": {
          "color": "#EF553B",
          "symbol": "circle"
         },
         "mode": "markers",
         "name": "1",
         "orientation": "v",
         "showlegend": true,
         "x": [
          0.4478945247798857,
          -0.7330260211481716,
          -0.3907821125896762,
          0.07643361271402761,
          -0.2613704893662548,
          -0.9996489270737027,
          -0.7875366362474696,
          -0.8230147335898115,
          0.3177998602051766,
          0.715556366814177,
          -0.020179335916126022,
          0.3566613983104014,
          0.439975108440806,
          -0.7188365198997172,
          -1.0396189691676763,
          -0.2629553683285397,
          0.059092819461743315,
          0.2749526569865458,
          0.010445705688042171,
          0.6676205734058794,
          0.04372037895235535,
          -0.5274812734803971,
          0.5994866645013824,
          -0.7444610933308796,
          0.20635045005070207,
          -0.2099872209353583,
          -0.7755953755085497,
          0.6617745661426186,
          -0.006259374062948082,
          0.1332998407083478,
          -0.057136676058032895,
          -0.6589532371671267,
          0.56669461604858,
          0.026550438959583547,
          0.10383905215709542,
          -0.05821235151672544,
          -0.5396706937923295,
          -0.6078057956054794,
          -1.0542885641682922,
          0.5359589591589288,
          -0.8426353197341477,
          -0.20998013437012703,
          -0.8971759071514046,
          0.2706269075975074,
          -0.05156465885688993,
          -0.0871789387523037,
          -0.8406247140663766,
          0.16465148069706262,
          0.42817974757339694,
          0.08291993837507439,
          -0.5838720309015543,
          -0.8217618118790002,
          -0.40634420951405004,
          0.3577481369761597,
          0.0608110793955911,
          0.03697942164594004,
          -0.6638731181652265,
          -0.8238912206409572,
          0.04899516219089703,
          0.20889174558881218,
          -0.003995086820202859,
          0.21965275812961985,
          0.034529311283493985,
          -0.495232432587381,
          -0.9103368780707022,
          0.29494746505440056,
          -0.9507639051735648,
          -0.8657121112076812,
          0.06976494367195099,
          -1.0061437570633043,
          0.15425581323394905,
          -0.8850945870168909,
          -0.7342356966248039,
          -0.06158787578748584,
          -0.4364195808188705,
          -0.9915026412139594,
          -0.9366970898638184,
          -0.9773016524231727,
          0.1056569250079494,
          -0.10284741941393068,
          0.3952080769862178,
          -0.07515913186099496,
          0.1519044789643003,
          -0.1647547427990887,
          0.12497480990616941,
          -1.0097414145711536,
          -0.5268758766654835,
          -0.018106759004741048,
          0.5584095308790327,
          -0.007182559170516608,
          -0.042090543739330424,
          -0.06578117348574018,
          0.388582667125957,
          -0.32169232570561335,
          -0.5986343247283419,
          0.5322740661239224,
          0.04703016962680032,
          -0.3134687256420135,
          -1.0424388080423377,
          -1.0309099170052756
         ],
         "xaxis": "x",
         "y": [
          0.8757966753165153,
          0.6579534582471516,
          0.8377253947711549,
          0.13606012845272913,
          0.9700740724741933,
          -0.03562003725974791,
          0.6525213889640094,
          0.6532227706405107,
          1.0432587682574466,
          0.7829897834782411,
          0.399855798968703,
          0.826308982660062,
          0.8205059002724959,
          0.6454986915643172,
          0.35372447721298317,
          0.9883994661218398,
          1.0084536662197974,
          -0.18143779082825012,
          0.3305615608982965,
          0.7682895987550433,
          1.076309129405955,
          0.8378734857244643,
          0.7673029923517113,
          0.4650555130881365,
          0.1673960707374928,
          1.0268471054835422,
          0.42265684570537815,
          0.9204739864216769,
          0.9293813531056102,
          -0.18779238359418313,
          0.9393517218805111,
          0.5538338225738408,
          0.9334047615992238,
          0.09027892899464149,
          -0.044591796343822494,
          0.8706283135479216,
          0.8137386123929302,
          0.826185436489934,
          -0.01743023977815738,
          0.8179183003456868,
          0.6246053627748007,
          0.971092945778212,
          0.4620931470122587,
          -0.21360908442188353,
          1.0263701194174397,
          0.27754945045962454,
          0.3388771706422022,
          0.8927097836968281,
          0.9383198317306505,
          0.3967842157344674,
          0.8470565784476544,
          0.48301972676158467,
          0.9292713693391415,
          0.9204269619641428,
          0.3826667393754962,
          0.4987941221942338,
          0.5209550674073508,
          0.8099989603860291,
          1.0499895586847583,
          -0.20243836648722388,
          0.019725571963395,
          0.8345063576859129,
          -0.2044424261019921,
          0.9422429189969801,
          0.2341129469996438,
          0.9120717112862131,
          0.08985686402559583,
          0.24263579254759876,
          0.1934226602445339,
          0.29067949886489136,
          1.0068635768647036,
          0.4291643152990071,
          0.7747292336862173,
          0.9890521440404708,
          0.9366022375547673,
          0.4384849612296051,
          0.1783120710251874,
          0.22080669116284013,
          0.1505548230156313,
          1.1484412332165113,
          0.9820771284917486,
          0.9759862457177593,
          0.05936964360742024,
          0.9338689461082148,
          0.045300931177214156,
          0.09044812868002813,
          0.8467972931139804,
          0.1543342672356819,
          0.6161794150404224,
          0.4927363889023989,
          0.17778480895303328,
          0.45738633556514136,
          0.8108347531644112,
          0.9533455433554969,
          0.8537518770488831,
          0.6622903850485635,
          0.03891675359892795,
          0.894487563533642,
          0.132907320392299,
          0.2264689674889564
         ],
         "yaxis": "y",
         "type": "scatter"
        },
        {
         "marker": {
          "color": "black",
          "size": 10
         },
         "mode": "markers",
         "showlegend": false,
         "x": [
          1.2066950907679583,
          -0.21099327619971217
         ],
         "y": [
          -0.07421243142211409,
          0.5693059425604969
         ],
         "type": "scatter"
        }
       ],
       "layout": {
        "template": {
         "data": {
          "histogram2dcontour": [
           {
            "type": "histogram2dcontour",
            "colorbar": {
             "outlinewidth": 0,
             "ticks": ""
            },
            "colorscale": [
             [
              0.0,
              "#0d0887"
             ],
             [
              0.1111111111111111,
              "#46039f"
             ],
             [
              0.2222222222222222,
              "#7201a8"
             ],
             [
              0.3333333333333333,
              "#9c179e"
             ],
             [
              0.4444444444444444,
              "#bd3786"
             ],
             [
              0.5555555555555556,
              "#d8576b"
             ],
             [
              0.6666666666666666,
              "#ed7953"
             ],
             [
              0.7777777777777778,
              "#fb9f3a"
             ],
             [
              0.8888888888888888,
              "#fdca26"
             ],
             [
              1.0,
              "#f0f921"
             ]
            ]
           }
          ],
          "choropleth": [
           {
            "type": "choropleth",
            "colorbar": {
             "outlinewidth": 0,
             "ticks": ""
            }
           }
          ],
          "histogram2d": [
           {
            "type": "histogram2d",
            "colorbar": {
             "outlinewidth": 0,
             "ticks": ""
            },
            "colorscale": [
             [
              0.0,
              "#0d0887"
             ],
             [
              0.1111111111111111,
              "#46039f"
             ],
             [
              0.2222222222222222,
              "#7201a8"
             ],
             [
              0.3333333333333333,
              "#9c179e"
             ],
             [
              0.4444444444444444,
              "#bd3786"
             ],
             [
              0.5555555555555556,
              "#d8576b"
             ],
             [
              0.6666666666666666,
              "#ed7953"
             ],
             [
              0.7777777777777778,
              "#fb9f3a"
             ],
             [
              0.8888888888888888,
              "#fdca26"
             ],
             [
              1.0,
              "#f0f921"
             ]
            ]
           }
          ],
          "heatmap": [
           {
            "type": "heatmap",
            "colorbar": {
             "outlinewidth": 0,
             "ticks": ""
            },
            "colorscale": [
             [
              0.0,
              "#0d0887"
             ],
             [
              0.1111111111111111,
              "#46039f"
             ],
             [
              0.2222222222222222,
              "#7201a8"
             ],
             [
              0.3333333333333333,
              "#9c179e"
             ],
             [
              0.4444444444444444,
              "#bd3786"
             ],
             [
              0.5555555555555556,
              "#d8576b"
             ],
             [
              0.6666666666666666,
              "#ed7953"
             ],
             [
              0.7777777777777778,
              "#fb9f3a"
             ],
             [
              0.8888888888888888,
              "#fdca26"
             ],
             [
              1.0,
              "#f0f921"
             ]
            ]
           }
          ],
          "heatmapgl": [
           {
            "type": "heatmapgl",
            "colorbar": {
             "outlinewidth": 0,
             "ticks": ""
            },
            "colorscale": [
             [
              0.0,
              "#0d0887"
             ],
             [
              0.1111111111111111,
              "#46039f"
             ],
             [
              0.2222222222222222,
              "#7201a8"
             ],
             [
              0.3333333333333333,
              "#9c179e"
             ],
             [
              0.4444444444444444,
              "#bd3786"
             ],
             [
              0.5555555555555556,
              "#d8576b"
             ],
             [
              0.6666666666666666,
              "#ed7953"
             ],
             [
              0.7777777777777778,
              "#fb9f3a"
             ],
             [
              0.8888888888888888,
              "#fdca26"
             ],
             [
              1.0,
              "#f0f921"
             ]
            ]
           }
          ],
          "contourcarpet": [
           {
            "type": "contourcarpet",
            "colorbar": {
             "outlinewidth": 0,
             "ticks": ""
            }
           }
          ],
          "contour": [
           {
            "type": "contour",
            "colorbar": {
             "outlinewidth": 0,
             "ticks": ""
            },
            "colorscale": [
             [
              0.0,
              "#0d0887"
             ],
             [
              0.1111111111111111,
              "#46039f"
             ],
             [
              0.2222222222222222,
              "#7201a8"
             ],
             [
              0.3333333333333333,
              "#9c179e"
             ],
             [
              0.4444444444444444,
              "#bd3786"
             ],
             [
              0.5555555555555556,
              "#d8576b"
             ],
             [
              0.6666666666666666,
              "#ed7953"
             ],
             [
              0.7777777777777778,
              "#fb9f3a"
             ],
             [
              0.8888888888888888,
              "#fdca26"
             ],
             [
              1.0,
              "#f0f921"
             ]
            ]
           }
          ],
          "surface": [
           {
            "type": "surface",
            "colorbar": {
             "outlinewidth": 0,
             "ticks": ""
            },
            "colorscale": [
             [
              0.0,
              "#0d0887"
             ],
             [
              0.1111111111111111,
              "#46039f"
             ],
             [
              0.2222222222222222,
              "#7201a8"
             ],
             [
              0.3333333333333333,
              "#9c179e"
             ],
             [
              0.4444444444444444,
              "#bd3786"
             ],
             [
              0.5555555555555556,
              "#d8576b"
             ],
             [
              0.6666666666666666,
              "#ed7953"
             ],
             [
              0.7777777777777778,
              "#fb9f3a"
             ],
             [
              0.8888888888888888,
              "#fdca26"
             ],
             [
              1.0,
              "#f0f921"
             ]
            ]
           }
          ],
          "mesh3d": [
           {
            "type": "mesh3d",
            "colorbar": {
             "outlinewidth": 0,
             "ticks": ""
            }
           }
          ],
          "scatter": [
           {
            "fillpattern": {
             "fillmode": "overlay",
             "size": 10,
             "solidity": 0.2
            },
            "type": "scatter"
           }
          ],
          "parcoords": [
           {
            "type": "parcoords",
            "line": {
             "colorbar": {
              "outlinewidth": 0,
              "ticks": ""
             }
            }
           }
          ],
          "scatterpolargl": [
           {
            "type": "scatterpolargl",
            "marker": {
             "colorbar": {
              "outlinewidth": 0,
              "ticks": ""
             }
            }
           }
          ],
          "bar": [
           {
            "error_x": {
             "color": "#2a3f5f"
            },
            "error_y": {
             "color": "#2a3f5f"
            },
            "marker": {
             "line": {
              "color": "#E5ECF6",
              "width": 0.5
             },
             "pattern": {
              "fillmode": "overlay",
              "size": 10,
              "solidity": 0.2
             }
            },
            "type": "bar"
           }
          ],
          "scattergeo": [
           {
            "type": "scattergeo",
            "marker": {
             "colorbar": {
              "outlinewidth": 0,
              "ticks": ""
             }
            }
           }
          ],
          "scatterpolar": [
           {
            "type": "scatterpolar",
            "marker": {
             "colorbar": {
              "outlinewidth": 0,
              "ticks": ""
             }
            }
           }
          ],
          "histogram": [
           {
            "marker": {
             "pattern": {
              "fillmode": "overlay",
              "size": 10,
              "solidity": 0.2
             }
            },
            "type": "histogram"
           }
          ],
          "scattergl": [
           {
            "type": "scattergl",
            "marker": {
             "colorbar": {
              "outlinewidth": 0,
              "ticks": ""
             }
            }
           }
          ],
          "scatter3d": [
           {
            "type": "scatter3d",
            "line": {
             "colorbar": {
              "outlinewidth": 0,
              "ticks": ""
             }
            },
            "marker": {
             "colorbar": {
              "outlinewidth": 0,
              "ticks": ""
             }
            }
           }
          ],
          "scattermapbox": [
           {
            "type": "scattermapbox",
            "marker": {
             "colorbar": {
              "outlinewidth": 0,
              "ticks": ""
             }
            }
           }
          ],
          "scatterternary": [
           {
            "type": "scatterternary",
            "marker": {
             "colorbar": {
              "outlinewidth": 0,
              "ticks": ""
             }
            }
           }
          ],
          "scattercarpet": [
           {
            "type": "scattercarpet",
            "marker": {
             "colorbar": {
              "outlinewidth": 0,
              "ticks": ""
             }
            }
           }
          ],
          "carpet": [
           {
            "aaxis": {
             "endlinecolor": "#2a3f5f",
             "gridcolor": "white",
             "linecolor": "white",
             "minorgridcolor": "white",
             "startlinecolor": "#2a3f5f"
            },
            "baxis": {
             "endlinecolor": "#2a3f5f",
             "gridcolor": "white",
             "linecolor": "white",
             "minorgridcolor": "white",
             "startlinecolor": "#2a3f5f"
            },
            "type": "carpet"
           }
          ],
          "table": [
           {
            "cells": {
             "fill": {
              "color": "#EBF0F8"
             },
             "line": {
              "color": "white"
             }
            },
            "header": {
             "fill": {
              "color": "#C8D4E3"
             },
             "line": {
              "color": "white"
             }
            },
            "type": "table"
           }
          ],
          "barpolar": [
           {
            "marker": {
             "line": {
              "color": "#E5ECF6",
              "width": 0.5
             },
             "pattern": {
              "fillmode": "overlay",
              "size": 10,
              "solidity": 0.2
             }
            },
            "type": "barpolar"
           }
          ],
          "pie": [
           {
            "automargin": true,
            "type": "pie"
           }
          ]
         },
         "layout": {
          "autotypenumbers": "strict",
          "colorway": [
           "#636efa",
           "#EF553B",
           "#00cc96",
           "#ab63fa",
           "#FFA15A",
           "#19d3f3",
           "#FF6692",
           "#B6E880",
           "#FF97FF",
           "#FECB52"
          ],
          "font": {
           "color": "#2a3f5f"
          },
          "hovermode": "closest",
          "hoverlabel": {
           "align": "left"
          },
          "paper_bgcolor": "white",
          "plot_bgcolor": "#E5ECF6",
          "polar": {
           "bgcolor": "#E5ECF6",
           "angularaxis": {
            "gridcolor": "white",
            "linecolor": "white",
            "ticks": ""
           },
           "radialaxis": {
            "gridcolor": "white",
            "linecolor": "white",
            "ticks": ""
           }
          },
          "ternary": {
           "bgcolor": "#E5ECF6",
           "aaxis": {
            "gridcolor": "white",
            "linecolor": "white",
            "ticks": ""
           },
           "baxis": {
            "gridcolor": "white",
            "linecolor": "white",
            "ticks": ""
           },
           "caxis": {
            "gridcolor": "white",
            "linecolor": "white",
            "ticks": ""
           }
          },
          "coloraxis": {
           "colorbar": {
            "outlinewidth": 0,
            "ticks": ""
           }
          },
          "colorscale": {
           "sequential": [
            [
             0.0,
             "#0d0887"
            ],
            [
             0.1111111111111111,
             "#46039f"
            ],
            [
             0.2222222222222222,
             "#7201a8"
            ],
            [
             0.3333333333333333,
             "#9c179e"
            ],
            [
             0.4444444444444444,
             "#bd3786"
            ],
            [
             0.5555555555555556,
             "#d8576b"
            ],
            [
             0.6666666666666666,
             "#ed7953"
            ],
            [
             0.7777777777777778,
             "#fb9f3a"
            ],
            [
             0.8888888888888888,
             "#fdca26"
            ],
            [
             1.0,
             "#f0f921"
            ]
           ],
           "sequentialminus": [
            [
             0.0,
             "#0d0887"
            ],
            [
             0.1111111111111111,
             "#46039f"
            ],
            [
             0.2222222222222222,
             "#7201a8"
            ],
            [
             0.3333333333333333,
             "#9c179e"
            ],
            [
             0.4444444444444444,
             "#bd3786"
            ],
            [
             0.5555555555555556,
             "#d8576b"
            ],
            [
             0.6666666666666666,
             "#ed7953"
            ],
            [
             0.7777777777777778,
             "#fb9f3a"
            ],
            [
             0.8888888888888888,
             "#fdca26"
            ],
            [
             1.0,
             "#f0f921"
            ]
           ],
           "diverging": [
            [
             0,
             "#8e0152"
            ],
            [
             0.1,
             "#c51b7d"
            ],
            [
             0.2,
             "#de77ae"
            ],
            [
             0.3,
             "#f1b6da"
            ],
            [
             0.4,
             "#fde0ef"
            ],
            [
             0.5,
             "#f7f7f7"
            ],
            [
             0.6,
             "#e6f5d0"
            ],
            [
             0.7,
             "#b8e186"
            ],
            [
             0.8,
             "#7fbc41"
            ],
            [
             0.9,
             "#4d9221"
            ],
            [
             1,
             "#276419"
            ]
           ]
          },
          "xaxis": {
           "gridcolor": "white",
           "linecolor": "white",
           "ticks": "",
           "title": {
            "standoff": 15
           },
           "zerolinecolor": "white",
           "automargin": true,
           "zerolinewidth": 2
          },
          "yaxis": {
           "gridcolor": "white",
           "linecolor": "white",
           "ticks": "",
           "title": {
            "standoff": 15
           },
           "zerolinecolor": "white",
           "automargin": true,
           "zerolinewidth": 2
          },
          "scene": {
           "xaxis": {
            "backgroundcolor": "#E5ECF6",
            "gridcolor": "white",
            "linecolor": "white",
            "showbackground": true,
            "ticks": "",
            "zerolinecolor": "white",
            "gridwidth": 2
           },
           "yaxis": {
            "backgroundcolor": "#E5ECF6",
            "gridcolor": "white",
            "linecolor": "white",
            "showbackground": true,
            "ticks": "",
            "zerolinecolor": "white",
            "gridwidth": 2
           },
           "zaxis": {
            "backgroundcolor": "#E5ECF6",
            "gridcolor": "white",
            "linecolor": "white",
            "showbackground": true,
            "ticks": "",
            "zerolinecolor": "white",
            "gridwidth": 2
           }
          },
          "shapedefaults": {
           "line": {
            "color": "#2a3f5f"
           }
          },
          "annotationdefaults": {
           "arrowcolor": "#2a3f5f",
           "arrowhead": 0,
           "arrowwidth": 1
          },
          "geo": {
           "bgcolor": "white",
           "landcolor": "#E5ECF6",
           "subunitcolor": "white",
           "showland": true,
           "showlakes": true,
           "lakecolor": "white"
          },
          "title": {
           "x": 0.05
          },
          "mapbox": {
           "style": "light"
          }
         }
        },
        "xaxis": {
         "anchor": "y",
         "domain": [
          0.0,
          1.0
         ],
         "title": {
          "text": "x"
         }
        },
        "yaxis": {
         "anchor": "x",
         "domain": [
          0.0,
          1.0
         ],
         "title": {
          "text": "y"
         }
        },
        "legend": {
         "title": {
          "text": "color"
         },
         "tracegroupgap": 0
        },
        "margin": {
         "t": 60
        }
       },
       "config": {
        "plotlyServerURL": "https://plot.ly"
       }
      },
      "text/html": "<div>                            <div id=\"3c0c1044-aaea-421a-89b2-db01a1f7fd68\" class=\"plotly-graph-div\" style=\"height:525px; width:100%;\"></div>            <script type=\"text/javascript\">                require([\"plotly\"], function(Plotly) {                    window.PLOTLYENV=window.PLOTLYENV || {};                                    if (document.getElementById(\"3c0c1044-aaea-421a-89b2-db01a1f7fd68\")) {                    Plotly.newPlot(                        \"3c0c1044-aaea-421a-89b2-db01a1f7fd68\",                        [{\"hovertemplate\":\"color=0<br>x=%{x}<br>y=%{y}<extra></extra>\",\"legendgroup\":\"0\",\"marker\":{\"color\":\"#636efa\",\"symbol\":\"circle\"},\"mode\":\"markers\",\"name\":\"0\",\"orientation\":\"v\",\"showlegend\":true,\"x\":[0.38531326691070367,1.3438528558119798,0.8871468046029728,2.010398893646984,1.0262698250890783,1.018220151636525,0.7515256033019017,0.9721341061212622,1.9162881535516567,1.7957261176463082,0.8758698979810124,0.31485345264214465,0.5054387998476707,1.0212662265102836,0.8720390012495841,1.329221598892002,2.0029855100627376,2.0144862219929784,1.6915744768374263,0.9103251782378509,1.6654818015134725,0.97559059370672,0.3526155327141865,1.918561953568501,1.9640589867714897,1.904392940645224,1.008949388667712,1.9401085848334743,1.2260965528211751,1.6593721152171772,1.7627758139481025,0.669841693632564,0.3773030747233638,0.5611995492595315,0.711780680223981,2.008509971645317,1.4342206130411272,1.5840174772963223,1.5750648457852943,0.8632086511085544,1.0647454323978807,1.8619726898827902,1.7757223542043872,0.8434299351463478,1.9756460757669976,0.3169844912816923,1.4094085512653969,0.8197179564272622,1.2203646921781808,1.764656360017662,0.7100703377243773,1.7294208667625963,1.0489959038366767,0.8732066261222382,0.8923825939722243,0.5168119133037272,1.4390902380259132,0.7044627063233487,0.8885747049991122,1.3173859957899474,1.8581224485704095,1.9948892841610277,1.927374669196014,0.6021019514107687,1.529001329262542,0.6612003202013487,2.069598267963111,1.4990734362011773,0.8771390641696121,0.9066251340480282,1.9664225091370302,1.1529912440041892,0.8684846749253027,1.1562181337816553,2.0025813863980493,2.0676851844159567,0.6841134159767834,0.762136519286824,1.8922251457694657,1.2229415044765286,2.093871294486196,0.8176098197164167,0.9904722095826097,0.32316792620754387,0.9044793701355764,0.972297693893897,0.9575808912821675,0.9744524114582741,1.4335864188149834,0.9152727223841708,0.9224332997005182,1.579133835159084,0.6069721467629392,1.1514847859677915,1.118939510830592,0.6810624769587984,0.9495526140713747,1.7059354710378998,0.4569120304491371,0.4322291354149276],\"xaxis\":\"x\",\"y\":[-0.2680804602368957,-0.48272381286786936,0.5434807291780392,0.39392862058193495,0.12673011569661835,0.2543694040575478,0.5667958312376886,-0.5846017872524807,0.3145017279406161,0.08362759936246913,0.12329466110189953,-0.27656887196628493,-0.5475688055780035,-0.5088860517371689,-0.5481450674349355,-0.3469041973817125,0.26414657363128385,0.25805781551634027,-0.3397512108873899,-0.5614348947986436,-0.1244893727350329,0.39559533214923964,-0.23883587301834247,0.13253394791020723,0.19674166835013157,-0.08420285726793628,0.1333905928461738,0.17726537161915165,-0.4600563657736122,-0.15188452316428225,-0.22562115888480969,-0.3591577484165265,-0.06279839582026411,-0.40239861489718215,-0.5173402398349081,-0.004943046563353731,-0.366291777751001,-0.21809001659123156,-0.4003768083911017,0.45669607702732007,0.3453540317186449,0.5413499381413773,-0.2431624569168937,0.49921393868064284,-0.08580446894369556,-0.23049386888751994,-0.32099533220058496,0.32408720332917107,-0.32595405074663225,0.006312751844781472,0.5706931106162975,-0.30819411233354715,-0.4688085759274018,-0.5196717663552486,0.08963343729716045,-0.4292566211780421,-0.3156578050007269,-0.5800310904196504,0.6563631332014265,-0.3955262827360116,0.2751249800844913,0.24221658134179072,-0.13651011756901427,-0.37730487571227367,-0.29120104642976524,-0.4334334693918541,0.3480840482255154,-0.2738812119507279,0.6435994973563441,0.12607480813851715,0.13199606268517616,-0.48340890436482703,0.479253232110853,-0.39296578639379126,0.32672752191678267,0.5851741723829158,-0.321215170234912,0.6203250926728492,-0.10328517707848373,-0.5313621870795373,0.4299371219681718,0.5355931595839617,0.05416975447216506,-0.27936372114368274,0.38845887899321074,-0.4432850721552249,0.14697712973508031,-0.5838087306900165,-0.40411638303274466,0.25590043410759544,-0.5096643190181606,-0.3166228989701706,-0.47684709681162557,-0.510051104608521,0.03815683580105679,-0.5125339885216463,0.02191387910545065,-0.08869402053204113,-0.34904025575204145,-0.40178601759151517],\"yaxis\":\"y\",\"type\":\"scatter\"},{\"hovertemplate\":\"color=1<br>x=%{x}<br>y=%{y}<extra></extra>\",\"legendgroup\":\"1\",\"marker\":{\"color\":\"#EF553B\",\"symbol\":\"circle\"},\"mode\":\"markers\",\"name\":\"1\",\"orientation\":\"v\",\"showlegend\":true,\"x\":[0.4478945247798857,-0.7330260211481716,-0.3907821125896762,0.07643361271402761,-0.2613704893662548,-0.9996489270737027,-0.7875366362474696,-0.8230147335898115,0.3177998602051766,0.715556366814177,-0.020179335916126022,0.3566613983104014,0.439975108440806,-0.7188365198997172,-1.0396189691676763,-0.2629553683285397,0.059092819461743315,0.2749526569865458,0.010445705688042171,0.6676205734058794,0.04372037895235535,-0.5274812734803971,0.5994866645013824,-0.7444610933308796,0.20635045005070207,-0.2099872209353583,-0.7755953755085497,0.6617745661426186,-0.006259374062948082,0.1332998407083478,-0.057136676058032895,-0.6589532371671267,0.56669461604858,0.026550438959583547,0.10383905215709542,-0.05821235151672544,-0.5396706937923295,-0.6078057956054794,-1.0542885641682922,0.5359589591589288,-0.8426353197341477,-0.20998013437012703,-0.8971759071514046,0.2706269075975074,-0.05156465885688993,-0.0871789387523037,-0.8406247140663766,0.16465148069706262,0.42817974757339694,0.08291993837507439,-0.5838720309015543,-0.8217618118790002,-0.40634420951405004,0.3577481369761597,0.0608110793955911,0.03697942164594004,-0.6638731181652265,-0.8238912206409572,0.04899516219089703,0.20889174558881218,-0.003995086820202859,0.21965275812961985,0.034529311283493985,-0.495232432587381,-0.9103368780707022,0.29494746505440056,-0.9507639051735648,-0.8657121112076812,0.06976494367195099,-1.0061437570633043,0.15425581323394905,-0.8850945870168909,-0.7342356966248039,-0.06158787578748584,-0.4364195808188705,-0.9915026412139594,-0.9366970898638184,-0.9773016524231727,0.1056569250079494,-0.10284741941393068,0.3952080769862178,-0.07515913186099496,0.1519044789643003,-0.1647547427990887,0.12497480990616941,-1.0097414145711536,-0.5268758766654835,-0.018106759004741048,0.5584095308790327,-0.007182559170516608,-0.042090543739330424,-0.06578117348574018,0.388582667125957,-0.32169232570561335,-0.5986343247283419,0.5322740661239224,0.04703016962680032,-0.3134687256420135,-1.0424388080423377,-1.0309099170052756],\"xaxis\":\"x\",\"y\":[0.8757966753165153,0.6579534582471516,0.8377253947711549,0.13606012845272913,0.9700740724741933,-0.03562003725974791,0.6525213889640094,0.6532227706405107,1.0432587682574466,0.7829897834782411,0.399855798968703,0.826308982660062,0.8205059002724959,0.6454986915643172,0.35372447721298317,0.9883994661218398,1.0084536662197974,-0.18143779082825012,0.3305615608982965,0.7682895987550433,1.076309129405955,0.8378734857244643,0.7673029923517113,0.4650555130881365,0.1673960707374928,1.0268471054835422,0.42265684570537815,0.9204739864216769,0.9293813531056102,-0.18779238359418313,0.9393517218805111,0.5538338225738408,0.9334047615992238,0.09027892899464149,-0.044591796343822494,0.8706283135479216,0.8137386123929302,0.826185436489934,-0.01743023977815738,0.8179183003456868,0.6246053627748007,0.971092945778212,0.4620931470122587,-0.21360908442188353,1.0263701194174397,0.27754945045962454,0.3388771706422022,0.8927097836968281,0.9383198317306505,0.3967842157344674,0.8470565784476544,0.48301972676158467,0.9292713693391415,0.9204269619641428,0.3826667393754962,0.4987941221942338,0.5209550674073508,0.8099989603860291,1.0499895586847583,-0.20243836648722388,0.019725571963395,0.8345063576859129,-0.2044424261019921,0.9422429189969801,0.2341129469996438,0.9120717112862131,0.08985686402559583,0.24263579254759876,0.1934226602445339,0.29067949886489136,1.0068635768647036,0.4291643152990071,0.7747292336862173,0.9890521440404708,0.9366022375547673,0.4384849612296051,0.1783120710251874,0.22080669116284013,0.1505548230156313,1.1484412332165113,0.9820771284917486,0.9759862457177593,0.05936964360742024,0.9338689461082148,0.045300931177214156,0.09044812868002813,0.8467972931139804,0.1543342672356819,0.6161794150404224,0.4927363889023989,0.17778480895303328,0.45738633556514136,0.8108347531644112,0.9533455433554969,0.8537518770488831,0.6622903850485635,0.03891675359892795,0.894487563533642,0.132907320392299,0.2264689674889564],\"yaxis\":\"y\",\"type\":\"scatter\"},{\"marker\":{\"color\":\"black\",\"size\":10},\"mode\":\"markers\",\"showlegend\":false,\"x\":[1.2066950907679583,-0.21099327619971217],\"y\":[-0.07421243142211409,0.5693059425604969],\"type\":\"scatter\"}],                        {\"template\":{\"data\":{\"histogram2dcontour\":[{\"type\":\"histogram2dcontour\",\"colorbar\":{\"outlinewidth\":0,\"ticks\":\"\"},\"colorscale\":[[0.0,\"#0d0887\"],[0.1111111111111111,\"#46039f\"],[0.2222222222222222,\"#7201a8\"],[0.3333333333333333,\"#9c179e\"],[0.4444444444444444,\"#bd3786\"],[0.5555555555555556,\"#d8576b\"],[0.6666666666666666,\"#ed7953\"],[0.7777777777777778,\"#fb9f3a\"],[0.8888888888888888,\"#fdca26\"],[1.0,\"#f0f921\"]]}],\"choropleth\":[{\"type\":\"choropleth\",\"colorbar\":{\"outlinewidth\":0,\"ticks\":\"\"}}],\"histogram2d\":[{\"type\":\"histogram2d\",\"colorbar\":{\"outlinewidth\":0,\"ticks\":\"\"},\"colorscale\":[[0.0,\"#0d0887\"],[0.1111111111111111,\"#46039f\"],[0.2222222222222222,\"#7201a8\"],[0.3333333333333333,\"#9c179e\"],[0.4444444444444444,\"#bd3786\"],[0.5555555555555556,\"#d8576b\"],[0.6666666666666666,\"#ed7953\"],[0.7777777777777778,\"#fb9f3a\"],[0.8888888888888888,\"#fdca26\"],[1.0,\"#f0f921\"]]}],\"heatmap\":[{\"type\":\"heatmap\",\"colorbar\":{\"outlinewidth\":0,\"ticks\":\"\"},\"colorscale\":[[0.0,\"#0d0887\"],[0.1111111111111111,\"#46039f\"],[0.2222222222222222,\"#7201a8\"],[0.3333333333333333,\"#9c179e\"],[0.4444444444444444,\"#bd3786\"],[0.5555555555555556,\"#d8576b\"],[0.6666666666666666,\"#ed7953\"],[0.7777777777777778,\"#fb9f3a\"],[0.8888888888888888,\"#fdca26\"],[1.0,\"#f0f921\"]]}],\"heatmapgl\":[{\"type\":\"heatmapgl\",\"colorbar\":{\"outlinewidth\":0,\"ticks\":\"\"},\"colorscale\":[[0.0,\"#0d0887\"],[0.1111111111111111,\"#46039f\"],[0.2222222222222222,\"#7201a8\"],[0.3333333333333333,\"#9c179e\"],[0.4444444444444444,\"#bd3786\"],[0.5555555555555556,\"#d8576b\"],[0.6666666666666666,\"#ed7953\"],[0.7777777777777778,\"#fb9f3a\"],[0.8888888888888888,\"#fdca26\"],[1.0,\"#f0f921\"]]}],\"contourcarpet\":[{\"type\":\"contourcarpet\",\"colorbar\":{\"outlinewidth\":0,\"ticks\":\"\"}}],\"contour\":[{\"type\":\"contour\",\"colorbar\":{\"outlinewidth\":0,\"ticks\":\"\"},\"colorscale\":[[0.0,\"#0d0887\"],[0.1111111111111111,\"#46039f\"],[0.2222222222222222,\"#7201a8\"],[0.3333333333333333,\"#9c179e\"],[0.4444444444444444,\"#bd3786\"],[0.5555555555555556,\"#d8576b\"],[0.6666666666666666,\"#ed7953\"],[0.7777777777777778,\"#fb9f3a\"],[0.8888888888888888,\"#fdca26\"],[1.0,\"#f0f921\"]]}],\"surface\":[{\"type\":\"surface\",\"colorbar\":{\"outlinewidth\":0,\"ticks\":\"\"},\"colorscale\":[[0.0,\"#0d0887\"],[0.1111111111111111,\"#46039f\"],[0.2222222222222222,\"#7201a8\"],[0.3333333333333333,\"#9c179e\"],[0.4444444444444444,\"#bd3786\"],[0.5555555555555556,\"#d8576b\"],[0.6666666666666666,\"#ed7953\"],[0.7777777777777778,\"#fb9f3a\"],[0.8888888888888888,\"#fdca26\"],[1.0,\"#f0f921\"]]}],\"mesh3d\":[{\"type\":\"mesh3d\",\"colorbar\":{\"outlinewidth\":0,\"ticks\":\"\"}}],\"scatter\":[{\"fillpattern\":{\"fillmode\":\"overlay\",\"size\":10,\"solidity\":0.2},\"type\":\"scatter\"}],\"parcoords\":[{\"type\":\"parcoords\",\"line\":{\"colorbar\":{\"outlinewidth\":0,\"ticks\":\"\"}}}],\"scatterpolargl\":[{\"type\":\"scatterpolargl\",\"marker\":{\"colorbar\":{\"outlinewidth\":0,\"ticks\":\"\"}}}],\"bar\":[{\"error_x\":{\"color\":\"#2a3f5f\"},\"error_y\":{\"color\":\"#2a3f5f\"},\"marker\":{\"line\":{\"color\":\"#E5ECF6\",\"width\":0.5},\"pattern\":{\"fillmode\":\"overlay\",\"size\":10,\"solidity\":0.2}},\"type\":\"bar\"}],\"scattergeo\":[{\"type\":\"scattergeo\",\"marker\":{\"colorbar\":{\"outlinewidth\":0,\"ticks\":\"\"}}}],\"scatterpolar\":[{\"type\":\"scatterpolar\",\"marker\":{\"colorbar\":{\"outlinewidth\":0,\"ticks\":\"\"}}}],\"histogram\":[{\"marker\":{\"pattern\":{\"fillmode\":\"overlay\",\"size\":10,\"solidity\":0.2}},\"type\":\"histogram\"}],\"scattergl\":[{\"type\":\"scattergl\",\"marker\":{\"colorbar\":{\"outlinewidth\":0,\"ticks\":\"\"}}}],\"scatter3d\":[{\"type\":\"scatter3d\",\"line\":{\"colorbar\":{\"outlinewidth\":0,\"ticks\":\"\"}},\"marker\":{\"colorbar\":{\"outlinewidth\":0,\"ticks\":\"\"}}}],\"scattermapbox\":[{\"type\":\"scattermapbox\",\"marker\":{\"colorbar\":{\"outlinewidth\":0,\"ticks\":\"\"}}}],\"scatterternary\":[{\"type\":\"scatterternary\",\"marker\":{\"colorbar\":{\"outlinewidth\":0,\"ticks\":\"\"}}}],\"scattercarpet\":[{\"type\":\"scattercarpet\",\"marker\":{\"colorbar\":{\"outlinewidth\":0,\"ticks\":\"\"}}}],\"carpet\":[{\"aaxis\":{\"endlinecolor\":\"#2a3f5f\",\"gridcolor\":\"white\",\"linecolor\":\"white\",\"minorgridcolor\":\"white\",\"startlinecolor\":\"#2a3f5f\"},\"baxis\":{\"endlinecolor\":\"#2a3f5f\",\"gridcolor\":\"white\",\"linecolor\":\"white\",\"minorgridcolor\":\"white\",\"startlinecolor\":\"#2a3f5f\"},\"type\":\"carpet\"}],\"table\":[{\"cells\":{\"fill\":{\"color\":\"#EBF0F8\"},\"line\":{\"color\":\"white\"}},\"header\":{\"fill\":{\"color\":\"#C8D4E3\"},\"line\":{\"color\":\"white\"}},\"type\":\"table\"}],\"barpolar\":[{\"marker\":{\"line\":{\"color\":\"#E5ECF6\",\"width\":0.5},\"pattern\":{\"fillmode\":\"overlay\",\"size\":10,\"solidity\":0.2}},\"type\":\"barpolar\"}],\"pie\":[{\"automargin\":true,\"type\":\"pie\"}]},\"layout\":{\"autotypenumbers\":\"strict\",\"colorway\":[\"#636efa\",\"#EF553B\",\"#00cc96\",\"#ab63fa\",\"#FFA15A\",\"#19d3f3\",\"#FF6692\",\"#B6E880\",\"#FF97FF\",\"#FECB52\"],\"font\":{\"color\":\"#2a3f5f\"},\"hovermode\":\"closest\",\"hoverlabel\":{\"align\":\"left\"},\"paper_bgcolor\":\"white\",\"plot_bgcolor\":\"#E5ECF6\",\"polar\":{\"bgcolor\":\"#E5ECF6\",\"angularaxis\":{\"gridcolor\":\"white\",\"linecolor\":\"white\",\"ticks\":\"\"},\"radialaxis\":{\"gridcolor\":\"white\",\"linecolor\":\"white\",\"ticks\":\"\"}},\"ternary\":{\"bgcolor\":\"#E5ECF6\",\"aaxis\":{\"gridcolor\":\"white\",\"linecolor\":\"white\",\"ticks\":\"\"},\"baxis\":{\"gridcolor\":\"white\",\"linecolor\":\"white\",\"ticks\":\"\"},\"caxis\":{\"gridcolor\":\"white\",\"linecolor\":\"white\",\"ticks\":\"\"}},\"coloraxis\":{\"colorbar\":{\"outlinewidth\":0,\"ticks\":\"\"}},\"colorscale\":{\"sequential\":[[0.0,\"#0d0887\"],[0.1111111111111111,\"#46039f\"],[0.2222222222222222,\"#7201a8\"],[0.3333333333333333,\"#9c179e\"],[0.4444444444444444,\"#bd3786\"],[0.5555555555555556,\"#d8576b\"],[0.6666666666666666,\"#ed7953\"],[0.7777777777777778,\"#fb9f3a\"],[0.8888888888888888,\"#fdca26\"],[1.0,\"#f0f921\"]],\"sequentialminus\":[[0.0,\"#0d0887\"],[0.1111111111111111,\"#46039f\"],[0.2222222222222222,\"#7201a8\"],[0.3333333333333333,\"#9c179e\"],[0.4444444444444444,\"#bd3786\"],[0.5555555555555556,\"#d8576b\"],[0.6666666666666666,\"#ed7953\"],[0.7777777777777778,\"#fb9f3a\"],[0.8888888888888888,\"#fdca26\"],[1.0,\"#f0f921\"]],\"diverging\":[[0,\"#8e0152\"],[0.1,\"#c51b7d\"],[0.2,\"#de77ae\"],[0.3,\"#f1b6da\"],[0.4,\"#fde0ef\"],[0.5,\"#f7f7f7\"],[0.6,\"#e6f5d0\"],[0.7,\"#b8e186\"],[0.8,\"#7fbc41\"],[0.9,\"#4d9221\"],[1,\"#276419\"]]},\"xaxis\":{\"gridcolor\":\"white\",\"linecolor\":\"white\",\"ticks\":\"\",\"title\":{\"standoff\":15},\"zerolinecolor\":\"white\",\"automargin\":true,\"zerolinewidth\":2},\"yaxis\":{\"gridcolor\":\"white\",\"linecolor\":\"white\",\"ticks\":\"\",\"title\":{\"standoff\":15},\"zerolinecolor\":\"white\",\"automargin\":true,\"zerolinewidth\":2},\"scene\":{\"xaxis\":{\"backgroundcolor\":\"#E5ECF6\",\"gridcolor\":\"white\",\"linecolor\":\"white\",\"showbackground\":true,\"ticks\":\"\",\"zerolinecolor\":\"white\",\"gridwidth\":2},\"yaxis\":{\"backgroundcolor\":\"#E5ECF6\",\"gridcolor\":\"white\",\"linecolor\":\"white\",\"showbackground\":true,\"ticks\":\"\",\"zerolinecolor\":\"white\",\"gridwidth\":2},\"zaxis\":{\"backgroundcolor\":\"#E5ECF6\",\"gridcolor\":\"white\",\"linecolor\":\"white\",\"showbackground\":true,\"ticks\":\"\",\"zerolinecolor\":\"white\",\"gridwidth\":2}},\"shapedefaults\":{\"line\":{\"color\":\"#2a3f5f\"}},\"annotationdefaults\":{\"arrowcolor\":\"#2a3f5f\",\"arrowhead\":0,\"arrowwidth\":1},\"geo\":{\"bgcolor\":\"white\",\"landcolor\":\"#E5ECF6\",\"subunitcolor\":\"white\",\"showland\":true,\"showlakes\":true,\"lakecolor\":\"white\"},\"title\":{\"x\":0.05},\"mapbox\":{\"style\":\"light\"}}},\"xaxis\":{\"anchor\":\"y\",\"domain\":[0.0,1.0],\"title\":{\"text\":\"x\"}},\"yaxis\":{\"anchor\":\"x\",\"domain\":[0.0,1.0],\"title\":{\"text\":\"y\"}},\"legend\":{\"title\":{\"text\":\"color\"},\"tracegroupgap\":0},\"margin\":{\"t\":60}},                        {\"responsive\": true}                    ).then(function(){\n                            \nvar gd = document.getElementById('3c0c1044-aaea-421a-89b2-db01a1f7fd68');\nvar x = new MutationObserver(function (mutations, observer) {{\n        var display = window.getComputedStyle(gd).display;\n        if (!display || display === 'none') {{\n            console.log([gd, 'removed!']);\n            Plotly.purge(gd);\n            observer.disconnect();\n        }}\n}});\n\n// Listen for the removal of the full notebook cells\nvar notebookContainer = gd.closest('#notebook-container');\nif (notebookContainer) {{\n    x.observe(notebookContainer, {childList: true});\n}}\n\n// Listen for the clearing of the current output cell\nvar outputEl = gd.closest('.output');\nif (outputEl) {{\n    x.observe(outputEl, {childList: true});\n}}\n\n                        })                };                });            </script>        </div>"
     },
     "metadata": {},
     "output_type": "display_data"
    },
    {
     "data": {
      "application/vnd.plotly.v1+json": {
       "data": [
        {
         "hovertemplate": "color=0<br>x=%{x}<br>y=%{y}<extra></extra>",
         "legendgroup": "0",
         "marker": {
          "color": "#636efa",
          "symbol": "circle"
         },
         "mode": "markers",
         "name": "0",
         "orientation": "v",
         "showlegend": true,
         "x": [
          -0.8860665051948676,
          0.12626024347963202,
          0.18734239263467461,
          -0.07597151192060429,
          0.02895981721194451,
          0.17733162197607408,
          -0.08040864310023685,
          0.11017725211196938,
          -0.0012514446309867464,
          0.14038225513729752,
          0.9006783003116727,
          -0.1881941457101166,
          -0.24772429389643844,
          0.04386030909800595,
          0.1790842334521621,
          0.6998409050073243,
          -0.07569613757774295,
          -0.03545024043018438,
          0.2854060987158351,
          0.4815726353894952,
          -1.0095743855334145,
          -0.7565726789385584,
          0.15439691282578058,
          -0.17406094037090325,
          -0.11337133719007378,
          0.9493804334255767,
          -0.1322077529025345,
          1.0914679779954986,
          0.16650846680977266,
          0.370631205951065,
          -0.4222476143189306,
          -0.050552803777828004,
          0.11417028418500134,
          0.03748315354368981,
          -0.33242425507827533,
          -0.04759982077702547,
          0.8219474750601268,
          -0.0679588199249501,
          -0.6898713188851607,
          0.921766486661254,
          0.15435666127552755,
          0.12886128602957342,
          0.07299619678768039,
          -0.53250164261831,
          0.8259129274939835,
          -0.6769935681406479,
          -0.361201358846516,
          -0.20793494676829574,
          0.7694231832014653,
          0.1311517608309391,
          0.2406851652601579,
          -0.1874302845551583,
          0.20521074621066018,
          -0.6697991828464442,
          0.9712726781918565,
          0.057920853503851594,
          -0.9823518801025075,
          0.7466848026284866,
          0.24275447434355982,
          0.15202004203510547,
          0.04022931054444456,
          -0.6968124920437299,
          -0.6091936953237937,
          -0.055732118083926196,
          0.04176963018759497,
          1.0112770083918852,
          1.1067768174115726,
          -0.17454118032262397,
          0.21841461268098333,
          -0.9282363741899078,
          0.2067748455470808,
          -0.06567642685367997,
          -0.09120857128784195,
          0.309606220860519,
          0.14240056804522408,
          -0.01411620583108788,
          0.4383326553808847,
          1.1587085053843853,
          -0.06290381927612254,
          -0.02625601079665222,
          -0.40865537126699714,
          0.25102266254101707,
          0.00920960156537147,
          -0.14283436122864382,
          0.14814327693796495,
          -0.17568653561012515,
          -0.8241306817138855,
          0.15910454926000744,
          0.04744859908583751,
          0.7474631103051415,
          -0.15792613439493633,
          0.583127075037655,
          0.14486913273643426,
          0.07612626701674038,
          1.0174429573430936,
          1.0608917064997823,
          0.24003281260825154,
          0.490527985115839,
          -0.5043711064214228,
          -0.170189180947607,
          -0.02868684732578715,
          0.04098819052599957,
          0.5674936103650997,
          -0.18834210793097234,
          -0.1782628648636429,
          0.8293086332727835,
          -0.1614293806187449,
          0.27709226272146226,
          -0.003626360371747156,
          -0.8011670229426507,
          0.2861475278242582,
          -0.009155632265117439,
          -0.1694582113591432,
          0.11932515710466118,
          0.9547283100321448,
          0.861170689181212,
          -0.193260716872858,
          0.18999027846581856
         ],
         "xaxis": "x",
         "y": [
          0.4976810692219228,
          -0.05117796221950752,
          -0.04933950774522468,
          0.9740237209293944,
          0.1490420886275816,
          -0.016410220611113552,
          0.0853494165184707,
          0.05440444237051333,
          0.09575241538908286,
          0.936469124686638,
          0.5590362861908035,
          0.05612406318467502,
          0.06274272931459404,
          -0.05402291605409823,
          0.10235816699794599,
          0.8895936131687738,
          0.8459874568925082,
          1.0215325954149905,
          -0.11998693120399762,
          0.9809013566408488,
          0.5865696818339867,
          0.6286098533012767,
          0.09581785861785565,
          -0.009073310379400748,
          0.14769106272398008,
          0.11028800489965448,
          0.03204084358055472,
          0.03970712279687456,
          0.05618759514754273,
          0.8284988145549121,
          0.9608012383582302,
          0.23639524251043748,
          0.0972961621428825,
          -0.032498110276282216,
          0.8998877600214974,
          -0.004951878652612235,
          -0.19322433546357415,
          0.10742073543858945,
          0.6370930309623929,
          0.05727261875299483,
          0.19019369323874838,
          0.023866842862434748,
          0.14172552568330973,
          0.9523055957477677,
          0.35039614088340987,
          0.46696977562217334,
          0.7915662307878422,
          0.1374431802599513,
          0.6579281705341328,
          0.04891004896842837,
          -0.07513757533647879,
          0.19540115147807363,
          0.27094744315087244,
          0.7744225235027735,
          0.42675479110297254,
          0.32584398711510665,
          0.29012470028120524,
          0.5198591411281217,
          0.12599818696963422,
          -0.04900937073881254,
          0.0962299337046643,
          0.7616304500444708,
          0.746109370476966,
          0.3005245539366306,
          -0.0074355494040649756,
          0.30923675047298016,
          -0.1755391352961171,
          0.13556555010319699,
          -0.07932235002029826,
          0.45150963441814845,
          -0.06609825641542955,
          0.08246683591938096,
          0.14831122242256278,
          0.9596811240883587,
          0.04823869405603809,
          0.9217320110713635,
          0.7687914174032944,
          -0.19696483069001508,
          0.09167853654452952,
          0.3041943318070791,
          0.9708388171801734,
          0.19300049597497002,
          0.20320672837028833,
          0.10431079059688059,
          -0.06528229161457438,
          0.9674932257724476,
          0.5297330984922983,
          0.09248299162542095,
          0.19078730954330364,
          0.7755224864728202,
          0.13368007800203038,
          0.5686435153436367,
          1.0898202044940557,
          0.09646265198832088,
          0.25149321677207775,
          0.4164947325046335,
          0.22113333648114286,
          0.9296531468469891,
          0.9151479945834857,
          0.25429580887102626,
          0.1456968293053594,
          0.11895003598414888,
          0.8668311989931653,
          0.0708929614503712,
          0.08883129353140963,
          0.6739660794577059,
          0.10280181947141903,
          0.19411406193849806,
          0.12272609289900266,
          0.3353315102868674,
          0.8593714817984258,
          -0.032389362697255786,
          0.08837944834182226,
          0.15766914331495235,
          -0.26241007624201185,
          -0.28087395562979556,
          0.06449078894255392,
          0.14981879268430998
         ],
         "yaxis": "y",
         "type": "scatter"
        },
        {
         "hovertemplate": "color=1<br>x=%{x}<br>y=%{y}<extra></extra>",
         "legendgroup": "1",
         "marker": {
          "color": "#EF553B",
          "symbol": "circle"
         },
         "mode": "markers",
         "name": "1",
         "orientation": "v",
         "showlegend": true,
         "x": [
          -0.05595200713235628,
          -0.2644858046065987,
          0.33290576854306975,
          -0.40078764345454154,
          -0.6050436762615032,
          -0.14108610294981616,
          0.04963704125138163,
          0.26575363182641093,
          -0.22992227967804182,
          -1.0990197331816502,
          -0.7525075331847146,
          -0.14247577028244987,
          -0.3377321179283511,
          -0.07414613539861865,
          0.7988267663068841,
          0.1335745173409002,
          -0.10009818267922475,
          1.0128816260475553,
          0.07289875917438668,
          -0.8678403612137655,
          -0.9280041437991955,
          0.9079061152646056,
          0.10287124701066594,
          -0.1939898107669451,
          -0.1127547434728175,
          -0.05380122517508512,
          -0.8673815212336409,
          -0.1540122887621898,
          0.12049123131758799,
          -0.2607561611824566,
          0.6150138706721944,
          0.4776754074802657,
          -0.13489764350987804,
          -0.2304096188526709,
          0.09531133508021866,
          0.049851796004825435,
          0.5024963879528944,
          -1.0711004833298967,
          0.48504630070412025,
          -0.12988347747327117,
          -0.09082242792573345,
          0.7614275670808164,
          0.791054580438054,
          0.44589282237308414,
          0.13049694117911387,
          -0.18410014218361245,
          -1.0693776808678568,
          -0.619852610508829,
          -0.022081227586005076,
          0.9675434473636323,
          -0.9335309468490772,
          -0.8054104848223633,
          -0.6294353919662049,
          -1.090497127759374,
          -0.14262002616864414,
          -0.2693925994720589,
          -0.7427333827014416,
          -0.15817338625318678,
          -0.28117548361966777,
          0.16898927653263118,
          -0.6981923098600149,
          -0.793912743734272,
          0.18281393051855133,
          -1.0101813153308832,
          -0.2751374225332491,
          0.8930292562675435,
          -0.42173888412285243,
          -0.05072384981511903,
          0.08754498886280644,
          0.3571249646410881,
          -0.3107104379249797,
          -0.9024157095214642,
          0.6349654247278239,
          0.07649855462469171,
          -0.2622689643022275,
          -0.01569752615628868,
          0.07652421227380499,
          0.0982635333216051,
          -0.985947641687133,
          -0.03230206906540835,
          -0.7350599520123084,
          -0.24206319516168798
         ],
         "xaxis": "x",
         "y": [
          -0.14861602268051566,
          -0.1655294696178356,
          -0.9764219976735646,
          -0.9687642833917366,
          -0.7767102721936839,
          -0.8852314209059313,
          -0.18049621910712427,
          -0.9832985625799315,
          -0.1354865391023018,
          -0.15296118452111895,
          -0.8711917795372637,
          -0.940200349691918,
          0.017432885524515523,
          -0.27396872715732334,
          -0.6056689311965002,
          -0.3410053726621055,
          -0.31971312101894067,
          -0.41063667216174404,
          -0.09476208300690811,
          -0.3689354398823148,
          -0.3912601604323136,
          -0.45186109384088047,
          -0.17760500346781194,
          -0.07715139931803852,
          -0.15251869919852343,
          -0.20104202371202462,
          -0.0026341124671201872,
          -0.03959753988101675,
          -0.9458988236967368,
          -0.8273341768700839,
          -0.7658147034173414,
          -0.7500497709702172,
          -0.2768962221188955,
          -0.04090758216207978,
          -0.9636007575620658,
          -0.16029784668803973,
          -0.927870866830789,
          0.18038009627409193,
          -0.7371931520533734,
          -0.1991601639450026,
          -0.21746526947847789,
          -0.764638245160424,
          -0.7035529671755044,
          -0.8794630734669654,
          -0.24711085602877492,
          -0.18957416970902316,
          0.14624080851839844,
          -0.5814594819411778,
          -0.14255406053851055,
          -0.5192282487924441,
          -0.22325212466039357,
          -0.32058655174748724,
          -0.7401979407957479,
          0.010804712835224294,
          -0.11431583153922045,
          -0.10049730342358065,
          -0.6058963847999828,
          -0.9742394820797521,
          -0.9144272410009302,
          -0.2373681195218016,
          -0.6203819546172457,
          -0.437810461939684,
          -0.8773432459044476,
          -0.10804090324092552,
          -0.19063133887041359,
          -0.5247135252182621,
          -0.8584086527617864,
          -1.0529989061831841,
          -0.2679004990783926,
          -0.9828294658331295,
          -0.056300203257243234,
          -0.19761413445572545,
          -0.7543748756486274,
          -0.18030541708785391,
          -0.13022715138826754,
          -0.31253876003013376,
          -0.19389937255477852,
          -1.000420272258096,
          -0.3429504482527288,
          -0.28014057631989453,
          -0.8082375426472592,
          -0.075750289274239
         ],
         "yaxis": "y",
         "type": "scatter"
        },
        {
         "marker": {
          "color": "black",
          "size": 10
         },
         "mode": "markers",
         "showlegend": false,
         "x": [
          0.08997090580150416,
          -0.13766258662485867
         ],
         "y": [
          0.31162760981868115,
          -0.4397936511250171
         ],
         "type": "scatter"
        }
       ],
       "layout": {
        "template": {
         "data": {
          "histogram2dcontour": [
           {
            "type": "histogram2dcontour",
            "colorbar": {
             "outlinewidth": 0,
             "ticks": ""
            },
            "colorscale": [
             [
              0.0,
              "#0d0887"
             ],
             [
              0.1111111111111111,
              "#46039f"
             ],
             [
              0.2222222222222222,
              "#7201a8"
             ],
             [
              0.3333333333333333,
              "#9c179e"
             ],
             [
              0.4444444444444444,
              "#bd3786"
             ],
             [
              0.5555555555555556,
              "#d8576b"
             ],
             [
              0.6666666666666666,
              "#ed7953"
             ],
             [
              0.7777777777777778,
              "#fb9f3a"
             ],
             [
              0.8888888888888888,
              "#fdca26"
             ],
             [
              1.0,
              "#f0f921"
             ]
            ]
           }
          ],
          "choropleth": [
           {
            "type": "choropleth",
            "colorbar": {
             "outlinewidth": 0,
             "ticks": ""
            }
           }
          ],
          "histogram2d": [
           {
            "type": "histogram2d",
            "colorbar": {
             "outlinewidth": 0,
             "ticks": ""
            },
            "colorscale": [
             [
              0.0,
              "#0d0887"
             ],
             [
              0.1111111111111111,
              "#46039f"
             ],
             [
              0.2222222222222222,
              "#7201a8"
             ],
             [
              0.3333333333333333,
              "#9c179e"
             ],
             [
              0.4444444444444444,
              "#bd3786"
             ],
             [
              0.5555555555555556,
              "#d8576b"
             ],
             [
              0.6666666666666666,
              "#ed7953"
             ],
             [
              0.7777777777777778,
              "#fb9f3a"
             ],
             [
              0.8888888888888888,
              "#fdca26"
             ],
             [
              1.0,
              "#f0f921"
             ]
            ]
           }
          ],
          "heatmap": [
           {
            "type": "heatmap",
            "colorbar": {
             "outlinewidth": 0,
             "ticks": ""
            },
            "colorscale": [
             [
              0.0,
              "#0d0887"
             ],
             [
              0.1111111111111111,
              "#46039f"
             ],
             [
              0.2222222222222222,
              "#7201a8"
             ],
             [
              0.3333333333333333,
              "#9c179e"
             ],
             [
              0.4444444444444444,
              "#bd3786"
             ],
             [
              0.5555555555555556,
              "#d8576b"
             ],
             [
              0.6666666666666666,
              "#ed7953"
             ],
             [
              0.7777777777777778,
              "#fb9f3a"
             ],
             [
              0.8888888888888888,
              "#fdca26"
             ],
             [
              1.0,
              "#f0f921"
             ]
            ]
           }
          ],
          "heatmapgl": [
           {
            "type": "heatmapgl",
            "colorbar": {
             "outlinewidth": 0,
             "ticks": ""
            },
            "colorscale": [
             [
              0.0,
              "#0d0887"
             ],
             [
              0.1111111111111111,
              "#46039f"
             ],
             [
              0.2222222222222222,
              "#7201a8"
             ],
             [
              0.3333333333333333,
              "#9c179e"
             ],
             [
              0.4444444444444444,
              "#bd3786"
             ],
             [
              0.5555555555555556,
              "#d8576b"
             ],
             [
              0.6666666666666666,
              "#ed7953"
             ],
             [
              0.7777777777777778,
              "#fb9f3a"
             ],
             [
              0.8888888888888888,
              "#fdca26"
             ],
             [
              1.0,
              "#f0f921"
             ]
            ]
           }
          ],
          "contourcarpet": [
           {
            "type": "contourcarpet",
            "colorbar": {
             "outlinewidth": 0,
             "ticks": ""
            }
           }
          ],
          "contour": [
           {
            "type": "contour",
            "colorbar": {
             "outlinewidth": 0,
             "ticks": ""
            },
            "colorscale": [
             [
              0.0,
              "#0d0887"
             ],
             [
              0.1111111111111111,
              "#46039f"
             ],
             [
              0.2222222222222222,
              "#7201a8"
             ],
             [
              0.3333333333333333,
              "#9c179e"
             ],
             [
              0.4444444444444444,
              "#bd3786"
             ],
             [
              0.5555555555555556,
              "#d8576b"
             ],
             [
              0.6666666666666666,
              "#ed7953"
             ],
             [
              0.7777777777777778,
              "#fb9f3a"
             ],
             [
              0.8888888888888888,
              "#fdca26"
             ],
             [
              1.0,
              "#f0f921"
             ]
            ]
           }
          ],
          "surface": [
           {
            "type": "surface",
            "colorbar": {
             "outlinewidth": 0,
             "ticks": ""
            },
            "colorscale": [
             [
              0.0,
              "#0d0887"
             ],
             [
              0.1111111111111111,
              "#46039f"
             ],
             [
              0.2222222222222222,
              "#7201a8"
             ],
             [
              0.3333333333333333,
              "#9c179e"
             ],
             [
              0.4444444444444444,
              "#bd3786"
             ],
             [
              0.5555555555555556,
              "#d8576b"
             ],
             [
              0.6666666666666666,
              "#ed7953"
             ],
             [
              0.7777777777777778,
              "#fb9f3a"
             ],
             [
              0.8888888888888888,
              "#fdca26"
             ],
             [
              1.0,
              "#f0f921"
             ]
            ]
           }
          ],
          "mesh3d": [
           {
            "type": "mesh3d",
            "colorbar": {
             "outlinewidth": 0,
             "ticks": ""
            }
           }
          ],
          "scatter": [
           {
            "fillpattern": {
             "fillmode": "overlay",
             "size": 10,
             "solidity": 0.2
            },
            "type": "scatter"
           }
          ],
          "parcoords": [
           {
            "type": "parcoords",
            "line": {
             "colorbar": {
              "outlinewidth": 0,
              "ticks": ""
             }
            }
           }
          ],
          "scatterpolargl": [
           {
            "type": "scatterpolargl",
            "marker": {
             "colorbar": {
              "outlinewidth": 0,
              "ticks": ""
             }
            }
           }
          ],
          "bar": [
           {
            "error_x": {
             "color": "#2a3f5f"
            },
            "error_y": {
             "color": "#2a3f5f"
            },
            "marker": {
             "line": {
              "color": "#E5ECF6",
              "width": 0.5
             },
             "pattern": {
              "fillmode": "overlay",
              "size": 10,
              "solidity": 0.2
             }
            },
            "type": "bar"
           }
          ],
          "scattergeo": [
           {
            "type": "scattergeo",
            "marker": {
             "colorbar": {
              "outlinewidth": 0,
              "ticks": ""
             }
            }
           }
          ],
          "scatterpolar": [
           {
            "type": "scatterpolar",
            "marker": {
             "colorbar": {
              "outlinewidth": 0,
              "ticks": ""
             }
            }
           }
          ],
          "histogram": [
           {
            "marker": {
             "pattern": {
              "fillmode": "overlay",
              "size": 10,
              "solidity": 0.2
             }
            },
            "type": "histogram"
           }
          ],
          "scattergl": [
           {
            "type": "scattergl",
            "marker": {
             "colorbar": {
              "outlinewidth": 0,
              "ticks": ""
             }
            }
           }
          ],
          "scatter3d": [
           {
            "type": "scatter3d",
            "line": {
             "colorbar": {
              "outlinewidth": 0,
              "ticks": ""
             }
            },
            "marker": {
             "colorbar": {
              "outlinewidth": 0,
              "ticks": ""
             }
            }
           }
          ],
          "scattermapbox": [
           {
            "type": "scattermapbox",
            "marker": {
             "colorbar": {
              "outlinewidth": 0,
              "ticks": ""
             }
            }
           }
          ],
          "scatterternary": [
           {
            "type": "scatterternary",
            "marker": {
             "colorbar": {
              "outlinewidth": 0,
              "ticks": ""
             }
            }
           }
          ],
          "scattercarpet": [
           {
            "type": "scattercarpet",
            "marker": {
             "colorbar": {
              "outlinewidth": 0,
              "ticks": ""
             }
            }
           }
          ],
          "carpet": [
           {
            "aaxis": {
             "endlinecolor": "#2a3f5f",
             "gridcolor": "white",
             "linecolor": "white",
             "minorgridcolor": "white",
             "startlinecolor": "#2a3f5f"
            },
            "baxis": {
             "endlinecolor": "#2a3f5f",
             "gridcolor": "white",
             "linecolor": "white",
             "minorgridcolor": "white",
             "startlinecolor": "#2a3f5f"
            },
            "type": "carpet"
           }
          ],
          "table": [
           {
            "cells": {
             "fill": {
              "color": "#EBF0F8"
             },
             "line": {
              "color": "white"
             }
            },
            "header": {
             "fill": {
              "color": "#C8D4E3"
             },
             "line": {
              "color": "white"
             }
            },
            "type": "table"
           }
          ],
          "barpolar": [
           {
            "marker": {
             "line": {
              "color": "#E5ECF6",
              "width": 0.5
             },
             "pattern": {
              "fillmode": "overlay",
              "size": 10,
              "solidity": 0.2
             }
            },
            "type": "barpolar"
           }
          ],
          "pie": [
           {
            "automargin": true,
            "type": "pie"
           }
          ]
         },
         "layout": {
          "autotypenumbers": "strict",
          "colorway": [
           "#636efa",
           "#EF553B",
           "#00cc96",
           "#ab63fa",
           "#FFA15A",
           "#19d3f3",
           "#FF6692",
           "#B6E880",
           "#FF97FF",
           "#FECB52"
          ],
          "font": {
           "color": "#2a3f5f"
          },
          "hovermode": "closest",
          "hoverlabel": {
           "align": "left"
          },
          "paper_bgcolor": "white",
          "plot_bgcolor": "#E5ECF6",
          "polar": {
           "bgcolor": "#E5ECF6",
           "angularaxis": {
            "gridcolor": "white",
            "linecolor": "white",
            "ticks": ""
           },
           "radialaxis": {
            "gridcolor": "white",
            "linecolor": "white",
            "ticks": ""
           }
          },
          "ternary": {
           "bgcolor": "#E5ECF6",
           "aaxis": {
            "gridcolor": "white",
            "linecolor": "white",
            "ticks": ""
           },
           "baxis": {
            "gridcolor": "white",
            "linecolor": "white",
            "ticks": ""
           },
           "caxis": {
            "gridcolor": "white",
            "linecolor": "white",
            "ticks": ""
           }
          },
          "coloraxis": {
           "colorbar": {
            "outlinewidth": 0,
            "ticks": ""
           }
          },
          "colorscale": {
           "sequential": [
            [
             0.0,
             "#0d0887"
            ],
            [
             0.1111111111111111,
             "#46039f"
            ],
            [
             0.2222222222222222,
             "#7201a8"
            ],
            [
             0.3333333333333333,
             "#9c179e"
            ],
            [
             0.4444444444444444,
             "#bd3786"
            ],
            [
             0.5555555555555556,
             "#d8576b"
            ],
            [
             0.6666666666666666,
             "#ed7953"
            ],
            [
             0.7777777777777778,
             "#fb9f3a"
            ],
            [
             0.8888888888888888,
             "#fdca26"
            ],
            [
             1.0,
             "#f0f921"
            ]
           ],
           "sequentialminus": [
            [
             0.0,
             "#0d0887"
            ],
            [
             0.1111111111111111,
             "#46039f"
            ],
            [
             0.2222222222222222,
             "#7201a8"
            ],
            [
             0.3333333333333333,
             "#9c179e"
            ],
            [
             0.4444444444444444,
             "#bd3786"
            ],
            [
             0.5555555555555556,
             "#d8576b"
            ],
            [
             0.6666666666666666,
             "#ed7953"
            ],
            [
             0.7777777777777778,
             "#fb9f3a"
            ],
            [
             0.8888888888888888,
             "#fdca26"
            ],
            [
             1.0,
             "#f0f921"
            ]
           ],
           "diverging": [
            [
             0,
             "#8e0152"
            ],
            [
             0.1,
             "#c51b7d"
            ],
            [
             0.2,
             "#de77ae"
            ],
            [
             0.3,
             "#f1b6da"
            ],
            [
             0.4,
             "#fde0ef"
            ],
            [
             0.5,
             "#f7f7f7"
            ],
            [
             0.6,
             "#e6f5d0"
            ],
            [
             0.7,
             "#b8e186"
            ],
            [
             0.8,
             "#7fbc41"
            ],
            [
             0.9,
             "#4d9221"
            ],
            [
             1,
             "#276419"
            ]
           ]
          },
          "xaxis": {
           "gridcolor": "white",
           "linecolor": "white",
           "ticks": "",
           "title": {
            "standoff": 15
           },
           "zerolinecolor": "white",
           "automargin": true,
           "zerolinewidth": 2
          },
          "yaxis": {
           "gridcolor": "white",
           "linecolor": "white",
           "ticks": "",
           "title": {
            "standoff": 15
           },
           "zerolinecolor": "white",
           "automargin": true,
           "zerolinewidth": 2
          },
          "scene": {
           "xaxis": {
            "backgroundcolor": "#E5ECF6",
            "gridcolor": "white",
            "linecolor": "white",
            "showbackground": true,
            "ticks": "",
            "zerolinecolor": "white",
            "gridwidth": 2
           },
           "yaxis": {
            "backgroundcolor": "#E5ECF6",
            "gridcolor": "white",
            "linecolor": "white",
            "showbackground": true,
            "ticks": "",
            "zerolinecolor": "white",
            "gridwidth": 2
           },
           "zaxis": {
            "backgroundcolor": "#E5ECF6",
            "gridcolor": "white",
            "linecolor": "white",
            "showbackground": true,
            "ticks": "",
            "zerolinecolor": "white",
            "gridwidth": 2
           }
          },
          "shapedefaults": {
           "line": {
            "color": "#2a3f5f"
           }
          },
          "annotationdefaults": {
           "arrowcolor": "#2a3f5f",
           "arrowhead": 0,
           "arrowwidth": 1
          },
          "geo": {
           "bgcolor": "white",
           "landcolor": "#E5ECF6",
           "subunitcolor": "white",
           "showland": true,
           "showlakes": true,
           "lakecolor": "white"
          },
          "title": {
           "x": 0.05
          },
          "mapbox": {
           "style": "light"
          }
         }
        },
        "xaxis": {
         "anchor": "y",
         "domain": [
          0.0,
          1.0
         ],
         "title": {
          "text": "x"
         }
        },
        "yaxis": {
         "anchor": "x",
         "domain": [
          0.0,
          1.0
         ],
         "title": {
          "text": "y"
         }
        },
        "legend": {
         "title": {
          "text": "color"
         },
         "tracegroupgap": 0
        },
        "margin": {
         "t": 60
        }
       },
       "config": {
        "plotlyServerURL": "https://plot.ly"
       }
      },
      "text/html": "<div>                            <div id=\"ec41d70e-ff4a-4121-ab42-f5f84cec0551\" class=\"plotly-graph-div\" style=\"height:525px; width:100%;\"></div>            <script type=\"text/javascript\">                require([\"plotly\"], function(Plotly) {                    window.PLOTLYENV=window.PLOTLYENV || {};                                    if (document.getElementById(\"ec41d70e-ff4a-4121-ab42-f5f84cec0551\")) {                    Plotly.newPlot(                        \"ec41d70e-ff4a-4121-ab42-f5f84cec0551\",                        [{\"hovertemplate\":\"color=0<br>x=%{x}<br>y=%{y}<extra></extra>\",\"legendgroup\":\"0\",\"marker\":{\"color\":\"#636efa\",\"symbol\":\"circle\"},\"mode\":\"markers\",\"name\":\"0\",\"orientation\":\"v\",\"showlegend\":true,\"x\":[-0.8860665051948676,0.12626024347963202,0.18734239263467461,-0.07597151192060429,0.02895981721194451,0.17733162197607408,-0.08040864310023685,0.11017725211196938,-0.0012514446309867464,0.14038225513729752,0.9006783003116727,-0.1881941457101166,-0.24772429389643844,0.04386030909800595,0.1790842334521621,0.6998409050073243,-0.07569613757774295,-0.03545024043018438,0.2854060987158351,0.4815726353894952,-1.0095743855334145,-0.7565726789385584,0.15439691282578058,-0.17406094037090325,-0.11337133719007378,0.9493804334255767,-0.1322077529025345,1.0914679779954986,0.16650846680977266,0.370631205951065,-0.4222476143189306,-0.050552803777828004,0.11417028418500134,0.03748315354368981,-0.33242425507827533,-0.04759982077702547,0.8219474750601268,-0.0679588199249501,-0.6898713188851607,0.921766486661254,0.15435666127552755,0.12886128602957342,0.07299619678768039,-0.53250164261831,0.8259129274939835,-0.6769935681406479,-0.361201358846516,-0.20793494676829574,0.7694231832014653,0.1311517608309391,0.2406851652601579,-0.1874302845551583,0.20521074621066018,-0.6697991828464442,0.9712726781918565,0.057920853503851594,-0.9823518801025075,0.7466848026284866,0.24275447434355982,0.15202004203510547,0.04022931054444456,-0.6968124920437299,-0.6091936953237937,-0.055732118083926196,0.04176963018759497,1.0112770083918852,1.1067768174115726,-0.17454118032262397,0.21841461268098333,-0.9282363741899078,0.2067748455470808,-0.06567642685367997,-0.09120857128784195,0.309606220860519,0.14240056804522408,-0.01411620583108788,0.4383326553808847,1.1587085053843853,-0.06290381927612254,-0.02625601079665222,-0.40865537126699714,0.25102266254101707,0.00920960156537147,-0.14283436122864382,0.14814327693796495,-0.17568653561012515,-0.8241306817138855,0.15910454926000744,0.04744859908583751,0.7474631103051415,-0.15792613439493633,0.583127075037655,0.14486913273643426,0.07612626701674038,1.0174429573430936,1.0608917064997823,0.24003281260825154,0.490527985115839,-0.5043711064214228,-0.170189180947607,-0.02868684732578715,0.04098819052599957,0.5674936103650997,-0.18834210793097234,-0.1782628648636429,0.8293086332727835,-0.1614293806187449,0.27709226272146226,-0.003626360371747156,-0.8011670229426507,0.2861475278242582,-0.009155632265117439,-0.1694582113591432,0.11932515710466118,0.9547283100321448,0.861170689181212,-0.193260716872858,0.18999027846581856],\"xaxis\":\"x\",\"y\":[0.4976810692219228,-0.05117796221950752,-0.04933950774522468,0.9740237209293944,0.1490420886275816,-0.016410220611113552,0.0853494165184707,0.05440444237051333,0.09575241538908286,0.936469124686638,0.5590362861908035,0.05612406318467502,0.06274272931459404,-0.05402291605409823,0.10235816699794599,0.8895936131687738,0.8459874568925082,1.0215325954149905,-0.11998693120399762,0.9809013566408488,0.5865696818339867,0.6286098533012767,0.09581785861785565,-0.009073310379400748,0.14769106272398008,0.11028800489965448,0.03204084358055472,0.03970712279687456,0.05618759514754273,0.8284988145549121,0.9608012383582302,0.23639524251043748,0.0972961621428825,-0.032498110276282216,0.8998877600214974,-0.004951878652612235,-0.19322433546357415,0.10742073543858945,0.6370930309623929,0.05727261875299483,0.19019369323874838,0.023866842862434748,0.14172552568330973,0.9523055957477677,0.35039614088340987,0.46696977562217334,0.7915662307878422,0.1374431802599513,0.6579281705341328,0.04891004896842837,-0.07513757533647879,0.19540115147807363,0.27094744315087244,0.7744225235027735,0.42675479110297254,0.32584398711510665,0.29012470028120524,0.5198591411281217,0.12599818696963422,-0.04900937073881254,0.0962299337046643,0.7616304500444708,0.746109370476966,0.3005245539366306,-0.0074355494040649756,0.30923675047298016,-0.1755391352961171,0.13556555010319699,-0.07932235002029826,0.45150963441814845,-0.06609825641542955,0.08246683591938096,0.14831122242256278,0.9596811240883587,0.04823869405603809,0.9217320110713635,0.7687914174032944,-0.19696483069001508,0.09167853654452952,0.3041943318070791,0.9708388171801734,0.19300049597497002,0.20320672837028833,0.10431079059688059,-0.06528229161457438,0.9674932257724476,0.5297330984922983,0.09248299162542095,0.19078730954330364,0.7755224864728202,0.13368007800203038,0.5686435153436367,1.0898202044940557,0.09646265198832088,0.25149321677207775,0.4164947325046335,0.22113333648114286,0.9296531468469891,0.9151479945834857,0.25429580887102626,0.1456968293053594,0.11895003598414888,0.8668311989931653,0.0708929614503712,0.08883129353140963,0.6739660794577059,0.10280181947141903,0.19411406193849806,0.12272609289900266,0.3353315102868674,0.8593714817984258,-0.032389362697255786,0.08837944834182226,0.15766914331495235,-0.26241007624201185,-0.28087395562979556,0.06449078894255392,0.14981879268430998],\"yaxis\":\"y\",\"type\":\"scatter\"},{\"hovertemplate\":\"color=1<br>x=%{x}<br>y=%{y}<extra></extra>\",\"legendgroup\":\"1\",\"marker\":{\"color\":\"#EF553B\",\"symbol\":\"circle\"},\"mode\":\"markers\",\"name\":\"1\",\"orientation\":\"v\",\"showlegend\":true,\"x\":[-0.05595200713235628,-0.2644858046065987,0.33290576854306975,-0.40078764345454154,-0.6050436762615032,-0.14108610294981616,0.04963704125138163,0.26575363182641093,-0.22992227967804182,-1.0990197331816502,-0.7525075331847146,-0.14247577028244987,-0.3377321179283511,-0.07414613539861865,0.7988267663068841,0.1335745173409002,-0.10009818267922475,1.0128816260475553,0.07289875917438668,-0.8678403612137655,-0.9280041437991955,0.9079061152646056,0.10287124701066594,-0.1939898107669451,-0.1127547434728175,-0.05380122517508512,-0.8673815212336409,-0.1540122887621898,0.12049123131758799,-0.2607561611824566,0.6150138706721944,0.4776754074802657,-0.13489764350987804,-0.2304096188526709,0.09531133508021866,0.049851796004825435,0.5024963879528944,-1.0711004833298967,0.48504630070412025,-0.12988347747327117,-0.09082242792573345,0.7614275670808164,0.791054580438054,0.44589282237308414,0.13049694117911387,-0.18410014218361245,-1.0693776808678568,-0.619852610508829,-0.022081227586005076,0.9675434473636323,-0.9335309468490772,-0.8054104848223633,-0.6294353919662049,-1.090497127759374,-0.14262002616864414,-0.2693925994720589,-0.7427333827014416,-0.15817338625318678,-0.28117548361966777,0.16898927653263118,-0.6981923098600149,-0.793912743734272,0.18281393051855133,-1.0101813153308832,-0.2751374225332491,0.8930292562675435,-0.42173888412285243,-0.05072384981511903,0.08754498886280644,0.3571249646410881,-0.3107104379249797,-0.9024157095214642,0.6349654247278239,0.07649855462469171,-0.2622689643022275,-0.01569752615628868,0.07652421227380499,0.0982635333216051,-0.985947641687133,-0.03230206906540835,-0.7350599520123084,-0.24206319516168798],\"xaxis\":\"x\",\"y\":[-0.14861602268051566,-0.1655294696178356,-0.9764219976735646,-0.9687642833917366,-0.7767102721936839,-0.8852314209059313,-0.18049621910712427,-0.9832985625799315,-0.1354865391023018,-0.15296118452111895,-0.8711917795372637,-0.940200349691918,0.017432885524515523,-0.27396872715732334,-0.6056689311965002,-0.3410053726621055,-0.31971312101894067,-0.41063667216174404,-0.09476208300690811,-0.3689354398823148,-0.3912601604323136,-0.45186109384088047,-0.17760500346781194,-0.07715139931803852,-0.15251869919852343,-0.20104202371202462,-0.0026341124671201872,-0.03959753988101675,-0.9458988236967368,-0.8273341768700839,-0.7658147034173414,-0.7500497709702172,-0.2768962221188955,-0.04090758216207978,-0.9636007575620658,-0.16029784668803973,-0.927870866830789,0.18038009627409193,-0.7371931520533734,-0.1991601639450026,-0.21746526947847789,-0.764638245160424,-0.7035529671755044,-0.8794630734669654,-0.24711085602877492,-0.18957416970902316,0.14624080851839844,-0.5814594819411778,-0.14255406053851055,-0.5192282487924441,-0.22325212466039357,-0.32058655174748724,-0.7401979407957479,0.010804712835224294,-0.11431583153922045,-0.10049730342358065,-0.6058963847999828,-0.9742394820797521,-0.9144272410009302,-0.2373681195218016,-0.6203819546172457,-0.437810461939684,-0.8773432459044476,-0.10804090324092552,-0.19063133887041359,-0.5247135252182621,-0.8584086527617864,-1.0529989061831841,-0.2679004990783926,-0.9828294658331295,-0.056300203257243234,-0.19761413445572545,-0.7543748756486274,-0.18030541708785391,-0.13022715138826754,-0.31253876003013376,-0.19389937255477852,-1.000420272258096,-0.3429504482527288,-0.28014057631989453,-0.8082375426472592,-0.075750289274239],\"yaxis\":\"y\",\"type\":\"scatter\"},{\"marker\":{\"color\":\"black\",\"size\":10},\"mode\":\"markers\",\"showlegend\":false,\"x\":[0.08997090580150416,-0.13766258662485867],\"y\":[0.31162760981868115,-0.4397936511250171],\"type\":\"scatter\"}],                        {\"template\":{\"data\":{\"histogram2dcontour\":[{\"type\":\"histogram2dcontour\",\"colorbar\":{\"outlinewidth\":0,\"ticks\":\"\"},\"colorscale\":[[0.0,\"#0d0887\"],[0.1111111111111111,\"#46039f\"],[0.2222222222222222,\"#7201a8\"],[0.3333333333333333,\"#9c179e\"],[0.4444444444444444,\"#bd3786\"],[0.5555555555555556,\"#d8576b\"],[0.6666666666666666,\"#ed7953\"],[0.7777777777777778,\"#fb9f3a\"],[0.8888888888888888,\"#fdca26\"],[1.0,\"#f0f921\"]]}],\"choropleth\":[{\"type\":\"choropleth\",\"colorbar\":{\"outlinewidth\":0,\"ticks\":\"\"}}],\"histogram2d\":[{\"type\":\"histogram2d\",\"colorbar\":{\"outlinewidth\":0,\"ticks\":\"\"},\"colorscale\":[[0.0,\"#0d0887\"],[0.1111111111111111,\"#46039f\"],[0.2222222222222222,\"#7201a8\"],[0.3333333333333333,\"#9c179e\"],[0.4444444444444444,\"#bd3786\"],[0.5555555555555556,\"#d8576b\"],[0.6666666666666666,\"#ed7953\"],[0.7777777777777778,\"#fb9f3a\"],[0.8888888888888888,\"#fdca26\"],[1.0,\"#f0f921\"]]}],\"heatmap\":[{\"type\":\"heatmap\",\"colorbar\":{\"outlinewidth\":0,\"ticks\":\"\"},\"colorscale\":[[0.0,\"#0d0887\"],[0.1111111111111111,\"#46039f\"],[0.2222222222222222,\"#7201a8\"],[0.3333333333333333,\"#9c179e\"],[0.4444444444444444,\"#bd3786\"],[0.5555555555555556,\"#d8576b\"],[0.6666666666666666,\"#ed7953\"],[0.7777777777777778,\"#fb9f3a\"],[0.8888888888888888,\"#fdca26\"],[1.0,\"#f0f921\"]]}],\"heatmapgl\":[{\"type\":\"heatmapgl\",\"colorbar\":{\"outlinewidth\":0,\"ticks\":\"\"},\"colorscale\":[[0.0,\"#0d0887\"],[0.1111111111111111,\"#46039f\"],[0.2222222222222222,\"#7201a8\"],[0.3333333333333333,\"#9c179e\"],[0.4444444444444444,\"#bd3786\"],[0.5555555555555556,\"#d8576b\"],[0.6666666666666666,\"#ed7953\"],[0.7777777777777778,\"#fb9f3a\"],[0.8888888888888888,\"#fdca26\"],[1.0,\"#f0f921\"]]}],\"contourcarpet\":[{\"type\":\"contourcarpet\",\"colorbar\":{\"outlinewidth\":0,\"ticks\":\"\"}}],\"contour\":[{\"type\":\"contour\",\"colorbar\":{\"outlinewidth\":0,\"ticks\":\"\"},\"colorscale\":[[0.0,\"#0d0887\"],[0.1111111111111111,\"#46039f\"],[0.2222222222222222,\"#7201a8\"],[0.3333333333333333,\"#9c179e\"],[0.4444444444444444,\"#bd3786\"],[0.5555555555555556,\"#d8576b\"],[0.6666666666666666,\"#ed7953\"],[0.7777777777777778,\"#fb9f3a\"],[0.8888888888888888,\"#fdca26\"],[1.0,\"#f0f921\"]]}],\"surface\":[{\"type\":\"surface\",\"colorbar\":{\"outlinewidth\":0,\"ticks\":\"\"},\"colorscale\":[[0.0,\"#0d0887\"],[0.1111111111111111,\"#46039f\"],[0.2222222222222222,\"#7201a8\"],[0.3333333333333333,\"#9c179e\"],[0.4444444444444444,\"#bd3786\"],[0.5555555555555556,\"#d8576b\"],[0.6666666666666666,\"#ed7953\"],[0.7777777777777778,\"#fb9f3a\"],[0.8888888888888888,\"#fdca26\"],[1.0,\"#f0f921\"]]}],\"mesh3d\":[{\"type\":\"mesh3d\",\"colorbar\":{\"outlinewidth\":0,\"ticks\":\"\"}}],\"scatter\":[{\"fillpattern\":{\"fillmode\":\"overlay\",\"size\":10,\"solidity\":0.2},\"type\":\"scatter\"}],\"parcoords\":[{\"type\":\"parcoords\",\"line\":{\"colorbar\":{\"outlinewidth\":0,\"ticks\":\"\"}}}],\"scatterpolargl\":[{\"type\":\"scatterpolargl\",\"marker\":{\"colorbar\":{\"outlinewidth\":0,\"ticks\":\"\"}}}],\"bar\":[{\"error_x\":{\"color\":\"#2a3f5f\"},\"error_y\":{\"color\":\"#2a3f5f\"},\"marker\":{\"line\":{\"color\":\"#E5ECF6\",\"width\":0.5},\"pattern\":{\"fillmode\":\"overlay\",\"size\":10,\"solidity\":0.2}},\"type\":\"bar\"}],\"scattergeo\":[{\"type\":\"scattergeo\",\"marker\":{\"colorbar\":{\"outlinewidth\":0,\"ticks\":\"\"}}}],\"scatterpolar\":[{\"type\":\"scatterpolar\",\"marker\":{\"colorbar\":{\"outlinewidth\":0,\"ticks\":\"\"}}}],\"histogram\":[{\"marker\":{\"pattern\":{\"fillmode\":\"overlay\",\"size\":10,\"solidity\":0.2}},\"type\":\"histogram\"}],\"scattergl\":[{\"type\":\"scattergl\",\"marker\":{\"colorbar\":{\"outlinewidth\":0,\"ticks\":\"\"}}}],\"scatter3d\":[{\"type\":\"scatter3d\",\"line\":{\"colorbar\":{\"outlinewidth\":0,\"ticks\":\"\"}},\"marker\":{\"colorbar\":{\"outlinewidth\":0,\"ticks\":\"\"}}}],\"scattermapbox\":[{\"type\":\"scattermapbox\",\"marker\":{\"colorbar\":{\"outlinewidth\":0,\"ticks\":\"\"}}}],\"scatterternary\":[{\"type\":\"scatterternary\",\"marker\":{\"colorbar\":{\"outlinewidth\":0,\"ticks\":\"\"}}}],\"scattercarpet\":[{\"type\":\"scattercarpet\",\"marker\":{\"colorbar\":{\"outlinewidth\":0,\"ticks\":\"\"}}}],\"carpet\":[{\"aaxis\":{\"endlinecolor\":\"#2a3f5f\",\"gridcolor\":\"white\",\"linecolor\":\"white\",\"minorgridcolor\":\"white\",\"startlinecolor\":\"#2a3f5f\"},\"baxis\":{\"endlinecolor\":\"#2a3f5f\",\"gridcolor\":\"white\",\"linecolor\":\"white\",\"minorgridcolor\":\"white\",\"startlinecolor\":\"#2a3f5f\"},\"type\":\"carpet\"}],\"table\":[{\"cells\":{\"fill\":{\"color\":\"#EBF0F8\"},\"line\":{\"color\":\"white\"}},\"header\":{\"fill\":{\"color\":\"#C8D4E3\"},\"line\":{\"color\":\"white\"}},\"type\":\"table\"}],\"barpolar\":[{\"marker\":{\"line\":{\"color\":\"#E5ECF6\",\"width\":0.5},\"pattern\":{\"fillmode\":\"overlay\",\"size\":10,\"solidity\":0.2}},\"type\":\"barpolar\"}],\"pie\":[{\"automargin\":true,\"type\":\"pie\"}]},\"layout\":{\"autotypenumbers\":\"strict\",\"colorway\":[\"#636efa\",\"#EF553B\",\"#00cc96\",\"#ab63fa\",\"#FFA15A\",\"#19d3f3\",\"#FF6692\",\"#B6E880\",\"#FF97FF\",\"#FECB52\"],\"font\":{\"color\":\"#2a3f5f\"},\"hovermode\":\"closest\",\"hoverlabel\":{\"align\":\"left\"},\"paper_bgcolor\":\"white\",\"plot_bgcolor\":\"#E5ECF6\",\"polar\":{\"bgcolor\":\"#E5ECF6\",\"angularaxis\":{\"gridcolor\":\"white\",\"linecolor\":\"white\",\"ticks\":\"\"},\"radialaxis\":{\"gridcolor\":\"white\",\"linecolor\":\"white\",\"ticks\":\"\"}},\"ternary\":{\"bgcolor\":\"#E5ECF6\",\"aaxis\":{\"gridcolor\":\"white\",\"linecolor\":\"white\",\"ticks\":\"\"},\"baxis\":{\"gridcolor\":\"white\",\"linecolor\":\"white\",\"ticks\":\"\"},\"caxis\":{\"gridcolor\":\"white\",\"linecolor\":\"white\",\"ticks\":\"\"}},\"coloraxis\":{\"colorbar\":{\"outlinewidth\":0,\"ticks\":\"\"}},\"colorscale\":{\"sequential\":[[0.0,\"#0d0887\"],[0.1111111111111111,\"#46039f\"],[0.2222222222222222,\"#7201a8\"],[0.3333333333333333,\"#9c179e\"],[0.4444444444444444,\"#bd3786\"],[0.5555555555555556,\"#d8576b\"],[0.6666666666666666,\"#ed7953\"],[0.7777777777777778,\"#fb9f3a\"],[0.8888888888888888,\"#fdca26\"],[1.0,\"#f0f921\"]],\"sequentialminus\":[[0.0,\"#0d0887\"],[0.1111111111111111,\"#46039f\"],[0.2222222222222222,\"#7201a8\"],[0.3333333333333333,\"#9c179e\"],[0.4444444444444444,\"#bd3786\"],[0.5555555555555556,\"#d8576b\"],[0.6666666666666666,\"#ed7953\"],[0.7777777777777778,\"#fb9f3a\"],[0.8888888888888888,\"#fdca26\"],[1.0,\"#f0f921\"]],\"diverging\":[[0,\"#8e0152\"],[0.1,\"#c51b7d\"],[0.2,\"#de77ae\"],[0.3,\"#f1b6da\"],[0.4,\"#fde0ef\"],[0.5,\"#f7f7f7\"],[0.6,\"#e6f5d0\"],[0.7,\"#b8e186\"],[0.8,\"#7fbc41\"],[0.9,\"#4d9221\"],[1,\"#276419\"]]},\"xaxis\":{\"gridcolor\":\"white\",\"linecolor\":\"white\",\"ticks\":\"\",\"title\":{\"standoff\":15},\"zerolinecolor\":\"white\",\"automargin\":true,\"zerolinewidth\":2},\"yaxis\":{\"gridcolor\":\"white\",\"linecolor\":\"white\",\"ticks\":\"\",\"title\":{\"standoff\":15},\"zerolinecolor\":\"white\",\"automargin\":true,\"zerolinewidth\":2},\"scene\":{\"xaxis\":{\"backgroundcolor\":\"#E5ECF6\",\"gridcolor\":\"white\",\"linecolor\":\"white\",\"showbackground\":true,\"ticks\":\"\",\"zerolinecolor\":\"white\",\"gridwidth\":2},\"yaxis\":{\"backgroundcolor\":\"#E5ECF6\",\"gridcolor\":\"white\",\"linecolor\":\"white\",\"showbackground\":true,\"ticks\":\"\",\"zerolinecolor\":\"white\",\"gridwidth\":2},\"zaxis\":{\"backgroundcolor\":\"#E5ECF6\",\"gridcolor\":\"white\",\"linecolor\":\"white\",\"showbackground\":true,\"ticks\":\"\",\"zerolinecolor\":\"white\",\"gridwidth\":2}},\"shapedefaults\":{\"line\":{\"color\":\"#2a3f5f\"}},\"annotationdefaults\":{\"arrowcolor\":\"#2a3f5f\",\"arrowhead\":0,\"arrowwidth\":1},\"geo\":{\"bgcolor\":\"white\",\"landcolor\":\"#E5ECF6\",\"subunitcolor\":\"white\",\"showland\":true,\"showlakes\":true,\"lakecolor\":\"white\"},\"title\":{\"x\":0.05},\"mapbox\":{\"style\":\"light\"}}},\"xaxis\":{\"anchor\":\"y\",\"domain\":[0.0,1.0],\"title\":{\"text\":\"x\"}},\"yaxis\":{\"anchor\":\"x\",\"domain\":[0.0,1.0],\"title\":{\"text\":\"y\"}},\"legend\":{\"title\":{\"text\":\"color\"},\"tracegroupgap\":0},\"margin\":{\"t\":60}},                        {\"responsive\": true}                    ).then(function(){\n                            \nvar gd = document.getElementById('ec41d70e-ff4a-4121-ab42-f5f84cec0551');\nvar x = new MutationObserver(function (mutations, observer) {{\n        var display = window.getComputedStyle(gd).display;\n        if (!display || display === 'none') {{\n            console.log([gd, 'removed!']);\n            Plotly.purge(gd);\n            observer.disconnect();\n        }}\n}});\n\n// Listen for the removal of the full notebook cells\nvar notebookContainer = gd.closest('#notebook-container');\nif (notebookContainer) {{\n    x.observe(notebookContainer, {childList: true});\n}}\n\n// Listen for the clearing of the current output cell\nvar outputEl = gd.closest('.output');\nif (outputEl) {{\n    x.observe(outputEl, {childList: true});\n}}\n\n                        })                };                });            </script>        </div>"
     },
     "metadata": {},
     "output_type": "display_data"
    }
   ],
   "source": [
    "for df_x in [df1,df2,df3,df4]:\n",
    "    df_kmean,centroids = kmean(df_x)\n",
    "    fig = px.scatter(df_kmean,x=\"x\",y=\"y\", color=df_kmean[\"kmeans\"].astype(str))\n",
    "    fig.add_trace(\n",
    "    go.Scatter(\n",
    "        x=centroids[0],\n",
    "        y=centroids[1],\n",
    "        mode=\"markers\",\n",
    "        marker=dict(\n",
    "            color='black',\n",
    "            size=10),\n",
    "        showlegend=False\n",
    "    )\n",
    "\n",
    "    )\n",
    "\n",
    "    fig.show()"
   ],
   "metadata": {
    "collapsed": false
   }
  },
  {
   "cell_type": "markdown",
   "metadata": {},
   "source": [
    "## Bonus - K-means s nalezenou hodnotou K\n",
    "\n",
    "Zkuste najít algoritmy, které umožňují hledat hodnotu K pro K-means. Implementujte alespoň jeden z nich a ověřte, že funguje. Ověření proveďte nejen na našich předchozích datasetech, ale zkuste si vygenerovat i dataset s větším množstvím tříd (10-20). (1 bod)\n",
    "\n",
    "Za implementaci více algoritmů, případně za hlubší analýzu výsledků (např. kdy už přestává hledání hodnoty K správně fungovat) je možné získat ještě jeden bonusový bod."
   ]
  },
  {
   "cell_type": "markdown",
   "source": [
    "## Elbow method\n",
    "\n",
    "- spočítat kvadrát odchylek jednotlivých bodů od svého centroidu\n",
    "- provést pro 1 až maxK kmeans\n",
    "- vykreslit do grafu a nalézt tzv. \"loket\"\n"
   ],
   "metadata": {
    "collapsed": false
   }
  },
  {
   "cell_type": "code",
   "execution_count": null,
   "outputs": [],
   "source": [],
   "metadata": {
    "collapsed": false,
    "pycharm": {
     "is_executing": true
    }
   }
  },
  {
   "cell_type": "markdown",
   "source": [
    "## Silhouete method"
   ],
   "metadata": {
    "collapsed": false
   }
  },
  {
   "cell_type": "code",
   "execution_count": null,
   "outputs": [],
   "source": [],
   "metadata": {
    "collapsed": false
   }
  }
 ],
 "metadata": {
  "kernelspec": {
   "display_name": "Python 3",
   "language": "python",
   "name": "python3"
  },
  "language_info": {
   "codemirror_mode": {
    "name": "ipython",
    "version": 3
   },
   "file_extension": ".py",
   "mimetype": "text/x-python",
   "name": "python",
   "nbconvert_exporter": "python",
   "pygments_lexer": "ipython3",
   "version": "3.7.6"
  }
 },
 "nbformat": 4,
 "nbformat_minor": 4
}
